{
 "cells": [
  {
   "cell_type": "markdown",
   "id": "2fb88da5-d04f-4841-ab64-f5278237290f",
   "metadata": {},
   "source": [
    "# Iterators"
   ]
  }
 ],
 "metadata": {
  "kernelspec": {
   "display_name": "Rust",
   "language": "rust",
   "name": "rust"
  },
  "language_info": {
   "codemirror_mode": "rust",
   "file_extension": ".rs",
   "mimetype": "text/rust",
   "name": "Rust",
   "pygment_lexer": "rust",
   "version": ""
  }
 },
 "nbformat": 4,
 "nbformat_minor": 5
}
