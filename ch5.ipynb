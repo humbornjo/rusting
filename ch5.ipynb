{
 "cells": [
  {
   "cell_type": "markdown",
   "id": "455d460d-c1e4-4788-925c-0ef47ccf5d81",
   "metadata": {},
   "source": [
    "# References"
   ]
  },
  {
   "cell_type": "markdown",
   "id": "ae53fc1e-233d-4389-a568-15bc468ea8c0",
   "metadata": {},
   "source": [
    "## References to Values\n",
    "As an example, let’s suppose we’re going to build a table of murderous Renaissance artists and the works they’re known for. Rust’s standard library includes a hash table type, so we can define our type like this:"
   ]
  },
  {
   "cell_type": "code",
   "execution_count": 3,
   "id": "f5974a9a-0942-4a59-938a-cd67082b0bb0",
   "metadata": {},
   "outputs": [],
   "source": [
    "use std::collections::HashMap;\n",
    "type Table = HashMap<String, Vec<String>>;"
   ]
  },
  {
   "cell_type": "markdown",
   "id": "7e0745f1-5eb3-4908-9ffb-db35577ea2d3",
   "metadata": {},
   "source": [
    "In other words, this is a hash table that maps `String` values to `Vec<String> values`, taking the name of an artist to a list of the names of their works. You can iterate over the entries of a `HashMap` with a for loop, so we can write a function to print out a Table:"
   ]
  },
  {
   "cell_type": "code",
   "execution_count": 4,
   "id": "7dd1be13-65aa-4a07-9c14-751883a8f17f",
   "metadata": {},
   "outputs": [],
   "source": [
    "fn show(table: Table) {\n",
    "    for (artist, works) in table {\n",
    "        println!(\"works by {}:\", artist); \n",
    "        for work in works {\n",
    "            println!(\"  {}\", work);\n",
    "        }\n",
    "    } \n",
    "}"
   ]
  },
  {
   "cell_type": "code",
   "execution_count": 10,
   "id": "3456702d-b9ab-4bb7-b00b-eb182cef538e",
   "metadata": {},
   "outputs": [
    {
     "name": "stdout",
     "output_type": "stream",
     "text": [
      "works by Cellini:\n",
      "  Perseus with the head of Medusa\n",
      "  a salt cellar\n",
      "works by Gesualdo:\n",
      "  many madrigals\n",
      "  Tenebrae Responsoria\n",
      "works by Caravaggio:\n",
      "  The Musicians\n",
      "  The Calling of St. Matthew\n"
     ]
    }
   ],
   "source": [
    "let mut table: Table = Table::new(); \n",
    "table.insert(\"Gesualdo\".to_string(),\n",
    "             vec![\"many madrigals\".to_string(),\n",
    "                  \"Tenebrae Responsoria\".to_string()]);\n",
    "table.insert(\"Caravaggio\".to_string(),\n",
    "             vec![\"The Musicians\".to_string(),\n",
    "                  \"The Calling of St. Matthew\".to_string()]);\n",
    "table.insert(\"Cellini\".to_string(),\n",
    "             vec![\"Perseus with the head of Medusa\".to_string(),\n",
    "                 \"a salt cellar\".to_string()]);\n",
    "show(table);"
   ]
  },
  {
   "cell_type": "markdown",
   "id": "fde34ce1-f483-4f74-8c7c-86923fb2574a",
   "metadata": {},
   "source": [
    "In fact, if we look into the definition of show, the outer for loop takes ownership of the hash table and consumes it entirely; and the inner for loop does the same to each of the vectors.\n",
    "\n",
    "The right way to handle this is to use references. A reference lets you access a value without affecting its ownership. References come in two kinds:\n",
    "* A shared reference lets you read but not modify its referent. However, you can have as many shared references to a particular value at a time as you like. The expression &e yields a shared reference to e’s value; if e has the type `T`, then `&e` has the type `&T`, pronounced “ref T.” **Shared references are `Copy`**.\n",
    "* If you have a mutable reference to a value, you may both read and modify the value. However, you may not have any other references of any sort to that value active at the same time. The expression &mut e yields a mutable reference to e’s value; you write its type as `&mut T`, which is pronounced “ref mute T.” **Mutable references are not `Copy`**."
   ]
  },
  {
   "cell_type": "markdown",
   "id": "3fa9d879-3a74-41d5-a6a9-054da93f10ee",
   "metadata": {},
   "source": [
    "You can think of the distinction between shared and mutable references as a way to enforce a multiple readers or single writer rule at compile time. In fact, this rule doesn’t apply only to references; it covers the borrowed value’s owner as well. As long as there are shared references to a value, not even its owner can modify it; the value is locked down. Nobody can modify table while show is working with it. Similarly, if there is a mutable reference to a value, it has exclusive access to the value; you can’t use the owner at all, until the mutable reference goes away. Keeping sharing and mutation fully separate turns out to be essential to memory safety."
   ]
  },
  {
   "cell_type": "code",
   "execution_count": 14,
   "id": "9698e53b-44ec-46c9-b775-b0e143c256c8",
   "metadata": {},
   "outputs": [],
   "source": [
    "fn rshow(table: &Table) {\n",
    "    for (artist, works) in table {\n",
    "        println!(\"works by {}:\", artist); \n",
    "        for work in works {\n",
    "            println!(\"  {}\", work);\n",
    "        }\n",
    "    } \n",
    "}"
   ]
  },
  {
   "cell_type": "markdown",
   "id": "93dfbf0a-3b6f-473c-9915-a07f405058d9",
   "metadata": {},
   "source": [
    "The type of show’s parameter table has changed from Table to `&Table`: instead of passing the table by value (and hence moving ownership into the function), we’re now passing a shared reference. That’s the only textual change. But how does this play out as we work through the body?\n",
    "\n",
    "Whereas our original outer for loop took ownership of the HashMap and consumed it, in our new version it receives a shared reference to the HashMap. Iterating over a shared reference to a HashMap is defined to produce shared references to each entry’s key and value: artist has changed from a String to a `&String`, and works from a `Vec<String>` to a `&Vec<String>`.\n",
    "\n",
    "The inner loop is changed similarly. Iterating over a shared reference to a vector is defined to produce shared references to its elements, so work is now a `&String`. No ownership changes hands anywhere in this function; it’s just passing around non-owning references.\n",
    "\n",
    "Now, if we wanted to write a function to alphabetize the works of each artist, a shared reference doesn’t suffice, since shared references don’t permit modification. Instead, the sorting function needs to take a mutable reference to the table:\n"
   ]
  },
  {
   "cell_type": "code",
   "execution_count": 15,
   "id": "c7094869-aec0-4c56-92e9-727395b92c21",
   "metadata": {},
   "outputs": [],
   "source": [
    "fn sort_works(table: &mut Table) { \n",
    "    for (_artist, works) in table {\n",
    "            works.sort();\n",
    "        }\n",
    "}"
   ]
  },
  {
   "cell_type": "markdown",
   "id": "dbee934a-a4ff-45d8-bc01-afe9f0cf548b",
   "metadata": {},
   "source": [
    "This mutable borrow grants sort_works the ability to read and modify our structure,\n",
    "as required by the vectors’ sort method."
   ]
  },
  {
   "cell_type": "markdown",
   "id": "2e6e3b7b-f160-48aa-954e-385dd2a25c4a",
   "metadata": {},
   "source": [
    "### Rust References Versus C++ References\n",
    "If you’re familiar with references in C++, they do have something in common with Rust references. Most importantly, they’re both just addresses at the machine level. But in practice, Rust’s references have a very different feel.\n",
    "\n",
    "In C++, references are created implicitly by conversion, and dereferenced implicitly too:"
   ]
  },
  {
   "cell_type": "code",
   "execution_count": 19,
   "id": "da34cb52-d194-4e76-9692-6622c5d0645d",
   "metadata": {},
   "outputs": [],
   "source": [
    "// C++ code!\n",
    "// int x=10;\n",
    "// int &r = x; // initialization creates reference implicitly\n",
    "// assert(r == 10); // implicitly dereference r to see x's value\n",
    "// r = 20; // stores 20 in x, r itself still points to x"
   ]
  },
  {
   "cell_type": "markdown",
   "id": "3c7bd7e4-116d-443f-9e0b-fbd61409a633",
   "metadata": {},
   "source": [
    "In Rust, references are created explicitly with the & operator, and dereferenced explicitly with the * operator:"
   ]
  },
  {
   "cell_type": "code",
   "execution_count": 23,
   "id": "6b4cf529-dfa4-495a-b9ea-202dd66add12",
   "metadata": {},
   "outputs": [],
   "source": [
    "// Back to Rust code from this point onward.\n",
    "let x =10;\n",
    "{\n",
    "    let r = &x; // &x is a shared reference to x \n",
    "    assert!(*r == 10); // explicitly dereference r\n",
    "};"
   ]
  },
  {
   "cell_type": "code",
   "execution_count": 26,
   "id": "c13490f4-2c4b-4bbf-bdd6-cf1cd0c0c7e0",
   "metadata": {},
   "outputs": [],
   "source": [
    "let mut y = 32; \n",
    "{\n",
    "    let m = &mut y; // &mut y is a mutable reference to y\n",
    "    *m += 32; // explicitly dereference m to set y's value\n",
    "    assert!(*m == 64); // and to see y's new value\n",
    "};"
   ]
  },
  {
   "cell_type": "markdown",
   "id": "4952312f-7829-4258-90df-f2a7cdbbbfdf",
   "metadata": {},
   "source": [
    "But you might recall that, when we fixed the show function to take the table of artists by reference instead of by value, we never had to use the `*` operator. Why is that?\n",
    "\n",
    "Since references are so widely used in Rust, the `.` operator implicitly dereferences its left operand, if needed:"
   ]
  },
  {
   "cell_type": "code",
   "execution_count": 32,
   "id": "d53078a7-9989-497b-be8c-6ed93a449945",
   "metadata": {},
   "outputs": [],
   "source": [
    "struct Anime { name: &'static str, bechdel_pass: bool }\n",
    "let aria = Anime { name: \"Aria: The Animation\", bechdel_pass: true }; \n",
    "{\n",
    "    let anime_ref = &aria;\n",
    "    assert_eq!(anime_ref.name, \"Aria: The Animation\");\n",
    "    // Equivalent to the above, but with the dereference written out:\n",
    "    assert_eq!((*anime_ref).name, \"Aria: The Animation\");\n",
    "};"
   ]
  },
  {
   "cell_type": "markdown",
   "id": "d11bc4e5-8dc1-4ae4-8058-863021ae242b",
   "metadata": {},
   "source": [
    "The `.` operator can also implicitly borrow a reference to its left operand, if needed for a method call. For example, Vec’s sort method takes a mutable reference to the vector, so these two calls are equivalent:"
   ]
  },
  {
   "cell_type": "code",
   "execution_count": 34,
   "id": "89d9da06-2d6b-4d64-8680-18d36b124363",
   "metadata": {},
   "outputs": [],
   "source": [
    "let mut v: Vec<i32> = vec![1973, 1968];\n",
    "v.sort(); // implicitly borrows a mutable reference to v \n",
    "(&mut v).sort(); // equivalent, but more verbose"
   ]
  },
  {
   "cell_type": "markdown",
   "id": "04041dee-3022-4326-859d-65ae7e13787c",
   "metadata": {},
   "source": [
    "In a nutshell, whereas C++ converts implicitly between references and lvalues (that is, expressions referring to locations in memory), with these conversions appearing any‐ where they’re needed, in Rust you use the `&` and `*` operators to create and follow references, with the exception of the . operator, which borrows and dereferences implicitly."
   ]
  },
  {
   "cell_type": "markdown",
   "id": "987ce2dc-d238-459a-a3ab-204b9d38ffb1",
   "metadata": {},
   "source": [
    "### Assigning References\n",
    "Assigning a reference to a variable makes that variable point somewhere new:"
   ]
  },
  {
   "cell_type": "code",
   "execution_count": 40,
   "id": "4b1d182e-2c88-4fa2-9ac6-dc200ac01828",
   "metadata": {},
   "outputs": [],
   "source": [
    "let x=10; \n",
    "let y=20;\n",
    "{\n",
    "    let mut r=&x;\n",
    "    let b = true;\n",
    "    if b{r=&y;}\n",
    "    assert!(*r == 10 || *r == 20);\n",
    "};"
   ]
  },
  {
   "cell_type": "markdown",
   "id": "3cc089d2-3a8c-4ef4-bb60-0ceadd636cad",
   "metadata": {},
   "source": [
    "### References to References"
   ]
  },
  {
   "cell_type": "code",
   "execution_count": 43,
   "id": "7c4d9252-096c-40ae-96fc-5e7f9284f992",
   "metadata": {},
   "outputs": [],
   "source": [
    "struct Point { x: i32, y: i32 }\n",
    "let point = Point { x: 1000, y: 729 }; \n",
    "{\n",
    "    let r: &Point = &point;\n",
    "    let rr: &&Point = &r;\n",
    "    let rrr: &&&Point = &rr;\n",
    "    assert_eq!(rrr.y, 729);\n",
    "};"
   ]
  },
  {
   "cell_type": "markdown",
   "id": "2eb321b1-c191-473d-b22b-574d739debdb",
   "metadata": {},
   "source": [
    "![image.png](asset/ch5/1.png)"
   ]
  },
  {
   "cell_type": "markdown",
   "id": "e1fd7033-a110-45a7-a171-7499e7434ee9",
   "metadata": {},
   "source": [
    "So the expression `rrr.y`, guided by the type of `rrr`, actually traverses three references to get to the `Point` before fetching its `y` field."
   ]
  },
  {
   "cell_type": "markdown",
   "id": "3a14f4f1-5b43-49fb-b84f-bcabb92a3981",
   "metadata": {},
   "source": [
    "### Comparing References"
   ]
  },
  {
   "cell_type": "code",
   "execution_count": 48,
   "id": "3c622753-2faf-4b55-bae1-7bc5b2924256",
   "metadata": {},
   "outputs": [],
   "source": [
    "let x=10; \n",
    "let y=10;\n",
    "{\n",
    "    let rx=&x; \n",
    "    let ry=&y;\n",
    "    let rrx = &rx; \n",
    "    let rry = &ry;\n",
    "    assert!(rrx <= rry);\n",
    "    assert!(rrx == rry);\n",
    "\n",
    "    assert!(rx == ry); // their referents are equal \n",
    "    assert!(!std::ptr::eq(rx, ry)); // but occupy different addresses\n",
    "};"
   ]
  },
  {
   "cell_type": "code",
   "execution_count": 49,
   "id": "94fbd3e1-3b1b-4a09-bfe5-7bed3e377d9a",
   "metadata": {},
   "outputs": [
    {
     "ename": "Error",
     "evalue": "can't compare `{integer}` with `&{integer}`",
     "output_type": "error",
     "traceback": [
      "\u001b[31m[E0277] Error:\u001b[0m can't compare `{integer}` with `&{integer}`",
      "   \u001b[38;5;246m╭\u001b[0m\u001b[38;5;246m─\u001b[0m\u001b[38;5;246m[\u001b[0mcommand_49:1:1\u001b[38;5;246m]\u001b[0m",
      "   \u001b[38;5;246m│\u001b[0m",
      " \u001b[38;5;246m9 │\u001b[0m \u001b[38;5;249m \u001b[0m\u001b[38;5;249m \u001b[0m\u001b[38;5;249m \u001b[0m\u001b[38;5;249m \u001b[0m\u001b[38;5;249ma\u001b[0m\u001b[38;5;249ms\u001b[0m\u001b[38;5;249ms\u001b[0m\u001b[38;5;249me\u001b[0m\u001b[38;5;249mr\u001b[0m\u001b[38;5;249mt\u001b[0m\u001b[38;5;249m!\u001b[0m\u001b[38;5;249m(\u001b[0m\u001b[38;5;249mr\u001b[0m\u001b[38;5;249mx\u001b[0m\u001b[38;5;249m \u001b[0m\u001b[38;5;54m=\u001b[0m\u001b[38;5;54m=\u001b[0m\u001b[38;5;249m \u001b[0m\u001b[38;5;249mr\u001b[0m\u001b[38;5;249mr\u001b[0m\u001b[38;5;249mx\u001b[0m\u001b[38;5;249m)\u001b[0m\u001b[38;5;249m;\u001b[0m\u001b[38;5;249m \u001b[0m\u001b[38;5;249m/\u001b[0m\u001b[38;5;249m/\u001b[0m\u001b[38;5;249m \u001b[0m\u001b[38;5;249me\u001b[0m\u001b[38;5;249mr\u001b[0m\u001b[38;5;249mr\u001b[0m\u001b[38;5;249mo\u001b[0m\u001b[38;5;249mr\u001b[0m\u001b[38;5;249m:\u001b[0m\u001b[38;5;249m \u001b[0m\u001b[38;5;249mt\u001b[0m\u001b[38;5;249my\u001b[0m\u001b[38;5;249mp\u001b[0m\u001b[38;5;249me\u001b[0m\u001b[38;5;249m \u001b[0m\u001b[38;5;249mm\u001b[0m\u001b[38;5;249mi\u001b[0m\u001b[38;5;249ms\u001b[0m\u001b[38;5;249mm\u001b[0m\u001b[38;5;249ma\u001b[0m\u001b[38;5;249mt\u001b[0m\u001b[38;5;249mc\u001b[0m\u001b[38;5;249mh\u001b[0m\u001b[38;5;249m:\u001b[0m\u001b[38;5;249m \u001b[0m\u001b[38;5;249m`\u001b[0m\u001b[38;5;249m&\u001b[0m\u001b[38;5;249mi\u001b[0m\u001b[38;5;249m3\u001b[0m\u001b[38;5;249m2\u001b[0m\u001b[38;5;249m`\u001b[0m\u001b[38;5;249m \u001b[0m\u001b[38;5;249mv\u001b[0m\u001b[38;5;249ms\u001b[0m\u001b[38;5;249m \u001b[0m\u001b[38;5;249m`\u001b[0m\u001b[38;5;249m&\u001b[0m\u001b[38;5;249m&\u001b[0m\u001b[38;5;249mi\u001b[0m\u001b[38;5;249m3\u001b[0m\u001b[38;5;249m2\u001b[0m\u001b[38;5;249m`\u001b[0m",
      " \u001b[38;5;240m  │\u001b[0m                \u001b[38;5;54m─\u001b[0m\u001b[38;5;54m┬\u001b[0m  ",
      " \u001b[38;5;240m  │\u001b[0m                 \u001b[38;5;54m╰\u001b[0m\u001b[38;5;54m─\u001b[0m\u001b[38;5;54m─\u001b[0m no implementation for `{integer} == &{integer}`",
      "\u001b[38;5;246m───╯\u001b[0m"
     ]
    }
   ],
   "source": [
    "let x=10; \n",
    "let y=10;\n",
    "{\n",
    "    let rx=&x; \n",
    "    let ry=&y;\n",
    "    let rrx = &rx; \n",
    "    let rry = &ry;\n",
    "    \n",
    "    assert!(rx == rrx); // error: type mismatch: `&i32` vs `&&i32` \n",
    "    assert!(rx == *rrx); // this is okay\n",
    "};"
   ]
  },
  {
   "cell_type": "markdown",
   "id": "f50b44a9-947d-4c72-be9a-0a371904a468",
   "metadata": {},
   "source": [
    "### References Are Never Null\n",
    "Rust references are never null. There’s no analogue to C’s NULL or C++’s nullptr. There is no default initial value for a reference (you can’t use any variable until it’s been initialized, regardless of its type) and Rust won’t convert integers to references (outside of unsafe code), so you can’t convert zero into a reference.\n",
    "\n",
    "C and C++ code often uses a null pointer to indicate the absence of a value: for exam‐ ple, the malloc function returns either a pointer to a new block of memory or nullptr if there isn’t enough memory available to satisfy the request. In Rust, if you need a value that is either a reference to something or not, use the type `Option<&T>`. At the machine level, Rust represents None as a null pointer and `Some(r)`, where `r` is a `&T` value, as the nonzero address, so `Option<&T>` is just as efficient as a nullable pointer in C or C++, even though it’s safer: its type requires you to check whether it’s None before you can use it."
   ]
  },
  {
   "cell_type": "markdown",
   "id": "a01003e5-daee-42d2-a76e-e1bce7b91b50",
   "metadata": {},
   "source": [
    "### Borrowing References to Arbitrary Expressions\n",
    "Whereas C and C++ only let you apply the & operator to certain kinds of expressions, Rust lets you borrow a reference to the value of any sort of expression at all:"
   ]
  },
  {
   "cell_type": "code",
   "execution_count": 52,
   "id": "d8770e09-77b7-4d87-8d57-cc32584a92ab",
   "metadata": {},
   "outputs": [],
   "source": [
    "fn factorial(n: usize) -> usize { \n",
    "    (1..n+1).product()\n",
    "}\n",
    "{\n",
    "    let r = &factorial(6); // Arithmetic operators can see through one level of references. \n",
    "    assert_eq!(r + &1009, 1729);\n",
    "};"
   ]
  },
  {
   "cell_type": "markdown",
   "id": "16a042a3-c075-48a8-aaf4-56f97910fedb",
   "metadata": {},
   "source": [
    "In situations like this, Rust simply creates an anonymous variable to hold the expres‐ sion’s value and makes the reference point to that. The lifetime of this anonymous variable depends on what you do with the reference:\n",
    "* If you immediately assign the reference to a variable in a let statement (or make it part of some struct or array that is being immediately assigned), then Rust makes the anonymous variable live as long as the variable the let initializes. In the preceding example, Rust would do this for the referent of r.\n",
    "* Otherwise, the anonymous variable lives to the end of the enclosing statement. In our example, the anonymous variable created to hold 1009 lasts only to the end of the assert_eq! statement."
   ]
  },
  {
   "cell_type": "markdown",
   "id": "219e364d-86f0-4fcf-bcb4-6b0112202d64",
   "metadata": {},
   "source": [
    "## Reference Safety\n",
    "### Receiving References as Function Arguments"
   ]
  },
  {
   "cell_type": "code",
   "execution_count": 53,
   "id": "a8acdbb9-e96a-4f0e-abc5-492a7fb628c9",
   "metadata": {},
   "outputs": [
    {
     "ename": "Error",
     "evalue": "free static item without body",
     "output_type": "error",
     "traceback": [
      "\u001b[31mError:\u001b[0m free static item without body",
      "   \u001b[38;5;246m╭\u001b[0m\u001b[38;5;246m─\u001b[0m\u001b[38;5;246m[\u001b[0mcommand_53:1:1\u001b[38;5;246m]\u001b[0m",
      "   \u001b[38;5;246m│\u001b[0m",
      " \u001b[38;5;246m2 │\u001b[0m \u001b[38;5;54ms\u001b[0m\u001b[38;5;54mt\u001b[0m\u001b[38;5;54ma\u001b[0m\u001b[38;5;54mt\u001b[0m\u001b[38;5;54mi\u001b[0m\u001b[38;5;54mc\u001b[0m\u001b[38;5;54m \u001b[0m\u001b[38;5;54mm\u001b[0m\u001b[38;5;54mu\u001b[0m\u001b[38;5;54mt\u001b[0m\u001b[38;5;54m \u001b[0m\u001b[38;5;54mS\u001b[0m\u001b[38;5;54mT\u001b[0m\u001b[38;5;54mA\u001b[0m\u001b[38;5;54mS\u001b[0m\u001b[38;5;54mH\u001b[0m\u001b[38;5;54m:\u001b[0m\u001b[38;5;54m \u001b[0m\u001b[38;5;54m&\u001b[0m\u001b[38;5;54mi\u001b[0m\u001b[38;5;54m3\u001b[0m\u001b[38;5;54m2\u001b[0m\u001b[38;5;100m;\u001b[0m",
      " \u001b[38;5;240m  │\u001b[0m \u001b[38;5;54m─\u001b[0m\u001b[38;5;54m─\u001b[0m\u001b[38;5;54m─\u001b[0m\u001b[38;5;54m─\u001b[0m\u001b[38;5;54m─\u001b[0m\u001b[38;5;54m─\u001b[0m\u001b[38;5;54m─\u001b[0m\u001b[38;5;54m─\u001b[0m\u001b[38;5;54m─\u001b[0m\u001b[38;5;54m─\u001b[0m\u001b[38;5;54m─\u001b[0m\u001b[38;5;54m┬\u001b[0m\u001b[38;5;54m─\u001b[0m\u001b[38;5;54m─\u001b[0m\u001b[38;5;54m─\u001b[0m\u001b[38;5;54m─\u001b[0m\u001b[38;5;54m─\u001b[0m\u001b[38;5;54m─\u001b[0m\u001b[38;5;54m─\u001b[0m\u001b[38;5;54m─\u001b[0m\u001b[38;5;54m─\u001b[0m\u001b[38;5;54m─\u001b[0m\u001b[38;5;100m┬\u001b[0m  ",
      " \u001b[38;5;240m  │\u001b[0m            \u001b[38;5;54m╰\u001b[0m\u001b[38;5;54m─\u001b[0m\u001b[38;5;54m─\u001b[0m\u001b[38;5;54m─\u001b[0m\u001b[38;5;54m─\u001b[0m\u001b[38;5;54m─\u001b[0m\u001b[38;5;54m─\u001b[0m\u001b[38;5;54m─\u001b[0m\u001b[38;5;54m─\u001b[0m\u001b[38;5;54m─\u001b[0m\u001b[38;5;54m─\u001b[0m\u001b[38;5;54m─\u001b[0m\u001b[38;5;54m─\u001b[0m\u001b[38;5;54m─\u001b[0m error: free static item without body",
      " \u001b[38;5;240m  │\u001b[0m                       \u001b[38;5;100m│\u001b[0m  ",
      " \u001b[38;5;240m  │\u001b[0m                       \u001b[38;5;100m╰\u001b[0m\u001b[38;5;100m─\u001b[0m\u001b[38;5;100m─\u001b[0m help: provide a definition for the static: ` = <expr>;`",
      "\u001b[38;5;246m───╯\u001b[0m"
     ]
    }
   ],
   "source": [
    " // This code has several problems, and doesn't compile.\n",
    "static mut STASH: &i32; \n",
    "fn f(p:&i32){ \n",
    "    STASH=p;\n",
    "}"
   ]
  },
  {
   "cell_type": "markdown",
   "id": "2822a746-d448-4f6f-8cd6-b94f55e08972",
   "metadata": {},
   "source": [
    "Rust’s equivalent of a global variable is called a static: it’s a value that’s created when the program starts and lasts until it terminates.\n",
    "* Every static must be initialized.\n",
    "* Mutable statics are inherently not thread-safe (after all, any thread can access a static at any time), and even in single-threaded programs, they can fall prey to other sorts of reentrancy problems. For these reasons, you may access a mutable static only within an unsafe block. In this example we’re not concerned with those particular problems, so we’ll just throw in an unsafe block and move on.\n",
    "\n",
    "With those revisions made, we now have the following:"
   ]
  },
  {
   "cell_type": "code",
   "execution_count": 54,
   "id": "3904886e-df9d-4636-9838-0cd23b23726d",
   "metadata": {},
   "outputs": [
    {
     "ename": "Error",
     "evalue": "lifetime may not live long enough",
     "output_type": "error",
     "traceback": [
      "\u001b[31mError:\u001b[0m lifetime may not live long enough",
      "   \u001b[38;5;246m╭\u001b[0m\u001b[38;5;246m─\u001b[0m\u001b[38;5;246m[\u001b[0mcommand_54:1:1\u001b[38;5;246m]\u001b[0m",
      "   \u001b[38;5;246m│\u001b[0m",
      " \u001b[38;5;246m2 │\u001b[0m \u001b[38;5;249mf\u001b[0m\u001b[38;5;249mn\u001b[0m\u001b[38;5;249m \u001b[0m\u001b[38;5;249mf\u001b[0m\u001b[38;5;249m(\u001b[0m\u001b[38;5;249mp\u001b[0m\u001b[38;5;249m:\u001b[0m\u001b[38;5;249m \u001b[0m\u001b[38;5;54m&\u001b[0m\u001b[38;5;249mi\u001b[0m\u001b[38;5;249m3\u001b[0m\u001b[38;5;249m2\u001b[0m\u001b[38;5;249m)\u001b[0m\u001b[38;5;249m \u001b[0m\u001b[38;5;249m{\u001b[0m\u001b[38;5;249m \u001b[0m\u001b[38;5;249m/\u001b[0m\u001b[38;5;249m/\u001b[0m\u001b[38;5;249m \u001b[0m\u001b[38;5;249ms\u001b[0m\u001b[38;5;249mt\u001b[0m\u001b[38;5;249mi\u001b[0m\u001b[38;5;249ml\u001b[0m\u001b[38;5;249ml\u001b[0m\u001b[38;5;249m \u001b[0m\u001b[38;5;249mn\u001b[0m\u001b[38;5;249mo\u001b[0m\u001b[38;5;249mt\u001b[0m\u001b[38;5;249m \u001b[0m\u001b[38;5;249mg\u001b[0m\u001b[38;5;249mo\u001b[0m\u001b[38;5;249mo\u001b[0m\u001b[38;5;249md\u001b[0m\u001b[38;5;249m \u001b[0m\u001b[38;5;249me\u001b[0m\u001b[38;5;249mn\u001b[0m\u001b[38;5;249mo\u001b[0m\u001b[38;5;249mu\u001b[0m\u001b[38;5;249mg\u001b[0m\u001b[38;5;249mh\u001b[0m",
      " \u001b[38;5;240m  │\u001b[0m         \u001b[38;5;54m┬\u001b[0m  ",
      " \u001b[38;5;240m  │\u001b[0m         \u001b[38;5;54m╰\u001b[0m\u001b[38;5;54m─\u001b[0m\u001b[38;5;54m─\u001b[0m let's call the lifetime of this reference `'1`",
      " \u001b[38;5;240m  │\u001b[0m ",
      " \u001b[38;5;246m4 │\u001b[0m \u001b[38;5;249m \u001b[0m\u001b[38;5;249m \u001b[0m\u001b[38;5;249m \u001b[0m\u001b[38;5;249m \u001b[0m\u001b[38;5;249m \u001b[0m\u001b[38;5;249m \u001b[0m\u001b[38;5;249m \u001b[0m\u001b[38;5;249m \u001b[0m\u001b[38;5;100mS\u001b[0m\u001b[38;5;100mT\u001b[0m\u001b[38;5;100mA\u001b[0m\u001b[38;5;100mS\u001b[0m\u001b[38;5;100mH\u001b[0m\u001b[38;5;100m \u001b[0m\u001b[38;5;100m=\u001b[0m\u001b[38;5;100m \u001b[0m\u001b[38;5;100mp\u001b[0m\u001b[38;5;249m;\u001b[0m",
      " \u001b[38;5;240m  │\u001b[0m         \u001b[38;5;100m─\u001b[0m\u001b[38;5;100m─\u001b[0m\u001b[38;5;100m─\u001b[0m\u001b[38;5;100m─\u001b[0m\u001b[38;5;100m┬\u001b[0m\u001b[38;5;100m─\u001b[0m\u001b[38;5;100m─\u001b[0m\u001b[38;5;100m─\u001b[0m\u001b[38;5;100m─\u001b[0m  ",
      " \u001b[38;5;240m  │\u001b[0m             \u001b[38;5;100m╰\u001b[0m\u001b[38;5;100m─\u001b[0m\u001b[38;5;100m─\u001b[0m\u001b[38;5;100m─\u001b[0m\u001b[38;5;100m─\u001b[0m\u001b[38;5;100m─\u001b[0m\u001b[38;5;100m─\u001b[0m assignment requires that `'1` must outlive `'static`",
      "\u001b[38;5;246m───╯\u001b[0m"
     ]
    }
   ],
   "source": [
    "static mut STASH: &i32 = &128;\n",
    "fn f(p: &i32) { // still not good enough\n",
    "    unsafe { \n",
    "        STASH = p;\n",
    "    } \n",
    "}"
   ]
  },
  {
   "cell_type": "markdown",
   "id": "2ddd306e-2a06-45ac-b81c-8770a9ab2c28",
   "metadata": {},
   "source": [
    "We’re almost done. To see the remaining problem, we need to write out a few things that Rust is helpfully letting us omit. The signature of `f` as written here is actually shorthand for the following:\n",
    "```Rust\n",
    "fn f<'a>(p: &'a i32) { ... }\n",
    "```\n",
    "Here, the lifetime 'a (pronounced “tick A”) is a lifetime parameter of `f`. You can read `<'a>` as “for any lifetime 'a” so when we write `fn f<'a>(p: &'a i32)`, we’re defining a function that takes a reference to an `i32` with any given lifetime `'a`.\n",
    "Since we must allow `'a` to be any lifetime, things had better work out if it’s the smallest possible lifetime: one just enclosing the call to `f`. This assignment then becomes a point of contention:\n",
    "```Rust\n",
    "STASH = p;\n",
    "```\n",
    "Since `STASH` lives for the program’s entire execution, the reference type it holds must have a lifetime of the same length; Rust calls this the `'static` lifetime. But the lifetime of p’s reference is some `'a`, which could be anything, as long as it encloses the call to f."
   ]
  },
  {
   "cell_type": "code",
   "execution_count": 55,
   "id": "e2de9a26-f7ca-4b0f-aff8-6db4ee130caa",
   "metadata": {},
   "outputs": [],
   "source": [
    "static mut STASH: &i32 = &10;\n",
    "fn f(p: &'static i32) { \n",
    "    unsafe {\n",
    "        STASH = p; \n",
    "    }\n",
    "}"
   ]
  },
  {
   "cell_type": "markdown",
   "id": "ad31da44-6522-48b0-a712-9d794a020f8b",
   "metadata": {},
   "source": [
    "### Passing References to Functions\n",
    "```Rust\n",
    "fn f(p: &'static i32) { ... } \n",
    "let x = 10;\n",
    "f(&x);\n",
    "```\n",
    "This fails to compile: the reference `&x` must not outlive `x`, but by passing it to `f`, we constrain it to live at least as long as `'static`. There’s no way to satisfy everyone here, so Rust rejects the code."
   ]
  },
  {
   "cell_type": "markdown",
   "id": "6dcae56c-a7f6-4b95-9504-8b203bc4f7e6",
   "metadata": {},
   "source": [
    "### Returning References\n",
    "\n"
   ]
  },
  {
   "cell_type": "code",
   "execution_count": 57,
   "id": "3d957613-ae1c-4d1d-99bb-a9b89275818d",
   "metadata": {},
   "outputs": [
    {
     "ename": "Error",
     "evalue": "`parabola` does not live long enough",
     "output_type": "error",
     "traceback": [
      "\u001b[31m[E0597] Error:\u001b[0m `parabola` does not live long enough",
      "    \u001b[38;5;246m╭\u001b[0m\u001b[38;5;246m─\u001b[0m\u001b[38;5;246m[\u001b[0mcommand_57:1:1\u001b[38;5;246m]\u001b[0m",
      "    \u001b[38;5;246m│\u001b[0m",
      " \u001b[38;5;246m11 │\u001b[0m \u001b[38;5;249m \u001b[0m\u001b[38;5;249m \u001b[0m\u001b[38;5;249m \u001b[0m\u001b[38;5;249m \u001b[0m\u001b[38;5;249ml\u001b[0m\u001b[38;5;249me\u001b[0m\u001b[38;5;249mt\u001b[0m\u001b[38;5;249m \u001b[0m\u001b[38;5;68mp\u001b[0m\u001b[38;5;68ma\u001b[0m\u001b[38;5;68mr\u001b[0m\u001b[38;5;68ma\u001b[0m\u001b[38;5;68mb\u001b[0m\u001b[38;5;68mo\u001b[0m\u001b[38;5;68ml\u001b[0m\u001b[38;5;68ma\u001b[0m\u001b[38;5;249m \u001b[0m\u001b[38;5;249m=\u001b[0m\u001b[38;5;249m \u001b[0m\u001b[38;5;249m[\u001b[0m\u001b[38;5;249m9\u001b[0m\u001b[38;5;249m,\u001b[0m\u001b[38;5;249m \u001b[0m\u001b[38;5;249m4\u001b[0m\u001b[38;5;249m,\u001b[0m\u001b[38;5;249m \u001b[0m\u001b[38;5;249m1\u001b[0m\u001b[38;5;249m,\u001b[0m\u001b[38;5;249m \u001b[0m\u001b[38;5;249m0\u001b[0m\u001b[38;5;249m,\u001b[0m\u001b[38;5;249m \u001b[0m\u001b[38;5;249m1\u001b[0m\u001b[38;5;249m,\u001b[0m\u001b[38;5;249m \u001b[0m\u001b[38;5;249m4\u001b[0m\u001b[38;5;249m,\u001b[0m\u001b[38;5;249m \u001b[0m\u001b[38;5;249m9\u001b[0m\u001b[38;5;249m]\u001b[0m\u001b[38;5;249m;\u001b[0m",
      " \u001b[38;5;240m   │\u001b[0m         \u001b[38;5;68m─\u001b[0m\u001b[38;5;68m─\u001b[0m\u001b[38;5;68m─\u001b[0m\u001b[38;5;68m─\u001b[0m\u001b[38;5;68m┬\u001b[0m\u001b[38;5;68m─\u001b[0m\u001b[38;5;68m─\u001b[0m\u001b[38;5;68m─\u001b[0m  ",
      " \u001b[38;5;240m   │\u001b[0m             \u001b[38;5;68m╰\u001b[0m\u001b[38;5;68m─\u001b[0m\u001b[38;5;68m─\u001b[0m\u001b[38;5;68m─\u001b[0m\u001b[38;5;68m─\u001b[0m\u001b[38;5;68m─\u001b[0m binding `parabola` declared here",
      " \u001b[38;5;246m12 │\u001b[0m \u001b[38;5;249m \u001b[0m\u001b[38;5;249m \u001b[0m\u001b[38;5;249m \u001b[0m\u001b[38;5;249m \u001b[0m\u001b[38;5;249ms\u001b[0m\u001b[38;5;249m \u001b[0m\u001b[38;5;249m=\u001b[0m\u001b[38;5;249m \u001b[0m\u001b[38;5;249ms\u001b[0m\u001b[38;5;249mm\u001b[0m\u001b[38;5;249ma\u001b[0m\u001b[38;5;249ml\u001b[0m\u001b[38;5;249ml\u001b[0m\u001b[38;5;249me\u001b[0m\u001b[38;5;249ms\u001b[0m\u001b[38;5;249mt\u001b[0m\u001b[38;5;249m(\u001b[0m\u001b[38;5;54m&\u001b[0m\u001b[38;5;54mp\u001b[0m\u001b[38;5;54ma\u001b[0m\u001b[38;5;54mr\u001b[0m\u001b[38;5;54ma\u001b[0m\u001b[38;5;54mb\u001b[0m\u001b[38;5;54mo\u001b[0m\u001b[38;5;54ml\u001b[0m\u001b[38;5;54ma\u001b[0m\u001b[38;5;249m)\u001b[0m\u001b[38;5;249m;\u001b[0m",
      " \u001b[38;5;240m   │\u001b[0m                  \u001b[38;5;54m─\u001b[0m\u001b[38;5;54m─\u001b[0m\u001b[38;5;54m─\u001b[0m\u001b[38;5;54m─\u001b[0m\u001b[38;5;54m┬\u001b[0m\u001b[38;5;54m─\u001b[0m\u001b[38;5;54m─\u001b[0m\u001b[38;5;54m─\u001b[0m\u001b[38;5;54m─\u001b[0m  ",
      " \u001b[38;5;240m   │\u001b[0m                      \u001b[38;5;54m╰\u001b[0m\u001b[38;5;54m─\u001b[0m\u001b[38;5;54m─\u001b[0m\u001b[38;5;54m─\u001b[0m\u001b[38;5;54m─\u001b[0m\u001b[38;5;54m─\u001b[0m\u001b[38;5;54m─\u001b[0m borrowed value does not live long enough",
      " \u001b[38;5;240m   │\u001b[0m                      \u001b[38;5;37m│\u001b[0m      ",
      " \u001b[38;5;240m   │\u001b[0m                      \u001b[38;5;37m╰\u001b[0m\u001b[38;5;37m─\u001b[0m\u001b[38;5;37m─\u001b[0m\u001b[38;5;37m─\u001b[0m\u001b[38;5;37m─\u001b[0m\u001b[38;5;37m─\u001b[0m\u001b[38;5;37m─\u001b[0m cast requires that `parabola` is borrowed for `'static`",
      " \u001b[38;5;246m13 │\u001b[0m \u001b[38;5;100m}\u001b[0m",
      " \u001b[38;5;240m   │\u001b[0m \u001b[38;5;100m┬\u001b[0m  ",
      " \u001b[38;5;240m   │\u001b[0m \u001b[38;5;100m╰\u001b[0m\u001b[38;5;100m─\u001b[0m\u001b[38;5;100m─\u001b[0m `parabola` dropped here while still borrowed",
      "\u001b[38;5;246m────╯\u001b[0m"
     ]
    }
   ],
   "source": [
    "// v should have at least one element.\n",
    "fn smallest(v: &[i32]) -> &i32 { \n",
    "    let mut s = &v[0];\n",
    "    for r in &v[1..] {\n",
    "        if*r<*s{s=r;} \n",
    "    }\n",
    "    s\n",
    "}\n",
    "\n",
    "let s; {\n",
    "    let parabola = [9, 4, 1, 0, 1, 4, 9]; \n",
    "    s = smallest(&parabola);\n",
    "}\n",
    "assert_eq!(*s, 0); // bad: points to element of dropped array"
   ]
  },
  {
   "cell_type": "markdown",
   "id": "d9361bd4-338a-4487-9d0a-9e9e01ec5872",
   "metadata": {},
   "source": [
    "From smallest’s signature, we can see that its argument and return value must have the same lifetime, 'a. In our call, the argument &parabola must not outlive parabola itself, yet smallest’s return value must live at least as long as s. There’s no possible lifetime 'a that can satisfy both constraints"
   ]
  },
  {
   "cell_type": "code",
   "execution_count": 59,
   "id": "acbfbdff-32a8-427c-b7b7-a3f9c94ef800",
   "metadata": {},
   "outputs": [],
   "source": [
    "{\n",
    "    let parabola = [9, 4, 1, 0, 1, 4, 9];\n",
    "    let s = smallest(&parabola);\n",
    "    assert_eq!(*s, 0); // fine: parabola still alive\n",
    "};"
   ]
  },
  {
   "cell_type": "markdown",
   "id": "57376891-d637-460a-b8cc-8f19392fcf5b",
   "metadata": {},
   "source": [
    "### Structs Containing References\n",
    "Whenever a reference type appears inside another type’s definition, you must write out its lifetime.\n",
    "```Rust\n",
    "struct S {\n",
    "    r: &'static i32\n",
    "}\n",
    "```\n",
    "This says that r can only refer to i32 values that will last for the lifetime of the pro‐ gram, which is rather limiting. The alternative is to give the type a lifetime parameter 'a and use that for r:\n",
    "```Rust\n",
    "struct S<'a> { \n",
    "    r: &'a i32\n",
    "}\n",
    "```\n",
    "Now the S type has a lifetime, just as reference types do. Each value you create of type S gets a fresh lifetime 'a, which becomes constrained by how you use the value. The lifetime of any reference you store in r had better enclose 'a, and 'a must outlast the lifetime of wherever you store the S.\n",
    "\n",
    "How does a type with a lifetime parameter behave when placed inside some other type?\n",
    "```Rust\n",
    "struct D {\n",
    "    s: S // not adequate\n",
    "}\n",
    "```\n",
    "Rust is skeptical, just as it was when we tried placing a reference in S without specify‐ ing its lifetime:\n",
    "\n",
    "We could give s the 'static lifetime. This works:\n",
    "```Rust\n",
    "struct D {\n",
    "    s: S<'static>\n",
    "}\n",
    "```\n",
    "With this definition, the `s` field may only borrow values that live for the entire execution of the program. That’s somewhat restrictive, but it does mean that `D` can’t possibly borrow a local variable; there are no special constraints on `D`’s lifetime.\n",
    "\n",
    "The error message from Rust actually suggests another approach, which is more general:\n",
    "```text\n",
    "help: consider introducing a named lifetime parameter\n",
    "  |\n",
    "7 | struct D<'a> {\n",
    "8 |     s: S<'a>\n",
    "  |\n",
    "```\n",
    "Here, we give D its own lifetime parameter and pass that to S:\n",
    "```Rust\n",
    "struct D<'a> { \n",
    "    s: S<'a>\n",
    "}\n",
    "```\n",
    "By taking a lifetime parameter `'a` and using it in s’s type, we’ve allowed Rust to relate D value’s lifetime to that of the reference its `S` holds.\n",
    "\n",
    "We showed earlier how a function’s signature exposes what it does with the references we pass it. Now we’ve shown something similar about types: a type’s lifetime parameters always reveal whether it contains references with interesting (that is, non-'static) lifetimes and what those lifetimes can be.\n",
    "\n",
    "For example, suppose we have a parsing function that takes a slice of bytes and returns a structure holding the results of the parse:\n",
    "```Rust\n",
    "fn parse_record<'i>(input: &'i [u8]) -> Record<'i> { ... }\n",
    "```\n",
    "Without looking into the definition of the Record type at all, we can tell that, if we receive a Record from `parse_record`, whatever references it contains must point into the input buffer we passed in, and nowhere else (except perhaps at `'static` values).\n",
    "\n",
    "It’s not just references and types like S that have lifetimes. Every type in Rust has a lifetime, including `i32` and String. Most are simply `'static`, meaning that values of those types can live for as long as you like; for example, a `Vec<i32>` is self-contained and needn’t be dropped before any particular variable goes out of scope. But a type like `Vec<&'a i32>` has a lifetime that must be enclosed by `'a`: it must be dropped while its referents are still alive."
   ]
  },
  {
   "cell_type": "markdown",
   "id": "a9cac09b-947d-4d2e-88a7-a580a92e88e1",
   "metadata": {},
   "source": [
    "### Distinct Lifetime Parameters\n",
    "Suppose you’ve defined a structure containing two references like this:\n",
    "\n",
    "Both references use the same lifetime 'a. This could be a problem if your code wants to do something like this:\n"
   ]
  },
  {
   "cell_type": "code",
   "execution_count": 66,
   "id": "e063be87-d266-4d72-acee-45dfad24a7e9",
   "metadata": {},
   "outputs": [],
   "source": [
    "struct S<'a> { \n",
    "    x: &'a i32,\n",
    "    y: &'a i32 \n",
    "}"
   ]
  },
  {
   "cell_type": "code",
   "execution_count": 67,
   "id": "24f00479-1223-401f-9390-306a2267b39d",
   "metadata": {},
   "outputs": [
    {
     "ename": "Error",
     "evalue": "`y` does not live long enough",
     "output_type": "error",
     "traceback": [
      "\u001b[31m[E0597] Error:\u001b[0m `y` does not live long enough",
      "    \u001b[38;5;246m╭\u001b[0m\u001b[38;5;246m─\u001b[0m\u001b[38;5;246m[\u001b[0mcommand_67:1:1\u001b[38;5;246m]\u001b[0m",
      "    \u001b[38;5;246m│\u001b[0m",
      " \u001b[38;5;246m 5 │\u001b[0m \u001b[38;5;249m \u001b[0m\u001b[38;5;249m \u001b[0m\u001b[38;5;249m \u001b[0m\u001b[38;5;249m \u001b[0m\u001b[38;5;249m \u001b[0m\u001b[38;5;249m \u001b[0m\u001b[38;5;249m \u001b[0m\u001b[38;5;249m \u001b[0m\u001b[38;5;249ml\u001b[0m\u001b[38;5;249me\u001b[0m\u001b[38;5;249mt\u001b[0m\u001b[38;5;249m \u001b[0m\u001b[38;5;68my\u001b[0m\u001b[38;5;249m \u001b[0m\u001b[38;5;249m=\u001b[0m\u001b[38;5;249m \u001b[0m\u001b[38;5;249m2\u001b[0m\u001b[38;5;249m0\u001b[0m\u001b[38;5;249m;\u001b[0m",
      " \u001b[38;5;240m   │\u001b[0m             \u001b[38;5;68m┬\u001b[0m  ",
      " \u001b[38;5;240m   │\u001b[0m             \u001b[38;5;68m╰\u001b[0m\u001b[38;5;68m─\u001b[0m\u001b[38;5;68m─\u001b[0m binding `y` declared here",
      " \u001b[38;5;240m   │\u001b[0m ",
      " \u001b[38;5;246m 7 │\u001b[0m \u001b[38;5;249m \u001b[0m\u001b[38;5;249m \u001b[0m\u001b[38;5;249m \u001b[0m\u001b[38;5;249m \u001b[0m\u001b[38;5;249m \u001b[0m\u001b[38;5;249m \u001b[0m\u001b[38;5;249m \u001b[0m\u001b[38;5;249m \u001b[0m\u001b[38;5;249m \u001b[0m\u001b[38;5;249m \u001b[0m\u001b[38;5;249m \u001b[0m\u001b[38;5;249m \u001b[0m\u001b[38;5;249ml\u001b[0m\u001b[38;5;249me\u001b[0m\u001b[38;5;249mt\u001b[0m\u001b[38;5;249m \u001b[0m\u001b[38;5;249ms\u001b[0m\u001b[38;5;249m \u001b[0m\u001b[38;5;249m=\u001b[0m\u001b[38;5;249m \u001b[0m\u001b[38;5;249mS\u001b[0m\u001b[38;5;249m \u001b[0m\u001b[38;5;249m{\u001b[0m\u001b[38;5;249mx\u001b[0m\u001b[38;5;249m:\u001b[0m\u001b[38;5;249m&\u001b[0m\u001b[38;5;249mx\u001b[0m\u001b[38;5;249m,\u001b[0m\u001b[38;5;249my\u001b[0m\u001b[38;5;249m:\u001b[0m\u001b[38;5;54m&\u001b[0m\u001b[38;5;54my\u001b[0m\u001b[38;5;249m}\u001b[0m\u001b[38;5;249m;\u001b[0m",
      " \u001b[38;5;240m   │\u001b[0m                               \u001b[38;5;54m─\u001b[0m\u001b[38;5;54m┬\u001b[0m  ",
      " \u001b[38;5;240m   │\u001b[0m                                \u001b[38;5;54m╰\u001b[0m\u001b[38;5;54m─\u001b[0m\u001b[38;5;54m─\u001b[0m borrowed value does not live long enough",
      " \u001b[38;5;240m   │\u001b[0m ",
      " \u001b[38;5;246m10 │\u001b[0m \u001b[38;5;249m \u001b[0m\u001b[38;5;249m \u001b[0m\u001b[38;5;249m \u001b[0m\u001b[38;5;249m \u001b[0m\u001b[38;5;100m}\u001b[0m",
      " \u001b[38;5;240m   │\u001b[0m     \u001b[38;5;100m┬\u001b[0m  ",
      " \u001b[38;5;240m   │\u001b[0m     \u001b[38;5;100m╰\u001b[0m\u001b[38;5;100m─\u001b[0m\u001b[38;5;100m─\u001b[0m `y` dropped here while still borrowed",
      " \u001b[38;5;246m11 │\u001b[0m \u001b[38;5;249m \u001b[0m\u001b[38;5;249m \u001b[0m\u001b[38;5;249m \u001b[0m\u001b[38;5;249m \u001b[0m\u001b[38;5;249mp\u001b[0m\u001b[38;5;249mr\u001b[0m\u001b[38;5;249mi\u001b[0m\u001b[38;5;249mn\u001b[0m\u001b[38;5;249mt\u001b[0m\u001b[38;5;249ml\u001b[0m\u001b[38;5;249mn\u001b[0m\u001b[38;5;249m!\u001b[0m\u001b[38;5;249m(\u001b[0m\u001b[38;5;249m\"\u001b[0m\u001b[38;5;249m{\u001b[0m\u001b[38;5;249m}\u001b[0m\u001b[38;5;249m\"\u001b[0m\u001b[38;5;249m,\u001b[0m\u001b[38;5;249m \u001b[0m\u001b[38;5;37mr\u001b[0m\u001b[38;5;249m)\u001b[0m\u001b[38;5;249m;\u001b[0m",
      " \u001b[38;5;240m   │\u001b[0m                    \u001b[38;5;37m┬\u001b[0m  ",
      " \u001b[38;5;240m   │\u001b[0m                    \u001b[38;5;37m╰\u001b[0m\u001b[38;5;37m─\u001b[0m\u001b[38;5;37m─\u001b[0m borrow later used here",
      "\u001b[38;5;246m────╯\u001b[0m"
     ]
    }
   ],
   "source": [
    "let x = 10; \n",
    "{\n",
    "    let r;\n",
    "    {\n",
    "        let y = 20; \n",
    "        {\n",
    "            let s = S {x:&x,y:&y};\n",
    "            r = s.x; \n",
    "        }\n",
    "    }\n",
    "    println!(\"{}\", r);\n",
    "};"
   ]
  },
  {
   "cell_type": "code",
   "execution_count": 68,
   "id": "c2c56ce0-4452-4377-818a-57ecd08fa600",
   "metadata": {},
   "outputs": [],
   "source": [
    "struct S<'a, 'b> { \n",
    "    x: &'a i32,\n",
    "    y: &'b i32 \n",
    "}"
   ]
  },
  {
   "cell_type": "code",
   "execution_count": 69,
   "id": "a435ca4f-3459-4918-91f2-64d9d11ffbd8",
   "metadata": {},
   "outputs": [
    {
     "name": "stdout",
     "output_type": "stream",
     "text": [
      "10\n"
     ]
    }
   ],
   "source": [
    "let x = 10; \n",
    "{\n",
    "    let r;\n",
    "    {\n",
    "        let y = 20; \n",
    "        {\n",
    "            let s = S {x:&x,y:&y};\n",
    "            r = s.x; \n",
    "        }\n",
    "    }\n",
    "    println!(\"{}\", r);\n",
    "};"
   ]
  },
  {
   "cell_type": "markdown",
   "id": "d4392705-38d7-4f47-b3aa-b0a16b9a9596",
   "metadata": {},
   "source": [
    "Function signatures can have similar effects. Suppose we have a function like this:\n",
    "```Rust\n",
    "fn f<'a>(r: &'a i32, s: &'a i32) -> &'a i32 { r } // perhaps too tight\n",
    "```\n",
    "Here, both reference parameters use the same lifetime `'a`, which can unnecessarily constrain the caller in the same way we’ve shown previously. If this is a problem, you can let parameters’ lifetimes vary independently:\n",
    "```Rust\n",
    "fn f<'a, 'b>(r: &'a i32, s: &'b i32) -> &'a i32 { r } // looser\n",
    "```\n",
    "The downside to this is that adding lifetimes can make types and function signatures harder to read. Your authors tend to try the simplest possible definition first and then loosen restrictions until the code compiles. Since Rust won’t permit the code to run unless it’s safe, simply waiting to be told when there’s a problem is a perfectly acceptable tactic."
   ]
  },
  {
   "cell_type": "markdown",
   "id": "3b2b58a1-b789-4f18-a36f-a4d01107df79",
   "metadata": {},
   "source": [
    "### Omitting Lifetime Parameters\n",
    "We’ve shown plenty of functions so far in this book that return references or take them as parameters, but we’ve usually not needed to spell out which lifetime is which. The lifetimes are there; Rust is just letting us omit them when it’s reasonably obvious what they should be.\n",
    "\n",
    "In the simplest cases, you may never need to write out lifetimes for your parameters. Rust just assigns a distinct lifetime to each spot that needs one. For example:\n",
    "```Rust\n",
    "struct S<'a, 'b> { \n",
    "    x: &'a i32,\n",
    "    y: &'b i32 \n",
    "}\n",
    "fn sum_r_xy(r: &i32, s: S) -> i32 { \n",
    "    r+s.x+s.y\n",
    "}\n",
    "```\n",
    "This function’s signature is shorthand for:\n",
    "```Rust\n",
    "fn sum_r_xy<'a, 'b, 'c>(r: &'a i32, s: S<'b, 'c>) -> i32\n",
    "```\n",
    "If your function is a method on some type and takes its self parameter by reference, then that breaks the tie: Rust assumes that self’s lifetime is the one to give everything in your return value."
   ]
  },
  {
   "cell_type": "code",
   "execution_count": 70,
   "id": "ee3859dc-b118-4bfb-be8c-946665dda03c",
   "metadata": {},
   "outputs": [],
   "source": [
    "struct StringTable { \n",
    "    elements: Vec<String>,\n",
    "}\n",
    "impl StringTable {\n",
    "    fn find_by_prefix(&self, prefix: &str) -> Option<&String> {\n",
    "        for i in 0 .. self.elements.len() {\n",
    "        if self.elements[i].starts_with(prefix) {\n",
    "            return Some(&self.elements[i]); }\n",
    "        }\n",
    "        None\n",
    "    } \n",
    "}"
   ]
  },
  {
   "cell_type": "markdown",
   "id": "96da8d38-21c6-417f-8215-7625005bc224",
   "metadata": {},
   "source": [
    "The find_by_prefix method’s signature is shorthand for:\n",
    "```Rust\n",
    "fn find_by_prefix<'a, 'b>(&'a self, prefix: &'b str) -> Option<&'a String>\n",
    "```"
   ]
  },
  {
   "cell_type": "markdown",
   "id": "e66931ed-b821-4f79-a81b-f1c34bf04619",
   "metadata": {},
   "source": [
    "## Sharing Versus Mutation\n"
   ]
  },
  {
   "cell_type": "code",
   "execution_count": 77,
   "id": "8e982c39-17c3-4b60-bd53-cc585df32d62",
   "metadata": {},
   "outputs": [
    {
     "ename": "Error",
     "evalue": "The variable `r` contains a reference with a non-static lifetime so\ncan't be persisted. You can prevent this error by making sure that the\nvariable goes out of scope - i.e. wrapping the code in {}.",
     "output_type": "error",
     "traceback": [
      "\u001b[31mError:\u001b[0m The variable `r` contains a reference with a non-static lifetime so",
      "can't be persisted. You can prevent this error by making sure that the",
      "variable goes out of scope - i.e. wrapping the code in {}."
     ]
    }
   ],
   "source": [
    "let v: Vec<i32> = vec![4, 8, 19, 27, 34, 10];\n",
    "let r: &Vec<i32> =&v;\n",
    "let aside: Vec<i32> = v; // move vector to aside\n",
    "r[0]; // bad: uses `v`, which is now uninitialized"
   ]
  },
  {
   "cell_type": "markdown",
   "id": "b85c49b4-ca77-4fd1-8676-232bd7352172",
   "metadata": {},
   "source": [
    "![image.png](asset/ch5/2.png)"
   ]
  },
  {
   "cell_type": "code",
   "execution_count": 78,
   "id": "2b7957b6-eccf-46e6-b09a-28fecad1b9f0",
   "metadata": {},
   "outputs": [],
   "source": [
    "let v: Vec<i32> = vec![4, 8, 19, 27, 34, 10]; \n",
    "{\n",
    "    let r: &Vec<i32> = &v;\n",
    "    r[0]; // ok: vector is still there \n",
    "}\n",
    "let aside: Vec<i32> = v;"
   ]
  },
  {
   "cell_type": "markdown",
   "id": "6108a588-78c9-4bab-95a7-f55fc0d35116",
   "metadata": {},
   "source": [
    "Suppose we have a handy function to extend a vector with the elements of a slice:"
   ]
  },
  {
   "cell_type": "code",
   "execution_count": 89,
   "id": "0cb0ecaf-c9e0-459d-a74f-65211aef0349",
   "metadata": {},
   "outputs": [
    {
     "ename": "Error",
     "evalue": "cannot borrow `wave` as immutable because it is also borrowed as mutable",
     "output_type": "error",
     "traceback": [
      "\u001b[31m[E0502] Error:\u001b[0m cannot borrow `wave` as immutable because it is also borrowed as mutable",
      "    \u001b[38;5;246m╭\u001b[0m\u001b[38;5;246m─\u001b[0m\u001b[38;5;246m[\u001b[0mcommand_89:1:1\u001b[38;5;246m]\u001b[0m",
      "    \u001b[38;5;246m│\u001b[0m",
      " \u001b[38;5;246m14 │\u001b[0m \u001b[38;5;249m \u001b[0m\u001b[38;5;249m \u001b[0m\u001b[38;5;249m \u001b[0m\u001b[38;5;249m \u001b[0m\u001b[38;5;68me\u001b[0m\u001b[38;5;68mx\u001b[0m\u001b[38;5;68mt\u001b[0m\u001b[38;5;68me\u001b[0m\u001b[38;5;68mn\u001b[0m\u001b[38;5;68md\u001b[0m\u001b[38;5;249m(\u001b[0m\u001b[38;5;100m&\u001b[0m\u001b[38;5;100mm\u001b[0m\u001b[38;5;100mu\u001b[0m\u001b[38;5;100mt\u001b[0m\u001b[38;5;100m \u001b[0m\u001b[38;5;100mw\u001b[0m\u001b[38;5;100ma\u001b[0m\u001b[38;5;100mv\u001b[0m\u001b[38;5;100me\u001b[0m\u001b[38;5;249m,\u001b[0m\u001b[38;5;249m \u001b[0m\u001b[38;5;54m&\u001b[0m\u001b[38;5;54mw\u001b[0m\u001b[38;5;54ma\u001b[0m\u001b[38;5;54mv\u001b[0m\u001b[38;5;54me\u001b[0m\u001b[38;5;249m)\u001b[0m\u001b[38;5;249m;\u001b[0m\u001b[38;5;249m \u001b[0m\u001b[38;5;249m/\u001b[0m\u001b[38;5;249m/\u001b[0m\u001b[38;5;249m \u001b[0m\u001b[38;5;249mi\u001b[0m\u001b[38;5;249ml\u001b[0m\u001b[38;5;249ml\u001b[0m\u001b[38;5;249ma\u001b[0m\u001b[38;5;249mg\u001b[0m\u001b[38;5;249me\u001b[0m\u001b[38;5;249ml\u001b[0m\u001b[38;5;249m,\u001b[0m\u001b[38;5;249m \u001b[0m\u001b[38;5;249mb\u001b[0m\u001b[38;5;249me\u001b[0m\u001b[38;5;249mc\u001b[0m\u001b[38;5;249ma\u001b[0m\u001b[38;5;249mu\u001b[0m\u001b[38;5;249ms\u001b[0m\u001b[38;5;249me\u001b[0m\u001b[38;5;249m \u001b[0m\u001b[38;5;249mr\u001b[0m\u001b[38;5;249me\u001b[0m\u001b[38;5;249ma\u001b[0m\u001b[38;5;249md\u001b[0m\u001b[38;5;249m \u001b[0m\u001b[38;5;249ma\u001b[0m\u001b[38;5;249mn\u001b[0m\u001b[38;5;249md\u001b[0m\u001b[38;5;249m \u001b[0m\u001b[38;5;249mw\u001b[0m\u001b[38;5;249mr\u001b[0m\u001b[38;5;249mi\u001b[0m\u001b[38;5;249mt\u001b[0m\u001b[38;5;249me\u001b[0m\u001b[38;5;249m \u001b[0m\u001b[38;5;249mc\u001b[0m\u001b[38;5;249ma\u001b[0m\u001b[38;5;249mn\u001b[0m\u001b[38;5;249mn\u001b[0m\u001b[38;5;249mo\u001b[0m\u001b[38;5;249mt\u001b[0m\u001b[38;5;249m \u001b[0m\u001b[38;5;249me\u001b[0m\u001b[38;5;249mx\u001b[0m\u001b[38;5;249mi\u001b[0m\u001b[38;5;249ms\u001b[0m\u001b[38;5;249mt\u001b[0m\u001b[38;5;249m \u001b[0m\u001b[38;5;249ma\u001b[0m\u001b[38;5;249mt\u001b[0m\u001b[38;5;249m \u001b[0m\u001b[38;5;249mt\u001b[0m\u001b[38;5;249mh\u001b[0m\u001b[38;5;249me\u001b[0m\u001b[38;5;249m \u001b[0m\u001b[38;5;249ms\u001b[0m\u001b[38;5;249ma\u001b[0m\u001b[38;5;249mm\u001b[0m\u001b[38;5;249me\u001b[0m\u001b[38;5;249m \u001b[0m\u001b[38;5;249mt\u001b[0m\u001b[38;5;249mi\u001b[0m\u001b[38;5;249mm\u001b[0m\u001b[38;5;249me\u001b[0m",
      " \u001b[38;5;240m   │\u001b[0m     \u001b[38;5;68m─\u001b[0m\u001b[38;5;68m─\u001b[0m\u001b[38;5;68m─\u001b[0m\u001b[38;5;68m┬\u001b[0m\u001b[38;5;68m─\u001b[0m\u001b[38;5;68m─\u001b[0m \u001b[38;5;100m─\u001b[0m\u001b[38;5;100m─\u001b[0m\u001b[38;5;100m─\u001b[0m\u001b[38;5;100m─\u001b[0m\u001b[38;5;100m┬\u001b[0m\u001b[38;5;100m─\u001b[0m\u001b[38;5;100m─\u001b[0m\u001b[38;5;100m─\u001b[0m\u001b[38;5;100m─\u001b[0m  \u001b[38;5;54m─\u001b[0m\u001b[38;5;54m─\u001b[0m\u001b[38;5;54m┬\u001b[0m\u001b[38;5;54m─\u001b[0m\u001b[38;5;54m─\u001b[0m  ",
      " \u001b[38;5;240m   │\u001b[0m        \u001b[38;5;68m╰\u001b[0m\u001b[38;5;68m─\u001b[0m\u001b[38;5;68m─\u001b[0m\u001b[38;5;68m─\u001b[0m\u001b[38;5;68m─\u001b[0m\u001b[38;5;68m─\u001b[0m\u001b[38;5;68m─\u001b[0m\u001b[38;5;68m─\u001b[0m\u001b[38;5;68m─\u001b[0m\u001b[38;5;68m─\u001b[0m\u001b[38;5;68m─\u001b[0m\u001b[38;5;68m─\u001b[0m\u001b[38;5;68m─\u001b[0m\u001b[38;5;68m─\u001b[0m\u001b[38;5;68m─\u001b[0m\u001b[38;5;68m─\u001b[0m\u001b[38;5;68m─\u001b[0m\u001b[38;5;68m─\u001b[0m\u001b[38;5;68m─\u001b[0m\u001b[38;5;68m─\u001b[0m\u001b[38;5;68m─\u001b[0m\u001b[38;5;68m─\u001b[0m mutable borrow later used by call",
      " \u001b[38;5;240m   │\u001b[0m                \u001b[38;5;100m│\u001b[0m        \u001b[38;5;54m│\u001b[0m    ",
      " \u001b[38;5;240m   │\u001b[0m                \u001b[38;5;100m╰\u001b[0m\u001b[38;5;100m─\u001b[0m\u001b[38;5;100m─\u001b[0m\u001b[38;5;100m─\u001b[0m\u001b[38;5;100m─\u001b[0m\u001b[38;5;100m─\u001b[0m\u001b[38;5;100m─\u001b[0m\u001b[38;5;100m─\u001b[0m\u001b[38;5;100m─\u001b[0m\u001b[38;5;100m─\u001b[0m\u001b[38;5;100m─\u001b[0m\u001b[38;5;100m─\u001b[0m\u001b[38;5;100m─\u001b[0m\u001b[38;5;100m─\u001b[0m mutable borrow occurs here",
      " \u001b[38;5;240m   │\u001b[0m                         \u001b[38;5;54m│\u001b[0m    ",
      " \u001b[38;5;240m   │\u001b[0m                         \u001b[38;5;54m╰\u001b[0m\u001b[38;5;54m─\u001b[0m\u001b[38;5;54m─\u001b[0m\u001b[38;5;54m─\u001b[0m\u001b[38;5;54m─\u001b[0m immutable borrow occurs here",
      "\u001b[38;5;246m────╯\u001b[0m"
     ]
    }
   ],
   "source": [
    "fn extend(vec: &mut Vec<f64>, slice: &[f64]) { \n",
    "    for elt in slice {\n",
    "        vec.push(*elt);\n",
    "    }\n",
    "}\n",
    "{\n",
    "    let mut wave: Vec<f64> = Vec::new(); \n",
    "    let head = vec![0.0, 1.0]; \n",
    "    let tail: [f64; 2] = [0.0, -1.0];\n",
    "    extend(&mut wave, &head); // extend wave with another vector\n",
    "    extend(&mut wave, &tail); // extend wave with an array\n",
    "    assert_eq!(wave, vec![0.0, 1.0, 0.0, -1.0]);\n",
    "\n",
    "    // illagel, because read and write cannot exist at the same time\n",
    "    //extend(&mut wave, &wave); \n",
    "};"
   ]
  },
  {
   "cell_type": "markdown",
   "id": "e79b1a70-9947-4cf8-ad78-b02a0bdeba62",
   "metadata": {},
   "source": [
    "![image.png](asset/ch5/3.png)"
   ]
  },
  {
   "cell_type": "code",
   "execution_count": null,
   "id": "e008f7f6-2569-4ed3-b2a2-b467d20f023d",
   "metadata": {},
   "outputs": [],
   "source": [
    "let mut x = 10;\n",
    "let r1 = &x;\n",
    "let r2 = &x; // ok: multiple shared borrows permitted\n",
    "x += 10; // error: cannot assign to `x` because it is borrowed \n",
    "let m = &mut x; // error: cannot borrow `x` as mutable because it is\n",
    "                // also borrowed as immutable\n",
    "println!(\"{}, {}, {}\", r1, r2, m); // the references are used here,\n",
    "                                       // so their lifetimes must last\n",
    "                                       // at least this long\n",
    "let mut y = 20;\n",
    "let m1 = &mut y;\n",
    "let m2 = &mut y; // error: cannot borrow as mutable more than once\n",
    "let z = y; // error: cannot use `y` because it was mutably borrowed println!(\"{}, {}, {}\", m1, m2, z); // references are used here"
   ]
  },
  {
   "cell_type": "code",
   "execution_count": null,
   "id": "695ddcc6-bb55-4010-bc1e-cc5c1ea4d900",
   "metadata": {},
   "outputs": [],
   "source": [
    "let mut w = (107, 109); \n",
    "let r = &w;\n",
    "let r0 = &r.0; // ok: reborrowing shared as shared\n",
    "let m1 = &mut r.1; // error: can't reborrow shared as mutable\n",
    "println!(\"{}\", r0); // r0 gets used here"
   ]
  },
  {
   "cell_type": "code",
   "execution_count": null,
   "id": "816f6bc6-f1ae-4626-9c2a-af2b76219e88",
   "metadata": {},
   "outputs": [],
   "source": [
    "let mut v = (136, 139); \n",
    "let m = &mut v; // ok: reborrowing mutable from mutable\n",
    "let m0 = &mut m.0; \n",
    "*m0 = 137;  // ok: reborrowing shared from mutable,\n",
    "            // and doesn't overlap with m0\n",
    "let r1 = &m.1; \n",
    "v.1; // error: access through other paths still forbidden\n",
    "println!(\"{}\", r1); // r1 gets used here"
   ]
  },
  {
   "cell_type": "markdown",
   "id": "8dfb083e-5531-4126-9fac-895452bf5894",
   "metadata": {},
   "source": [
    "Here’s another example of the kind of bug these rules catch. Consider the following C++ code, meant to manage a file descriptor. To keep things simple, we’re only going to show a constructor and a copying assignment operator, and we’re going to omit error handling:\n",
    "```\n",
    "struct File { \n",
    "    int descriptor;\n",
    "\n",
    "    File(int d) : descriptor(d) { }\n",
    "    File& operator=(const File &rhs) { \n",
    "        close(descriptor);\n",
    "        descriptor = dup(rhs.descriptor); \n",
    "        return *this;\n",
    "    } \n",
    "};\n",
    "```\n",
    "The assignment operator is simple enough, but fails badly in a situation like this:\n",
    "```\n",
    "File f(open(\"foo.txt\", ...)); ...\n",
    "f = f;\n",
    "```\n",
    "If we assign a File to itself, both rhs and *this are the same object, so operator= closes the very file descriptor it’s about to pass to dup. We destroy the same resource we were meant to copy."
   ]
  },
  {
   "cell_type": "markdown",
   "id": "59790215-cd6a-4d3c-a9c0-633d740f5898",
   "metadata": {},
   "source": [
    "In Rust, the analogous code would be:"
   ]
  },
  {
   "cell_type": "code",
   "execution_count": null,
   "id": "4fd088b6-79f8-4626-a635-d84c31531f90",
   "metadata": {},
   "outputs": [],
   "source": [
    "struct File { descriptor: i32\n",
    "}\n",
    "fn new_file(d: i32) -> File { \n",
    "    File { descriptor: d }\n",
    "}\n",
    "fn clone_from(this: &mut File, rhs: &File) { \n",
    "    close(this.descriptor);\n",
    "    this.descriptor = dup(rhs.descriptor);\n",
    "}\n",
    "\n",
    "let mut f = new_file(open(\"foo.txt\", ...)); ...\n",
    "clone_from(&mut f, &f);  // eliminate the issue with the constraint--read & write conflict"
   ]
  },
  {
   "cell_type": "markdown",
   "id": "84104479-55d1-4a85-a443-9dea697e9081",
   "metadata": {},
   "source": [
    "![image.png](asset/ch5/4.png)"
   ]
  },
  {
   "cell_type": "markdown",
   "id": "f4429d53-c0ac-4a27-8416-54ab5369bd2e",
   "metadata": {},
   "source": [
    "## Taking Arms Against a Sea of Objects\n"
   ]
  }
 ],
 "metadata": {
  "kernelspec": {
   "display_name": "Rust",
   "language": "rust",
   "name": "rust"
  },
  "language_info": {
   "codemirror_mode": "rust",
   "file_extension": ".rs",
   "mimetype": "text/rust",
   "name": "Rust",
   "pygment_lexer": "rust",
   "version": ""
  }
 },
 "nbformat": 4,
 "nbformat_minor": 5
}
