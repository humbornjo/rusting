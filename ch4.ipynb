{
 "cells": [
  {
   "cell_type": "markdown",
   "id": "d8923f3d-84dd-4c2b-9ba5-2c4f16109295",
   "metadata": {},
   "source": [
    "# Ownership and Moves\n"
   ]
  },
  {
   "cell_type": "markdown",
   "id": "25e86677-2c0d-48a9-bfd9-ca507f3956ef",
   "metadata": {},
   "source": [
    "## Ownership"
   ]
  },
  {
   "cell_type": "markdown",
   "id": "472e590f-0d5a-4f09-9de7-73e1bb3a5ee5",
   "metadata": {},
   "source": [
    "Rust’s `Box` type serves as another example of ownership. A `Box<T>` is a pointer to a value of type T stored on the heap. Calling `Box::new(v)` allocates some heap space, moves the value `v` into it, and returns a Box pointing to the heap space. Since a `Box` owns the space it points to, when the Box is dropped, it frees the space too."
   ]
  },
  {
   "cell_type": "code",
   "execution_count": 3,
   "id": "33e13875-3058-4cb5-94b5-57e6900cf398",
   "metadata": {},
   "outputs": [],
   "source": [
    "{\n",
    "    let point = Box::new((0.625, 0.5)); // point allocated here \n",
    "    let label = format!(\"{:?}\", point); // label allocated here \n",
    "    assert_eq!(label, \"(0.625, 0.5)\");\n",
    "};\n",
    "// both dropped here"
   ]
  },
  {
   "cell_type": "markdown",
   "id": "e33425a5-20f9-4d67-8dfb-3bf25bd414ac",
   "metadata": {},
   "source": [
    "Just as variables own their values, structs own their fields, and tuples, arrays, and vectors own their elements:"
   ]
  },
  {
   "cell_type": "code",
   "execution_count": 5,
   "id": "e5296565-2c9d-4f8f-b421-aeb01ab9410f",
   "metadata": {},
   "outputs": [
    {
     "name": "stdout",
     "output_type": "stream",
     "text": [
      "Palestrina, born 1525\n",
      "Dowland, born 1563\n",
      "Lully, born 1632\n"
     ]
    }
   ],
   "source": [
    "struct Person { name: String, birth: i32 }\n",
    "let mut composers: Vec<Person> = Vec::new();\n",
    "composers.push(Person { name: \"Palestrina\".to_string(),\n",
    "                        birth: 1525 });\n",
    "composers.push(Person { name: \"Dowland\".to_string(),\n",
    "                        birth: 1563 });\n",
    "composers.push(Person { name: \"Lully\".to_string(),\n",
    "                        birth: 1632 }); \n",
    "for composer in &composers {\n",
    "    println!(\"{}, born {}\", composer.name, composer.birth);\n",
    "};"
   ]
  },
  {
   "attachments": {},
   "cell_type": "markdown",
   "id": "10114efd-6af3-4ae3-84ed-7a8ad0a1e812",
   "metadata": {},
   "source": [
    "![image.png](asset/ch4/1.png)"
   ]
  },
  {
   "cell_type": "markdown",
   "id": "d2649a05-1dcd-45ca-b9d5-b02a176cca5b",
   "metadata": {},
   "source": [
    "Rust programs don’t usually explicitly drop values at all, in the way C and C++ pro‐ grams would use free and delete. The way to drop a value in Rust is to remove it from the ownership tree somehow: by leaving the scope of a variable, or deleting an element from a vector, or something of that sort. At that point, Rust ensures the value is properly dropped, along with everything it owns.\n",
    "\n",
    "In a certain sense, Rust is less powerful than other languages: every other practical programming language lets you build arbitrary graphs of objects that point to each other in whatever way you see fit. But it is exactly because Rust is less powerful that the analyses the language can carry out on your programs can be more powerful. Rust’s safety guarantees are possible exactly because the relationships it may encounter in your code are more tractable. This is part of Rust’s “radical wager” we mentioned earlier: in practice, Rust claims, there is usually more than enough flexi‐ bility in how one goes about solving a problem to ensure that at least a few perfectly fine solutions fall within the restrictions the language imposes.\n",
    "\n",
    "That said, the concept of ownership as we’ve explained it so far is still much too rigid to be useful. Rust extends this simple idea in several ways:\n",
    "* You can move values from one owner to another. This allows you to build, rearrange, and tear down the tree.\n",
    "* Very simple types like integers, floating-point numbers, and characters are excused from the ownership rules. These are called Copy types.\n",
    "* The standard library provides the reference-counted pointer types `Rc` and `Arc`, which allow values to have multiple owners, under some restrictions.\n",
    "* You can “borrow a reference” to a value; references are non-owning pointers, with limited lifetimes.\n",
    "\n",
    "Each of these strategies contributes flexibility to the ownership model, while still upholding Rust’s promises. "
   ]
  },
  {
   "cell_type": "markdown",
   "id": "6a7add30-c91b-4aad-a2dc-06bcf9d70e1e",
   "metadata": {},
   "source": [
    "## Moves\n",
    "In Rust, for most types, operations like assigning a value to a variable, passing it to a function, or returning it from a function don’t copy the value: they move it. The source relinquishes ownership of the value to the destination and becomes uninitialized; the destination now controls the value’s lifetime. Rust programs build up and tear down complex structures one value at a time, one move at a time.\n",
    "\n",
    "You may be surprised that Rust would change the meaning of such fundamental operations; surely assignment is something that should be pretty well nailed down at this point in history. However, if you look closely at how different languages have chosen to handle assignment, you’ll see that there’s actually significant variation from one school to another. The comparison also makes the meaning and consequences of Rust’s choice easier to see.\n",
    "\n",
    "Consider the following Python code:"
   ]
  },
  {
   "cell_type": "code",
   "execution_count": 9,
   "id": "f8f3b5d0-9fa7-40be-a918-d51bbcf80afb",
   "metadata": {},
   "outputs": [],
   "source": [
    "// s = ['udon', 'ramen', 'soba'] \n",
    "// t=s\n",
    "// u=s"
   ]
  },
  {
   "cell_type": "markdown",
   "id": "84869150-9904-42d7-9bac-9a0b09fdc888",
   "metadata": {},
   "source": [
    "Each Python object carries a reference count, tracking the number of values that are currently referring to it. So after the assignment to `s`, the state of the program looks like (note that some fields are left out)."
   ]
  },
  {
   "cell_type": "markdown",
   "id": "6ad61a1b-f8c2-436e-a5aa-dd4481078b4d",
   "metadata": {},
   "source": [
    "![image.png](asset/ch4/2.png)"
   ]
  },
  {
   "cell_type": "markdown",
   "id": "80afcabd-dc67-48a3-aa93-161bef00b52f",
   "metadata": {},
   "source": [
    "Since only `s` is pointing to the list, the list’s reference count is 1; and since the list is the only object pointing to the strings, each of their reference counts is also 1.\n",
    "\n",
    "What happens when the program executes the assignments to `t` and `u`? Python implements assignment simply by making the destination point to the same object as the source, and incrementing the object’s reference count. So the final state of the program is something like"
   ]
  },
  {
   "cell_type": "markdown",
   "id": "fcd49be7-b63d-4542-b20a-c7cdb3ef7940",
   "metadata": {},
   "source": [
    "![image.png](asset/ch4/3.png)"
   ]
  },
  {
   "cell_type": "markdown",
   "id": "c387fefd-7a90-4834-a840-b9461c7c0e6c",
   "metadata": {},
   "source": [
    "Python has copied the pointer from s into t and u and updated the list’s reference count to 3. Assignment in Python is cheap, but because it creates a new reference to the object, we must maintain reference counts to know when we can free the value."
   ]
  },
  {
   "cell_type": "markdown",
   "id": "86d9550c-fc39-46bd-8cc7-dde9f08794c9",
   "metadata": {},
   "source": [
    "Now consider the analogous C++ code:"
   ]
  },
  {
   "cell_type": "code",
   "execution_count": 11,
   "id": "e4e54a10-aa49-47a0-a695-a58f6812614e",
   "metadata": {},
   "outputs": [],
   "source": [
    "// using namespace std;\n",
    "// vector<string> s = { \"udon\", \"ramen\", \"soba\" }; \n",
    "// vector<string> t = s;\n",
    "// vector<string> u = s;"
   ]
  },
  {
   "cell_type": "markdown",
   "id": "8d849ac2-d5d4-4b96-bd3b-ae142563439d",
   "metadata": {},
   "source": [
    "![image.png](asset/ch4/4.png)"
   ]
  },
  {
   "cell_type": "markdown",
   "id": "a34bb387-b102-4075-9c33-ea01ad3d47aa",
   "metadata": {},
   "source": [
    "Depending on the values involved, assignment in C++ can consume unbounded amounts of memory and processor time. The advantage, however, is that it’s easy for the program to decide when to free all this memory: when the variables go out of scope, everything allocated here gets cleaned up automatically.\n",
    "\n",
    "In a sense, C++ and Python have chosen opposite trade-offs: Python makes assign‐ ment cheap, at the expense of requiring reference counting (and in the general case, garbage collection). C++ keeps the ownership of all the memory clear, at the expense of making assignment carry out a deep copy of the object. C++ programmers are often less than enthusiastic about this choice: deep copies can be expensive, and there are usually more practical alternatives.\n",
    "\n",
    "So what would the analogous program do in Rust? Here’s the code:"
   ]
  },
  {
   "cell_type": "code",
   "execution_count": 16,
   "id": "d731f0ff-2fe1-4fb9-b4a2-78cfc6172aca",
   "metadata": {},
   "outputs": [],
   "source": [
    "let s: Vec<String> = vec![\"udon\".to_string(), \"ramen\".to_string(), \"soba\".to_string()]; \n",
    "let t: Vec<String> = s;\n",
    "// let u: Vec<String> = s;"
   ]
  },
  {
   "cell_type": "markdown",
   "id": "18585a8a-e529-4e65-9a7a-e0ee20f5200b",
   "metadata": {},
   "source": [
    "![image.png](asset/ch4/5.png)"
   ]
  },
  {
   "cell_type": "markdown",
   "id": "93991d90-ca24-4591-80b6-10a155b03acc",
   "metadata": {},
   "source": [
    "What has happened here? The initialization let t = s; moved the vector’s three header fields from s to t; now t owns the vector. The vector’s elements stayed just where they were, and nothing happened to the strings either. Every value still has a single owner, although one has changed hands. There were no reference counts to be adjusted. And the compiler now considers s uninitialized.\n",
    "\n",
    "So what happens when we reach the initialization let u = s;? This would assign the uninitialized value s to u. Rust prudently prohibits using uninitialized values, so the compiler rejects this code with error:\n",
    "```Rust\n",
    "error[E0382]: use of moved value: `s`\n",
    "let s = vec![\"udon\".to_string(), \"ramen\".to_string(), \"soba\".to_string()];\n",
    "    - move occurs because `s` has type `Vec<String>`,\n",
    "      which does not implement the `Copy` trait\n",
    "let t = s;\n",
    "        - value moved here\n",
    "let u = s;\n",
    "        ^ value used here after move\n",
    "```"
   ]
  },
  {
   "cell_type": "markdown",
   "id": "9357b7fb-a66a-4b74-8ac4-ebc5052125b0",
   "metadata": {},
   "source": [
    "Consider the consequences of Rust’s use of a move here. Like Python, the assignment is cheap: the program simply moves the three-word header of the vector from one spot to another. But like C++, ownership is always clear: the program doesn’t need reference counting or garbage collection to know when to free the vector elements and string contents.\n",
    "\n",
    "The price you pay is that you must explicitly ask for copies when you want them. If you want to end up in the same state as the C++ program, with each variable holding an independent copy of the structure, you must call the vector’s clone method, which performs a deep copy of the vector and its elements:"
   ]
  },
  {
   "cell_type": "code",
   "execution_count": 31,
   "id": "bfdee443-362f-43ff-b0f9-e74ebe731d59",
   "metadata": {},
   "outputs": [],
   "source": [
    "#![allow(unused)]\n",
    "let s: Vec<String> = vec![\"udon\".to_string(), \"ramen\".to_string(), \"soba\".to_string()]; \n",
    "let t: Vec<String> = s.clone();\n",
    "let u: Vec<String> = s.clone();"
   ]
  },
  {
   "cell_type": "markdown",
   "id": "25378d54-ffb9-4877-9fe8-f4c0518cd5e7",
   "metadata": {},
   "source": [
    "### More Operations That Move\n",
    "Rust applies move semantics to almost any use of a value. Passing arguments to functions moves ownership to the function’s parameters; returning a value from a function moves ownership to the caller. Building a tuple moves the values into the tuple. And so on."
   ]
  },
  {
   "cell_type": "markdown",
   "id": "31634de8-3b6a-4034-bf99-dcce698268af",
   "metadata": {},
   "source": [
    "You may now have better insight into what’s really going on in the examples we offered in the previous section. For example, when we were constructing our vector of composers, we wrote:\n",
    "```Rust\n",
    "struct Person { name: String, birth: i32 }\n",
    "let mut composers = Vec::new();\n",
    "composers.push(Person { name: \"Palestrina\".to_string(),\n",
    "                        birth: 1525 });\n",
    "```\n",
    "This code shows several places at which moves occur, beyond initialization and assignment:\n",
    "\n",
    "**Returning values from a function:** \n",
    "The call Vec::new() constructs a new vector and returns, not a pointer to the vector, but the vector itself: its ownership moves from Vec::new to the variable composers. Similarly, the to_string call returns a fresh String instance.\n",
    "\n",
    "**Constructing new values:** \n",
    "The name field of the new Person structure is initialized with the return value of to_string. The structure takes ownership of the string.\n",
    "\n",
    "**Passing values to a function:** \n",
    "The entire Person structure, not a pointer to it, is passed to the vector’s push method, which moves it onto the end of the structure. The vector takes owner‐ ship of the Person and thus becomes the indirect owner of the name String as well.\n",
    "\n",
    "Moving values around like this may sound inefficient, but there are two things to keep in mind. First, the moves always apply to the value proper, not the heap storage they own. For vectors and strings, the value proper is the three-word header alone; the potentially large element arrays and text buffers sit where they are in the heap. Sec‐ ond, the Rust compiler’s code generation is good at “seeing through” all these moves; in practice, the machine code often stores the value directly where it belongs.\n"
   ]
  },
  {
   "cell_type": "markdown",
   "id": "987982c7-af92-48ee-86f4-5c8c3d6982bc",
   "metadata": {},
   "source": [
    "### Moves and Indexed Content\n",
    "We’ve mentioned that a move leaves its source uninitialized, as the destination takes ownership of the value. But not every kind of value owner is prepared to become uninitialized. For example, consider the following code:"
   ]
  },
  {
   "cell_type": "code",
   "execution_count": 21,
   "id": "1dd7b980-d9f7-4310-b47c-709ed65f7b10",
   "metadata": {},
   "outputs": [
    {
     "ename": "Error",
     "evalue": "cannot move out of index of `Vec<String>`",
     "output_type": "error",
     "traceback": [
      "\u001b[31m[E0507] Error:\u001b[0m cannot move out of index of `Vec<String>`",
      "   \u001b[38;5;246m╭\u001b[0m\u001b[38;5;246m─\u001b[0m\u001b[38;5;246m[\u001b[0mcommand_21:1:1\u001b[38;5;246m]\u001b[0m",
      "   \u001b[38;5;246m│\u001b[0m",
      " \u001b[38;5;246m7 │\u001b[0m \u001b[38;5;249ml\u001b[0m\u001b[38;5;249me\u001b[0m\u001b[38;5;249mt\u001b[0m\u001b[38;5;249m \u001b[0m\u001b[38;5;249mt\u001b[0m\u001b[38;5;249mh\u001b[0m\u001b[38;5;249mi\u001b[0m\u001b[38;5;249mr\u001b[0m\u001b[38;5;249md\u001b[0m\u001b[38;5;249m:\u001b[0m\u001b[38;5;249m \u001b[0m\u001b[38;5;249mS\u001b[0m\u001b[38;5;249mt\u001b[0m\u001b[38;5;249mr\u001b[0m\u001b[38;5;249mi\u001b[0m\u001b[38;5;249mn\u001b[0m\u001b[38;5;249mg\u001b[0m\u001b[38;5;249m \u001b[0m\u001b[38;5;249m=\u001b[0m\u001b[38;5;249m \u001b[0m\u001b[38;5;54mv\u001b[0m\u001b[38;5;54m[\u001b[0m\u001b[38;5;54m2\u001b[0m\u001b[38;5;54m]\u001b[0m\u001b[38;5;249m;\u001b[0m\u001b[38;5;249m \u001b[0m\u001b[38;5;249m/\u001b[0m\u001b[38;5;249m/\u001b[0m\u001b[38;5;249m \u001b[0m\u001b[38;5;249me\u001b[0m\u001b[38;5;249mr\u001b[0m\u001b[38;5;249mr\u001b[0m\u001b[38;5;249mo\u001b[0m\u001b[38;5;249mr\u001b[0m\u001b[38;5;249m:\u001b[0m\u001b[38;5;249m \u001b[0m\u001b[38;5;249mC\u001b[0m\u001b[38;5;249ma\u001b[0m\u001b[38;5;249mn\u001b[0m\u001b[38;5;249mn\u001b[0m\u001b[38;5;249mo\u001b[0m\u001b[38;5;249mt\u001b[0m\u001b[38;5;249m \u001b[0m\u001b[38;5;249mm\u001b[0m\u001b[38;5;249mo\u001b[0m\u001b[38;5;249mv\u001b[0m\u001b[38;5;249me\u001b[0m\u001b[38;5;249m \u001b[0m\u001b[38;5;249mo\u001b[0m\u001b[38;5;249mu\u001b[0m\u001b[38;5;249mt\u001b[0m\u001b[38;5;249m \u001b[0m\u001b[38;5;249mo\u001b[0m\u001b[38;5;249mf\u001b[0m\u001b[38;5;249m \u001b[0m\u001b[38;5;249mi\u001b[0m\u001b[38;5;249mn\u001b[0m\u001b[38;5;249md\u001b[0m\u001b[38;5;249me\u001b[0m\u001b[38;5;249mx\u001b[0m\u001b[38;5;249m \u001b[0m\u001b[38;5;249mo\u001b[0m\u001b[38;5;249mf\u001b[0m\u001b[38;5;249m \u001b[0m\u001b[38;5;249mV\u001b[0m\u001b[38;5;249me\u001b[0m\u001b[38;5;249mc\u001b[0m",
      " \u001b[38;5;240m  │\u001b[0m                     \u001b[38;5;100m┬\u001b[0m\u001b[38;5;54m─\u001b[0m\u001b[38;5;54m┬\u001b[0m\u001b[38;5;54m─\u001b[0m  ",
      " \u001b[38;5;240m  │\u001b[0m                     \u001b[38;5;100m╰\u001b[0m\u001b[38;5;100m─\u001b[0m\u001b[38;5;100m─\u001b[0m\u001b[38;5;100m─\u001b[0m\u001b[38;5;100m─\u001b[0m\u001b[38;5;100m─\u001b[0m help: consider borrowing here: `&`",
      " \u001b[38;5;240m  │\u001b[0m                       \u001b[38;5;54m│\u001b[0m   ",
      " \u001b[38;5;240m  │\u001b[0m                       \u001b[38;5;54m╰\u001b[0m\u001b[38;5;54m─\u001b[0m\u001b[38;5;54m─\u001b[0m\u001b[38;5;54m─\u001b[0m move occurs because value has type `String`, which does not implement the `Copy` trait",
      "\u001b[38;5;246m───╯\u001b[0m"
     ]
    },
    {
     "ename": "Error",
     "evalue": "cannot move out of index of `Vec<String>`",
     "output_type": "error",
     "traceback": [
      "\u001b[31m[E0507] Error:\u001b[0m cannot move out of index of `Vec<String>`",
      "   \u001b[38;5;246m╭\u001b[0m\u001b[38;5;246m─\u001b[0m\u001b[38;5;246m[\u001b[0mcommand_21:1:1\u001b[38;5;246m]\u001b[0m",
      "   \u001b[38;5;246m│\u001b[0m",
      " \u001b[38;5;246m8 │\u001b[0m \u001b[38;5;249ml\u001b[0m\u001b[38;5;249me\u001b[0m\u001b[38;5;249mt\u001b[0m\u001b[38;5;249m \u001b[0m\u001b[38;5;249mf\u001b[0m\u001b[38;5;249mi\u001b[0m\u001b[38;5;249mf\u001b[0m\u001b[38;5;249mt\u001b[0m\u001b[38;5;249mh\u001b[0m\u001b[38;5;249m:\u001b[0m\u001b[38;5;249m \u001b[0m\u001b[38;5;249mS\u001b[0m\u001b[38;5;249mt\u001b[0m\u001b[38;5;249mr\u001b[0m\u001b[38;5;249mi\u001b[0m\u001b[38;5;249mn\u001b[0m\u001b[38;5;249mg\u001b[0m\u001b[38;5;249m \u001b[0m\u001b[38;5;249m=\u001b[0m\u001b[38;5;249m \u001b[0m\u001b[38;5;54mv\u001b[0m\u001b[38;5;54m[\u001b[0m\u001b[38;5;54m4\u001b[0m\u001b[38;5;54m]\u001b[0m\u001b[38;5;249m;\u001b[0m\u001b[38;5;249m \u001b[0m\u001b[38;5;249m/\u001b[0m\u001b[38;5;249m/\u001b[0m\u001b[38;5;249m \u001b[0m\u001b[38;5;249mh\u001b[0m\u001b[38;5;249me\u001b[0m\u001b[38;5;249mr\u001b[0m\u001b[38;5;249me\u001b[0m\u001b[38;5;249m \u001b[0m\u001b[38;5;249mt\u001b[0m\u001b[38;5;249mo\u001b[0m\u001b[38;5;249mo\u001b[0m",
      " \u001b[38;5;240m  │\u001b[0m                     \u001b[38;5;100m┬\u001b[0m\u001b[38;5;54m─\u001b[0m\u001b[38;5;54m┬\u001b[0m\u001b[38;5;54m─\u001b[0m  ",
      " \u001b[38;5;240m  │\u001b[0m                     \u001b[38;5;100m╰\u001b[0m\u001b[38;5;100m─\u001b[0m\u001b[38;5;100m─\u001b[0m\u001b[38;5;100m─\u001b[0m\u001b[38;5;100m─\u001b[0m\u001b[38;5;100m─\u001b[0m help: consider borrowing here: `&`",
      " \u001b[38;5;240m  │\u001b[0m                       \u001b[38;5;54m│\u001b[0m   ",
      " \u001b[38;5;240m  │\u001b[0m                       \u001b[38;5;54m╰\u001b[0m\u001b[38;5;54m─\u001b[0m\u001b[38;5;54m─\u001b[0m\u001b[38;5;54m─\u001b[0m move occurs because value has type `String`, which does not implement the `Copy` trait",
      "\u001b[38;5;246m───╯\u001b[0m"
     ]
    }
   ],
   "source": [
    "// Build a vector of the strings \"101\", \"102\", ... \"105\"\n",
    "let mut v: Vec<String> = Vec::new(); \n",
    "for i in 101..106{\n",
    "    v.push(i.to_string());\n",
    "}\n",
    "// Pull out random elements from the vector.\n",
    "let third: String = v[2]; // error: Cannot move out of index of Vec \n",
    "let fifth: String = v[4]; // here too"
   ]
  },
  {
   "cell_type": "markdown",
   "id": "49336579-7315-41c4-b05c-d740393d33ff",
   "metadata": {},
   "source": [
    "For this to work, Rust would somehow need to remember that the third and fifth elements of the vector have become uninitialized, and track that information until the vector is dropped. In the most general case, vectors would need to carry around extra information with them to indicate which elements are live and which have become uninitialized. That is clearly not the right behavior for a systems programming language; a vector should be nothing but a vector."
   ]
  },
  {
   "cell_type": "markdown",
   "id": "f2424690-f22f-4393-b44f-3dedad3a13b7",
   "metadata": {},
   "source": [
    "It also makes a similar complaint about the move to fifth. In the error message, Rust suggests using a reference, in case you want to access the element without moving it. This is often what you want. But what if you really do want to move an element out of a vector? You need to find a method that does so in a way that respects the limitations of the type. Here are three possibilities:"
   ]
  },
  {
   "cell_type": "code",
   "execution_count": 34,
   "id": "7f742d22-74a0-497e-b8bc-e3b6b8b5ad63",
   "metadata": {},
   "outputs": [],
   "source": [
    "// Build a vector of the strings \"101\", \"102\", ... \"105\"\n",
    "let mut v: Vec<String> = Vec::new(); \n",
    "for i in 101..=105{\n",
    "    v.push(i.to_string());\n",
    "}\n",
    "// 1. Pop a value off the end of the vector:\n",
    "let fifth: String = v.pop().expect(\"vector empty!\"); \n",
    "assert_eq!(fifth, \"105\");\n",
    "\n",
    "// 2. Move a value out of a given index in the vector, \n",
    "// and move the last element into its spot:\n",
    "let second: String = v.swap_remove(1);\n",
    "assert_eq!(second, \"102\");\n",
    "\n",
    "// 3. Swap in another value for the one we're taking out:\n",
    "let third: String = std::mem::replace(&mut v[2], \"substitute\".to_string()); \n",
    "assert_eq!(third, \"103\");\n",
    "// Let's see what's left of our vector.\n",
    "assert_eq!(v, vec![\"101\", \"104\", \"substitute\"]);"
   ]
  },
  {
   "cell_type": "markdown",
   "id": "2803e06a-b087-46d6-9029-57b084fd4d39",
   "metadata": {},
   "source": [
    "Each one of these methods moves an element out of the vector, but does so in a way\n",
    "that leaves the vector in a state that is fully populated, if perhaps smaller.\n",
    "\n",
    "Collection types like Vec also generally offer methods to consume all their elements in a loop:"
   ]
  },
  {
   "cell_type": "code",
   "execution_count": 39,
   "id": "62bcaa92-33e3-4ba7-96f8-6bc746d01a1c",
   "metadata": {},
   "outputs": [
    {
     "name": "stdout",
     "output_type": "stream",
     "text": [
      "liberté!\n",
      "égalité!\n",
      "fraternité!\n"
     ]
    }
   ],
   "source": [
    "let v: Vec<String> = vec![\"liberté\".to_string(), \n",
    "             \"égalité\".to_string(),\n",
    "             \"fraternité\".to_string()];\n",
    "for mut s in v { \n",
    "    s.push('!');\n",
    "    println!(\"{}\", s);\n",
    "};\n",
    "// try uncomment below\n",
    "// for s in v { \n",
    "//     println!(\"{}\", s);\n",
    "// };"
   ]
  },
  {
   "cell_type": "markdown",
   "id": "75d18546-5778-4aec-b014-029c8ab1b9ef",
   "metadata": {},
   "source": [
    "If you do find yourself needing to move a value out of an owner that the compiler can’t track, you might consider changing the owner’s type to something that can dynamically track whether it has a value or not. For example, here’s a variant on the earlier example:"
   ]
  },
  {
   "cell_type": "code",
   "execution_count": 43,
   "id": "f91593af-90f1-4a06-b376-e5ad248de492",
   "metadata": {},
   "outputs": [],
   "source": [
    "struct Person { name: Option<String>, birth: i32 }\n",
    "let mut composers: Vec<Person> = Vec::new();\n",
    "composers.push(Person { name: Some(\"Palestrina\".to_string()),\n",
    "                            birth: 1525 });\n",
    "\n",
    "// You can’t do this:\n",
    "// let first_name = composers[0].name;\n",
    "\n",
    "// this works:\n",
    "let first_name: Option<String> = std::mem::replace(&mut composers[0].name, None); \n",
    "assert_eq!(first_name, Some(\"Palestrina\".to_string())); \n",
    "assert_eq!(composers[0].name, None);"
   ]
  },
  {
   "cell_type": "markdown",
   "id": "96318559-466c-458e-b1eb-d5348b43ee65",
   "metadata": {},
   "source": [
    "The `replace` call moves out the value of `composers[0].name`, leaving None in its place, and passes ownership of the original value to its caller. In fact, using Option this way is common enough that the type provides a take method for this very purpose. You could write the preceding manipulation more legibly as follows:"
   ]
  },
  {
   "cell_type": "code",
   "execution_count": 44,
   "id": "c8e47ea7-c101-42fb-87b1-c4a97e68d702",
   "metadata": {},
   "outputs": [],
   "source": [
    "struct Person { name: Option<String>, birth: i32 }\n",
    "let mut composers: Vec<Person> = Vec::new();\n",
    "composers.push(Person { name: Some(\"Palestrina\".to_string()),\n",
    "                            birth: 1525 });\n",
    "let first_name: Option<String> = composers[0].name.take();\n",
    "assert_eq!(composers[0].name, None);"
   ]
  },
  {
   "cell_type": "markdown",
   "id": "def10471-8961-4683-ab97-b16a4e4d70c8",
   "metadata": {},
   "source": [
    "## Copy Types: The Exception to Moves\n",
    "The examples we’ve shown so far of values being moved involve vectors, strings, and other types that could potentially use a lot of memory and be expensive to copy. Moves keep ownership of such types clear and assignment cheap. But for simpler types like integers or characters, this sort of careful handling really isn’t necessary.\n",
    "\n",
    "Compare what happens in memory when we assign a String with what happens when we assign an i32 value:\n",
    "```Rust\n",
    "let string1 = \"somnambulance\".to_string(); \n",
    "let string2 = string1;\n",
    "let num1: i32 = 36; \n",
    "let num2 = num1;\n",
    "```"
   ]
  },
  {
   "cell_type": "markdown",
   "id": "848a5b1d-6345-404f-ba9d-1895fe48ff54",
   "metadata": {},
   "source": [
    "![image.png](asset/ch4/6.png)"
   ]
  },
  {
   "cell_type": "markdown",
   "id": "7c3c142c-becc-4869-8bb7-838173aef43f",
   "metadata": {},
   "source": [
    "The standard `Copy` types include all the machine integer and floating-point numeric types, the char and bool types, and a few others. A tuple or fixed-size array of Copy types is itself a `Copy` type.\n",
    "\n",
    "Only types for which a simple bit-for-bit copy suffices can be Copy. As we’ve already explained, `String` is not a `Copy` type, because it owns a heap-allocated buffer. For similar reasons, `Box<T>` is not `Copy`; it owns its heap-allocated referent. The `File` type, representing an operating system file handle, is not `Copy`; duplicating such a value would entail asking the operating system for another file handle. Similarly, the `MutexGuard` type, representing a locked mutex, isn’t `Copy`: this type isn’t meaningful to copy at all, as only one thread may hold a mutex at a time.\n",
    "\n",
    "As a rule of thumb, any type that needs to do something special when a value is dropped cannot be Copy: a Vec needs to free its elements, a File needs to close its file handle, a `MutexGuard` needs to unlock its mutex, and so on. Bit-for-bit duplication of such types would leave it unclear which value was now responsible for the original’s resources.\n",
    "\n",
    "What about types you define yourself? By default, `struct` and `enum` types are not Copy:"
   ]
  },
  {
   "cell_type": "code",
   "execution_count": 46,
   "id": "adcbe04d-7f53-4f53-8f1e-b4522ccb0ffb",
   "metadata": {},
   "outputs": [
    {
     "ename": "Error",
     "evalue": "borrow of moved value: `l`",
     "output_type": "error",
     "traceback": [
      "\u001b[31m[E0382] Error:\u001b[0m borrow of moved value: `l`",
      "   \u001b[38;5;246m╭\u001b[0m\u001b[38;5;246m─\u001b[0m\u001b[38;5;246m[\u001b[0mcommand_46:1:1\u001b[38;5;246m]\u001b[0m",
      "   \u001b[38;5;246m│\u001b[0m",
      " \u001b[38;5;246m3 │\u001b[0m \u001b[38;5;249ml\u001b[0m\u001b[38;5;249me\u001b[0m\u001b[38;5;249mt\u001b[0m\u001b[38;5;249m \u001b[0m\u001b[38;5;68ml\u001b[0m\u001b[38;5;249m \u001b[0m\u001b[38;5;249m=\u001b[0m\u001b[38;5;249m \u001b[0m\u001b[38;5;249mL\u001b[0m\u001b[38;5;249ma\u001b[0m\u001b[38;5;249mb\u001b[0m\u001b[38;5;249me\u001b[0m\u001b[38;5;249ml\u001b[0m\u001b[38;5;249m \u001b[0m\u001b[38;5;249m{\u001b[0m\u001b[38;5;249mn\u001b[0m\u001b[38;5;249mu\u001b[0m\u001b[38;5;249mm\u001b[0m\u001b[38;5;249mb\u001b[0m\u001b[38;5;249me\u001b[0m\u001b[38;5;249mr\u001b[0m\u001b[38;5;249m:\u001b[0m\u001b[38;5;249m \u001b[0m\u001b[38;5;249m3\u001b[0m\u001b[38;5;249m}\u001b[0m\u001b[38;5;249m;\u001b[0m",
      " \u001b[38;5;240m  │\u001b[0m     \u001b[38;5;68m┬\u001b[0m  ",
      " \u001b[38;5;240m  │\u001b[0m     \u001b[38;5;68m╰\u001b[0m\u001b[38;5;68m─\u001b[0m\u001b[38;5;68m─\u001b[0m move occurs because `l` has type `Label`, which does not implement the `Copy` trait",
      " \u001b[38;5;246m4 │\u001b[0m \u001b[38;5;249mp\u001b[0m\u001b[38;5;249mr\u001b[0m\u001b[38;5;249mi\u001b[0m\u001b[38;5;249mn\u001b[0m\u001b[38;5;249mt\u001b[0m\u001b[38;5;249m(\u001b[0m\u001b[38;5;54ml\u001b[0m\u001b[38;5;249m)\u001b[0m\u001b[38;5;249m;\u001b[0m",
      " \u001b[38;5;240m  │\u001b[0m       \u001b[38;5;54m┬\u001b[0m  ",
      " \u001b[38;5;240m  │\u001b[0m       \u001b[38;5;54m╰\u001b[0m\u001b[38;5;54m─\u001b[0m\u001b[38;5;54m─\u001b[0m value moved here",
      " \u001b[38;5;246m5 │\u001b[0m \u001b[38;5;249mp\u001b[0m\u001b[38;5;249mr\u001b[0m\u001b[38;5;249mi\u001b[0m\u001b[38;5;249mn\u001b[0m\u001b[38;5;249mt\u001b[0m\u001b[38;5;249ml\u001b[0m\u001b[38;5;249mn\u001b[0m\u001b[38;5;249m!\u001b[0m\u001b[38;5;249m(\u001b[0m\u001b[38;5;249m\"\u001b[0m\u001b[38;5;249mM\u001b[0m\u001b[38;5;249my\u001b[0m\u001b[38;5;249m \u001b[0m\u001b[38;5;249ml\u001b[0m\u001b[38;5;249ma\u001b[0m\u001b[38;5;249mb\u001b[0m\u001b[38;5;249me\u001b[0m\u001b[38;5;249ml\u001b[0m\u001b[38;5;249m \u001b[0m\u001b[38;5;249mn\u001b[0m\u001b[38;5;249mu\u001b[0m\u001b[38;5;249mm\u001b[0m\u001b[38;5;249mb\u001b[0m\u001b[38;5;249me\u001b[0m\u001b[38;5;249mr\u001b[0m\u001b[38;5;249m \u001b[0m\u001b[38;5;249mi\u001b[0m\u001b[38;5;249ms\u001b[0m\u001b[38;5;249m:\u001b[0m\u001b[38;5;249m \u001b[0m\u001b[38;5;249m{\u001b[0m\u001b[38;5;249m}\u001b[0m\u001b[38;5;249m\"\u001b[0m\u001b[38;5;249m,\u001b[0m\u001b[38;5;249m \u001b[0m\u001b[38;5;100ml\u001b[0m\u001b[38;5;100m.\u001b[0m\u001b[38;5;100mn\u001b[0m\u001b[38;5;100mu\u001b[0m\u001b[38;5;100mm\u001b[0m\u001b[38;5;100mb\u001b[0m\u001b[38;5;100me\u001b[0m\u001b[38;5;100mr\u001b[0m\u001b[38;5;249m)\u001b[0m\u001b[38;5;249m;\u001b[0m",
      " \u001b[38;5;240m  │\u001b[0m                                    \u001b[38;5;100m─\u001b[0m\u001b[38;5;100m─\u001b[0m\u001b[38;5;100m─\u001b[0m\u001b[38;5;100m─\u001b[0m\u001b[38;5;100m┬\u001b[0m\u001b[38;5;100m─\u001b[0m\u001b[38;5;100m─\u001b[0m\u001b[38;5;100m─\u001b[0m  ",
      " \u001b[38;5;240m  │\u001b[0m                                        \u001b[38;5;100m╰\u001b[0m\u001b[38;5;100m─\u001b[0m\u001b[38;5;100m─\u001b[0m\u001b[38;5;100m─\u001b[0m\u001b[38;5;100m─\u001b[0m\u001b[38;5;100m─\u001b[0m value borrowed here after move",
      "\u001b[38;5;246m───╯\u001b[0m"
     ]
    }
   ],
   "source": [
    "struct Label { number: u32 }\n",
    "fn print(l: Label) { println!(\"STAMP: {}\", l.number); }\n",
    "let l = Label {number: 3};\n",
    "print(l);\n",
    "println!(\"My label number is: {}\", l.number);"
   ]
  },
  {
   "cell_type": "markdown",
   "id": "305a8385-17be-4e94-8f64-d788102c5e0f",
   "metadata": {},
   "source": [
    "Since `Label` is not Copy, passing it to print moved ownership of the value to the print function, which then dropped it before returning. But this is silly; a Label is nothing but a `u32` with pretensions. There’s no reason passing `l` to print should move the value.\n",
    "\n",
    "But user-defined types being non-Copy is only the default. If all the fields of your struct are themselves `Copy`, then you can make the type `Copy` as well by placing the attribute `#[derive(Copy, Clone)]` above the definition, like so:"
   ]
  },
  {
   "cell_type": "code",
   "execution_count": 47,
   "id": "6d3ac4d1-6b13-4da2-ade2-21795312b664",
   "metadata": {},
   "outputs": [
    {
     "name": "stdout",
     "output_type": "stream",
     "text": [
      "STAMP: 3\n",
      "My label number is: 3\n"
     ]
    }
   ],
   "source": [
    "#[derive(Copy, Clone)]\n",
    "struct Label { number: u32 }\n",
    "fn print(l: Label) { println!(\"STAMP: {}\", l.number); }\n",
    "let l = Label {number: 3};\n",
    "print(l);\n",
    "println!(\"My label number is: {}\", l.number);"
   ]
  },
  {
   "cell_type": "markdown",
   "id": "97b2dcdc-b2f9-4eed-ba04-e198b63e9202",
   "metadata": {},
   "source": [
    "With this change, the preceding code compiles without complaint. However, if we try this on a type whose fields are not all `Copy`, it doesn’t work."
   ]
  },
  {
   "cell_type": "markdown",
   "id": "733adaf6-2d72-4c56-9fb0-9ebd062f407c",
   "metadata": {},
   "source": [
    "Why aren’t user-defined types automatically Copy, assuming they’re eligible? Whether a type is Copy or not has a big effect on how code is allowed to use it: Copy types are more flexible, since assignment and related operations don’t leave the original unini‐ tialized. But for a type’s implementer, the opposite is true: Copy types are very limited in which types they can contain, whereas non-Copy types can use heap allocation and own other sorts of resources. So making a type Copy represents a serious commitment on the part of the implementer: if it’s necessary to change it to non-Copy later, much of the code that uses it will probably need to be adapted.\n",
    "\n",
    "While C++ lets you overload assignment operators and define specialized copy and move constructors, Rust doesn’t permit this sort of customization. In Rust, every move is a byte-for-byte, shallow copy that leaves the source uninitialized. Copies are the same, except that the source remains initialized. This does mean that C++ classes can provide convenient interfaces that Rust types cannot, where ordinary-looking code implicitly adjusts reference counts, puts off expensive copies for later, or uses other sophisticated implementation tricks.\n",
    "\n",
    "But the effect of this flexibility on C++ as a language is to make basic operations like assignment, passing parameters, and returning values from functions less predictable. For example, earlier in this chapter we showed how assigning one variable to another in C++ can require arbitrary amounts of memory and processor time. One of Rust’s principles is that costs should be apparent to the programmer. Basic operations must remain simple. Potentially expensive operations should be explicit, like the calls to clone in the earlier example that make deep copies of vectors and the strings they contain."
   ]
  },
  {
   "cell_type": "markdown",
   "id": "15840638-d608-417b-ab63-06f2c28aa731",
   "metadata": {},
   "source": [
    "## Rc and Arc: Shared Ownership\n",
    "The `Rc` and `Arc` types are very similar; the only difference between them is that an `Arc` is safe to share between threads directly—the name `Arc` is short for atomic reference count—whereas a plain `Rc` uses faster non-thread-safe code to update its reference count. If you don’t need to share the pointers between threads, there’s no reason to pay the performance penalty of an `Arc`, so you should use `Rc`; Rust will prevent you from accidentally passing one across a thread boundary. The two types are otherwise equivalent, so for the rest of this section, we’ll only talk about Rc.\n",
    "\n",
    "Earlier we showed how Python uses reference counts to manage its values’ lifetimes. You can use `Rc` to get a similar effect in Rust. Consider the following code:"
   ]
  },
  {
   "cell_type": "code",
   "execution_count": 48,
   "id": "fc279291-ed04-4c4a-9c73-60b38d27bc9e",
   "metadata": {},
   "outputs": [],
   "source": [
    "use std::rc::Rc;\n",
    "// Rust can infer all these types; written out for clarity\n",
    "let s: Rc<String> = Rc::new(\"shirataki\".to_string()); \n",
    "let t: Rc<String> = s.clone();\n",
    "let u: Rc<String> = s.clone();"
   ]
  },
  {
   "cell_type": "markdown",
   "id": "48496e60-c375-4ac4-94cb-fb8cbbb50104",
   "metadata": {},
   "source": [
    "For any type `T`, an `Rc<T>` value is a pointer to a heap-allocated `T` that has had a reference count affixed to it. Cloning an `Rc<T>` value does not copy the `T`; instead, it simply creates another pointer to it and increments the reference count."
   ]
  },
  {
   "cell_type": "markdown",
   "id": "5ddcd779-e77f-4a2a-a3a4-eab8872f6310",
   "metadata": {},
   "source": [
    "![image.png](asset/ch4/7.png)"
   ]
  },
  {
   "cell_type": "markdown",
   "id": "7f1567e2-c1a4-40a8-b6dd-344b3ff18b15",
   "metadata": {},
   "source": [
    "Each of the three `Rc<String>` pointers is referring to the same block of memory, which holds a reference count and space for the `String`. The usual ownership rules apply to the Rc pointers themselves, and when the last extant Rc is dropped, Rust drops the `String` as well.\n",
    "You can use any of `String`’s usual methods directly on an `Rc<String>`:"
   ]
  },
  {
   "cell_type": "code",
   "execution_count": 49,
   "id": "d996a237-1165-4cdb-9f7b-3aef676faf0c",
   "metadata": {},
   "outputs": [
    {
     "name": "stdout",
     "output_type": "stream",
     "text": [
      "shirataki are quite chewy, almost bouncy, but lack flavor\n"
     ]
    }
   ],
   "source": [
    "assert!(s.contains(\"shira\"));\n",
    "assert_eq!(t.find(\"taki\"), Some(5));\n",
    "println!(\"{} are quite chewy, almost bouncy, but lack flavor\", u);"
   ]
  },
  {
   "cell_type": "markdown",
   "id": "36a0685e-7547-4b29-bde6-331335e1f069",
   "metadata": {},
   "source": [
    "A value owned by an `Rc` pointer is immutable. Suppose you try to add some text to the end of the string:"
   ]
  },
  {
   "cell_type": "code",
   "execution_count": 50,
   "id": "42e078c5-8b06-4aa1-808c-dc1ddbc63107",
   "metadata": {},
   "outputs": [
    {
     "ename": "Error",
     "evalue": "cannot borrow data in an `Rc` as mutable",
     "output_type": "error",
     "traceback": [
      "\u001b[31m[E0596] Error:\u001b[0m cannot borrow data in an `Rc` as mutable",
      "   \u001b[38;5;246m╭\u001b[0m\u001b[38;5;246m─\u001b[0m\u001b[38;5;246m[\u001b[0mcommand_50:1:1\u001b[38;5;246m]\u001b[0m",
      "   \u001b[38;5;246m│\u001b[0m",
      " \u001b[38;5;246m1 │\u001b[0m \u001b[38;5;54ms\u001b[0m\u001b[38;5;54m.\u001b[0m\u001b[38;5;54mp\u001b[0m\u001b[38;5;54mu\u001b[0m\u001b[38;5;54ms\u001b[0m\u001b[38;5;54mh\u001b[0m\u001b[38;5;54m_\u001b[0m\u001b[38;5;54ms\u001b[0m\u001b[38;5;54mt\u001b[0m\u001b[38;5;54mr\u001b[0m\u001b[38;5;54m(\u001b[0m\u001b[38;5;54m\"\u001b[0m\u001b[38;5;54m \u001b[0m\u001b[38;5;54mn\u001b[0m\u001b[38;5;54mo\u001b[0m\u001b[38;5;54mo\u001b[0m\u001b[38;5;54md\u001b[0m\u001b[38;5;54ml\u001b[0m\u001b[38;5;54me\u001b[0m\u001b[38;5;54ms\u001b[0m\u001b[38;5;54m\"\u001b[0m\u001b[38;5;54m)\u001b[0m\u001b[38;5;249m;\u001b[0m",
      " \u001b[38;5;240m  │\u001b[0m \u001b[38;5;54m─\u001b[0m\u001b[38;5;54m─\u001b[0m\u001b[38;5;54m─\u001b[0m\u001b[38;5;54m─\u001b[0m\u001b[38;5;54m─\u001b[0m\u001b[38;5;54m─\u001b[0m\u001b[38;5;54m─\u001b[0m\u001b[38;5;54m─\u001b[0m\u001b[38;5;54m─\u001b[0m\u001b[38;5;54m─\u001b[0m\u001b[38;5;54m─\u001b[0m\u001b[38;5;54m┬\u001b[0m\u001b[38;5;54m─\u001b[0m\u001b[38;5;54m─\u001b[0m\u001b[38;5;54m─\u001b[0m\u001b[38;5;54m─\u001b[0m\u001b[38;5;54m─\u001b[0m\u001b[38;5;54m─\u001b[0m\u001b[38;5;54m─\u001b[0m\u001b[38;5;54m─\u001b[0m\u001b[38;5;54m─\u001b[0m\u001b[38;5;54m─\u001b[0m  ",
      " \u001b[38;5;240m  │\u001b[0m            \u001b[38;5;54m╰\u001b[0m\u001b[38;5;54m─\u001b[0m\u001b[38;5;54m─\u001b[0m\u001b[38;5;54m─\u001b[0m\u001b[38;5;54m─\u001b[0m\u001b[38;5;54m─\u001b[0m\u001b[38;5;54m─\u001b[0m\u001b[38;5;54m─\u001b[0m\u001b[38;5;54m─\u001b[0m\u001b[38;5;54m─\u001b[0m\u001b[38;5;54m─\u001b[0m\u001b[38;5;54m─\u001b[0m\u001b[38;5;54m─\u001b[0m cannot borrow as mutable",
      " \u001b[38;5;240m  │\u001b[0m ",
      " \u001b[38;5;240m  │\u001b[0m \u001b[38;5;115mNote\u001b[0m: You can change an existing variable to mutable like: `let mut x = x;`",
      "\u001b[38;5;246m───╯\u001b[0m"
     ]
    }
   ],
   "source": [
    "s.push_str(\" noodles\");"
   ]
  },
  {
   "cell_type": "markdown",
   "id": "ce063ee3-71a6-44f3-a17a-dbb3a730f315",
   "metadata": {},
   "source": [
    "Rust’s memory and thread-safety guarantees depend on ensuring that no value is ever simultaneously shared and mutable. Rust assumes the referent of an `Rc` pointer might in general be shared, so it must not be mutable."
   ]
  },
  {
   "cell_type": "markdown",
   "id": "cea7b34f-5b5c-471b-8484-7d3007a33693",
   "metadata": {},
   "source": [
    "One well-known problem with using reference counts to manage memory is that, if there are ever two reference-counted values that point to each other, each will hold the other’s reference count above zero, so the values will never be freed"
   ]
  },
  {
   "cell_type": "markdown",
   "id": "98213592-af28-4b99-aa13-5bf02f7849ef",
   "metadata": {},
   "source": [
    "![image.png](asset/ch4/8.png)"
   ]
  },
  {
   "cell_type": "markdown",
   "id": "6712a917-1829-496f-b7c0-495743e93f9d",
   "metadata": {},
   "source": [
    "It is possible to leak values in Rust this way, but such situations are rare. You cannot create a cycle without, at some point, making an older value point to a newer value. This obviously requires the older value to be mutable. Since `Rc` pointers hold their referents immutable, it’s not normally possible to create a cycle.\n",
    "\n",
    "这段话如何理解：Rust不允许未初始化的值，也就是说，old的对象指向的一定是一个已存在的值（更old的对象），也就是上图中从右向左的指针是可以存在的（认为左边的对象是更old的）。但是想要构成循环引用，就需要让old的对象的指针指向新的对象，但是此时old的指针已经指向了更old的对象了；已知Rc指针是immutable的，所以原则来说，在Rust的规则下，循环引用不可能存在。"
   ]
  },
  {
   "cell_type": "markdown",
   "id": "4a8e33c3-8844-4b39-9d27-2fd9ed7b843a",
   "metadata": {},
   "source": [
    "However, Rust does provide ways to create mutable portions of otherwise immutable values; this is called _interior mutability_, and we cover it in “Interior Mutability” on page 225. If you com‐ bine those techniques with Rc pointers, you can create a cycle and leak memory.\n",
    "\n",
    "You can sometimes avoid creating cycles of Rc pointers by using weak pointers, `std::rc::Weak`, for some of the links instead. However, we won’t cover those in this book; see the standard library’s documentation for details."
   ]
  },
  {
   "cell_type": "code",
   "execution_count": null,
   "id": "4d3cea5f-d5fb-4b06-bce2-891f59b2b1aa",
   "metadata": {},
   "outputs": [],
   "source": []
  }
 ],
 "metadata": {
  "kernelspec": {
   "display_name": "Rust",
   "language": "rust",
   "name": "rust"
  },
  "language_info": {
   "codemirror_mode": "rust",
   "file_extension": ".rs",
   "mimetype": "text/rust",
   "name": "Rust",
   "pygment_lexer": "rust",
   "version": ""
  }
 },
 "nbformat": 4,
 "nbformat_minor": 5
}
