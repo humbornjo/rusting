{
 "cells": [
  {
   "cell_type": "markdown",
   "id": "f6635ba5-9af8-4877-8e70-cbb76c87ad70",
   "metadata": {},
   "source": [
    "# Enums and Patterns\n",
    "## Enums\n",
    "By default, Rust stores C-style enums using the smallest built-in integer type that can accommodate them. Most fit in a single byte:"
   ]
  },
  {
   "cell_type": "code",
   "execution_count": 2,
   "id": "684c0ffc-96ed-4b93-84b8-63ea76470f28",
   "metadata": {
    "tags": []
   },
   "outputs": [],
   "source": [
    "enum Ordering { \n",
    "    Less,\n",
    "    Equal,\n",
    "    Greater, \n",
    "}\n",
    "\n",
    "enum HttpStatus { \n",
    "    Ok = 200,\n",
    "    NotModified = 304,\n",
    "    NotFound = 404,\n",
    "}\n",
    "\n",
    "use std::mem::size_of;\n",
    "assert_eq!(size_of::<Ordering>(), 1); \n",
    "assert_eq!(size_of::<HttpStatus>(), 2); // 404 doesn't fit in a u8"
   ]
  },
  {
   "cell_type": "markdown",
   "id": "c3291c6e-4cb0-424d-91fd-ca0429cbdab0",
   "metadata": {},
   "source": [
    "Casting a C-style enum to an integer is allowed:"
   ]
  },
  {
   "cell_type": "code",
   "execution_count": 3,
   "id": "6baa50e7-07df-40b5-9caf-3306ec8ace82",
   "metadata": {
    "tags": []
   },
   "outputs": [],
   "source": [
    "assert_eq!(HttpStatus::Ok as i32, 200);"
   ]
  },
  {
   "cell_type": "markdown",
   "id": "88eea2bc-6f97-48df-9e9e-87acda9e2ee3",
   "metadata": {},
   "source": [
    "However, casting in the other direction, from the integer to the enum, is not. Unlike C and C++, Rust guarantees that an enum value is only ever one of the values spelled out in the enum declaration. An unchecked cast from an integer type to an enum type could break this guarantee, so it’s not allowed. You can either write your own checked conversion:"
   ]
  },
  {
   "cell_type": "code",
   "execution_count": 4,
   "id": "2c502268-9779-4219-814f-bf2c6c2a02ba",
   "metadata": {
    "tags": []
   },
   "outputs": [],
   "source": [
    "fn http_status_from_u32(n: u32) -> Option<HttpStatus> { \n",
    "    match n {\n",
    "        200 => Some(HttpStatus::Ok),\n",
    "        304 => Some(HttpStatus::NotModified),\n",
    "        404 => Some(HttpStatus::NotFound),\n",
    "        _ => None, \n",
    "    }\n",
    "}"
   ]
  },
  {
   "cell_type": "markdown",
   "id": "4efba2ab-53ae-4c90-878c-3e1ecf2a420f",
   "metadata": {},
   "source": [
    "or use the `enum_primitive crate`. It contains a macro that autogenerates this kind of conversion code for you."
   ]
  },
  {
   "cell_type": "markdown",
   "id": "615d6037-95e7-494d-ace5-5d68afd4a087",
   "metadata": {},
   "source": [
    "As with structs, the compiler will implement features like the `==` operator for you, but you have to ask:\n"
   ]
  },
  {
   "cell_type": "code",
   "execution_count": 5,
   "id": "6b41b242-8fa2-46c4-9284-736b3f767b95",
   "metadata": {
    "tags": []
   },
   "outputs": [],
   "source": [
    "#[derive(Copy, Clone, Debug, PartialEq, Eq)]\n",
    "enum TimeUnit {\n",
    "    Seconds, Minutes, Hours, Days, Months, Years,\n",
    "}"
   ]
  },
  {
   "cell_type": "markdown",
   "id": "dd928fc8-9fc3-4e05-b5bb-f06d38a6094b",
   "metadata": {},
   "source": [
    "Enums can have methods, just like structs:\n"
   ]
  },
  {
   "cell_type": "code",
   "execution_count": 6,
   "id": "4870c969-b411-4ef9-8134-a9648efa21e9",
   "metadata": {
    "tags": []
   },
   "outputs": [],
   "source": [
    "impl TimeUnit {\n",
    "    /// Return the plural noun for this time unit. \n",
    "    fn plural(self) -> &'static str {\n",
    "        match self {\n",
    "            TimeUnit::Seconds => \"seconds\", \n",
    "            TimeUnit::Minutes => \"minutes\", \n",
    "            TimeUnit::Hours => \"hours\", \n",
    "            TimeUnit::Days => \"days\", \n",
    "            TimeUnit::Months => \"months\", \n",
    "            TimeUnit::Years => \"years\",\n",
    "        } \n",
    "    }\n",
    "        /// Return the singular noun for this time unit.\n",
    "    fn singular(self) -> &'static str { \n",
    "        self.plural().trim_end_matches('s')\n",
    "    } \n",
    "}"
   ]
  },
  {
   "cell_type": "markdown",
   "id": "0ce41934-1160-454f-94c5-8c3daa03127e",
   "metadata": {},
   "source": [
    "### Enums with Data\n",
    "Some programs always need to display full dates and times down to the millisecond, but for most applications, it’s more user-friendly to use a rough approximation, like “two months ago.” We can write an enum to help with that, using the enum defined earlier:"
   ]
  },
  {
   "cell_type": "code",
   "execution_count": 8,
   "id": "d896f244-f76b-466a-be6a-8d29a3286384",
   "metadata": {
    "tags": []
   },
   "outputs": [],
   "source": [
    "/// A timestamp that has been deliberately rounded off, so our program \n",
    "/// says \"6 months ago\" instead of \"February 9, 2016, at 9:49 AM\". \n",
    "#[derive(Copy, Clone, Debug, PartialEq)]\n",
    "enum RoughTime { \n",
    "    InThePast(TimeUnit, u32), JustNow, InTheFuture(TimeUnit, u32),\n",
    "}\n",
    "\n",
    "let four_score_and_seven_years_ago = \n",
    "    RoughTime::InThePast(TimeUnit::Years, 4 * 20 + 7);\n",
    "let three_hours_from_now = \n",
    "    RoughTime::InTheFuture(TimeUnit::Hours, 3);"
   ]
  },
  {
   "cell_type": "markdown",
   "id": "2a638d97-2c7a-4666-a8d4-8cca913e3ac8",
   "metadata": {
    "tags": []
   },
   "source": [
    "Enums can also have `struct variants`, which contain named fields, just like ordinary structs:\n",
    "\n",
    "```Rust\n",
    "enum Shape {\n",
    "    Sphere { center: Point3d, radius: f32 }, \n",
    "    Cuboid { corner1: Point3d, corner2: Point3d },\n",
    "}\n",
    "let unit_sphere = Shape::Sphere { \n",
    "    center: ORIGIN,\n",
    "    radius: 1.0,\n",
    "};\n",
    "```\n",
    "\n",
    "In all, Rust has three kinds of enum variant, echoing the three kinds of struct we showed in the previous chapter. Variants with no data correspond to unit-like structs. Tuple variants look and function just like tuple structs. Struct variants have curly braces and named fields. A single enum can have variants of all three kinds:\n",
    "```Rust\n",
    "enum RelationshipStatus { \n",
    "    Single,\n",
    "    InARelationship,\n",
    "    ItsComplicated(Option<String>),\n",
    "    ItsExtremelyComplicated {\n",
    "        car: DifferentialEquation,\n",
    "        cdr: EarlyModernistPoem, \n",
    "    },\n",
    "}\n",
    "```\n",
    "**All constructors and fields of an enum share the same visibility as the enum itself.**"
   ]
  },
  {
   "cell_type": "markdown",
   "id": "f3459d1f-f741-4efb-80c2-0a1b0acf77f1",
   "metadata": {},
   "source": [
    "### Enums in Memory\n",
    "In memory, enums with data are stored as a small integer tag, plus enough memory to hold all the fields of the largest variant. The tag field is for Rust’s internal use. It tells which constructor created the value and therefore which fields it has.\n",
    "\n",
    "![image.png](asset/ch10/1.png)\n",
    "\n",
    "Rust makes no promises about enum layout, however, in order to leave the door open for future optimizations. In some cases, it would be possible to pack an enum more efficiently than the figure suggests. For instance, some generic structs can be stored without a tag at all, as we’ll see later."
   ]
  },
  {
   "cell_type": "markdown",
   "id": "fb41afe6-3696-47d7-835d-71af1f3c7b6b",
   "metadata": {},
   "source": [
    "### Rich Data Structures Using Enums\n",
    "Enums are also useful for quickly implementing tree-like data structures. For exam‐ ple, suppose a Rust program needs to work with arbitrary JSON data. In memory, any JSON document can be represented as a value of this Rust type:\n",
    "```Rust\n",
    "use std::collections::HashMap;\n",
    "enum Json { \n",
    "    Null,\n",
    "    Boolean(bool),\n",
    "    Number(f64),\n",
    "    String(String),\n",
    "    Array(Vec<Json>), \n",
    "    Object(Box<HashMap<String, Json>>),\n",
    "}\n",
    "```\n",
    "The explanation of this data structure in English can’t improve much upon the Rust code. The JSON standard specifies the various data types that can appear in a JSON document: null, Boolean values, numbers, strings, arrays of JSON values, and objects with string keys and JSON values. The Json enum simply spells out these types.\n",
    "\n",
    "![image.png](asset/ch10/2.png)"
   ]
  },
  {
   "cell_type": "markdown",
   "id": "792f1067-5ab3-4df2-ae31-0db5198a34e7",
   "metadata": {},
   "source": [
    "### Generic Enums\n",
    "Enums can be generic. Two examples from the standard library are among the most-used data types in the language:\n",
    "```Rust\n",
    "enum Option<T> { \n",
    "    None,\n",
    "    Some(T), \n",
    "}\n",
    "\n",
    "enum Result<T, E> { \n",
    "    Ok(T),\n",
    "    Err(E), \n",
    "}\n",
    "```"
   ]
  },
  {
   "cell_type": "code",
   "execution_count": 28,
   "id": "c0ae2c43-8db9-4c2e-ad69-5cf15781cf0a",
   "metadata": {
    "tags": []
   },
   "outputs": [],
   "source": [
    "// An ordered collection of `T`s.\n",
    "enum BinaryTree<T> { \n",
    "    Empty,\n",
    "    NonEmpty(Box<TreeNode<T>>),\n",
    "}\n",
    "// A part of a BinaryTree.\n",
    "struct TreeNode<T> { \n",
    "    element: T,\n",
    "    left: BinaryTree<T>,\n",
    "    right: BinaryTree<T>, \n",
    "}\n",
    "\n",
    "let node: Box<TreeNode<i32>> = Box::new(\n",
    "    TreeNode{\n",
    "        element: 100, \n",
    "        left: BinaryTree::Empty, \n",
    "        right: BinaryTree::Empty\n",
    "    }\n",
    ");\n",
    "let root: BinaryTree<i32> = BinaryTree::NonEmpty(node);\n",
    "\n",
    "use self::BinaryTree::*;\n",
    "let jupiter_tree = NonEmpty(\n",
    "    Box::new(\n",
    "        TreeNode {\n",
    "            element: \"Jupiter\", left: Empty, right: Empty,\n",
    "        }\n",
    "    )\n",
    ");"
   ]
  },
  {
   "cell_type": "markdown",
   "id": "94cb8e8a-85db-4402-9faa-0c5b3b956b12",
   "metadata": {},
   "source": [
    "These few lines of code define a `BinaryTree` type that can store any number of values of type `T`.\n",
    "\n",
    "Now comes the “price” we mentioned in the introduction. The tag field of an enum costs a little memory, up to eight bytes in the worst case, but that is usually negligible. The real downside to enums (if it can be called that) is that Rust code cannot throw caution to the wind and try to access fields regardless of whether they are actually present in the value:\n",
    "```Rust\n",
    "let r = shape.radius; // error: no field `radius` on type `Shape` \n",
    "```\n",
    "The only way to access the data in an enum is the safe way: using patterns."
   ]
  },
  {
   "cell_type": "markdown",
   "id": "75c18ca0-ca73-45ef-afd2-89b35652e2d9",
   "metadata": {},
   "source": [
    "## Patterns"
   ]
  },
  {
   "cell_type": "markdown",
   "id": "2b1f2a6e-c01b-472f-bb2f-2a5fae85619b",
   "metadata": {},
   "source": [
    "`match` performs pattern matching; Expressions _produce_ values; patterns _consume_ values. The two use a lot of the same syntax.\n",
    "\n",
    "Pattern matching an enum, struct, or tuple works as though Rust is doing a simple left-to-right scan, checking each component of the pattern to see if the value matches it. If it doesn’t, Rust moves on to the next pattern.\n",
    "\n",
    "When a pattern contains simple identifiers like units and count, those become local variables in the code following the pattern. Whatever is present in the value is copied or moved into the new variables.\n",
    "\n",
    "![image.png](asset/ch10/3.png)"
   ]
  },
  {
   "cell_type": "markdown",
   "id": "49e0c071-c070-4972-88ee-ca8a50fcd7fe",
   "metadata": {},
   "source": [
    "### Where Patterns Are Allowed\n",
    "Although patterns are most prominent in match expressions, they are also allowed in several other places, typically in place of an identifier. The meaning is always the same: instead of just storing a value in a single variable, Rust uses pattern matching to take the value apart.\n",
    "\n",
    "This means patterns can be used to...\n",
    "\n",
    "```Rust\n",
    "// ...unpack a struct into three new local variables\n",
    "let Track { album, track_number, title, .. } = song; \n",
    "\n",
    "// ...unpack a function argument that's a tuple\n",
    "fn distance_to((x, y): (f64, f64)) -> f64 { ... }\n",
    "\n",
    "// ...iterate over keys and values of a HashMap\n",
    "for (id, document) in &cache_map { \n",
    "    println!(\"Document #{}: {}\", id, document.title);\n",
    "}\n",
    "\n",
    "// ...automatically dereference an argument to a closure\n",
    "// (handy because sometimes other code passes you a reference \n",
    "// when you'd rather have a copy)\n",
    "let sum = numbers.fold(0, |a, &num| a + num);\n",
    "```\n",
    "\n",
    "Each of these saves two or three lines of boilerplate code. The same concept exists in some other languages: in JavaScript, it’s called destructuring, while in Python, iit’s unpacking.\n",
    "\n",
    "A refutable pattern is one that might not match, like `Ok(x)`, which doesn’t match an error result, or `'0' ..= '9'`, which doesn’t match the character `'Q'`. Refutable patterns can be used in match arms, because match is designed for them: if one pattern fails to match, it’s clear what happens next. The four preceding examples are places in Rust programs where a pattern can be handy, but the language doesn’t allow for match failure.\n",
    "\n",
    "Refutable patterns are also allowed in `if let` and `while let` expressions, which can be used to...\n",
    "\n",
    "```Rust   \n",
    "// ...handle just one enum variant specially\n",
    "if let RoughTime::InTheFuture(_, _) = user.date_of_birth() { \n",
    "    user.set_time_traveler(true);\n",
    "}\n",
    "\n",
    "// ...run some code only if a table lookup succeeds\n",
    "if let Some(document) = cache_map.get(&id) { \n",
    "    return send_cached_response(document);\n",
    "}\n",
    "\n",
    "// ...repeatedly try something until it succeeds\n",
    "while let Err(err) = present_cheesy_anti_robot_task() { \n",
    "    log_robot_attempt(err);\n",
    "    // let the user try again (it might still be a human)\n",
    "}\n",
    "\n",
    "// ...manually loop over an iterator\n",
    "while let Some(_) = lines.peek() { \n",
    "    read_paragraph(&mut lines);\n",
    "}\n",
    "```"
   ]
  },
  {
   "cell_type": "markdown",
   "id": "4fade89d-0aa5-4c94-aff4-5bb2ba85285e",
   "metadata": {},
   "source": [
    "### Populating a Binary Tree\n",
    "Implement a method, `BinaryTree::add()`.\n"
   ]
  },
  {
   "cell_type": "code",
   "execution_count": 4,
   "id": "6b7bbde2-a14f-40d0-9480-14601fd67956",
   "metadata": {
    "tags": []
   },
   "outputs": [],
   "source": [
    " // An ordered collection of `T`s.\n",
    "enum BinaryTree<T> { \n",
    "    Empty,\n",
    "    NonEmpty(Box<TreeNode<T>>),\n",
    "}\n",
    "\n",
    "// A part of a BinaryTree.\n",
    "struct TreeNode<T> { \n",
    "    element: T,\n",
    "    left: BinaryTree<T>,\n",
    "    right: BinaryTree<T>, \n",
    "}\n",
    "\n",
    "impl<T: Ord> BinaryTree<T> {\n",
    "    fn add(&mut self, value: T) { \n",
    "        match *self {\n",
    "            BinaryTree::Empty => {\n",
    "                *self = BinaryTree::NonEmpty(Box::new(TreeNode {\n",
    "                    element: value,\n",
    "                    left: BinaryTree::Empty, \n",
    "                    right: BinaryTree::Empty,\n",
    "                }))\n",
    "            }       \n",
    "            BinaryTree::NonEmpty(ref mut node) => { \n",
    "                if value <= node.element {\n",
    "                    node.left.add(value); \n",
    "                } else {\n",
    "                    node.right.add(value);\n",
    "                }\n",
    "            }\n",
    "        }\n",
    "    }\n",
    "}\n",
    "\n",
    "let mut tree = BinaryTree::Empty; \n",
    "tree.add(\"Mercury\"); \n",
    "tree.add(\"Venus\");"
   ]
  },
  {
   "cell_type": "markdown",
   "id": "060ee929-de49-4b28-b67d-d25f24d2eb4c",
   "metadata": {},
   "source": [
    "## The Big Picture\n",
    "Rust’s enums may be new to systems programming, but they are not a new idea. Trav‐ eling under various academic-sounding names, like algebraic data types, they’ve been used in functional programming languages for more than forty years. It’s unclear why so few other languages in the C tradition have ever had them. Perhaps it is simply that for a programming language designer, combining variants, references, mutability, and memory safety is extremely challenging. Functional programming languages dispense with mutability. C unions, by contrast, have variants, pointers, and mutability —but are so spectacularly unsafe that even in C, they’re a last resort. Rust’s borrow checker is the magic that makes it possible to combine all four without compromise."
   ]
  },
  {
   "cell_type": "code",
   "execution_count": null,
   "id": "2f33923a-47fa-4c1d-9ee9-3921c5d28da8",
   "metadata": {},
   "outputs": [],
   "source": []
  }
 ],
 "metadata": {
  "kernelspec": {
   "display_name": "Rust",
   "language": "rust",
   "name": "rust"
  },
  "language_info": {
   "codemirror_mode": "rust",
   "file_extension": ".rs",
   "mimetype": "text/rust",
   "name": "Rust",
   "pygment_lexer": "rust",
   "version": ""
  }
 },
 "nbformat": 4,
 "nbformat_minor": 5
}
