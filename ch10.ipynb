{
 "cells": [
  {
   "cell_type": "markdown",
   "id": "f6635ba5-9af8-4877-8e70-cbb76c87ad70",
   "metadata": {},
   "source": [
    "# Enums and Patterns\n",
    "## Enums\n"
   ]
  }
 ],
 "metadata": {
  "kernelspec": {
   "display_name": "Rust",
   "language": "rust",
   "name": "rust"
  },
  "language_info": {
   "codemirror_mode": "rust",
   "file_extension": ".rs",
   "mimetype": "text/rust",
   "name": "Rust",
   "pygment_lexer": "rust",
   "version": ""
  }
 },
 "nbformat": 4,
 "nbformat_minor": 5
}
