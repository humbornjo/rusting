{
 "cells": [
  {
   "cell_type": "markdown",
   "id": "12113ed4-83a9-43d0-ad1c-2bab35bd4f8d",
   "metadata": {},
   "source": [
    "# Traits and Generics"
   ]
  },
  {
   "cell_type": "markdown",
   "id": "f9ffefe8-6cfc-4ca1-b5c7-b58f2b57226d",
   "metadata": {},
   "source": [
    "范型和组合天下第一"
   ]
  },
  {
   "cell_type": "markdown",
   "id": "ccd6a1f1-c9f6-4b80-9965-7a1a81e2f309",
   "metadata": {},
   "source": [
    "## Using Traits\n",
    "There is one unusual rule about trait methods: the trait itself must be in scope. Otherwise, all its methods are hidden:"
   ]
  },
  {
   "cell_type": "code",
   "execution_count": 4,
   "id": "0f85abde-95c3-4219-be94-c27af0b7e086",
   "metadata": {},
   "outputs": [
    {
     "ename": "Error",
     "evalue": "no method named `write_all` found for struct `Vec<u8>` in the current scope",
     "output_type": "error",
     "traceback": [
      "\u001b[31m[E0599] Error:\u001b[0m no method named `write_all` found for struct `Vec<u8>` in the current scope",
      "   \u001b[38;5;246m╭\u001b[0m\u001b[38;5;246m─\u001b[0m\u001b[38;5;246m[\u001b[0mcommand_4:1:1\u001b[38;5;246m]\u001b[0m",
      "   \u001b[38;5;246m│\u001b[0m",
      " \u001b[38;5;246m2 │\u001b[0m \u001b[38;5;249mb\u001b[0m\u001b[38;5;249mu\u001b[0m\u001b[38;5;249mf\u001b[0m\u001b[38;5;249m.\u001b[0m\u001b[38;5;54mw\u001b[0m\u001b[38;5;54mr\u001b[0m\u001b[38;5;54mi\u001b[0m\u001b[38;5;54mt\u001b[0m\u001b[38;5;54me\u001b[0m\u001b[38;5;54m_\u001b[0m\u001b[38;5;54ma\u001b[0m\u001b[38;5;54ml\u001b[0m\u001b[38;5;54ml\u001b[0m\u001b[38;5;249m(\u001b[0m\u001b[38;5;249mb\u001b[0m\u001b[38;5;249m\"\u001b[0m\u001b[38;5;249mh\u001b[0m\u001b[38;5;249me\u001b[0m\u001b[38;5;249ml\u001b[0m\u001b[38;5;249ml\u001b[0m\u001b[38;5;249mo\u001b[0m\u001b[38;5;249m\"\u001b[0m\u001b[38;5;249m)\u001b[0m\u001b[38;5;249m?\u001b[0m\u001b[38;5;249m;\u001b[0m\u001b[38;5;249m \u001b[0m\u001b[38;5;249m/\u001b[0m\u001b[38;5;249m/\u001b[0m\u001b[38;5;249m \u001b[0m\u001b[38;5;249me\u001b[0m\u001b[38;5;249mr\u001b[0m\u001b[38;5;249mr\u001b[0m\u001b[38;5;249mo\u001b[0m\u001b[38;5;249mr\u001b[0m\u001b[38;5;249m:\u001b[0m\u001b[38;5;249m \u001b[0m\u001b[38;5;249mn\u001b[0m\u001b[38;5;249mo\u001b[0m\u001b[38;5;249m \u001b[0m\u001b[38;5;249mm\u001b[0m\u001b[38;5;249me\u001b[0m\u001b[38;5;249mt\u001b[0m\u001b[38;5;249mh\u001b[0m\u001b[38;5;249mo\u001b[0m\u001b[38;5;249md\u001b[0m\u001b[38;5;249m \u001b[0m\u001b[38;5;249mn\u001b[0m\u001b[38;5;249ma\u001b[0m\u001b[38;5;249mm\u001b[0m\u001b[38;5;249me\u001b[0m\u001b[38;5;249md\u001b[0m\u001b[38;5;249m \u001b[0m\u001b[38;5;249m`\u001b[0m\u001b[38;5;249mw\u001b[0m\u001b[38;5;249mr\u001b[0m\u001b[38;5;249mi\u001b[0m\u001b[38;5;249mt\u001b[0m\u001b[38;5;249me\u001b[0m\u001b[38;5;249m_\u001b[0m\u001b[38;5;249ma\u001b[0m\u001b[38;5;249ml\u001b[0m\u001b[38;5;249ml\u001b[0m\u001b[38;5;249m`\u001b[0m",
      " \u001b[38;5;240m  │\u001b[0m     \u001b[38;5;54m─\u001b[0m\u001b[38;5;54m─\u001b[0m\u001b[38;5;54m─\u001b[0m\u001b[38;5;54m─\u001b[0m\u001b[38;5;54m┬\u001b[0m\u001b[38;5;54m─\u001b[0m\u001b[38;5;54m─\u001b[0m\u001b[38;5;54m─\u001b[0m\u001b[38;5;54m─\u001b[0m  ",
      " \u001b[38;5;240m  │\u001b[0m         \u001b[38;5;54m╰\u001b[0m\u001b[38;5;54m─\u001b[0m\u001b[38;5;54m─\u001b[0m\u001b[38;5;54m─\u001b[0m\u001b[38;5;54m─\u001b[0m\u001b[38;5;54m─\u001b[0m\u001b[38;5;54m─\u001b[0m method not found in `Vec<u8>`",
      " \u001b[38;5;240m  │\u001b[0m ",
      " \u001b[38;5;240m  │\u001b[0m \u001b[38;5;115mNote\u001b[0m: help: the following trait is implemented but not in scope; perhaps add a `use` for it:: `use std::io::Write;",
      "`",
      "\u001b[38;5;246m───╯\u001b[0m"
     ]
    }
   ],
   "source": [
    "let mut buf: Vec<u8> = vec![];\n",
    "buf.write_all(b\"hello\")?; // error: no method named `write_all`"
   ]
  },
  {
   "cell_type": "code",
   "execution_count": 5,
   "id": "f87b41e7-0b8b-4bc7-b26c-f6a38bc496c1",
   "metadata": {},
   "outputs": [],
   "source": [
    "use std::io::Write;\n",
    "let mut buf: Vec<u8> = vec![];\n",
    "buf.write_all(b\"hello\")?; // ok"
   ]
  },
  {
   "cell_type": "markdown",
   "id": "491b448f-3104-4681-b652-b24f0ca1efee",
   "metadata": {},
   "source": [
    "The reason `Clone` and `Iterator methods work without any special imports is that they’re always in scope by default: **they’re part of the standard prelude, names that Rust automatically imports into every module**. In fact, the prelude is mostly a carefully chosen selection of traits.\n",
    "\n",
    "C++ and C# programmers will already have noticed that trait methods are like virtual methods. Still, calls like the one shown above are fast, as fast as any other method call. **Simply put, there’s no polymorphism here**. It’s obvious that `buf` is a vector, not a file or a network connection. The compiler can emit a simple call to `Vec<u8>::write()`. It can even inline the method. (C++ and C# will often do the same, although the possibility of subclassing sometimes precludes this.) Only calls through `&mut dyn Write` incur the overhead of a dynamic dispatch, also known as a virtual method call, which is indicated by the dyn keyword in the type. `dyn Write` is known as a trait object; we’ll look at the technical details of trait objects, and how they compare to generic functions, in the following sections.\n"
   ]
  },
  {
   "cell_type": "markdown",
   "id": "7060465f-6b75-4c8e-9f8e-a7691f2695f7",
   "metadata": {},
   "source": [
    "### Trait Objects\n",
    "There are two ways of using traits to write polymorphic code in Rust: trait objects and generics.\n",
    "\n",
    "Rust doesn’t permit variables of type `dyn Write`:"
   ]
  },
  {
   "cell_type": "code",
   "execution_count": 2,
   "id": "750ab6ac-4dca-429c-b5c6-62de7933bce0",
   "metadata": {},
   "outputs": [
    {
     "ename": "Error",
     "evalue": "mismatched types",
     "output_type": "error",
     "traceback": [
      "\u001b[31m[E0308] Error:\u001b[0m mismatched types",
      "   \u001b[38;5;246m╭\u001b[0m\u001b[38;5;246m─\u001b[0m\u001b[38;5;246m[\u001b[0mcommand_2:1:1\u001b[38;5;246m]\u001b[0m",
      "   \u001b[38;5;246m│\u001b[0m",
      " \u001b[38;5;246m3 │\u001b[0m \u001b[38;5;249ml\u001b[0m\u001b[38;5;249me\u001b[0m\u001b[38;5;249mt\u001b[0m\u001b[38;5;249m \u001b[0m\u001b[38;5;249mw\u001b[0m\u001b[38;5;249mr\u001b[0m\u001b[38;5;249mi\u001b[0m\u001b[38;5;249mt\u001b[0m\u001b[38;5;249me\u001b[0m\u001b[38;5;249mr\u001b[0m\u001b[38;5;249m:\u001b[0m\u001b[38;5;249m \u001b[0m\u001b[38;5;100md\u001b[0m\u001b[38;5;100my\u001b[0m\u001b[38;5;100mn\u001b[0m\u001b[38;5;100m \u001b[0m\u001b[38;5;100mW\u001b[0m\u001b[38;5;100mr\u001b[0m\u001b[38;5;100mi\u001b[0m\u001b[38;5;100mt\u001b[0m\u001b[38;5;100me\u001b[0m\u001b[38;5;249m \u001b[0m\u001b[38;5;249m=\u001b[0m\u001b[38;5;249m \u001b[0m\u001b[38;5;54mb\u001b[0m\u001b[38;5;54mu\u001b[0m\u001b[38;5;54mf\u001b[0m\u001b[38;5;249m;\u001b[0m\u001b[38;5;249m \u001b[0m\u001b[38;5;249m/\u001b[0m\u001b[38;5;249m/\u001b[0m\u001b[38;5;249m \u001b[0m\u001b[38;5;249me\u001b[0m\u001b[38;5;249mr\u001b[0m\u001b[38;5;249mr\u001b[0m\u001b[38;5;249mo\u001b[0m\u001b[38;5;249mr\u001b[0m\u001b[38;5;249m:\u001b[0m\u001b[38;5;249m \u001b[0m\u001b[38;5;249m`\u001b[0m\u001b[38;5;249mW\u001b[0m\u001b[38;5;249mr\u001b[0m\u001b[38;5;249mi\u001b[0m\u001b[38;5;249mt\u001b[0m\u001b[38;5;249me\u001b[0m\u001b[38;5;249m`\u001b[0m\u001b[38;5;249m \u001b[0m\u001b[38;5;249md\u001b[0m\u001b[38;5;249mo\u001b[0m\u001b[38;5;249me\u001b[0m\u001b[38;5;249ms\u001b[0m\u001b[38;5;249m \u001b[0m\u001b[38;5;249mn\u001b[0m\u001b[38;5;249mo\u001b[0m\u001b[38;5;249mt\u001b[0m\u001b[38;5;249m \u001b[0m\u001b[38;5;249mh\u001b[0m\u001b[38;5;249ma\u001b[0m\u001b[38;5;249mv\u001b[0m\u001b[38;5;249me\u001b[0m\u001b[38;5;249m \u001b[0m\u001b[38;5;249ma\u001b[0m\u001b[38;5;249m \u001b[0m\u001b[38;5;249mc\u001b[0m\u001b[38;5;249mo\u001b[0m\u001b[38;5;249mn\u001b[0m\u001b[38;5;249ms\u001b[0m\u001b[38;5;249mt\u001b[0m\u001b[38;5;249ma\u001b[0m\u001b[38;5;249mn\u001b[0m\u001b[38;5;249mt\u001b[0m\u001b[38;5;249m \u001b[0m\u001b[38;5;249ms\u001b[0m\u001b[38;5;249mi\u001b[0m\u001b[38;5;249mz\u001b[0m\u001b[38;5;249me\u001b[0m",
      " \u001b[38;5;240m  │\u001b[0m             \u001b[38;5;100m─\u001b[0m\u001b[38;5;100m─\u001b[0m\u001b[38;5;100m─\u001b[0m\u001b[38;5;100m─\u001b[0m\u001b[38;5;100m┬\u001b[0m\u001b[38;5;100m─\u001b[0m\u001b[38;5;100m─\u001b[0m\u001b[38;5;100m─\u001b[0m\u001b[38;5;100m─\u001b[0m   \u001b[38;5;54m─\u001b[0m\u001b[38;5;54m┬\u001b[0m\u001b[38;5;54m─\u001b[0m  ",
      " \u001b[38;5;240m  │\u001b[0m                 \u001b[38;5;100m╰\u001b[0m\u001b[38;5;100m─\u001b[0m\u001b[38;5;100m─\u001b[0m\u001b[38;5;100m─\u001b[0m\u001b[38;5;100m─\u001b[0m\u001b[38;5;100m─\u001b[0m\u001b[38;5;100m─\u001b[0m\u001b[38;5;100m─\u001b[0m\u001b[38;5;100m─\u001b[0m\u001b[38;5;100m─\u001b[0m\u001b[38;5;100m─\u001b[0m\u001b[38;5;100m─\u001b[0m\u001b[38;5;100m─\u001b[0m expected due to this",
      " \u001b[38;5;240m  │\u001b[0m                          \u001b[38;5;54m│\u001b[0m   ",
      " \u001b[38;5;240m  │\u001b[0m                          \u001b[38;5;54m╰\u001b[0m\u001b[38;5;54m─\u001b[0m\u001b[38;5;54m─\u001b[0m\u001b[38;5;54m─\u001b[0m expected `dyn Write`, found `Vec<u8>`",
      "\u001b[38;5;246m───╯\u001b[0m"
     ]
    },
    {
     "ename": "Error",
     "evalue": "the size for values of type `dyn std::io::Write` cannot be known at compilation time",
     "output_type": "error",
     "traceback": [
      "\u001b[31m[E0277] Error:\u001b[0m the size for values of type `dyn std::io::Write` cannot be known at compilation time",
      "   \u001b[38;5;246m╭\u001b[0m\u001b[38;5;246m─\u001b[0m\u001b[38;5;246m[\u001b[0mcommand_2:1:1\u001b[38;5;246m]\u001b[0m",
      "   \u001b[38;5;246m│\u001b[0m",
      " \u001b[38;5;246m3 │\u001b[0m \u001b[38;5;249ml\u001b[0m\u001b[38;5;249me\u001b[0m\u001b[38;5;249mt\u001b[0m\u001b[38;5;249m \u001b[0m\u001b[38;5;54mw\u001b[0m\u001b[38;5;54mr\u001b[0m\u001b[38;5;54mi\u001b[0m\u001b[38;5;54mt\u001b[0m\u001b[38;5;54me\u001b[0m\u001b[38;5;54mr\u001b[0m\u001b[38;5;249m:\u001b[0m\u001b[38;5;249m \u001b[0m\u001b[38;5;249md\u001b[0m\u001b[38;5;249my\u001b[0m\u001b[38;5;249mn\u001b[0m\u001b[38;5;249m \u001b[0m\u001b[38;5;249mW\u001b[0m\u001b[38;5;249mr\u001b[0m\u001b[38;5;249mi\u001b[0m\u001b[38;5;249mt\u001b[0m\u001b[38;5;249me\u001b[0m\u001b[38;5;249m \u001b[0m\u001b[38;5;249m=\u001b[0m\u001b[38;5;249m \u001b[0m\u001b[38;5;249mb\u001b[0m\u001b[38;5;249mu\u001b[0m\u001b[38;5;249mf\u001b[0m\u001b[38;5;249m;\u001b[0m\u001b[38;5;249m \u001b[0m\u001b[38;5;249m/\u001b[0m\u001b[38;5;249m/\u001b[0m\u001b[38;5;249m \u001b[0m\u001b[38;5;249me\u001b[0m\u001b[38;5;249mr\u001b[0m\u001b[38;5;249mr\u001b[0m\u001b[38;5;249mo\u001b[0m\u001b[38;5;249mr\u001b[0m\u001b[38;5;249m:\u001b[0m\u001b[38;5;249m \u001b[0m\u001b[38;5;249m`\u001b[0m\u001b[38;5;249mW\u001b[0m\u001b[38;5;249mr\u001b[0m\u001b[38;5;249mi\u001b[0m\u001b[38;5;249mt\u001b[0m\u001b[38;5;249me\u001b[0m\u001b[38;5;249m`\u001b[0m\u001b[38;5;249m \u001b[0m\u001b[38;5;249md\u001b[0m\u001b[38;5;249mo\u001b[0m\u001b[38;5;249me\u001b[0m\u001b[38;5;249ms\u001b[0m\u001b[38;5;249m \u001b[0m\u001b[38;5;249mn\u001b[0m\u001b[38;5;249mo\u001b[0m\u001b[38;5;249mt\u001b[0m\u001b[38;5;249m \u001b[0m\u001b[38;5;249mh\u001b[0m\u001b[38;5;249ma\u001b[0m\u001b[38;5;249mv\u001b[0m\u001b[38;5;249me\u001b[0m\u001b[38;5;249m \u001b[0m\u001b[38;5;249ma\u001b[0m\u001b[38;5;249m \u001b[0m\u001b[38;5;249mc\u001b[0m\u001b[38;5;249mo\u001b[0m\u001b[38;5;249mn\u001b[0m\u001b[38;5;249ms\u001b[0m\u001b[38;5;249mt\u001b[0m\u001b[38;5;249ma\u001b[0m\u001b[38;5;249mn\u001b[0m\u001b[38;5;249mt\u001b[0m\u001b[38;5;249m \u001b[0m\u001b[38;5;249ms\u001b[0m\u001b[38;5;249mi\u001b[0m\u001b[38;5;249mz\u001b[0m\u001b[38;5;249me\u001b[0m",
      " \u001b[38;5;240m  │\u001b[0m     \u001b[38;5;54m─\u001b[0m\u001b[38;5;54m─\u001b[0m\u001b[38;5;54m─\u001b[0m\u001b[38;5;54m┬\u001b[0m\u001b[38;5;54m─\u001b[0m\u001b[38;5;54m─\u001b[0m  \u001b[38;5;100m│\u001b[0m ",
      " \u001b[38;5;240m  │\u001b[0m        \u001b[38;5;54m╰\u001b[0m\u001b[38;5;54m─\u001b[0m\u001b[38;5;54m─\u001b[0m\u001b[38;5;54m─\u001b[0m\u001b[38;5;54m─\u001b[0m\u001b[38;5;54m─\u001b[0m\u001b[38;5;54m─\u001b[0m doesn't have a size known at compile-time",
      " \u001b[38;5;240m  │\u001b[0m             \u001b[38;5;100m│\u001b[0m ",
      " \u001b[38;5;240m  │\u001b[0m             \u001b[38;5;100m╰\u001b[0m\u001b[38;5;100m─\u001b[0m help: consider borrowing here: `&`",
      "\u001b[38;5;246m───╯\u001b[0m"
     ]
    }
   ],
   "source": [
    "use std::io::Write;\n",
    "let mut buf: Vec<u8> = vec![];\n",
    "let writer: dyn Write = buf; // error: `Write` does not have a constant size"
   ]
  },
  {
   "cell_type": "markdown",
   "id": "62162486-445f-448e-9ac8-29ad485f27cb",
   "metadata": {},
   "source": [
    "\n",
    "A variable’s size has to be known at compile time, and types that implement `Write` can be any size.\n",
    "\n",
    "This may be surprising if you’re coming from C# or Java, but the reason is simple. In Java, a variable of type `OutputStream` (the Java standard interface analogous to `std::io::Write`) is a reference to any object that implements `OutputStream`. The fact that it’s a reference goes without saying. It’s the same with interfaces in C# and most other languages."
   ]
  },
  {
   "cell_type": "code",
   "execution_count": 6,
   "id": "6121a327-b2ab-418f-9ae7-87934de439e6",
   "metadata": {},
   "outputs": [],
   "source": [
    "use std::io::Write;\n",
    "{\n",
    "    let mut buf: Vec<u8> = vec![];\n",
    "    let writer: &mut dyn Write = &mut buf; // ok\n",
    "};"
   ]
  },
  {
   "cell_type": "markdown",
   "id": "4d613037-b433-430d-a912-27890364f444",
   "metadata": {},
   "source": [
    "A reference to a trait type, like writer, is called a trait object. Like any other reference, a trait object points to some value, it has a lifetime, and it can be either mut or shared.\n",
    "\n",
    "What makes a trait object different is that Rust usually doesn’t know the type of the referent at compile time. So a trait object includes a little extra information about the referent’s type. This is strictly for Rust’s own use behind the scenes: when you call `writer.write(data)`, Rust needs the type information to dynamically call the right write method depending on the type of `*writer`. You can’t query the type information directly, and Rust does not support downcasting from the trait object `&mut dyn Write` back to a concrete type like `Vec<u8>`."
   ]
  },
  {
   "cell_type": "markdown",
   "id": "5791a5cb-0546-4f4f-9f5a-96f38ce3c60f",
   "metadata": {},
   "source": [
    "**Trait object layout**\n",
    "In memory, a trait object is a fat pointer consisting of a pointer to the value, plus a pointer to a table representing that value’s type. Each trait object therefore takes up two machine words\n",
    "![image.png](asset/ch11/1.png)\n",
    "C++ has this kind of run-time type information as well. It’s called a virtual table, or vtable. In Rust, as in C++, the vtable is generated once, at compile time, and shared by all objects of the same type. Everything shown in the darker shade in Figure, including the vtable, is a private implementation detail of Rust. Again, these aren’t fields and data structures that you can access directly. Instead, the language automatically uses the vtable when you call a method of a trait object, to determine which implementation to call.\n",
    "\n",
    "Seasoned C++ programmers will notice that Rust and C++ use memory a bit differently. In C++, the vtable pointer, or `vptr`, is stored as part of the struct. Rust uses fat pointers instead. The struct itself contains nothing but its fields. This way, a struct can implement dozens of traits without containing dozens of `vptrs`. Even types like `i32`, which aren’t big enough to accommodate a `vptr`, can implement traits.\n",
    "\n",
    "Rust automatically converts ordinary references into trait objects when needed. This is why we’re able to pass `&mut local_file` to `say_hello` in this example:\n",
    "```Rust\n",
    "let mut local_file = File::create(\"hello.txt\")?; say_hello(&mut local_file)?;\n",
    "```\n",
    "The type of `&mut local_file` is `&mut File`, and the type of the argument to `say_hello` is `&mut dyn Write`. Since a `File` is a kind of writer, Rust allows this, automatically converting the plain reference to a trait object.\n",
    "Likewise, Rust will happily convert a `Box<File>` to a `Box<dyn Write>`, a value that owns a writer in the heap:\n",
    "```Rust\n",
    "let w: Box<dyn Write> = Box::new(local_file);\n",
    "```\n",
    "`Box<dyn Write>`, like `&mut dyn Write`, is a fat pointer: it contains the address of the writer itself and the address of the vtable. The same goes for other pointer types, like `Rc<dyn Write>`.\n",
    "This kind of conversion is the only way to create a trait object. What the compiler is actually doing here is very simple. At the point where the conversion happens, Rust knows the referent’s true type (in this case, File), so it just adds the address of the appropriate vtable, turning the regular pointer into a fat pointer."
   ]
  },
  {
   "cell_type": "markdown",
   "id": "b23f450a-ab22-432c-90a1-16e7c7f14cfc",
   "metadata": {},
   "source": [
    "### Generic Functions and Type Parameters\n",
    "At the beginning of this chapter, we showed a `say_hello()` function that took a trait object as an argument. Let’s rewrite that function as a generic function:\n",
    "\n"
   ]
  },
  {
   "cell_type": "code",
   "execution_count": 8,
   "id": "82df7f2e-0245-4e4f-b09a-4aea47afc941",
   "metadata": {},
   "outputs": [],
   "source": [
    "// from\n",
    "/// The type of out is &mut dyn Write, meaning “a mutable reference to\n",
    "/// any value that implements the Write trait.” \n",
    "use std::io::Write;\n",
    "fn say_hello(out: &mut dyn Write) -> std::io::Result<()> { \n",
    "    out.write_all(b\"hello world\\n\")?;\n",
    "    out.flush()\n",
    "}\n",
    "\n",
    "// to\n",
    "/// This is a type parameter. It means that throughout the body of \n",
    "/// this function, W stands for some type that imple‐ ments the Write trait.\n",
    "fn say_hello<W: Write>(out: &mut W) -> std::io::Result<()> { \n",
    "    out.write_all(b\"hello world\\n\")?;\n",
    "    out.flush()\n",
    "}"
   ]
  },
  {
   "cell_type": "markdown",
   "id": "f053760d-5922-4683-b930-b940bdc6dc37",
   "metadata": {},
   "source": [
    "When you pass `&mut local_file` to the generic `say_hello()` function, you’re calling `say_hello::<File>()`. Rust generates machine code for this function that calls `File::write_all()` and `File::flush()`. When you pass `&mut bytes`, you’re calling `say_hello::<Vec<u8>>()`. Rust generates separate machine code for this version of the function, calling the corresponding `Vec<u8>` methods. In both cases, Rust infers the type `W` from the type of the argument. This process is known as _monomorphization_, and the compiler handles it all automatically.\n",
    "\n",
    "You can always spell out the type parameters:\n",
    "```Rust\n",
    "say_hello::<File>(&mut local_file)?;\n",
    "```\n",
    "This is seldom necessary, because Rust can usually deduce the type parameters by looking at the arguments. Here, the `say_hello` generic function expects a `&mut W` argument, and we’re passing it a `&mut File`, so Rust infers that `W = File`.\n",
    "\n",
    "If the generic function you’re calling doesn’t have any arguments that provide useful clues, you may have to spell it out:"
   ]
  },
  {
   "cell_type": "code",
   "execution_count": 13,
   "id": "3fef9395-f4fe-46d1-8123-77bf663f39a2",
   "metadata": {},
   "outputs": [
    {
     "ename": "Error",
     "evalue": "Couldn't automatically determine type of variable `v1`.\nPlease give it an explicit type.",
     "output_type": "error",
     "traceback": [
      "Couldn't automatically determine type of variable `v1`.\nPlease give it an explicit type."
     ]
    }
   ],
   "source": [
    "// calling a generic method collect<C>() that takes no arguments \n",
    "let v1 = (0 .. 1000).collect(); // error: can't infer type"
   ]
  },
  {
   "cell_type": "code",
   "execution_count": 14,
   "id": "32b22a84-fc8f-4918-bdd3-8a42dbddcf31",
   "metadata": {},
   "outputs": [],
   "source": [
    "let v2 = (0 .. 1000).collect::<Vec<i32>>(); // ok"
   ]
  },
  {
   "cell_type": "markdown",
   "id": "bba9e8d3-4498-422d-9574-9ed07cd02ff4",
   "metadata": {},
   "source": [
    "Sometimes we need multiple abilities from a type parameter. For example, if we want to print out the top ten most common values in a vector, we’ll need for those values to be printable:\n",
    "```Rust\n",
    "use std::fmt::Debug;\n",
    "fn top_ten<T: Debug>(values: &Vec<T>) { ... }\n",
    "```\n",
    "But this isn’t good enough. How are we planning to determine which values are the most common? The usual way is to use the values as keys in a hash table. That means the values need to support the `Hash` and `Eq` operations. The bounds on T must include these as well as Debug. The syntax for this uses the + sign:\n",
    "```Rust\n",
    "use std::hash::Hash; use std::fmt::Debug;\n",
    "fn top_ten<T: Debug + Hash + Eq>(values: &Vec<T>) { ... }\n",
    "```\n",
    "It’s also possible for a type parameter to have no bounds at all, but you can’t do much with a value if you haven’t specified any bounds for it. You can move it. You can put it into a box or vector. That’s about it.\n",
    "\n",
    "As this example shows, the bounds can get to be so long that they are hard on the eyes. Rust provides an alternative syntax using the keyword where:\n",
    "```Rust\n",
    "fn run_query<M, R>(data: &DataSet, map: M, reduce: R) -> Results \n",
    "    where M: Mapper + Serialize,\n",
    "          R: Reducer + Serialize\n",
    "{...}\n",
    "```\n",
    "The type parameters M and R are still declared up front, but the bounds are moved to separate lines. This kind of where clause is also allowed on generic structs, enums, type aliases, and methods—anywhere bounds are permitted.\n",
    "\n",
    "A generic function can have both lifetime parameters and type parameters. Lifetime parameters come first:\n",
    "```Rust\n",
    "/// Return a reference to the point in `candidates` that's\n",
    "/// closest to the `target` point.\n",
    "fn nearest<'t, 'c, P>(target: &'t P, candidates: &'c [P]) -> &'c P\n",
    "where P: MeasureDistance {\n",
    "... \n",
    "}\n",
    "```\n",
    "Lifetimes never have any impact on machine code. Two calls to `nearest()` using the same type `P`, but different lifetimes, will call the same compiled function. Only differing types cause Rust to compile multiple copies of a generic function."
   ]
  },
  {
   "cell_type": "markdown",
   "id": "6e07a6cd-e3af-43cd-aa2c-dc3a6cc3e5ad",
   "metadata": {},
   "source": [
    "### Which to Use\n",
    "The choice of whether to use trait objects or generic code is subtle. Since both features are based on traits, they have a lot in common.\n",
    "\n",
    "Trait objects are the right choice whenever you need a collection of values of mixed types, all together. It is technically possible to make generic salad:\n",
    "```Rust\n",
    "trait Vegetable { \n",
    "    ...\n",
    "}\n",
    "struct Salad<V: Vegetable> { \n",
    "    veggies: Vec<V>\n",
    "}\n",
    "```\n",
    "However, this is a rather severe design. Each such salad consists entirely of a single type of vegetable. Not everyone is cut out for this sort of thing. One of your authors once paid $14 for a `Salad<IcebergLettuce>` and has never quite gotten over the experience.\n",
    "\n",
    "How can we build a better salad? Since Vegetable values can be all different sizes, we can’t ask Rust for a `Vec<dyn Vegetable>`:"
   ]
  },
  {
   "cell_type": "code",
   "execution_count": 17,
   "id": "8cf322ab-8565-40b2-ba08-15c1f4a8429d",
   "metadata": {},
   "outputs": [
    {
     "ename": "Error",
     "evalue": "the size for values of type `(dyn Vegetable + 'static)` cannot be known at compilation time",
     "output_type": "error",
     "traceback": [
      "\u001b[31m[E0277] Error:\u001b[0m the size for values of type `(dyn Vegetable + 'static)` cannot be known at compilation time",
      "   \u001b[38;5;246m╭\u001b[0m\u001b[38;5;246m─\u001b[0m\u001b[38;5;246m[\u001b[0mcommand_17:1:1\u001b[38;5;246m]\u001b[0m",
      "   \u001b[38;5;246m│\u001b[0m",
      " \u001b[38;5;246m4 │\u001b[0m \u001b[38;5;249m \u001b[0m\u001b[38;5;249m \u001b[0m\u001b[38;5;249m \u001b[0m\u001b[38;5;249m \u001b[0m\u001b[38;5;249mv\u001b[0m\u001b[38;5;249me\u001b[0m\u001b[38;5;249mg\u001b[0m\u001b[38;5;249mg\u001b[0m\u001b[38;5;249mi\u001b[0m\u001b[38;5;249me\u001b[0m\u001b[38;5;249ms\u001b[0m\u001b[38;5;249m:\u001b[0m\u001b[38;5;249m \u001b[0m\u001b[38;5;54mV\u001b[0m\u001b[38;5;54me\u001b[0m\u001b[38;5;54mc\u001b[0m\u001b[38;5;54m<\u001b[0m\u001b[38;5;54md\u001b[0m\u001b[38;5;54my\u001b[0m\u001b[38;5;54mn\u001b[0m\u001b[38;5;54m \u001b[0m\u001b[38;5;54mV\u001b[0m\u001b[38;5;54me\u001b[0m\u001b[38;5;54mg\u001b[0m\u001b[38;5;54me\u001b[0m\u001b[38;5;54mt\u001b[0m\u001b[38;5;54ma\u001b[0m\u001b[38;5;54mb\u001b[0m\u001b[38;5;54ml\u001b[0m\u001b[38;5;54me\u001b[0m\u001b[38;5;54m>\u001b[0m\u001b[38;5;249m \u001b[0m\u001b[38;5;249m/\u001b[0m\u001b[38;5;249m/\u001b[0m\u001b[38;5;249m \u001b[0m\u001b[38;5;249me\u001b[0m\u001b[38;5;249mr\u001b[0m\u001b[38;5;249mr\u001b[0m\u001b[38;5;249mo\u001b[0m\u001b[38;5;249mr\u001b[0m\u001b[38;5;249m:\u001b[0m\u001b[38;5;249m \u001b[0m\u001b[38;5;249m`\u001b[0m\u001b[38;5;249md\u001b[0m\u001b[38;5;249my\u001b[0m\u001b[38;5;249mn\u001b[0m\u001b[38;5;249m \u001b[0m\u001b[38;5;249mV\u001b[0m\u001b[38;5;249me\u001b[0m\u001b[38;5;249mg\u001b[0m\u001b[38;5;249me\u001b[0m\u001b[38;5;249mt\u001b[0m\u001b[38;5;249ma\u001b[0m\u001b[38;5;249mb\u001b[0m\u001b[38;5;249ml\u001b[0m\u001b[38;5;249me\u001b[0m\u001b[38;5;249m`\u001b[0m\u001b[38;5;249m \u001b[0m\u001b[38;5;249md\u001b[0m\u001b[38;5;249mo\u001b[0m\u001b[38;5;249me\u001b[0m\u001b[38;5;249ms\u001b[0m",
      " \u001b[38;5;240m  │\u001b[0m              \u001b[38;5;54m─\u001b[0m\u001b[38;5;54m─\u001b[0m\u001b[38;5;54m─\u001b[0m\u001b[38;5;54m─\u001b[0m\u001b[38;5;54m─\u001b[0m\u001b[38;5;54m─\u001b[0m\u001b[38;5;54m─\u001b[0m\u001b[38;5;54m─\u001b[0m\u001b[38;5;54m─\u001b[0m\u001b[38;5;54m┬\u001b[0m\u001b[38;5;54m─\u001b[0m\u001b[38;5;54m─\u001b[0m\u001b[38;5;54m─\u001b[0m\u001b[38;5;54m─\u001b[0m\u001b[38;5;54m─\u001b[0m\u001b[38;5;54m─\u001b[0m\u001b[38;5;54m─\u001b[0m\u001b[38;5;54m─\u001b[0m  ",
      " \u001b[38;5;240m  │\u001b[0m                       \u001b[38;5;54m╰\u001b[0m\u001b[38;5;54m─\u001b[0m\u001b[38;5;54m─\u001b[0m\u001b[38;5;54m─\u001b[0m\u001b[38;5;54m─\u001b[0m\u001b[38;5;54m─\u001b[0m\u001b[38;5;54m─\u001b[0m\u001b[38;5;54m─\u001b[0m\u001b[38;5;54m─\u001b[0m\u001b[38;5;54m─\u001b[0m\u001b[38;5;54m─\u001b[0m doesn't have a size known at compile-time",
      " \u001b[38;5;240m  │\u001b[0m ",
      " \u001b[38;5;240m  │\u001b[0m \u001b[38;5;115mNote\u001b[0m: required by this bound in `Vec`",
      "\u001b[38;5;246m───╯\u001b[0m"
     ]
    }
   ],
   "source": [
    "trait Vegetable {}\n",
    "\n",
    "struct Salad {\n",
    "    veggies: Vec<dyn Vegetable> // error: `dyn Vegetable` does\n",
    "                                // not have a constant size\n",
    "}"
   ]
  },
  {
   "cell_type": "code",
   "execution_count": 18,
   "id": "d54f85a8-d0b8-4b65-a6ee-5c1e02696207",
   "metadata": {},
   "outputs": [],
   "source": [
    "trait Vegetable {}\n",
    "\n",
    "struct Salad {\n",
    "    veggies: Vec<Box<dyn Vegetable>>\n",
    "}"
   ]
  },
  {
   "cell_type": "markdown",
   "id": "aee5d44d-3b5d-422e-8204-19613858346a",
   "metadata": {},
   "source": [
    "Each `Box<dyn Vegetable>` can own any type of vegetable, but the box itself has a constant size—two pointers—suitable for storing in a vector. Apart from the unfortunate mixed metaphor of having boxes in one’s food, this is precisely what’s called for, and it would work out just as well for shapes in a drawing app, monsters in a game, pluggable routing algorithms in a network router, and so on."
   ]
  },
  {
   "cell_type": "markdown",
   "id": "b1fd0596-a5a5-4e09-a3bc-b95a60e0f57b",
   "metadata": {},
   "source": [
    "使用 generics:\n",
    "* 没有 dyn 关键字，无需运行时参与，方法和类型在编译期就指定了，于是编译器可以帮助优化代码，速度上快\n",
    "* 有些特征的 associated function 可能需要范型，单纯的 trait 根本无法指定类型并编译\n",
    "* 可以绑定多个 trait，但是反过来 rust 不支持 `&mut (dyn Debug + Hash + Eq)`\n",
    "\n",
    "使用 trait:\n",
    "* 减少编译的代码量，防止代码膨胀\n",
    "* 多种类型，更加灵活\n",
    "\n",
    "更多细节请阅读原书"
   ]
  },
  {
   "cell_type": "markdown",
   "id": "01035ca6-40a1-4d53-9941-30d4baf97e7c",
   "metadata": {},
   "source": [
    "## Defining and Implementing Traits\n",
    "Defining a trait is simple. Give it a name and list the type signatures of the trait methods. If we’re writing a game, we might have a trait like this:\n",
    "```Rust\n",
    "/// A trait for characters, items, and scenery -\n",
    "/// anything in the game world that's visible on screen. \n",
    "trait Visible {\n",
    "    /// Render this object on the given canvas.\n",
    "    fn draw(&self, canvas: &mut Canvas);\n",
    "    /// Return true if clicking at (x, y) should \n",
    "    /// select this object.\n",
    "    fn hit_test(&self, x: i32, y: i32) -> bool;\n",
    "}\n",
    "\n",
    "\n",
    "impl Visible for Broom {\n",
    "    fn draw(&self, canvas: &mut Canvas) {\n",
    "        for y in self.y - self.height - 1 .. self.y { \n",
    "            canvas.write_at(self.x, y, '|');\n",
    "        }\n",
    "        canvas.write_at(self.x, self.y, 'M');\n",
    "    }\n",
    "    fn hit_test(&self, x: i32, y: i32) -> bool { \n",
    "        self.x == x\n",
    "        && self.y - self.height - 1 <= y\n",
    "        && y <= self.y\n",
    "    }\n",
    "}\n",
    "```\n",
    "\n",
    "Note that this impl contains an implementation for each method of the Visible trait, and nothing else. Everything defined in a trait impl must actually be a feature of the trait; if we wanted to add a helper method in support of `Broom::draw()`, we would have to define it in a separate impl block:\n",
    "```Rust\n",
    "impl Broom {\n",
    "    /// Helper function used by Broom::draw() below. \n",
    "    fn broomstick_range(&self) -> Range<i32> {\n",
    "        self.y - self.height - 1 .. self.y\n",
    "    }\n",
    "}\n",
    "```\n",
    "\n",
    "These helper functions can be used within the trait impl blocks:\n",
    "```Rust\n",
    "impl Visible for Broom {\n",
    "    fn draw(&self, canvas: &mut Canvas) {\n",
    "        for y in self.broomstick_range() { \n",
    "            ...\n",
    "        }\n",
    "        ... \n",
    "    }\n",
    "    ... \n",
    "}\n",
    "```"
   ]
  },
  {
   "cell_type": "markdown",
   "id": "6772cb51-defb-4ff1-b5e9-ee74351da5df",
   "metadata": {},
   "source": [
    "### Default Methods\n",
    "The Sink writer type we discussed earlier can be implemented in a few lines of code. First, we define the type:\n",
    "```Rust\n",
    "/// A Writer that ignores whatever data you write to it.\n",
    "pub struct Sink;\n",
    "```\n",
    "Sink is an empty struct, since we don’t need to store any data in it. Next, we provide\n",
    "an implementation of the `Write` trait for `Sink`: \n",
    "```Rust\n",
    "use std::io::{Write, Result};\n",
    "impl Write for Sink {\n",
    "    fn write(&mut self, buf: &[u8]) -> Result<usize> {\n",
    "        // Claim to have successfully written the whole buffer.\n",
    "        Ok(buf.len())\n",
    "    }\n",
    "    fn flush(&mut self) -> Result<()> { \n",
    "        Ok(())\n",
    "    } \n",
    "}\n",
    "```\n",
    "So far, this is very much like the Visible trait. But we have also seen that the Write trait has a `write_all` method:\n",
    "```Rust\n",
    "let mut out = Sink; \n",
    "out.write_all(b\"hello world\\n\")?;\n",
    "```\n",
    "Why does Rust let us impl `Write` for `Sink` without defining this method? The answer is that the standard library’s definition of the Write trait contains a default implementation for `write_all`:\n",
    "\n",
    "```Rust\n",
    "trait Write {\n",
    "    fn write(&mut self, buf: &[u8]) -> Result<usize>; \n",
    "    fn flush(&mut self) -> Result<()>;\n",
    "    fn write_all(&mut self, buf: &[u8]) -> Result<()> { \n",
    "        let mut bytes_written = 0;\n",
    "        while bytes_written < buf.len() {\n",
    "            bytes_written += self.write(&buf[bytes_written..])?;\n",
    "        }\n",
    "        Ok(()) \n",
    "    }\n",
    "    ... \n",
    "}\n",
    "```\n",
    "\n",
    "The write and flush methods are the basic methods that every writer must implement. A writer may also implement `write_all`, but if not, the default implementation shown earlier will be used.\n",
    "\n",
    "The most dramatic use of default methods in the standard library is the `Iterator` trait, which has one required method `(.next())` and dozens of default methods."
   ]
  },
  {
   "cell_type": "markdown",
   "id": "ce3a0e66-d93b-4139-bd01-ae597cdc404a",
   "metadata": {},
   "source": [
    "### Traits and Other People’s Types\n",
    "Rust lets you implement any trait on any type, as long as either the trait or the type is introduced in the current crate.\n",
    "This means that any time you want to add a method to any type, you can use a trait to do it:\n",
    "```Rust\n",
    "trait IsEmoji {\n",
    "    fn is_emoji(&self) -> bool;\n",
    "}\n",
    "    \n",
    "/// Implement IsEmoji for the built-in character type.\n",
    "impl IsEmoji for char {\n",
    "    fn is_emoji(&self) -> bool {\n",
    "        ... \n",
    "    }\n",
    "}\n",
    "assert_eq!('$'.is_emoji(), false);\n",
    "```\n",
    "Like any other trait method, this new `is_emoji` method is only visible when `IsEmoji` is in scope.\n",
    "\n",
    "The sole purpose of this particular trait is to add a method to an existing type, `char`. This is called an extension trait. Of course, you can add this trait to types, too, by writing impl `IsEmoji` for `str { ... }` and so forth.\n",
    "\n",
    "You can even use a generic impl block to add an extension trait to a whole family of types at once. This trait could be implemented on any type:\n",
    "```Rust\n",
    "/// You can write HTML to any std::io writer.\n",
    "impl<W: Write> WriteHtml for W {\n",
    "    fn write_html(&mut self, html: &HtmlDocument) -> io::Result<()> {\n",
    "        ... \n",
    "    }\n",
    "}\n",
    "```\n",
    "The line `impl<W: Write> WriteHtml for W` means “for every type `W` that implements Write, here’s an implementation of `WriteHtml` for `W`.”\n",
    "\n",
    "The `serde` library offers a nice example of how useful it can be to implement user-defined traits on standard types. `serde` is a serialization library. That is, you can use it to write Rust data structures to disk and reload them later. The library defines a trait, `Serialize`, that’s implemented for every data type the library supports. So in the serde source code, there is code implementing `Serialize` for `bool`, `i8`, `i16`, `i32`, `array` and `tuple` types, and so on, through all the standard data structures like `Vec` and `HashMap`.\n",
    "The upshot of all this is that `serde` adds a `.serialize()` method to all these types. It can be used like this:\n",
    "```Rust\n",
    "use serde::Serialize; // 引入 trait serde::Serialize，赋予了 HashMap<String, String> .serialize() 方法\n",
    "use serde_json; // \n",
    "pub fn save_configuration(config: &HashMap<String, String>) -> std::io::Result<()> {\n",
    "    // Create a JSON serializer to write the data to a file.\n",
    "    let writer = File::create(config_filename())?;\n",
    "    let mut serializer = serde_json::Serializer::new(writer);\n",
    "    // The serde `.serialize()` method does the rest.\n",
    "    config.serialize(&mut serializer)?; Ok(())\n",
    "}\n",
    "```\n",
    "We said earlier that when you implement a trait, either the trait or the type must be new in the current crate. This is called the orphan rule. It helps Rust ensure that trait implementations are unique. Your code can’t impl `Write` for `u8`, because both `Write` and `u8` are defined in the standard library. If Rust let crates do that, there could be multiple implementations of `Write` for `u8`, in different crates, and Rust would have no reasonable way to decide which implementation to use for a given method call."
   ]
  },
  {
   "cell_type": "markdown",
   "id": "a6a6c64a-14f8-4f28-beb9-00a7f270c4c7",
   "metadata": {},
   "source": [
    "### Self in Traits\n",
    "A trait can use the keyword `Self` as a type. The standard `Clone` trait, for example, looks like this (slightly simplified):\n",
    "```Rust\n",
    "// Clone trait的大致定义方式\n",
    "pub trait Clone {\n",
    "    fn clone(&self) -> Self; \n",
    "    ...\n",
    "}\n",
    "```\n",
    "Using Self as the return type here means that the type of `x.clone()` is the same as the type of `x`, whatever that might be. If `x` is a String, then the type of `x.clone()` is String—not `dyn` Clone or any other cloneable type.\n",
    "这个语法设计得真是妙啊。\n",
    "\n",
    "Likewise, if we define this trait:\n",
    "```Rust\n",
    "pub trait Spliceable {\n",
    "    fn splice(&self, other: &Self) -> Self;\n",
    "}\n",
    "```\n",
    "with two implementations:\n",
    "```Rust\n",
    "impl Spliceable for CherryTree {\n",
    "    fn splice(&self, other: &Self) -> Self {\n",
    "        ... \n",
    "    }\n",
    "}\n",
    "impl Spliceable for Mammoth {\n",
    "    fn splice(&self, other: &Self) -> Self {\n",
    "        ... \n",
    "    }\n",
    "}\n",
    "```\n",
    "then inside the first `impl`, `Self` is simply an alias for `CherryTree`, and in the second, it’s an alias for `Mammoth`.\n",
    "\n",
    "A trait that uses the `Self` type is incompatible with trait objects:\n",
    "```Rust\n",
    "    // error: the trait `Spliceable` cannot be made into an object\n",
    "    fn splice_anything(left: &dyn Spliceable, right: &dyn Spliceable) { \n",
    "        let combo = left.splice(right);\n",
    "        // ...\n",
    "    }\n",
    "```\n",
    "The reason is something we’ll see again and again as we dig into the advanced features of traits. Rust rejects this code because it has no way to type-check the call `left.splice(right)`. **The whole point of trait objects is that the type isn’t known until run time. Rust has no way to know at compile time if left and right will be the same type, as required.**\n",
    "\n",
    "Trait objects are really intended for the simplest kinds of traits, the kinds that could be implemented using interfaces in Java or abstract base classes in C++. The more advanced features of traits are useful, but they can’t coexist with trait objects because with trait objects, you lose the type information Rust needs to type-check your program.\n",
    "\n",
    "Now, had we wanted genetically improbable splicing, we could have designed a trait-object-friendly trait:\n",
    "```Rust\n",
    "\n",
    "pub trait MegaSpliceable {\n",
    "    fn splice(&self, other: &dyn MegaSpliceable) -> Box<dyn MegaSpliceable>;\n",
    "}\n",
    "```\n",
    "This trait is compatible with trait objects. There’s no problem type-checking calls to this `.splice()` method because the type of the argument other is not required to match the type of self, as long as both types are `MegaSpliceable`."
   ]
  },
  {
   "cell_type": "markdown",
   "id": "9c3df726-8ec3-42f1-bd32-c83b291c0c23",
   "metadata": {},
   "source": [
    "### Subtraits\n",
    "We can declare that a trait is an extension of another trait:\n",
    "```Rust\n",
    "/// Someone in the game world, either the player or some other \n",
    "/// pixie, gargoyle, squirrel, ogre, etc.\n",
    "trait Creature: Visible {\n",
    "    fn position(&self) -> (i32, i32); fn facing(&self) -> Direction; \n",
    "    ...\n",
    "}\n",
    "```\n",
    "The phrase trait Creature: Visible means that all creatures are visible. Every type that implements Creature must also implement the Visible trait:\n",
    "```Rust\n",
    "impl Visible for Broom { \n",
    "    ...\n",
    "}\n",
    "impl Creature for Broom {\n",
    "    ... \n",
    "}\n",
    "```\n",
    "We can implement the two traits in either order, but it’s an error to implement `Creature` for a type without also implementing `Visible`. Here, we say that `Creature` is a subtrait of `Visible`, and that `Creature` is `Visible`’s supertrait.\n",
    "\n",
    "In Rust, a subtrait does not inherit the associated items of its supertrait; each trait still needs to be in scope if you want to call its methods. In fact, Rust’s subtraits are really just a shorthand for a bound on `Self`. A definition of `Creature` like this is exactly equivalent to the one shown earlier:\n",
    "```Rust\n",
    "trait Creature where Self: Visible { \n",
    "    ...\n",
    "}\n",
    "```"
   ]
  },
  {
   "cell_type": "markdown",
   "id": "18ea778b-447a-4a58-854c-bc1106f3e57e",
   "metadata": {},
   "source": [
    "### Type-Associated Functions\n",
    "Like Java and C# interfaces, trait objects don’t support type-associated functions. If you want to use `&dyn StringSet` trait objects, you must change the trait, adding the bound where `Self: Sized` to each associated function that doesn’t take a self argument by reference: (这句话非常非常重要，如果希望一个 trait 作为动态对象，就要将没有把 &self 作为参数的方法全部加上 Self: Sized 的限制，它表明这个函数只能被那些具有确定大小的类型调用，而不能被不确定大小的动态对象调用。)\n",
    "```Rust\n",
    "trait StringSet { \n",
    "    fn new() -> Self\n",
    "        where Self: Sized;\n",
    "    fn from_slice(strings: &[&str]) -> Self\n",
    "        where Self: Sized;\n",
    "    fn contains(&self, string: &str) -> bool;\n",
    "    fn add(&mut self, string: &str); \n",
    "}\n",
    "```\n",
    "This bound tells Rust that trait objects are excused from supporting this particular associated function. With these additions, `StringSet` trait objects are allowed; they still don’t support `new` or `from_slice`, but you can create them and use them to call `.contains()` and `.add()`. The same trick works for any other method that is incompatible with trait objects."
   ]
  },
  {
   "cell_type": "code",
   "execution_count": 3,
   "id": "939b0429-3d0f-4b27-b7f3-9c4a28074186",
   "metadata": {
    "tags": []
   },
   "outputs": [],
   "source": [
    "trait StringSet {\n",
    "    /// Return a new empty set. \n",
    "    fn new() -> Self;\n",
    "    /// Return a set that contains all the strings in `strings`.\n",
    "    fn from_slice(strings: &[&str]) -> Self;\n",
    "    /// Find out if this set contains a particular `value`.\n",
    "    fn contains(&self, string: &str) -> bool;\n",
    "    /// Add a string to this set.\n",
    "    fn add(&mut self, string: &str); \n",
    "}\n",
    "\n",
    "/// Return the set of words in `document` that aren't in `wordlist`.\n",
    "fn unknown_words<S: StringSet>(document: &[String], wordlist: &S) -> S { \n",
    "    let mut unknowns = S::new();\n",
    "    for word in document {\n",
    "        if !wordlist.contains(word) { \n",
    "            unknowns.add(word);\n",
    "        } \n",
    "    }\n",
    "    unknowns\n",
    "}"
   ]
  },
  {
   "cell_type": "code",
   "execution_count": 6,
   "id": "18fda65b-e54c-4ecb-8482-2621aeb54236",
   "metadata": {
    "tags": []
   },
   "outputs": [
    {
     "ename": "Error",
     "evalue": "the trait `StringSet` cannot be made into an object",
     "output_type": "error",
     "traceback": [
      "fn foo(obj: &dyn StringSet) -> () {",
      "\u001b[91m             ^^^^^^^^^^^^^\u001b[0m \u001b[94m`StringSet` cannot be made into an object\u001b[0m",
      "the trait `StringSet` cannot be made into an object",
      "\u001b[1mhelp\u001b[0m: consider turning `new` into a method by giving it a `&self` argument\n\n&self",
      "\u001b[1mhelp\u001b[0m: alternatively, consider constraining `new` so it does not apply to trait objects\n\n where Self: Sized",
      "\u001b[1mhelp\u001b[0m: consider turning `from_slice` into a method by giving it a `&self` argument\n\n&self,",
      "\u001b[1mhelp\u001b[0m: alternatively, consider constraining `from_slice` so it does not apply to trait objects\n\n where Self: Sized"
     ]
    }
   ],
   "source": [
    "// 仔细阅读这段报错提示\n",
    "trait StringSet {\n",
    "    /// Return a new empty set. \n",
    "    fn new() -> Self;\n",
    "    /// Return a set that contains all the strings in `strings`.\n",
    "    fn from_slice(strings: &[&str]) -> Self;\n",
    "    /// Find out if this set contains a particular `value`.\n",
    "    fn contains(&self, string: &str) -> bool;\n",
    "    /// Add a string to this set.\n",
    "    fn add(&mut self, string: &str); \n",
    "}\n",
    "\n",
    "fn foo(obj: &dyn StringSet) -> () {\n",
    "}"
   ]
  },
  {
   "cell_type": "code",
   "execution_count": 8,
   "id": "7009a7b7-1f88-4ee1-8feb-44d916f5232c",
   "metadata": {
    "tags": []
   },
   "outputs": [],
   "source": [
    "// 这样就好了\n",
    "trait StringSet {\n",
    "    /// Return a new empty set. \n",
    "    fn new() -> Self\n",
    "        where Self: Sized;\n",
    "    /// Return a set that contains all the strings in `strings`.\n",
    "    fn from_slice(strings: &[&str]) -> Self\n",
    "        where Self: Sized;\n",
    "    /// Find out if this set contains a particular `value`.\n",
    "    fn contains(&self, string: &str) -> bool;\n",
    "    /// Add a string to this set.\n",
    "    fn add(&mut self, string: &str); \n",
    "}\n",
    "\n",
    "fn foo(obj: &dyn StringSet) -> () {\n",
    "}"
   ]
  },
  {
   "cell_type": "code",
   "execution_count": 11,
   "id": "b3f32261-ef34-41b1-a9ee-c4d22f4e543d",
   "metadata": {
    "tags": []
   },
   "outputs": [],
   "source": [
    "// 想要把associate func放到trait里面，就算函数签名里没有Self，也要加上\n",
    "// where Self: Sized; 的约束\n",
    "trait StringSet {\n",
    "    /// Return a new empty set. \n",
    "    fn new() -> Self\n",
    "        where Self: Sized;\n",
    "    /// Return a set that contains all the strings in `strings`.\n",
    "    fn from_slice(strings: &[&str]) -> Self\n",
    "        where Self: Sized;\n",
    "    fn foobar()\n",
    "        where Self: Sized;\n",
    "    /// Find out if this set contains a particular `value`.\n",
    "    fn contains(&self, string: &str) -> bool;\n",
    "    /// Add a string to this set.\n",
    "    fn add(&mut self, string: &str); \n",
    "}\n",
    "\n",
    "fn foo(obj: &dyn StringSet) -> () {\n",
    "}"
   ]
  },
  {
   "cell_type": "markdown",
   "id": "4641b134-bf01-49b1-b34c-06651f59304e",
   "metadata": {},
   "source": [
    "## Fully Qualified Method Calls\n"
   ]
  },
  {
   "cell_type": "code",
   "execution_count": 4,
   "id": "d294ff94-4415-4c71-a833-95d40c60f1e3",
   "metadata": {},
   "outputs": [],
   "source": [
    "\"hello\".to_string();\n",
    "// following three are qualified method calls.\n",
    "str::to_string(\"hello\");\n",
    "ToString::to_string(\"hello\");\n",
    "<str as ToString>::to_string(\"hello\"); \n",
    "// the implementation of that method, the trait, the method of that trait and the value to which that implementation is being applied.\n",
    "// in some cases you need a way to say exactly what you mean. Fully qualified method calls fit the bill."
   ]
  },
  {
   "cell_type": "markdown",
   "id": "7f6670ca-93cf-43a6-9028-8278cb6a7d68",
   "metadata": {},
   "source": [
    "When you write `\"hello\".to_string()`, using the `.` operator, you don’t say exactly which `to_string` method you’re calling. Rust has a method lookup algorithm that figures this out, depending on the types, deref coercions, and so on. With fully qualified calls, you can say exactly which method you mean, and that can help in a few odd cases:\n",
    "* When two methods have the same name. The classic hokey example is the Outlaw with two .draw() methods from two different traits, one for drawing it on the screen and one for interacting with the law:\n",
    "```Rust\n",
    "outlaw.draw(); // error: draw on screen or draw pistol? \n",
    "Visible::draw(&outlaw); // ok: draw on screen\n",
    "HasPistol::draw(&outlaw); // ok: corral\n",
    "```\n",
    "    Usually you’re better off renaming one of the methods, but sometimes you can’t.\n",
    "* When the type of the self argument can’t be inferred:\n",
    "```Rust\n",
    "let zero = 0; // type unspecified; could be `i8`, `u8`, ...\n",
    "zero.abs(); // error: can't call method `abs` \n",
    "            // on ambiguous numeric type\n",
    "i64::abs(zero); // ok\n",
    "```\n",
    "* When using the function itself as a function value:\n",
    "```Rust\n",
    "let words: Vec<String> =\n",
    "    line.split_whitespace() // iterator produces &str values\n",
    "        .map(ToString::to_string) // ok \n",
    "        .collect();\n",
    "```\n",
    "* When calling trait methods in macros. "
   ]
  },
  {
   "cell_type": "markdown",
   "id": "40b8c6c0-c3f0-46af-9d0e-5977f59d39ff",
   "metadata": {
    "tags": []
   },
   "source": [
    "## Traits That Define Relationships Between Types\n",
    "### Associated Types (or How Iterators Work)\n",
    "Rust has a standard `Iterator` trait, defined like this:\n",
    "```Rust\n",
    "pub trait Iterator {\n",
    "    type Item;\n",
    "    fn next(&mut self) -> Option<Self::Item>;\n",
    "    ...\n",
    "}\n",
    "```\n",
    "The first feature of this trait, `type Item`;, is an associated type. Each type that implements `Iterator` must specify what type of item it produces.\n",
    "\n",
    "The second feature, the `next()` method, uses the associated type in its return value. `next()` returns an `Option<Self::Item>`: either `Some(item)`, the next value in the sequence, or `None` when there are no more values to visit. The type is written as `Self::Item`, not just plain Item, because `Item` is a feature of each type of iterator, not a standalone type. As always, self and the Self type show up explicitly in the code everywhere their fields, methods, and so on are used.\n",
    "Here’s what it looks like to implement Iterator for a type:\n",
    "```Rust\n",
    "// (code from the std::env standard library module)\n",
    "impl Iterator for Args { type Item = String;\n",
    "    fn next(&mut self) -> Option<String> { \n",
    "        ...\n",
    "    }\n",
    "    ... \n",
    "}\n",
    "```\n",
    "Generic code can use associated types:\n",
    "```Rust\n",
    "/// Loop over an iterator, storing the values in a new vector.\n",
    "fn collect_into_vector<I: Iterator>(iter: I) -> Vec<I::Item> { \n",
    "    let mut results = Vec::new();\n",
    "    for value in iter {\n",
    "        results.push(value);\n",
    "    }\n",
    "    results\n",
    "}\n",
    "```\n",
    "Inside the body of this function, Rust infers the type of value for us, which is nice; but we must spell out the return type of `collect_into_vector`, and the `Item` associated type is the only way to do that. (`Vec<I>` would be simply wrong: we would be claiming to return a vector of iterators!)"
   ]
  },
  {
   "cell_type": "code",
   "execution_count": 6,
   "id": "434968b7-a0eb-4e25-9472-9f6abdf90ac3",
   "metadata": {
    "tags": []
   },
   "outputs": [
    {
     "ename": "Error",
     "evalue": "`<I as Iterator>::Item` doesn't implement `Debug`",
     "output_type": "error",
     "traceback": [
      "\u001b[31m[E0277] Error:\u001b[0m `<I as Iterator>::Item` doesn't implement `Debug`",
      "   \u001b[38;5;246m╭\u001b[0m\u001b[38;5;246m─\u001b[0m\u001b[38;5;246m[\u001b[0mcommand_6:1:1\u001b[38;5;246m]\u001b[0m",
      "   \u001b[38;5;246m│\u001b[0m",
      " \u001b[38;5;246m2 │\u001b[0m \u001b[38;5;249mf\u001b[0m\u001b[38;5;249mn\u001b[0m\u001b[38;5;249m \u001b[0m\u001b[38;5;249md\u001b[0m\u001b[38;5;249mu\u001b[0m\u001b[38;5;249mm\u001b[0m\u001b[38;5;249mp\u001b[0m\u001b[38;5;249m<\u001b[0m\u001b[38;5;249mI\u001b[0m\u001b[38;5;249m>\u001b[0m\u001b[38;5;249m(\u001b[0m\u001b[38;5;249mi\u001b[0m\u001b[38;5;249mt\u001b[0m\u001b[38;5;249me\u001b[0m\u001b[38;5;249mr\u001b[0m\u001b[38;5;249m:\u001b[0m\u001b[38;5;249m \u001b[0m\u001b[38;5;249mI\u001b[0m\u001b[38;5;249m)\u001b[0m\u001b[38;5;249m \u001b[0m\u001b[38;5;249mw\u001b[0m\u001b[38;5;249mh\u001b[0m\u001b[38;5;249me\u001b[0m\u001b[38;5;249mr\u001b[0m\u001b[38;5;249me\u001b[0m\u001b[38;5;249m \u001b[0m\u001b[38;5;249mI\u001b[0m\u001b[38;5;249m:\u001b[0m\u001b[38;5;249m \u001b[0m\u001b[38;5;249mI\u001b[0m\u001b[38;5;249mt\u001b[0m\u001b[38;5;249me\u001b[0m\u001b[38;5;249mr\u001b[0m\u001b[38;5;249ma\u001b[0m\u001b[38;5;249mt\u001b[0m\u001b[38;5;249mo\u001b[0m\u001b[38;5;249mr\u001b[0m",
      " \u001b[38;5;240m  │\u001b[0m                                      \u001b[38;5;100m│\u001b[0m ",
      " \u001b[38;5;240m  │\u001b[0m                                      \u001b[38;5;100m╰\u001b[0m\u001b[38;5;100m─\u001b[0m help: consider further restricting the associated type: `, <I as Iterator>::Item: Debug`",
      " \u001b[38;5;240m  │\u001b[0m ",
      " \u001b[38;5;246m5 │\u001b[0m \u001b[38;5;249m \u001b[0m\u001b[38;5;249m \u001b[0m\u001b[38;5;249m \u001b[0m\u001b[38;5;249m \u001b[0m\u001b[38;5;249m \u001b[0m\u001b[38;5;249m \u001b[0m\u001b[38;5;249m \u001b[0m\u001b[38;5;249m \u001b[0m\u001b[38;5;249mp\u001b[0m\u001b[38;5;249mr\u001b[0m\u001b[38;5;249mi\u001b[0m\u001b[38;5;249mn\u001b[0m\u001b[38;5;249mt\u001b[0m\u001b[38;5;249ml\u001b[0m\u001b[38;5;249mn\u001b[0m\u001b[38;5;249m!\u001b[0m\u001b[38;5;249m(\u001b[0m\u001b[38;5;249m\"\u001b[0m\u001b[38;5;249m{\u001b[0m\u001b[38;5;249m}\u001b[0m\u001b[38;5;249m:\u001b[0m\u001b[38;5;249m \u001b[0m\u001b[38;5;249m{\u001b[0m\u001b[38;5;249m:\u001b[0m\u001b[38;5;249m?\u001b[0m\u001b[38;5;249m}\u001b[0m\u001b[38;5;249m\"\u001b[0m\u001b[38;5;249m,\u001b[0m\u001b[38;5;249m \u001b[0m\u001b[38;5;249mi\u001b[0m\u001b[38;5;249mn\u001b[0m\u001b[38;5;249md\u001b[0m\u001b[38;5;249me\u001b[0m\u001b[38;5;249mx\u001b[0m\u001b[38;5;249m,\u001b[0m\u001b[38;5;249m \u001b[0m\u001b[38;5;54mv\u001b[0m\u001b[38;5;54ma\u001b[0m\u001b[38;5;54ml\u001b[0m\u001b[38;5;54mu\u001b[0m\u001b[38;5;54me\u001b[0m\u001b[38;5;249m)\u001b[0m\u001b[38;5;249m;\u001b[0m\u001b[38;5;249m \u001b[0m\u001b[38;5;249m/\u001b[0m\u001b[38;5;249m/\u001b[0m\u001b[38;5;249m \u001b[0m\u001b[38;5;249me\u001b[0m\u001b[38;5;249mr\u001b[0m\u001b[38;5;249mr\u001b[0m\u001b[38;5;249mo\u001b[0m\u001b[38;5;249mr\u001b[0m",
      " \u001b[38;5;240m  │\u001b[0m                                     \u001b[38;5;54m─\u001b[0m\u001b[38;5;54m─\u001b[0m\u001b[38;5;54m┬\u001b[0m\u001b[38;5;54m─\u001b[0m\u001b[38;5;54m─\u001b[0m  ",
      " \u001b[38;5;240m  │\u001b[0m                                       \u001b[38;5;54m╰\u001b[0m\u001b[38;5;54m─\u001b[0m\u001b[38;5;54m─\u001b[0m\u001b[38;5;54m─\u001b[0m\u001b[38;5;54m─\u001b[0m `<I as Iterator>::Item` cannot be formatted using `{:?}` because it doesn't implement `Debug`",
      "\u001b[38;5;246m───╯\u001b[0m"
     ]
    }
   ],
   "source": [
    "/// Print out all the values produced by an iterator\n",
    "fn dump<I>(iter: I) \n",
    "    where I: Iterator\n",
    "{\n",
    "    for (index, value) in iter.enumerate() {\n",
    "        println!(\"{}: {:?}\", index, value); // error\n",
    "    } \n",
    "}"
   ]
  },
  {
   "cell_type": "code",
   "execution_count": 8,
   "id": "f9544de5-9937-457d-ae50-62725288af22",
   "metadata": {
    "tags": []
   },
   "outputs": [],
   "source": [
    "use std::fmt::Debug;\n",
    "\n",
    "fn dump<I>(iter: I) \n",
    "    where I: Iterator, I::Item: Debug\n",
    "{\n",
    "    for (index, value) in iter.enumerate() {\n",
    "        println!(\"{}: {:?}\", index, value); // error\n",
    "    } \n",
    "}"
   ]
  },
  {
   "cell_type": "code",
   "execution_count": 9,
   "id": "70dfb682-94a9-4da2-b8b9-5ee206828af7",
   "metadata": {
    "tags": []
   },
   "outputs": [],
   "source": [
    "use std::fmt::Debug;\n",
    "\n",
    "fn dump<I>(iter: I) \n",
    "    where I: Iterator<Item = String>\n",
    "{\n",
    "    for (index, value) in iter.enumerate() {\n",
    "        println!(\"{}: {:?}\", index, value); // error\n",
    "    } \n",
    "}"
   ]
  },
  {
   "cell_type": "markdown",
   "id": "c3cd5cc8-f81e-477b-9840-35486345fd42",
   "metadata": {},
   "source": [
    "`Iterator<Item=String>` is itself a trait. If you think of Iterator as the set of all iterator types, then `Iterator<Item=String>` is a subset of Iterator: the set of iterator types that produce Strings. This syntax can be used anywhere the name of a trait can be used, including trait object types:"
   ]
  },
  {
   "cell_type": "code",
   "execution_count": 10,
   "id": "c36740a7-ae97-406d-abff-5832085f34e3",
   "metadata": {
    "tags": []
   },
   "outputs": [],
   "source": [
    "fn dump(iter: &mut dyn Iterator<Item=String>) { \n",
    "    for (index, s) in iter.enumerate() {\n",
    "        println!(\"{}: {:?}\", index, s);\n",
    "    }\n",
    "}"
   ]
  },
  {
   "cell_type": "markdown",
   "id": "e79809e5-874f-4d64-989d-8a117eed97a0",
   "metadata": {},
   "source": [
    "Traits with associated types, like `Iterator`, are compatible with trait methods, but only if all the associated types are spelled out, as shown here. Otherwise, the type of s could be anything, and again, Rust would have no way to type-check this code.\n",
    "\n",
    "We’ve shown a lot of examples involving iterators. It’s hard not to; they’re by far the most prominent use of associated types. But associated types are generally useful whenever a trait needs to cover more than just methods:\n",
    "* In a thread pool library, a `Task` trait, representing a unit of work, could have an associated Output type.\n",
    "* A `Pattern` trait, representing a way of searching a string, could have an associated Match type, representing all the information gathered by matching the pattern to the string:\n",
    "```Rust\n",
    "trait Pattern { \n",
    "    type Match;\n",
    "    \n",
    "    fn search(&self, string: &str) -> Option<Self::Match>; \n",
    "}\n",
    "\n",
    "/// You can search a string for a particular character.\n",
    "impl Pattern for char {\n",
    "    /// A \"match\" is just the location where the \n",
    "    /// character was found.\n",
    "    type Match = usize;\n",
    "    fn search(&self, string: &str) -> Option<usize> { \n",
    "        ...\n",
    "    } \n",
    "}\n",
    "```\n",
    "* A library for working with relational databases might have a Database Connection trait with associated types representing transactions, cursors, prepared statements, and so on."
   ]
  },
  {
   "cell_type": "markdown",
   "id": "17c0f376-2d29-42c1-8c8b-c2247663c6af",
   "metadata": {},
   "source": [
    "### impl Trait\n"
   ]
  }
 ],
 "metadata": {
  "kernelspec": {
   "display_name": "Rust",
   "language": "rust",
   "name": "rust"
  },
  "language_info": {
   "codemirror_mode": "rust",
   "file_extension": ".rs",
   "mimetype": "text/rust",
   "name": "Rust",
   "pygment_lexer": "rust",
   "version": ""
  }
 },
 "nbformat": 4,
 "nbformat_minor": 5
}
