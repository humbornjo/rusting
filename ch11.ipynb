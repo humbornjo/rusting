{
 "cells": [
  {
   "cell_type": "markdown",
   "id": "12113ed4-83a9-43d0-ad1c-2bab35bd4f8d",
   "metadata": {},
   "source": [
    "# Traits and Generics"
   ]
  },
  {
   "cell_type": "markdown",
   "id": "f9ffefe8-6cfc-4ca1-b5c7-b58f2b57226d",
   "metadata": {},
   "source": [
    "范型和组合天下第一"
   ]
  },
  {
   "cell_type": "markdown",
   "id": "ccd6a1f1-c9f6-4b80-9965-7a1a81e2f309",
   "metadata": {},
   "source": [
    "## Using Traits\n",
    "There is one unusual rule about trait methods: the trait itself must be in scope. Otherwise, all its methods are hidden:"
   ]
  },
  {
   "cell_type": "code",
   "execution_count": 4,
   "id": "0f85abde-95c3-4219-be94-c27af0b7e086",
   "metadata": {},
   "outputs": [
    {
     "ename": "Error",
     "evalue": "no method named `write_all` found for struct `Vec<u8>` in the current scope",
     "output_type": "error",
     "traceback": [
      "\u001b[31m[E0599] Error:\u001b[0m no method named `write_all` found for struct `Vec<u8>` in the current scope",
      "   \u001b[38;5;246m╭\u001b[0m\u001b[38;5;246m─\u001b[0m\u001b[38;5;246m[\u001b[0mcommand_4:1:1\u001b[38;5;246m]\u001b[0m",
      "   \u001b[38;5;246m│\u001b[0m",
      " \u001b[38;5;246m2 │\u001b[0m \u001b[38;5;249mb\u001b[0m\u001b[38;5;249mu\u001b[0m\u001b[38;5;249mf\u001b[0m\u001b[38;5;249m.\u001b[0m\u001b[38;5;54mw\u001b[0m\u001b[38;5;54mr\u001b[0m\u001b[38;5;54mi\u001b[0m\u001b[38;5;54mt\u001b[0m\u001b[38;5;54me\u001b[0m\u001b[38;5;54m_\u001b[0m\u001b[38;5;54ma\u001b[0m\u001b[38;5;54ml\u001b[0m\u001b[38;5;54ml\u001b[0m\u001b[38;5;249m(\u001b[0m\u001b[38;5;249mb\u001b[0m\u001b[38;5;249m\"\u001b[0m\u001b[38;5;249mh\u001b[0m\u001b[38;5;249me\u001b[0m\u001b[38;5;249ml\u001b[0m\u001b[38;5;249ml\u001b[0m\u001b[38;5;249mo\u001b[0m\u001b[38;5;249m\"\u001b[0m\u001b[38;5;249m)\u001b[0m\u001b[38;5;249m?\u001b[0m\u001b[38;5;249m;\u001b[0m\u001b[38;5;249m \u001b[0m\u001b[38;5;249m/\u001b[0m\u001b[38;5;249m/\u001b[0m\u001b[38;5;249m \u001b[0m\u001b[38;5;249me\u001b[0m\u001b[38;5;249mr\u001b[0m\u001b[38;5;249mr\u001b[0m\u001b[38;5;249mo\u001b[0m\u001b[38;5;249mr\u001b[0m\u001b[38;5;249m:\u001b[0m\u001b[38;5;249m \u001b[0m\u001b[38;5;249mn\u001b[0m\u001b[38;5;249mo\u001b[0m\u001b[38;5;249m \u001b[0m\u001b[38;5;249mm\u001b[0m\u001b[38;5;249me\u001b[0m\u001b[38;5;249mt\u001b[0m\u001b[38;5;249mh\u001b[0m\u001b[38;5;249mo\u001b[0m\u001b[38;5;249md\u001b[0m\u001b[38;5;249m \u001b[0m\u001b[38;5;249mn\u001b[0m\u001b[38;5;249ma\u001b[0m\u001b[38;5;249mm\u001b[0m\u001b[38;5;249me\u001b[0m\u001b[38;5;249md\u001b[0m\u001b[38;5;249m \u001b[0m\u001b[38;5;249m`\u001b[0m\u001b[38;5;249mw\u001b[0m\u001b[38;5;249mr\u001b[0m\u001b[38;5;249mi\u001b[0m\u001b[38;5;249mt\u001b[0m\u001b[38;5;249me\u001b[0m\u001b[38;5;249m_\u001b[0m\u001b[38;5;249ma\u001b[0m\u001b[38;5;249ml\u001b[0m\u001b[38;5;249ml\u001b[0m\u001b[38;5;249m`\u001b[0m",
      " \u001b[38;5;240m  │\u001b[0m     \u001b[38;5;54m─\u001b[0m\u001b[38;5;54m─\u001b[0m\u001b[38;5;54m─\u001b[0m\u001b[38;5;54m─\u001b[0m\u001b[38;5;54m┬\u001b[0m\u001b[38;5;54m─\u001b[0m\u001b[38;5;54m─\u001b[0m\u001b[38;5;54m─\u001b[0m\u001b[38;5;54m─\u001b[0m  ",
      " \u001b[38;5;240m  │\u001b[0m         \u001b[38;5;54m╰\u001b[0m\u001b[38;5;54m─\u001b[0m\u001b[38;5;54m─\u001b[0m\u001b[38;5;54m─\u001b[0m\u001b[38;5;54m─\u001b[0m\u001b[38;5;54m─\u001b[0m\u001b[38;5;54m─\u001b[0m method not found in `Vec<u8>`",
      " \u001b[38;5;240m  │\u001b[0m ",
      " \u001b[38;5;240m  │\u001b[0m \u001b[38;5;115mNote\u001b[0m: help: the following trait is implemented but not in scope; perhaps add a `use` for it:: `use std::io::Write;",
      "`",
      "\u001b[38;5;246m───╯\u001b[0m"
     ]
    }
   ],
   "source": [
    "let mut buf: Vec<u8> = vec![];\n",
    "buf.write_all(b\"hello\")?; // error: no method named `write_all`"
   ]
  },
  {
   "cell_type": "code",
   "execution_count": 5,
   "id": "f87b41e7-0b8b-4bc7-b26c-f6a38bc496c1",
   "metadata": {},
   "outputs": [],
   "source": [
    "use std::io::Write;\n",
    "let mut buf: Vec<u8> = vec![];\n",
    "buf.write_all(b\"hello\")?; // ok"
   ]
  },
  {
   "cell_type": "markdown",
   "id": "491b448f-3104-4681-b652-b24f0ca1efee",
   "metadata": {},
   "source": [
    "The reason `Clone` and `Iterator methods work without any special imports is that they’re always in scope by default: **they’re part of the standard prelude, names that Rust automatically imports into every module**. In fact, the prelude is mostly a carefully chosen selection of traits.\n",
    "\n",
    "C++ and C# programmers will already have noticed that trait methods are like virtual methods. Still, calls like the one shown above are fast, as fast as any other method call. **Simply put, there’s no polymorphism here**. It’s obvious that `buf` is a vector, not a file or a network connection. The compiler can emit a simple call to `Vec<u8>::write()`. It can even inline the method. (C++ and C# will often do the same, although the possibility of subclassing sometimes precludes this.) Only calls through `&mut dyn Write` incur the overhead of a dynamic dispatch, also known as a virtual method call, which is indicated by the dyn keyword in the type. `dyn Write` is known as a trait object; we’ll look at the technical details of trait objects, and how they compare to generic functions, in the following sections.\n"
   ]
  },
  {
   "cell_type": "markdown",
   "id": "7060465f-6b75-4c8e-9f8e-a7691f2695f7",
   "metadata": {},
   "source": [
    "### Trait Objects\n",
    "There are two ways of using traits to write polymorphic code in Rust: trait objects and generics.\n",
    "\n",
    "Rust doesn’t permit variables of type `dyn Write`:"
   ]
  },
  {
   "cell_type": "code",
   "execution_count": 2,
   "id": "750ab6ac-4dca-429c-b5c6-62de7933bce0",
   "metadata": {},
   "outputs": [
    {
     "ename": "Error",
     "evalue": "mismatched types",
     "output_type": "error",
     "traceback": [
      "\u001b[31m[E0308] Error:\u001b[0m mismatched types",
      "   \u001b[38;5;246m╭\u001b[0m\u001b[38;5;246m─\u001b[0m\u001b[38;5;246m[\u001b[0mcommand_2:1:1\u001b[38;5;246m]\u001b[0m",
      "   \u001b[38;5;246m│\u001b[0m",
      " \u001b[38;5;246m3 │\u001b[0m \u001b[38;5;249ml\u001b[0m\u001b[38;5;249me\u001b[0m\u001b[38;5;249mt\u001b[0m\u001b[38;5;249m \u001b[0m\u001b[38;5;249mw\u001b[0m\u001b[38;5;249mr\u001b[0m\u001b[38;5;249mi\u001b[0m\u001b[38;5;249mt\u001b[0m\u001b[38;5;249me\u001b[0m\u001b[38;5;249mr\u001b[0m\u001b[38;5;249m:\u001b[0m\u001b[38;5;249m \u001b[0m\u001b[38;5;100md\u001b[0m\u001b[38;5;100my\u001b[0m\u001b[38;5;100mn\u001b[0m\u001b[38;5;100m \u001b[0m\u001b[38;5;100mW\u001b[0m\u001b[38;5;100mr\u001b[0m\u001b[38;5;100mi\u001b[0m\u001b[38;5;100mt\u001b[0m\u001b[38;5;100me\u001b[0m\u001b[38;5;249m \u001b[0m\u001b[38;5;249m=\u001b[0m\u001b[38;5;249m \u001b[0m\u001b[38;5;54mb\u001b[0m\u001b[38;5;54mu\u001b[0m\u001b[38;5;54mf\u001b[0m\u001b[38;5;249m;\u001b[0m\u001b[38;5;249m \u001b[0m\u001b[38;5;249m/\u001b[0m\u001b[38;5;249m/\u001b[0m\u001b[38;5;249m \u001b[0m\u001b[38;5;249me\u001b[0m\u001b[38;5;249mr\u001b[0m\u001b[38;5;249mr\u001b[0m\u001b[38;5;249mo\u001b[0m\u001b[38;5;249mr\u001b[0m\u001b[38;5;249m:\u001b[0m\u001b[38;5;249m \u001b[0m\u001b[38;5;249m`\u001b[0m\u001b[38;5;249mW\u001b[0m\u001b[38;5;249mr\u001b[0m\u001b[38;5;249mi\u001b[0m\u001b[38;5;249mt\u001b[0m\u001b[38;5;249me\u001b[0m\u001b[38;5;249m`\u001b[0m\u001b[38;5;249m \u001b[0m\u001b[38;5;249md\u001b[0m\u001b[38;5;249mo\u001b[0m\u001b[38;5;249me\u001b[0m\u001b[38;5;249ms\u001b[0m\u001b[38;5;249m \u001b[0m\u001b[38;5;249mn\u001b[0m\u001b[38;5;249mo\u001b[0m\u001b[38;5;249mt\u001b[0m\u001b[38;5;249m \u001b[0m\u001b[38;5;249mh\u001b[0m\u001b[38;5;249ma\u001b[0m\u001b[38;5;249mv\u001b[0m\u001b[38;5;249me\u001b[0m\u001b[38;5;249m \u001b[0m\u001b[38;5;249ma\u001b[0m\u001b[38;5;249m \u001b[0m\u001b[38;5;249mc\u001b[0m\u001b[38;5;249mo\u001b[0m\u001b[38;5;249mn\u001b[0m\u001b[38;5;249ms\u001b[0m\u001b[38;5;249mt\u001b[0m\u001b[38;5;249ma\u001b[0m\u001b[38;5;249mn\u001b[0m\u001b[38;5;249mt\u001b[0m\u001b[38;5;249m \u001b[0m\u001b[38;5;249ms\u001b[0m\u001b[38;5;249mi\u001b[0m\u001b[38;5;249mz\u001b[0m\u001b[38;5;249me\u001b[0m",
      " \u001b[38;5;240m  │\u001b[0m             \u001b[38;5;100m─\u001b[0m\u001b[38;5;100m─\u001b[0m\u001b[38;5;100m─\u001b[0m\u001b[38;5;100m─\u001b[0m\u001b[38;5;100m┬\u001b[0m\u001b[38;5;100m─\u001b[0m\u001b[38;5;100m─\u001b[0m\u001b[38;5;100m─\u001b[0m\u001b[38;5;100m─\u001b[0m   \u001b[38;5;54m─\u001b[0m\u001b[38;5;54m┬\u001b[0m\u001b[38;5;54m─\u001b[0m  ",
      " \u001b[38;5;240m  │\u001b[0m                 \u001b[38;5;100m╰\u001b[0m\u001b[38;5;100m─\u001b[0m\u001b[38;5;100m─\u001b[0m\u001b[38;5;100m─\u001b[0m\u001b[38;5;100m─\u001b[0m\u001b[38;5;100m─\u001b[0m\u001b[38;5;100m─\u001b[0m\u001b[38;5;100m─\u001b[0m\u001b[38;5;100m─\u001b[0m\u001b[38;5;100m─\u001b[0m\u001b[38;5;100m─\u001b[0m\u001b[38;5;100m─\u001b[0m\u001b[38;5;100m─\u001b[0m expected due to this",
      " \u001b[38;5;240m  │\u001b[0m                          \u001b[38;5;54m│\u001b[0m   ",
      " \u001b[38;5;240m  │\u001b[0m                          \u001b[38;5;54m╰\u001b[0m\u001b[38;5;54m─\u001b[0m\u001b[38;5;54m─\u001b[0m\u001b[38;5;54m─\u001b[0m expected `dyn Write`, found `Vec<u8>`",
      "\u001b[38;5;246m───╯\u001b[0m"
     ]
    },
    {
     "ename": "Error",
     "evalue": "the size for values of type `dyn std::io::Write` cannot be known at compilation time",
     "output_type": "error",
     "traceback": [
      "\u001b[31m[E0277] Error:\u001b[0m the size for values of type `dyn std::io::Write` cannot be known at compilation time",
      "   \u001b[38;5;246m╭\u001b[0m\u001b[38;5;246m─\u001b[0m\u001b[38;5;246m[\u001b[0mcommand_2:1:1\u001b[38;5;246m]\u001b[0m",
      "   \u001b[38;5;246m│\u001b[0m",
      " \u001b[38;5;246m3 │\u001b[0m \u001b[38;5;249ml\u001b[0m\u001b[38;5;249me\u001b[0m\u001b[38;5;249mt\u001b[0m\u001b[38;5;249m \u001b[0m\u001b[38;5;54mw\u001b[0m\u001b[38;5;54mr\u001b[0m\u001b[38;5;54mi\u001b[0m\u001b[38;5;54mt\u001b[0m\u001b[38;5;54me\u001b[0m\u001b[38;5;54mr\u001b[0m\u001b[38;5;249m:\u001b[0m\u001b[38;5;249m \u001b[0m\u001b[38;5;249md\u001b[0m\u001b[38;5;249my\u001b[0m\u001b[38;5;249mn\u001b[0m\u001b[38;5;249m \u001b[0m\u001b[38;5;249mW\u001b[0m\u001b[38;5;249mr\u001b[0m\u001b[38;5;249mi\u001b[0m\u001b[38;5;249mt\u001b[0m\u001b[38;5;249me\u001b[0m\u001b[38;5;249m \u001b[0m\u001b[38;5;249m=\u001b[0m\u001b[38;5;249m \u001b[0m\u001b[38;5;249mb\u001b[0m\u001b[38;5;249mu\u001b[0m\u001b[38;5;249mf\u001b[0m\u001b[38;5;249m;\u001b[0m\u001b[38;5;249m \u001b[0m\u001b[38;5;249m/\u001b[0m\u001b[38;5;249m/\u001b[0m\u001b[38;5;249m \u001b[0m\u001b[38;5;249me\u001b[0m\u001b[38;5;249mr\u001b[0m\u001b[38;5;249mr\u001b[0m\u001b[38;5;249mo\u001b[0m\u001b[38;5;249mr\u001b[0m\u001b[38;5;249m:\u001b[0m\u001b[38;5;249m \u001b[0m\u001b[38;5;249m`\u001b[0m\u001b[38;5;249mW\u001b[0m\u001b[38;5;249mr\u001b[0m\u001b[38;5;249mi\u001b[0m\u001b[38;5;249mt\u001b[0m\u001b[38;5;249me\u001b[0m\u001b[38;5;249m`\u001b[0m\u001b[38;5;249m \u001b[0m\u001b[38;5;249md\u001b[0m\u001b[38;5;249mo\u001b[0m\u001b[38;5;249me\u001b[0m\u001b[38;5;249ms\u001b[0m\u001b[38;5;249m \u001b[0m\u001b[38;5;249mn\u001b[0m\u001b[38;5;249mo\u001b[0m\u001b[38;5;249mt\u001b[0m\u001b[38;5;249m \u001b[0m\u001b[38;5;249mh\u001b[0m\u001b[38;5;249ma\u001b[0m\u001b[38;5;249mv\u001b[0m\u001b[38;5;249me\u001b[0m\u001b[38;5;249m \u001b[0m\u001b[38;5;249ma\u001b[0m\u001b[38;5;249m \u001b[0m\u001b[38;5;249mc\u001b[0m\u001b[38;5;249mo\u001b[0m\u001b[38;5;249mn\u001b[0m\u001b[38;5;249ms\u001b[0m\u001b[38;5;249mt\u001b[0m\u001b[38;5;249ma\u001b[0m\u001b[38;5;249mn\u001b[0m\u001b[38;5;249mt\u001b[0m\u001b[38;5;249m \u001b[0m\u001b[38;5;249ms\u001b[0m\u001b[38;5;249mi\u001b[0m\u001b[38;5;249mz\u001b[0m\u001b[38;5;249me\u001b[0m",
      " \u001b[38;5;240m  │\u001b[0m     \u001b[38;5;54m─\u001b[0m\u001b[38;5;54m─\u001b[0m\u001b[38;5;54m─\u001b[0m\u001b[38;5;54m┬\u001b[0m\u001b[38;5;54m─\u001b[0m\u001b[38;5;54m─\u001b[0m  \u001b[38;5;100m│\u001b[0m ",
      " \u001b[38;5;240m  │\u001b[0m        \u001b[38;5;54m╰\u001b[0m\u001b[38;5;54m─\u001b[0m\u001b[38;5;54m─\u001b[0m\u001b[38;5;54m─\u001b[0m\u001b[38;5;54m─\u001b[0m\u001b[38;5;54m─\u001b[0m\u001b[38;5;54m─\u001b[0m doesn't have a size known at compile-time",
      " \u001b[38;5;240m  │\u001b[0m             \u001b[38;5;100m│\u001b[0m ",
      " \u001b[38;5;240m  │\u001b[0m             \u001b[38;5;100m╰\u001b[0m\u001b[38;5;100m─\u001b[0m help: consider borrowing here: `&`",
      "\u001b[38;5;246m───╯\u001b[0m"
     ]
    }
   ],
   "source": [
    "use std::io::Write;\n",
    "let mut buf: Vec<u8> = vec![];\n",
    "let writer: dyn Write = buf; // error: `Write` does not have a constant size"
   ]
  },
  {
   "cell_type": "markdown",
   "id": "62162486-445f-448e-9ac8-29ad485f27cb",
   "metadata": {},
   "source": [
    "\n",
    "A variable’s size has to be known at compile time, and types that implement `Write` can be any size.\n",
    "\n",
    "This may be surprising if you’re coming from C# or Java, but the reason is simple. In Java, a variable of type `OutputStream` (the Java standard interface analogous to `std::io::Write`) is a reference to any object that implements `OutputStream`. The fact that it’s a reference goes without saying. It’s the same with interfaces in C# and most other languages."
   ]
  },
  {
   "cell_type": "code",
   "execution_count": 6,
   "id": "6121a327-b2ab-418f-9ae7-87934de439e6",
   "metadata": {},
   "outputs": [],
   "source": [
    "use std::io::Write;\n",
    "{\n",
    "    let mut buf: Vec<u8> = vec![];\n",
    "    let writer: &mut dyn Write = &mut buf; // ok\n",
    "};"
   ]
  },
  {
   "cell_type": "markdown",
   "id": "4d613037-b433-430d-a912-27890364f444",
   "metadata": {},
   "source": [
    "A reference to a trait type, like writer, is called a trait object. Like any other reference, a trait object points to some value, it has a lifetime, and it can be either mut or shared.\n",
    "\n",
    "What makes a trait object different is that Rust usually doesn’t know the type of the referent at compile time. So a trait object includes a little extra information about the referent’s type. This is strictly for Rust’s own use behind the scenes: when you call `writer.write(data)`, Rust needs the type information to dynamically call the right write method depending on the type of `*writer`. You can’t query the type information directly, and Rust does not support downcasting from the trait object `&mut dyn Write` back to a concrete type like `Vec<u8>`."
   ]
  },
  {
   "cell_type": "markdown",
   "id": "5791a5cb-0546-4f4f-9f5a-96f38ce3c60f",
   "metadata": {},
   "source": [
    "**Trait object layout**\n",
    "In memory, a trait object is a fat pointer consisting of a pointer to the value, plus a pointer to a table representing that value’s type. Each trait object therefore takes up two machine words\n",
    "![image.png](asset/ch11/1.png)\n",
    "C++ has this kind of run-time type information as well. It’s called a virtual table, or vtable. In Rust, as in C++, the vtable is generated once, at compile time, and shared by all objects of the same type. Everything shown in the darker shade in Figure, including the vtable, is a private implementation detail of Rust. Again, these aren’t fields and data structures that you can access directly. Instead, the language automatically uses the vtable when you call a method of a trait object, to determine which implementation to call.\n",
    "\n",
    "Seasoned C++ programmers will notice that Rust and C++ use memory a bit differently. In C++, the vtable pointer, or `vptr`, is stored as part of the struct. Rust uses fat pointers instead. The struct itself contains nothing but its fields. This way, a struct can implement dozens of traits without containing dozens of `vptrs`. Even types like `i32`, which aren’t big enough to accommodate a `vptr`, can implement traits.\n",
    "\n",
    "Rust automatically converts ordinary references into trait objects when needed. This is why we’re able to pass `&mut local_file` to `say_hello` in this example:\n",
    "```Rust\n",
    "let mut local_file = File::create(\"hello.txt\")?; say_hello(&mut local_file)?;\n",
    "```\n",
    "The type of `&mut local_file` is `&mut File`, and the type of the argument to `say_hello` is `&mut dyn Write`. Since a `File` is a kind of writer, Rust allows this, automatically converting the plain reference to a trait object.\n",
    "Likewise, Rust will happily convert a `Box<File>` to a `Box<dyn Write>`, a value that owns a writer in the heap:\n",
    "```Rust\n",
    "let w: Box<dyn Write> = Box::new(local_file);\n",
    "```\n",
    "`Box<dyn Write>`, like `&mut dyn Write`, is a fat pointer: it contains the address of the writer itself and the address of the vtable. The same goes for other pointer types, like `Rc<dyn Write>`.\n",
    "This kind of conversion is the only way to create a trait object. What the compiler is actually doing here is very simple. At the point where the conversion happens, Rust knows the referent’s true type (in this case, File), so it just adds the address of the appropriate vtable, turning the regular pointer into a fat pointer."
   ]
  },
  {
   "cell_type": "markdown",
   "id": "b23f450a-ab22-432c-90a1-16e7c7f14cfc",
   "metadata": {},
   "source": [
    "### Generic Functions and Type Parameters\n",
    "At the beginning of this chapter, we showed a `say_hello()` function that took a trait object as an argument. Let’s rewrite that function as a generic function:\n",
    "\n"
   ]
  },
  {
   "cell_type": "code",
   "execution_count": 8,
   "id": "82df7f2e-0245-4e4f-b09a-4aea47afc941",
   "metadata": {},
   "outputs": [],
   "source": [
    "// from\n",
    "/// The type of out is &mut dyn Write, meaning “a mutable reference to\n",
    "/// any value that implements the Write trait.” \n",
    "use std::io::Write;\n",
    "fn say_hello(out: &mut dyn Write) -> std::io::Result<()> { \n",
    "    out.write_all(b\"hello world\\n\")?;\n",
    "    out.flush()\n",
    "}\n",
    "\n",
    "// to\n",
    "/// This is a type parameter. It means that throughout the body of \n",
    "/// this function, W stands for some type that imple‐ ments the Write trait.\n",
    "fn say_hello<W: Write>(out: &mut W) -> std::io::Result<()> { \n",
    "    out.write_all(b\"hello world\\n\")?;\n",
    "    out.flush()\n",
    "}"
   ]
  },
  {
   "cell_type": "markdown",
   "id": "f053760d-5922-4683-b930-b940bdc6dc37",
   "metadata": {},
   "source": [
    "When you pass `&mut local_file` to the generic `say_hello()` function, you’re calling `say_hello::<File>()`. Rust generates machine code for this function that calls `File::write_all()` and `File::flush()`. When you pass `&mut bytes`, you’re calling `say_hello::<Vec<u8>>()`. Rust generates separate machine code for this version of the function, calling the corresponding `Vec<u8>` methods. In both cases, Rust infers the type `W` from the type of the argument. This process is known as _monomorphization_, and the compiler handles it all automatically.\n",
    "\n",
    "You can always spell out the type parameters:\n",
    "```Rust\n",
    "say_hello::<File>(&mut local_file)?;\n",
    "```\n",
    "This is seldom necessary, because Rust can usually deduce the type parameters by looking at the arguments. Here, the `say_hello` generic function expects a `&mut W` argument, and we’re passing it a `&mut File`, so Rust infers that `W = File`.\n",
    "\n",
    "If the generic function you’re calling doesn’t have any arguments that provide useful clues, you may have to spell it out:"
   ]
  },
  {
   "cell_type": "code",
   "execution_count": 13,
   "id": "3fef9395-f4fe-46d1-8123-77bf663f39a2",
   "metadata": {},
   "outputs": [
    {
     "ename": "Error",
     "evalue": "Couldn't automatically determine type of variable `v1`.\nPlease give it an explicit type.",
     "output_type": "error",
     "traceback": [
      "Couldn't automatically determine type of variable `v1`.\nPlease give it an explicit type."
     ]
    }
   ],
   "source": [
    "// calling a generic method collect<C>() that takes no arguments \n",
    "let v1 = (0 .. 1000).collect(); // error: can't infer type"
   ]
  },
  {
   "cell_type": "code",
   "execution_count": 14,
   "id": "32b22a84-fc8f-4918-bdd3-8a42dbddcf31",
   "metadata": {},
   "outputs": [],
   "source": [
    "let v2 = (0 .. 1000).collect::<Vec<i32>>(); // ok"
   ]
  },
  {
   "cell_type": "markdown",
   "id": "bba9e8d3-4498-422d-9574-9ed07cd02ff4",
   "metadata": {},
   "source": [
    "Sometimes we need multiple abilities from a type parameter. For example, if we want to print out the top ten most common values in a vector, we’ll need for those values to be printable:\n",
    "```Rust\n",
    "use std::fmt::Debug;\n",
    "fn top_ten<T: Debug>(values: &Vec<T>) { ... }\n",
    "```\n",
    "But this isn’t good enough. How are we planning to determine which values are the most common? The usual way is to use the values as keys in a hash table. That means the values need to support the `Hash` and `Eq` operations. The bounds on T must include these as well as Debug. The syntax for this uses the + sign:\n",
    "```Rust\n",
    "use std::hash::Hash; use std::fmt::Debug;\n",
    "fn top_ten<T: Debug + Hash + Eq>(values: &Vec<T>) { ... }\n",
    "```\n",
    "It’s also possible for a type parameter to have no bounds at all, but you can’t do much with a value if you haven’t specified any bounds for it. You can move it. You can put it into a box or vector. That’s about it.\n",
    "\n",
    "As this example shows, the bounds can get to be so long that they are hard on the eyes. Rust provides an alternative syntax using the keyword where:\n",
    "```Rust\n",
    "fn run_query<M, R>(data: &DataSet, map: M, reduce: R) -> Results \n",
    "    where M: Mapper + Serialize,\n",
    "          R: Reducer + Serialize\n",
    "{...}\n",
    "```\n",
    "The type parameters M and R are still declared up front, but the bounds are moved to separate lines. This kind of where clause is also allowed on generic structs, enums, type aliases, and methods—anywhere bounds are permitted.\n",
    "\n",
    "A generic function can have both lifetime parameters and type parameters. Lifetime parameters come first:\n",
    "```Rust\n",
    "/// Return a reference to the point in `candidates` that's\n",
    "/// closest to the `target` point.\n",
    "fn nearest<'t, 'c, P>(target: &'t P, candidates: &'c [P]) -> &'c P\n",
    "where P: MeasureDistance {\n",
    "... \n",
    "}\n",
    "```\n",
    "Lifetimes never have any impact on machine code. Two calls to `nearest()` using the same type `P`, but different lifetimes, will call the same compiled function. Only differing types cause Rust to compile multiple copies of a generic function."
   ]
  },
  {
   "cell_type": "markdown",
   "id": "6e07a6cd-e3af-43cd-aa2c-dc3a6cc3e5ad",
   "metadata": {},
   "source": [
    "### Which to Use\n",
    "The choice of whether to use trait objects or generic code is subtle. Since both features are based on traits, they have a lot in common.\n",
    "\n",
    "Trait objects are the right choice whenever you need a collection of values of mixed types, all together. It is technically possible to make generic salad:\n",
    "```Rust\n",
    "trait Vegetable { \n",
    "    ...\n",
    "}\n",
    "struct Salad<V: Vegetable> { \n",
    "    veggies: Vec<V>\n",
    "}\n",
    "```\n",
    "However, this is a rather severe design. Each such salad consists entirely of a single type of vegetable. Not everyone is cut out for this sort of thing. One of your authors once paid $14 for a `Salad<IcebergLettuce>` and has never quite gotten over the experience.\n",
    "\n",
    "How can we build a better salad? Since Vegetable values can be all different sizes, we can’t ask Rust for a `Vec<dyn Vegetable>`:"
   ]
  },
  {
   "cell_type": "code",
   "execution_count": 17,
   "id": "8cf322ab-8565-40b2-ba08-15c1f4a8429d",
   "metadata": {},
   "outputs": [
    {
     "ename": "Error",
     "evalue": "the size for values of type `(dyn Vegetable + 'static)` cannot be known at compilation time",
     "output_type": "error",
     "traceback": [
      "\u001b[31m[E0277] Error:\u001b[0m the size for values of type `(dyn Vegetable + 'static)` cannot be known at compilation time",
      "   \u001b[38;5;246m╭\u001b[0m\u001b[38;5;246m─\u001b[0m\u001b[38;5;246m[\u001b[0mcommand_17:1:1\u001b[38;5;246m]\u001b[0m",
      "   \u001b[38;5;246m│\u001b[0m",
      " \u001b[38;5;246m4 │\u001b[0m \u001b[38;5;249m \u001b[0m\u001b[38;5;249m \u001b[0m\u001b[38;5;249m \u001b[0m\u001b[38;5;249m \u001b[0m\u001b[38;5;249mv\u001b[0m\u001b[38;5;249me\u001b[0m\u001b[38;5;249mg\u001b[0m\u001b[38;5;249mg\u001b[0m\u001b[38;5;249mi\u001b[0m\u001b[38;5;249me\u001b[0m\u001b[38;5;249ms\u001b[0m\u001b[38;5;249m:\u001b[0m\u001b[38;5;249m \u001b[0m\u001b[38;5;54mV\u001b[0m\u001b[38;5;54me\u001b[0m\u001b[38;5;54mc\u001b[0m\u001b[38;5;54m<\u001b[0m\u001b[38;5;54md\u001b[0m\u001b[38;5;54my\u001b[0m\u001b[38;5;54mn\u001b[0m\u001b[38;5;54m \u001b[0m\u001b[38;5;54mV\u001b[0m\u001b[38;5;54me\u001b[0m\u001b[38;5;54mg\u001b[0m\u001b[38;5;54me\u001b[0m\u001b[38;5;54mt\u001b[0m\u001b[38;5;54ma\u001b[0m\u001b[38;5;54mb\u001b[0m\u001b[38;5;54ml\u001b[0m\u001b[38;5;54me\u001b[0m\u001b[38;5;54m>\u001b[0m\u001b[38;5;249m \u001b[0m\u001b[38;5;249m/\u001b[0m\u001b[38;5;249m/\u001b[0m\u001b[38;5;249m \u001b[0m\u001b[38;5;249me\u001b[0m\u001b[38;5;249mr\u001b[0m\u001b[38;5;249mr\u001b[0m\u001b[38;5;249mo\u001b[0m\u001b[38;5;249mr\u001b[0m\u001b[38;5;249m:\u001b[0m\u001b[38;5;249m \u001b[0m\u001b[38;5;249m`\u001b[0m\u001b[38;5;249md\u001b[0m\u001b[38;5;249my\u001b[0m\u001b[38;5;249mn\u001b[0m\u001b[38;5;249m \u001b[0m\u001b[38;5;249mV\u001b[0m\u001b[38;5;249me\u001b[0m\u001b[38;5;249mg\u001b[0m\u001b[38;5;249me\u001b[0m\u001b[38;5;249mt\u001b[0m\u001b[38;5;249ma\u001b[0m\u001b[38;5;249mb\u001b[0m\u001b[38;5;249ml\u001b[0m\u001b[38;5;249me\u001b[0m\u001b[38;5;249m`\u001b[0m\u001b[38;5;249m \u001b[0m\u001b[38;5;249md\u001b[0m\u001b[38;5;249mo\u001b[0m\u001b[38;5;249me\u001b[0m\u001b[38;5;249ms\u001b[0m",
      " \u001b[38;5;240m  │\u001b[0m              \u001b[38;5;54m─\u001b[0m\u001b[38;5;54m─\u001b[0m\u001b[38;5;54m─\u001b[0m\u001b[38;5;54m─\u001b[0m\u001b[38;5;54m─\u001b[0m\u001b[38;5;54m─\u001b[0m\u001b[38;5;54m─\u001b[0m\u001b[38;5;54m─\u001b[0m\u001b[38;5;54m─\u001b[0m\u001b[38;5;54m┬\u001b[0m\u001b[38;5;54m─\u001b[0m\u001b[38;5;54m─\u001b[0m\u001b[38;5;54m─\u001b[0m\u001b[38;5;54m─\u001b[0m\u001b[38;5;54m─\u001b[0m\u001b[38;5;54m─\u001b[0m\u001b[38;5;54m─\u001b[0m\u001b[38;5;54m─\u001b[0m  ",
      " \u001b[38;5;240m  │\u001b[0m                       \u001b[38;5;54m╰\u001b[0m\u001b[38;5;54m─\u001b[0m\u001b[38;5;54m─\u001b[0m\u001b[38;5;54m─\u001b[0m\u001b[38;5;54m─\u001b[0m\u001b[38;5;54m─\u001b[0m\u001b[38;5;54m─\u001b[0m\u001b[38;5;54m─\u001b[0m\u001b[38;5;54m─\u001b[0m\u001b[38;5;54m─\u001b[0m\u001b[38;5;54m─\u001b[0m doesn't have a size known at compile-time",
      " \u001b[38;5;240m  │\u001b[0m ",
      " \u001b[38;5;240m  │\u001b[0m \u001b[38;5;115mNote\u001b[0m: required by this bound in `Vec`",
      "\u001b[38;5;246m───╯\u001b[0m"
     ]
    }
   ],
   "source": [
    "trait Vegetable {}\n",
    "\n",
    "struct Salad {\n",
    "    veggies: Vec<dyn Vegetable> // error: `dyn Vegetable` does\n",
    "                                // not have a constant size\n",
    "}"
   ]
  },
  {
   "cell_type": "code",
   "execution_count": 18,
   "id": "d54f85a8-d0b8-4b65-a6ee-5c1e02696207",
   "metadata": {},
   "outputs": [],
   "source": [
    "trait Vegetable {}\n",
    "\n",
    "struct Salad {\n",
    "    veggies: Vec<Box<dyn Vegetable>>\n",
    "}"
   ]
  },
  {
   "cell_type": "markdown",
   "id": "aee5d44d-3b5d-422e-8204-19613858346a",
   "metadata": {},
   "source": [
    "Each `Box<dyn Vegetable>` can own any type of vegetable, but the box itself has a constant size—two pointers—suitable for storing in a vector. Apart from the unfortunate mixed metaphor of having boxes in one’s food, this is precisely what’s called for, and it would work out just as well for shapes in a drawing app, monsters in a game, pluggable routing algorithms in a network router, and so on."
   ]
  },
  {
   "cell_type": "markdown",
   "id": "b1fd0596-a5a5-4e09-a3bc-b95a60e0f57b",
   "metadata": {},
   "source": [
    "使用 generics:\n",
    "* 没有 dyn 关键字，无需运行时参与，方法和类型在编译期就指定了，于是编译器可以帮助优化代码，速度上快\n",
    "* 有些特征的 associated function 可能需要范型，单纯的 trait 根本无法指定类型并编译\n",
    "* 可以绑定多个 trait，但是反过来 rust 不支持 `&mut (dyn Debug + Hash + Eq)`\n",
    "\n",
    "使用 trait:\n",
    "* 减少编译的代码量，防止代码膨胀\n",
    "* 多种类型，更加灵活\n",
    "\n",
    "更多细节请阅读原书"
   ]
  },
  {
   "cell_type": "markdown",
   "id": "01035ca6-40a1-4d53-9941-30d4baf97e7c",
   "metadata": {},
   "source": [
    "## Defining and Implementing Traits\n",
    "Defining a trait is simple. Give it a name and list the type signatures of the trait methods. If we’re writing a game, we might have a trait like this:\n",
    "```Rust\n",
    "/// A trait for characters, items, and scenery -\n",
    "/// anything in the game world that's visible on screen. \n",
    "trait Visible {\n",
    "    /// Render this object on the given canvas.\n",
    "    fn draw(&self, canvas: &mut Canvas);\n",
    "    /// Return true if clicking at (x, y) should \n",
    "    /// select this object.\n",
    "    fn hit_test(&self, x: i32, y: i32) -> bool;\n",
    "}\n",
    "\n",
    "\n",
    "impl Visible for Broom {\n",
    "    fn draw(&self, canvas: &mut Canvas) {\n",
    "        for y in self.y - self.height - 1 .. self.y { \n",
    "            canvas.write_at(self.x, y, '|');\n",
    "        }\n",
    "        canvas.write_at(self.x, self.y, 'M');\n",
    "    }\n",
    "    fn hit_test(&self, x: i32, y: i32) -> bool { \n",
    "        self.x == x\n",
    "        && self.y - self.height - 1 <= y\n",
    "        && y <= self.y\n",
    "    }\n",
    "}\n",
    "```\n",
    "\n",
    "Note that this impl contains an implementation for each method of the Visible trait, and nothing else. Everything defined in a trait impl must actually be a feature of the trait; if we wanted to add a helper method in support of `Broom::draw()`, we would have to define it in a separate impl block:\n",
    "```Rust\n",
    "impl Broom {\n",
    "    /// Helper function used by Broom::draw() below. \n",
    "    fn broomstick_range(&self) -> Range<i32> {\n",
    "        self.y - self.height - 1 .. self.y\n",
    "    }\n",
    "}\n",
    "```\n",
    "\n",
    "These helper functions can be used within the trait impl blocks:\n",
    "```Rust\n",
    "impl Visible for Broom {\n",
    "    fn draw(&self, canvas: &mut Canvas) {\n",
    "        for y in self.broomstick_range() { \n",
    "            ...\n",
    "        }\n",
    "        ... \n",
    "    }\n",
    "    ... \n",
    "}\n",
    "```"
   ]
  },
  {
   "cell_type": "markdown",
   "id": "6772cb51-defb-4ff1-b5e9-ee74351da5df",
   "metadata": {},
   "source": [
    "### Default Methods\n",
    "The Sink writer type we discussed earlier can be implemented in a few lines of code. First, we define the type:\n",
    "```Rust\n",
    "/// A Writer that ignores whatever data you write to it.\n",
    "pub struct Sink;\n",
    "```\n",
    "Sink is an empty struct, since we don’t need to store any data in it. Next, we provide\n",
    "an implementation of the `Write` trait for `Sink`: \n",
    "```Rust\n",
    "use std::io::{Write, Result};\n",
    "impl Write for Sink {\n",
    "    fn write(&mut self, buf: &[u8]) -> Result<usize> {\n",
    "        // Claim to have successfully written the whole buffer.\n",
    "        Ok(buf.len())\n",
    "    }\n",
    "    fn flush(&mut self) -> Result<()> { \n",
    "        Ok(())\n",
    "    } \n",
    "}\n",
    "```\n",
    "So far, this is very much like the Visible trait. But we have also seen that the Write trait has a `write_all` method:\n",
    "```Rust\n",
    "let mut out = Sink; \n",
    "out.write_all(b\"hello world\\n\")?;\n",
    "```\n",
    "Why does Rust let us impl `Write` for `Sink` without defining this method? The answer is that the standard library’s definition of the Write trait contains a default implementation for `write_all`:\n",
    "\n",
    "```Rust\n",
    "trait Write {\n",
    "    fn write(&mut self, buf: &[u8]) -> Result<usize>; \n",
    "    fn flush(&mut self) -> Result<()>;\n",
    "    fn write_all(&mut self, buf: &[u8]) -> Result<()> { \n",
    "        let mut bytes_written = 0;\n",
    "        while bytes_written < buf.len() {\n",
    "            bytes_written += self.write(&buf[bytes_written..])?;\n",
    "        }\n",
    "        Ok(()) \n",
    "    }\n",
    "    ... \n",
    "}\n",
    "```\n",
    "\n",
    "The write and flush methods are the basic methods that every writer must implement. A writer may also implement `write_all`, but if not, the default implementation shown earlier will be used.\n",
    "\n",
    "The most dramatic use of default methods in the standard library is the `Iterator` trait, which has one required method `(.next())` and dozens of default methods."
   ]
  },
  {
   "cell_type": "markdown",
   "id": "ce3a0e66-d93b-4139-bd01-ae597cdc404a",
   "metadata": {},
   "source": [
    "### Traits and Other People’s Types\n",
    "Rust lets you implement any trait on any type, as long as either the trait or the type is introduced in the current crate.\n",
    "This means that any time you want to add a method to any type, you can use a trait to do it:\n",
    "```Rust\n",
    "trait IsEmoji {\n",
    "    fn is_emoji(&self) -> bool;\n",
    "}\n",
    "    \n",
    "/// Implement IsEmoji for the built-in character type.\n",
    "impl IsEmoji for char {\n",
    "    fn is_emoji(&self) -> bool {\n",
    "        ... \n",
    "    }\n",
    "}\n",
    "assert_eq!('$'.is_emoji(), false);\n",
    "```\n",
    "Like any other trait method, this new `is_emoji` method is only visible when `IsEmoji` is in scope.\n",
    "\n",
    "The sole purpose of this particular trait is to add a method to an existing type, `char`. This is called an extension trait. Of course, you can add this trait to types, too, by writing impl `IsEmoji` for `str { ... }` and so forth.\n",
    "\n",
    "You can even use a generic impl block to add an extension trait to a whole family of types at once. This trait could be implemented on any type:\n",
    "```Rust\n",
    "/// You can write HTML to any std::io writer.\n",
    "impl<W: Write> WriteHtml for W {\n",
    "    fn write_html(&mut self, html: &HtmlDocument) -> io::Result<()> {\n",
    "        ... \n",
    "    }\n",
    "}\n",
    "```\n",
    "The line `impl<W: Write> WriteHtml for W` means “for every type `W` that implements Write, here’s an implementation of `WriteHtml` for `W`.”\n"
   ]
  },
  {
   "cell_type": "code",
   "execution_count": null,
   "id": "7fe8c4b0-275e-4e55-9b03-51aa8289554e",
   "metadata": {},
   "outputs": [],
   "source": []
  }
 ],
 "metadata": {
  "kernelspec": {
   "display_name": "Rust",
   "language": "rust",
   "name": "rust"
  },
  "language_info": {
   "codemirror_mode": "rust",
   "file_extension": ".rs",
   "mimetype": "text/rust",
   "name": "Rust",
   "pygment_lexer": "rust",
   "version": ""
  }
 },
 "nbformat": 4,
 "nbformat_minor": 5
}
