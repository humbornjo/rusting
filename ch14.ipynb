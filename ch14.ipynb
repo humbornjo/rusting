{
 "cells": [
  {
   "cell_type": "markdown",
   "id": "2ea93061-cfa3-4d32-bd79-7fcd59c465a0",
   "metadata": {},
   "source": [
    "# Closures\n",
    "## Capturing Variables\n",
    "In most languages with closures, garbage collection plays an important role. For example, consider this JavaScript code:\n",
    "```Rust\n",
    "// Start an animation that rearranges the rows in a table of cities.\n",
    "function startSortingAnimation(cities, stat) {\n",
    "    // Helper function that we'll use to sort the table. \n",
    "    // Note that this function refers to stat.\n",
    "    function keyfn(city) {\n",
    "        return city.get_statistic(stat); \n",
    "    }\n",
    "    if (pendingSort) pendingSort.cancel();\n",
    "    // Now kick off an animation, passing keyfn to it. \n",
    "    // The sorting algorithm will call keyfn later. \n",
    "    pendingSort = new SortingAnimation(cities, keyfn);\n",
    "}\n",
    "```\n",
    "The closure `keyfn` is stored in the new `SortingAnimation` object. It’s meant to be called after `startSortingAnimation` returns. Now, normally when a function returns, all its variables and arguments go out of scope and are discarded. But here, the JavaScript engine must keep `stat` around somehow, since the closure uses it. Most JavaScript engines do this by allocating stat in the heap and letting the garbage collector reclaim it later.\n",
    "\n",
    "Rust doesn’t have garbage collection. How will this work? To answer this question, we’ll look at two examples."
   ]
  },
  {
   "cell_type": "markdown",
   "id": "1c15da13-1b87-4e98-a3d8-991afb3c9a54",
   "metadata": {},
   "source": [
    "### Closures That Borrow\n",
    "```Rust\n",
    "/// Sort by any of several different statistics.\n",
    "fn sort_by_statistic(cities: &mut Vec<City>, stat: Statistic) { \n",
    "    cities.sort_by_key(|city| -city.get_statistic(stat));\n",
    "}\n",
    "```\n",
    "\n",
    "实际上，这个例子有问题，sort_by_key接受一个FnMut的参数，能执行例子中的代码的前提是，Statistic实现了Copy trait，书本中并未说明。\n",
    "\n",
    "In this case, when Rust creates the closure, it automatically borrows a reference to stat. It stands to reason: the closure refers to stat, so it must have a reference to it.\n",
    "The rest is simple. The closure is subject to the rules about borrowing and lifetimes that we described in **Chapter 5**. In particular, since the closure contains a reference to stat, Rust won’t let it outlive stat. Since the closure is only used during sorting, this example is fine.\n",
    "\n",
    "In short, Rust ensures safety by using lifetimes instead of garbage collection. Rust’s way is faster: even a fast GC allocation will be slower than storing stat on the stack, as Rust does in this case."
   ]
  },
  {
   "cell_type": "markdown",
   "id": "7e2a78dc-5d50-4edf-a857-359426efbe39",
   "metadata": {},
   "source": [
    "来看看别的语言是如何处理闭包的：\n",
    "```javascript\n",
    "// Start an animation that rearranges the rows in a table of cities.\n",
    "function startSortingAnimation(cities, stat) {\n",
    "    // Helper function that we'll use to sort the table. \n",
    "    // Note that this function refers to stat.\n",
    "    function keyfn(city) {\n",
    "        return city.get_statistic(stat); \n",
    "    }\n",
    "    if (pendingSort) \n",
    "        pendingSort.cancel();\n",
    "    // Now kick off an animation, passing keyfn to it. \n",
    "    // The sorting algorithm will call keyfn later. \n",
    "    pendingSort = new SortingAnimation(cities, keyfn);\n",
    "}\n",
    "```\n",
    "\n",
    "在这里，闭包存储在了`new SortingAnimation`这个对象中。一般来说，离开函数作用域后，变量就会被GC回收。但是此处，为了保全这个闭包，js会在堆上开辟空间让这个变量苟活，使得这个变量稍后再被GC回收。\n"
   ]
  },
  {
   "cell_type": "markdown",
   "id": "075c075e-60bd-48b5-ace3-034abc90cefb",
   "metadata": {},
   "source": [
    "## Function and Closure Types\n",
    "```Rust\n",
    "/// Sort by any of several different statistics.\n",
    "fn sort_by_statistic(cities: &mut Vec<City>, stat: Statistic) { \n",
    "    cities.sort_by_key(|city| -city.get_statistic(stat));\n",
    "}\n",
    "```\n",
    "紧接着上面这个例子，其实 任何type `fn(&City) -> i64` 都可以作为 `sort_by_key` 的参数。这是因为：\"In addition, all safe function pointers implement Fn, FnMut, and FnOnce, because these traits are specially known to the compiler.\" —— https://doc.rust-lang.org/std/primitive.fn.html\n",
    "\n",
    "看到了吗，这里其实可以变相地说明组合相对于继承的优越性。如果是继承，你就得继承如此之多的东西，代码文本也会紧紧耦合。\n",
    "\n",
    "所以，以下实现也是没有问题的：\n",
    "\n",
    "```Rust\n",
    "fn city_population_descending(city: &City) -> i64 { \n",
    "    -city.population\n",
    "}\n",
    "\n",
    "cities.sort_by_key(|city| -city.get_statistic(stat));\n",
    "```"
   ]
  },
  {
   "cell_type": "code",
   "execution_count": 4,
   "id": "d68d7ccc-9dc9-4a0f-80ff-ddd1080edf84",
   "metadata": {
    "tags": []
   },
   "outputs": [
    {
     "name": "stdout",
     "output_type": "stream",
     "text": [
      "Tokyo                       38050k\n",
      "Shanghai                    34000k\n",
      "Moscow                      12537k\n",
      "Lima                        10069k\n",
      "Hangzhou                     6242k\n",
      "Cape Town                    3740k\n",
      "Dubai                        3137k\n",
      "Rome                         2627k\n",
      "Calgary                      1285k\n",
      "Sofia                        1204k\n"
     ]
    }
   ],
   "source": [
    "struct City {\n",
    "    name: String,\n",
    "    population: i64,\n",
    "    country: String,\n",
    "}\n",
    "\n",
    "fn city_population_descending(city: &City) -> i64 { \n",
    "    -city.population\n",
    "}\n",
    "\n",
    "impl City {\n",
    "    fn new(name: &str, population: i64, country: &str) -> Self {\n",
    "        Self {\n",
    "            name: name.to_string(),\n",
    "            population,\n",
    "            country: country.to_string(),\n",
    "        }\n",
    "    }\n",
    "}\n",
    "\n",
    "let mut cities = vec![\n",
    "    City::new(\"Dubai\", 3_137_000, \"United Arab Emirates\"),\n",
    "    City::new(\"Hangzhou\", 6_242_000, \"China\"),\n",
    "    City::new(\"Lima\", 10_069_000, \"Peru\"),\n",
    "    City::new(\"Sofia\", 1_204_000, \"Bulgaria\"),\n",
    "    City::new(\"Calgary\", 1_285_000, \"Canada\"),\n",
    "    City::new(\"Rome\", 2_627_000, \"Italy\"),\n",
    "    City::new(\"Cape Town\", 3_740_000, \"South Africa\"),\n",
    "    City::new(\"Moscow\", 12_537_000, \"Russia\"),\n",
    "    City::new(\"Shanghai\", 34_000_000, \"China\"),\n",
    "    City::new(\"Tokyo\", 38_050_000, \"Japan\"),\n",
    "];\n",
    "\n",
    "cities.sort_by_key(city_population_descending);\n",
    "\n",
    "for city in cities {\n",
    "    println!(\"{:20} {:>12}k\", city.name, city.population / 1000);\n",
    "};"
   ]
  },
  {
   "cell_type": "markdown",
   "id": "51a67746-960e-48c5-b7f7-00ddd0eb6fa2",
   "metadata": {},
   "source": [
    "**Closure is callable, but closure is not fn**.\n",
    "\n",
    "In fact, every closure you write has its own type, because a closure may contain data: values either borrowed or stolen from enclosing scopes. This could be any number of variables, in any combination of types. So every closure has an ad hoc type created by the compiler, large enough to hold that data. No two closures have exactly the same type. But every closure implements an Fn trait.\n",
    "\n",
    "Since every closure has its own type, code that works with closures usually needs to be generic."
   ]
  },
  {
   "cell_type": "markdown",
   "id": "927fb3db-f099-4aaf-b86f-592b67a9ad36",
   "metadata": {},
   "source": [
    "## Closure Performance\n",
    "Rust’s closures are designed to be fast: faster than function pointers, fast enough that you can use them even in red-hot, performance-sensitive code. If you’re familiar with C++ lambdas, you’ll find that Rust closures are just as fast and compact, but safer.\n",
    "\n",
    "Rust closures have none of these performance drawbacks. They’re not garbage collected. Like everything else in Rust, they aren’t allocated on the heap unless you put them in a Box, Vec, or other container. And since each closure has a distinct type, whenever the Rust compiler knows the type of the closure you’re calling, it can inline the code for that particular closure. This makes it OK to use closures in tight loops.\n",
    "\n",
    "![image.png](asset/ch14/1.png)\n",
    "\n",
    "* Closure (a) uses both variables. Apparently we’re looking for cities that have both tacos and tornadoes. In memory, this closure looks like a small struct containing references to the variables it uses.\n",
    "\n",
    "    **Note that it doesn’t contain a pointer to its code!** That’s not necessary: as long as Rust knows the closure’s type, it knows which code to run when you call it.\n",
    "\n",
    "* Closure (b) is exactly the same, except it’s a move closure, so it contains values instead of references.\n",
    "\n",
    "* Closure (c) doesn’t use any variables from its environment. The struct is empty, so this closure does not take up any memory at all.\n",
    "\n",
    "As the figure shows, these closures don’t take up much space. But even those few bytes are not always needed in practice. Often, the compiler can inline all calls to a closure, and then even the small structs shown in this figure are optimized away."
   ]
  },
  {
   "cell_type": "markdown",
   "id": "1746dafa-18d4-496c-8555-e152289f61c8",
   "metadata": {},
   "source": [
    "## Closures and Safety\n",
    "### Closures That Kill\n"
   ]
  },
  {
   "cell_type": "code",
   "execution_count": 9,
   "id": "922be838-2160-4f98-87cf-cbe631d703b9",
   "metadata": {
    "tags": []
   },
   "outputs": [],
   "source": [
    "let my_str = \"hello\".to_string(); \n",
    "{\n",
    "    let f = || drop(my_str);\n",
    "    f();\n",
    "    // f();\n",
    "};"
   ]
  },
  {
   "cell_type": "markdown",
   "id": "927cd3cf-b552-45d7-9b63-01ed376a1fc5",
   "metadata": {},
   "source": [
    "### FnOnce\n",
    "```Rust\n",
    "// Pseudocode for `Fn` and `FnOnce` traits with no arguments. \n",
    "trait Fn() -> R {\n",
    "    fn call(&self) -> R; \n",
    "}\n",
    "\n",
    "trait FnOnce() -> R {\n",
    "    fn call_once(self) -> R;\n",
    "}\n",
    "```\n",
    "\n",
    "For an `Fn` closure, `closure()` expands to `closure.call()`. This method takes self by reference, so the closure is not moved. But if the closure is only safe to call once, then `closure()` expands to `closure.call_once()`. That method takes self by value, so the closure is used up.\n",
    "\n",
    "其实rust在这里是比较讨厌的，rust在闭包设计上，类型传递不够透明，比如实现了`Copy`的类型，不用`move`或`&`就会自动copy入场，而没有实现`Copy`的对象，则会直接所有权转移。（好吧，后面有一个小节讲了，亏我研究了好一会）"
   ]
  },
  {
   "cell_type": "markdown",
   "id": "c7655bdb-c51f-4900-baa6-36b19cf4c6c4",
   "metadata": {},
   "source": [
    "### FnMut\n",
    "Rust considers non-mut values safe to share across threads. But it wouldn’t be safe to share non-mut closures that contain mut data: calling such a closure from multiple threads could lead to all sorts of race conditions as multiple threads try to read and write the same data at the same time.\n",
    "\n",
    "Therefore, Rust has one more category of closure, FnMut, the category of closures that write. FnMut closures are called by mut reference, as if they were defined like this:\n",
    "```Rust\n",
    "trait FnMut() -> R {\n",
    "    fn call_mut(&mut self) -> R;\n",
    "}\n",
    "```\n",
    "Any closure that requires mut access to a value, **but doesn’t drop any values**, is an\n",
    "FnMut closure.\n",
    "\n",
    "Every `Fn` meets the requirements for `FnMut`, and every `FnMut` meets the requirements for `FnOnce`.\n",
    "\n",
    "Instead, `Fn()` is a subtrait of `FnMut()`, which is a subtrait of `FnOnce()`.\n",
    "![image.png](asset/ch14/2.png)"
   ]
  },
  {
   "cell_type": "markdown",
   "id": "02f7f574-6220-426e-811b-f44fb4df3616",
   "metadata": {},
   "source": [
    "### Copy and Clone for Closures\n",
    "\n",
    "Just as Rust automatically figures out which closures can be called only once, it can figure out which closures can implement `Copy` and `Clone`, and which cannot.\n",
    "\n",
    "As we explained earlier, closures are represented as structs that contain either the values (for move closures) or references to the values (for non-move closures) of the variables they capture. The rules for `Copy` and `Clone` on closures are just like the `Copy` and `Clone` rules for regular structs. A non-move closure that doesn’t mutate variables holds only shared references, which are both `Clone` and `Copy`, so that closure is both `Clone` and `Copy` as well:"
   ]
  },
  {
   "cell_type": "code",
   "execution_count": 12,
   "id": "b8e8ecc0-c758-4b2e-bb37-3603af58f465",
   "metadata": {
    "tags": []
   },
   "outputs": [],
   "source": [
    "let y = 10;\n",
    "{\n",
    "    let add_y = |x| x+y;\n",
    "    let copy_of_add_y = add_y; // This closure is `Copy`, so... \n",
    "    assert_eq!(add_y(copy_of_add_y(22)), 42); // ... we can call both.\n",
    "};"
   ]
  },
  {
   "cell_type": "markdown",
   "id": "eb0a87b9-853a-40ee-a51e-b1fbb08f82f0",
   "metadata": {},
   "source": [
    "On the other hand, a non-move closure that does mutate values has mutable references within its internal representation. Mutable references are neither `Clone` nor `Copy`, so neither is a closure that uses them:\n",
    "\n",
    "下面这个例子很重要，细品，我加了几个例子，使得这个机制更直白"
   ]
  },
  {
   "cell_type": "code",
   "execution_count": 27,
   "id": "e57e0c37-7a3b-46f5-aba4-724500b67c20",
   "metadata": {
    "tags": []
   },
   "outputs": [],
   "source": [
    "let mut x = 0;\n",
    "{\n",
    "    let mut add_to_x = |n| { x += n; x };\n",
    "    let mut copy_of_add_to_x = add_to_x; // this moves, rather than copies \n",
    "    // assert_eq!(add_to_x(copy_of_add_to_x(1)), 2); // error: use of moved value\n",
    "    // assert_eq!(add_to_x(1), 1); // error: use of moved value\n",
    "    // assert_eq!(copy_of_add_to_x(copy_of_add_to_x(1)), 2); // error: borrow `copy_of_add_to_x` as mutable more than once at a time\n",
    "    assert_eq!(copy_of_add_to_x(1), 1);\n",
    "    assert_eq!(copy_of_add_to_x(2), 3);\n",
    "};"
   ]
  },
  {
   "cell_type": "markdown",
   "id": "977dafbb-7b3e-4893-9b1c-56a5e8fda776",
   "metadata": {},
   "source": [
    "For a move closure, the rules are even simpler. If everything a `move` closure captures is `Copy`, it’s `Copy`. If everything it captures is `Clone`, it’s `Clone`. For instance:"
   ]
  },
  {
   "cell_type": "code",
   "execution_count": 31,
   "id": "9eb72cf2-2863-4a3d-8784-518bfe163b88",
   "metadata": {
    "tags": []
   },
   "outputs": [
    {
     "name": "stdout",
     "output_type": "stream",
     "text": [
      "Hello, Alfred\n",
      "Hello, Bruce\n"
     ]
    }
   ],
   "source": [
    "{\n",
    "    let mut greeting = String::from(\"Hello, \"); \n",
    "    let greet = move |name| {\n",
    "        greeting.push_str(name);\n",
    "        println!(\"{}\", greeting);\n",
    "    };\n",
    "    greet.clone()(\"Alfred\");\n",
    "    greet.clone()(\"Bruce\");\n",
    "};"
   ]
  },
  {
   "cell_type": "markdown",
   "id": "9f4cb835-fedc-4808-835d-cca5538bddd2",
   "metadata": {},
   "source": [
    "This `.clone()(...)` syntax is a little weird, but it just means that we clone the closure and then call the clone."
   ]
  },
  {
   "cell_type": "markdown",
   "id": "b1f2dd9e-7f03-444e-aa42-570d9e679f39",
   "metadata": {},
   "source": [
    "## Callbackks \n",
    "本小节建议全文通读"
   ]
  },
  {
   "cell_type": "code",
   "execution_count": null,
   "id": "2f03a703-15d9-4160-b8d2-dcf08de2710c",
   "metadata": {},
   "outputs": [],
   "source": []
  }
 ],
 "metadata": {
  "kernelspec": {
   "display_name": "Rust",
   "language": "rust",
   "name": "rust"
  },
  "language_info": {
   "codemirror_mode": "rust",
   "file_extension": ".rs",
   "mimetype": "text/rust",
   "name": "Rust",
   "pygment_lexer": "rust",
   "version": ""
  }
 },
 "nbformat": 4,
 "nbformat_minor": 5
}
