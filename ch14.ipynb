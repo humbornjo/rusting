{
 "cells": [
  {
   "cell_type": "markdown",
   "id": "2ea93061-cfa3-4d32-bd79-7fcd59c465a0",
   "metadata": {},
   "source": [
    "# Closures\n",
    "## Capturing Variables\n",
    "In most languages with closures, garbage collection plays an important role. For example, consider this JavaScript code:\n",
    "```Rust\n",
    "// Start an animation that rearranges the rows in a table of cities.\n",
    "function startSortingAnimation(cities, stat) {\n",
    "    // Helper function that we'll use to sort the table. \n",
    "    // Note that this function refers to stat.\n",
    "    function keyfn(city) {\n",
    "        return city.get_statistic(stat); \n",
    "    }\n",
    "    if (pendingSort) pendingSort.cancel();\n",
    "    // Now kick off an animation, passing keyfn to it. \n",
    "    // The sorting algorithm will call keyfn later. \n",
    "    pendingSort = new SortingAnimation(cities, keyfn);\n",
    "}\n",
    "```\n",
    "The closure `keyfn` is stored in the new `SortingAnimation` object. It’s meant to be called after `startSortingAnimation` returns. Now, normally when a function returns, all its variables and arguments go out of scope and are discarded. But here, the JavaScript engine must keep `stat` around somehow, since the closure uses it. Most JavaScript engines do this by allocating stat in the heap and letting the garbage collector reclaim it later.\n",
    "\n",
    "Rust doesn’t have garbage collection. How will this work? To answer this question, we’ll look at two examples."
   ]
  },
  {
   "cell_type": "markdown",
   "id": "1c15da13-1b87-4e98-a3d8-991afb3c9a54",
   "metadata": {},
   "source": [
    "### Closures That Borrow\n",
    "```Rust\n",
    "/// Sort by any of several different statistics.\n",
    "fn sort_by_statistic(cities: &mut Vec<City>, stat: Statistic) { \n",
    "    cities.sort_by_key(|city| -city.get_statistic(stat));\n",
    "}\n",
    "```\n",
    "\n",
    "实际上，这个例子有问题，sort_by_key接受一个FnMut的参数，能执行例子中的代码的前提是，Statistic实现了Copy trait，书本中并未说明。\n",
    "\n",
    "In this case, when Rust creates the closure, it automatically borrows a reference to stat. It stands to reason: the closure refers to stat, so it must have a reference to it.\n",
    "The rest is simple. The closure is subject to the rules about borrowing and lifetimes that we described in **Chapter 5**. In particular, since the closure contains a reference to stat, Rust won’t let it outlive stat. Since the closure is only used during sorting, this example is fine.\n",
    "\n",
    "In short, Rust ensures safety by using lifetimes instead of garbage collection. Rust’s way is faster: even a fast GC allocation will be slower than storing stat on the stack, as Rust does in this case."
   ]
  },
  {
   "cell_type": "markdown",
   "id": "7e2a78dc-5d50-4edf-a857-359426efbe39",
   "metadata": {},
   "source": [
    "来看看别的语言是如何处理闭包的：\n",
    "```javascript\n",
    "// Start an animation that rearranges the rows in a table of cities.\n",
    "function startSortingAnimation(cities, stat) {\n",
    "    // Helper function that we'll use to sort the table. \n",
    "    // Note that this function refers to stat.\n",
    "    function keyfn(city) {\n",
    "        return city.get_statistic(stat); \n",
    "    }\n",
    "    if (pendingSort) \n",
    "        pendingSort.cancel();\n",
    "    // Now kick off an animation, passing keyfn to it. \n",
    "    // The sorting algorithm will call keyfn later. \n",
    "    pendingSort = new SortingAnimation(cities, keyfn);\n",
    "}\n",
    "```\n",
    "\n",
    "在这里，闭包存储在了`new SortingAnimation`这个对象中。一般来说，离开函数作用域后，变量就会被GC回收。但是此处，为了保全这个闭包，js会在堆上开辟空间让这个变量苟活，使得这个变量稍后再被GC回收。\n"
   ]
  },
  {
   "cell_type": "markdown",
   "id": "075c075e-60bd-48b5-ace3-034abc90cefb",
   "metadata": {},
   "source": [
    "## Function and Closure Types\n",
    "```Rust\n",
    "/// Sort by any of several different statistics.\n",
    "fn sort_by_statistic(cities: &mut Vec<City>, stat: Statistic) { \n",
    "    cities.sort_by_key(|city| -city.get_statistic(stat));\n",
    "}\n",
    "```\n",
    "紧接着上面这个例子，其实 任何type `fn(&City) -> i64` 都可以作为 `sort_by_key` 的参数。这是因为：\"In addition, all safe function pointers implement Fn, FnMut, and FnOnce, because these traits are specially known to the compiler.\" —— https://doc.rust-lang.org/std/primitive.fn.html\n",
    "\n",
    "所以，以下实现也是没有问题的：\n",
    "\n",
    "```Rust\n",
    "fn city_population_descending(city: &City) -> i64 { \n",
    "    -city.population\n",
    "}\n",
    "\n",
    "cities.sort_by_key(|city| -city.get_statistic(stat));\n",
    "```"
   ]
  },
  {
   "cell_type": "code",
   "execution_count": 4,
   "id": "d68d7ccc-9dc9-4a0f-80ff-ddd1080edf84",
   "metadata": {
    "tags": []
   },
   "outputs": [
    {
     "name": "stdout",
     "output_type": "stream",
     "text": [
      "Tokyo                       38050k\n",
      "Shanghai                    34000k\n",
      "Moscow                      12537k\n",
      "Lima                        10069k\n",
      "Hangzhou                     6242k\n",
      "Cape Town                    3740k\n",
      "Dubai                        3137k\n",
      "Rome                         2627k\n",
      "Calgary                      1285k\n",
      "Sofia                        1204k\n"
     ]
    }
   ],
   "source": [
    "struct City {\n",
    "    name: String,\n",
    "    population: i64,\n",
    "    country: String,\n",
    "}\n",
    "\n",
    "fn city_population_descending(city: &City) -> i64 { \n",
    "    -city.population\n",
    "}\n",
    "\n",
    "impl City {\n",
    "    fn new(name: &str, population: i64, country: &str) -> Self {\n",
    "        Self {\n",
    "            name: name.to_string(),\n",
    "            population,\n",
    "            country: country.to_string(),\n",
    "        }\n",
    "    }\n",
    "}\n",
    "\n",
    "let mut cities = vec![\n",
    "    City::new(\"Dubai\", 3_137_000, \"United Arab Emirates\"),\n",
    "    City::new(\"Hangzhou\", 6_242_000, \"China\"),\n",
    "    City::new(\"Lima\", 10_069_000, \"Peru\"),\n",
    "    City::new(\"Sofia\", 1_204_000, \"Bulgaria\"),\n",
    "    City::new(\"Calgary\", 1_285_000, \"Canada\"),\n",
    "    City::new(\"Rome\", 2_627_000, \"Italy\"),\n",
    "    City::new(\"Cape Town\", 3_740_000, \"South Africa\"),\n",
    "    City::new(\"Moscow\", 12_537_000, \"Russia\"),\n",
    "    City::new(\"Shanghai\", 34_000_000, \"China\"),\n",
    "    City::new(\"Tokyo\", 38_050_000, \"Japan\"),\n",
    "];\n",
    "\n",
    "cities.sort_by_key(city_population_descending);\n",
    "\n",
    "for city in cities {\n",
    "    println!(\"{:20} {:>12}k\", city.name, city.population / 1000);\n",
    "};"
   ]
  },
  {
   "cell_type": "markdown",
   "id": "51a67746-960e-48c5-b7f7-00ddd0eb6fa2",
   "metadata": {},
   "source": [
    "**Closure is callable, but closure is not fn**.\n",
    "\n",
    "In fact, every closure you write has its own type, because a closure may contain data: values either borrowed or stolen from enclosing scopes. This could be any number of variables, in any combination of types. So every closure has an ad hoc type created by the compiler, large enough to hold that data. No two closures have exactly the same type. But every closure implements an Fn trait.\n",
    "\n",
    "Since every closure has its own type, code that works with closures usually needs to be generic."
   ]
  },
  {
   "cell_type": "code",
   "execution_count": null,
   "id": "a16687bf-a321-4d2e-a2da-f4dfb020c92d",
   "metadata": {},
   "outputs": [],
   "source": [
    "\n"
   ]
  }
 ],
 "metadata": {
  "kernelspec": {
   "display_name": "Rust",
   "language": "rust",
   "name": "rust"
  },
  "language_info": {
   "codemirror_mode": "rust",
   "file_extension": ".rs",
   "mimetype": "text/rust",
   "name": "Rust",
   "pygment_lexer": "rust",
   "version": ""
  }
 },
 "nbformat": 4,
 "nbformat_minor": 5
}
