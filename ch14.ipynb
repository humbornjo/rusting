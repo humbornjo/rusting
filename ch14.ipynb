{
 "cells": [
  {
   "cell_type": "markdown",
   "id": "2ea93061-cfa3-4d32-bd79-7fcd59c465a0",
   "metadata": {},
   "source": [
    "# Closures\n",
    "## Capturing Variables\n",
    "In most languages with closures, garbage collection plays an important role. For example, consider this JavaScript code:\n",
    "```Rust\n",
    "// Start an animation that rearranges the rows in a table of cities.\n",
    "function startSortingAnimation(cities, stat) {\n",
    "    // Helper function that we'll use to sort the table. \n",
    "    // Note that this function refers to stat.\n",
    "    function keyfn(city) {\n",
    "        return city.get_statistic(stat); \n",
    "    }\n",
    "    if (pendingSort) pendingSort.cancel();\n",
    "    // Now kick off an animation, passing keyfn to it. \n",
    "    // The sorting algorithm will call keyfn later. \n",
    "    pendingSort = new SortingAnimation(cities, keyfn);\n",
    "}\n",
    "```\n",
    "The closure `keyfn` is stored in the new `SortingAnimation` object. It’s meant to be called after `startSortingAnimation` returns. Now, normally when a function returns, all its variables and arguments go out of scope and are discarded. But here, the JavaScript engine must keep `stat` around somehow, since the closure uses it. Most JavaScript engines do this by allocating stat in the heap and letting the garbage collector reclaim it later.\n",
    "\n",
    "Rust doesn’t have garbage collection. How will this work? To answer this question, we’ll look at two examples."
   ]
  },
  {
   "cell_type": "markdown",
   "id": "1c15da13-1b87-4e98-a3d8-991afb3c9a54",
   "metadata": {},
   "source": [
    "### Closures That Borrow\n",
    "```Rust\n",
    "/// Sort by any of several different statistics.\n",
    "fn sort_by_statistic(cities: &mut Vec<City>, stat: Statistic) { \n",
    "    cities.sort_by_key(|city| -city.get_statistic(stat));\n",
    "}\n",
    "```\n",
    "In this case, when Rust creates the closure, it automatically borrows a reference to stat. It stands to reason: the closure refers to stat, so it must have a reference to it.\n",
    "The rest is simple. The closure is subject to the rules about borrowing and lifetimes that we described in **Chapter 5**. In particular, since the closure contains a reference to stat, Rust won’t let it outlive stat. Since the closure is only used during sorting, this example is fine.\n",
    "\n",
    "In short, Rust ensures safety by using lifetimes instead of garbage collection. Rust’s way is faster: even a fast GC allocation will be slower than storing stat on the stack, as Rust does in this case."
   ]
  },
  {
   "cell_type": "code",
   "execution_count": null,
   "id": "9f2b7687-3f11-4ca1-beb3-d618cd92e8e0",
   "metadata": {},
   "outputs": [],
   "source": []
  }
 ],
 "metadata": {
  "kernelspec": {
   "display_name": "Rust",
   "language": "rust",
   "name": "rust"
  },
  "language_info": {
   "codemirror_mode": "rust",
   "file_extension": ".rs",
   "mimetype": "text/rust",
   "name": "Rust",
   "pygment_lexer": "rust",
   "version": ""
  }
 },
 "nbformat": 4,
 "nbformat_minor": 5
}
