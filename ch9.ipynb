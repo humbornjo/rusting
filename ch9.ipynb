{
 "cells": [
  {
   "cell_type": "markdown",
   "id": "2e0b66af-ec46-4f07-b362-3ef65669ecdd",
   "metadata": {},
   "source": [
    "# Structs\n",
    "Rust has three kinds of struct types, named-field, tuple-like, and unit-like, which differ in how you refer to their components: a named-field struct gives a name to each com‐ ponent, whereas a tuple-like struct identifies them by the order in which they appear. Unit-like structs have no components at all; these are not common, but more useful than you might think."
   ]
  },
  {
   "cell_type": "markdown",
   "id": "7fb3bbf9-c144-45cc-b6eb-b5f60312ae05",
   "metadata": {},
   "source": [
    "## Named-Field Structs\n",
    "The definition of a named-field struct type looks like this:"
   ]
  },
  {
   "cell_type": "code",
   "execution_count": 6,
   "id": "7a986519-c853-415c-ac48-8473f1b8051c",
   "metadata": {},
   "outputs": [],
   "source": [
    "/// A rectangle of eight-bit grayscale pixels.\n",
    "struct GrayscaleMap { \n",
    "    pixels: Vec<u8>, \n",
    "    size: (usize, usize)\n",
    "}\n",
    "fn new_map(size: (usize, usize), pixels: Vec<u8>) -> GrayscaleMap { \n",
    "    assert_eq!(pixels.len(), size.0 * size.1);\n",
    "    GrayscaleMap { pixels, size }\n",
    "}\n",
    "\n",
    "let width = 1024;\n",
    "let height = 576;\n",
    "let image = GrayscaleMap {\n",
    "    pixels: vec![0; width * height],\n",
    "    size: (width, height)\n",
    "};\n",
    "assert_eq!(image.size, (1024, 576));\n",
    "assert_eq!(image.pixels.len(), 1024 * 576);"
   ]
  },
  {
   "cell_type": "markdown",
   "id": "3b46f8b9-0aa1-4708-ab15-fd2aa49cb20c",
   "metadata": {},
   "source": [
    "Another examplem:"
   ]
  },
  {
   "cell_type": "code",
   "execution_count": 8,
   "id": "2933495c-0029-4e46-a0f8-7f4f62549e93",
   "metadata": {},
   "outputs": [],
   "source": [
    "// In this game, brooms are monsters. You'll see.\n",
    "struct Broom { name: String,\n",
    "    height: u32,\n",
    "    health: u32,\n",
    "    position: (f32, f32, f32), \n",
    "    intent: BroomIntent\n",
    "}\n",
    "/// Two possible alternatives for what a `Broom` could be working on.\n",
    "#[derive(Copy, Clone)]\n",
    "enum BroomIntent { FetchWater, DumpWater }\n",
    "\n",
    "// Receive the input Broom by value, taking ownership.\n",
    "fn chop(b: Broom) -> (Broom, Broom) {\n",
    "    // Initialize `broom1` mostly from `b`, changing only `height`. Since \n",
    "    // `String` is not `Copy`, `broom1` takes ownership of `b`'s name. \n",
    "    let mut broom1 = Broom { height: b.height / 2, .. b };\n",
    "    // Initialize `broom2` mostly from `broom1`. Since `String` is not \n",
    "    // `Copy`, we must clone `name` explicitly.\n",
    "    let mut broom2 = Broom { name: broom1.name.clone(), .. broom1 };\n",
    "    // Give each fragment a distinct name.\n",
    "    broom1.name.push_str(\" I\");\n",
    "    broom2.name.push_str(\" II\");\n",
    "    (broom1, broom2)\n",
    "}\n",
    "\n",
    "let hokey = Broom {\n",
    "    name: \"Hokey\".to_string(), \n",
    "    height: 60,\n",
    "    health: 100,\n",
    "    position: (100.0, 200.0, 0.0), \n",
    "    intent: BroomIntent::FetchWater\n",
    "};\n",
    "\n",
    "let (hokey1, hokey2) = chop(hokey); \n",
    "assert_eq!(hokey1.name, \"Hokey I\"); \n",
    "assert_eq!(hokey1.height, 30); \n",
    "assert_eq!(hokey1.health, 100);\n",
    "assert_eq!(hokey2.name, \"Hokey II\");\n",
    "assert_eq!(hokey1.height, 30);\n",
    "assert_eq!(hokey2.health, 100);"
   ]
  },
  {
   "cell_type": "markdown",
   "id": "4b0a3481-64a8-41d3-ad92-fe152c456ba5",
   "metadata": {},
   "source": [
    "## Tuple-Like Structs\n"
   ]
  },
  {
   "cell_type": "code",
   "execution_count": 9,
   "id": "5745bf4d-aea4-42fc-b0e8-a6d2d2864c1d",
   "metadata": {},
   "outputs": [],
   "source": [
    "struct Bounds(usize, usize);\n",
    "let image_bounds = Bounds(1024, 768);\n",
    "assert_eq!(image_bounds.0 * image_bounds.1, 786432);"
   ]
  },
  {
   "cell_type": "markdown",
   "id": "a2a49a74-ae36-4407-bdef-32fc421e6db9",
   "metadata": {},
   "source": [
    "Individual elements of a tuple-like struct may be public or not:\n",
    "```Rust\n",
    "pub struct Bounds(pub usize, pub usize);\n",
    "```\n",
    "The expression Bounds(1024, 768) looks like a function call, and in fact it is: defining the type also implicitly defines a function:\n",
    "```Rust\n",
    "fn Bounds(elem0: usize, elem1: usize) -> Bounds { ... }\n",
    "```\n",
    "\n",
    "Tuple-like structs are good for newtypes, structs with a single component that you define to get stricter type checking. For example, if you are working with ASCII-only text, you might define a newtype like this:\n",
    "```Rust\n",
    "struct Ascii(Vec<u8>);\n",
    "```"
   ]
  },
  {
   "cell_type": "markdown",
   "id": "0f57d3ca-93ad-444c-b349-ff3cc641f174",
   "metadata": {},
   "source": [
    "## Unit-Like Structs\n",
    "The third kind of struct is a little obscure: it declares a struct type with no elements at all:\n",
    "```Rust\n",
    "struct Onesuch;\n",
    "```\n",
    "A value of such a type occupies no memory, much like the unit type `()`. Rust doesn’t bother actually storing unit-like struct values in memory or generating code to oper‐ ate on them, because it can tell everything it might need to know about the value from its type alone. But logically, an empty struct is a type with values like any other—or more precisely, a type of which there is only a single value:\n",
    "```Rust\n",
    "let o = Onesuch;\n",
    "```"
   ]
  },
  {
   "cell_type": "markdown",
   "id": "2286c797-b18f-4e50-887a-00cd23ee3d25",
   "metadata": {},
   "source": [
    "## Struct Layout\n"
   ]
  },
  {
   "cell_type": "code",
   "execution_count": 10,
   "id": "c00ca37a-fda9-43b1-98d1-2ca87125abf2",
   "metadata": {},
   "outputs": [],
   "source": [
    "struct GrayscaleMap { \n",
    "    pixels: Vec<u8>,\n",
    "    size: (usize, usize) \n",
    "}"
   ]
  },
  {
   "cell_type": "markdown",
   "id": "ae73e6cd-98c3-49fe-bee8-f88a8e8f451d",
   "metadata": {},
   "source": [
    "![image.png](asset/ch9/1.png)"
   ]
  },
  {
   "cell_type": "markdown",
   "id": "1aecb8e1-a5f6-449e-a6e0-17a8ec4972e5",
   "metadata": {},
   "source": [
    "Unlike C and C++, Rust doesn’t make specific promises about how it will order a struct’s fields or elements in memory; this diagram shows only one possible arrangement. However, Rust does promise to store fields’ values directly in the struct’s block of memory.\n",
    "\n",
    "You can ask Rust to lay out structures in a way compatible with C and C++, using the `#[repr(C)]` attribute."
   ]
  },
  {
   "cell_type": "markdown",
   "id": "3cd9d4ed-d260-431c-8efc-2a2f7e19a697",
   "metadata": {},
   "source": [
    "## Defining Methods with impl\n",
    "An impl block is simply a collection of fn definitions, each of which becomes a method on the struct type named at the top of the block."
   ]
  },
  {
   "cell_type": "code",
   "execution_count": 11,
   "id": "5056a02a-9031-4a3e-ad3a-90d626e57b8b",
   "metadata": {},
   "outputs": [],
   "source": [
    "/// A first-in, first-out queue of characters.\n",
    "pub struct Queue {\n",
    "    older: Vec<char>, // older elements, eldest last. \n",
    "    younger: Vec<char> // younger elements, youngest last.\n",
    "}\n",
    "impl Queue {\n",
    "    /// Push a character onto the back of a queue. \n",
    "    pub fn push(&mut self, c: char) {\n",
    "        self.younger.push(c);\n",
    "    }\n",
    "    /// Pop a character off the front of a queue. Return `Some(c)` if there /// was a character to pop, or `None` if the queue was empty.\n",
    "    pub fn pop(&mut self) -> Option<char> {\n",
    "        if self.older.is_empty() {\n",
    "            if self.younger.is_empty() {\n",
    "                return None; \n",
    "            }\n",
    "            // Bring the elements in younger over to older, and put them in // the promised order.\n",
    "            use std::mem::swap;\n",
    "            swap(&mut self.older, &mut self.younger); \n",
    "            self.older.reverse();\n",
    "        }\n",
    "        // Now older is guaranteed to have something. Vec's pop method // already returns an Option, so we're set.\n",
    "        self.older.pop()\n",
    "    } \n",
    "}"
   ]
  },
  {
   "cell_type": "markdown",
   "id": "322b3d48-6072-42e1-85da-a3cd09b41c39",
   "metadata": {},
   "source": [
    "Functions defined in an impl block are called associated functions, since they’re associated with a specific type. The opposite of an associated function is a free function, one that is not defined as an impl block’s item.\n",
    "\n",
    "Rust passes a method the value it’s being called on as its first argument, which must have the special name self. Since self’s type is obviously the one named at the top of the impl block, or a reference to that, Rust lets you omit the type, and write `self`, `&self`, or `&mut self` as shorthand for `self: Queue`, `self: &Queue`, or `self: &mut Queue`. You can use the longhand forms if you like, but almost all Rust code uses the shorthand, as shown before."
   ]
  },
  {
   "cell_type": "markdown",
   "id": "2a08604b-1d11-4c67-93e8-d8b404ec558a",
   "metadata": {},
   "source": [
    "### Passing Self as a Box, Rc, or Arc\n",
    "Putting `Rc<Self>` into the signature of the append_to method makes the caller aware of Node’s requirements. The caller is then able to minimize allocation and reference- counting activity given its own needs:\n",
    "* If it can pass ownership of the Rc, it simply hands over the pointer.\n",
    "* If it needs to retain ownership of an Rc, it just bumps the reference count.\n",
    "* Only if it owns the Node itself must it call `Rc::new` to allocate heap space and move the Node into it. Since parent will insist on referring to its children via `Rc<Node>` pointers, this was going to be necessary eventually.\n",
    "Again, for most methods, `&self`, `&mut self`, and `self` (by value) are all you need. But if a method’s purpose is to affect the ownership of the value, using other pointer types for self can be just the right thing.\n"
   ]
  },
  {
   "cell_type": "code",
   "execution_count": 42,
   "id": "0352a84b-79c1-4a0f-b02d-5fee99ddbaab",
   "metadata": {},
   "outputs": [
    {
     "name": "stdout",
     "output_type": "stream",
     "text": [
      "first\n"
     ]
    }
   ],
   "source": [
    "use std::rc::Rc;\n",
    "struct Node { \n",
    "    tag: String,\n",
    "    children: Vec<Rc<Node>>\n",
    "}\n",
    "impl Node {\n",
    "    fn new(tag: &str) -> Node {\n",
    "        Node {\n",
    "            tag: tag.to_string(), \n",
    "            children: vec![],\n",
    "        } \n",
    "    }\n",
    "}\n",
    "\n",
    "impl Node {\n",
    "    fn append_to(self: Rc<Self>, parent: &mut Node) {\n",
    "        parent.children.push(self);\n",
    "    }\n",
    "}\n",
    "\n",
    "let mut parent: Node = Node::new(\"parent\"); \n",
    "{\n",
    "    let shared_node: Rc<Node> = Rc::new(Node::new(\"first\")); \n",
    "    shared_node.append_to(&mut parent);\n",
    "}\n",
    "println!(\"{}\", &(parent.children[0].tag));"
   ]
  },
  {
   "cell_type": "markdown",
   "id": "c878ed36-152f-42b7-9a49-97414b08e59e",
   "metadata": {},
   "source": [
    "实际上是可以用引用来实现的，但是通过引用实现的话,生命周期会被限制地相当狭小，具体可以参照本人拓展原书的上方代码块和实现的下方代码块。"
   ]
  },
  {
   "cell_type": "code",
   "execution_count": 33,
   "id": "ad65510c-6a46-4bf0-a014-352c22682050",
   "metadata": {},
   "outputs": [
    {
     "name": "stdout",
     "output_type": "stream",
     "text": [
      "first\n"
     ]
    }
   ],
   "source": [
    "struct Node<'a> {\n",
    "    tag: String,\n",
    "    children: Vec<&'a Node<'a>>,\n",
    "}\n",
    "\n",
    "impl<'a> Node<'a> {\n",
    "    fn new(tag: &str) -> Node<'a> {\n",
    "        Node {\n",
    "            tag: tag.to_string(),\n",
    "            children: vec![],\n",
    "        }\n",
    "    }\n",
    "\n",
    "    fn append_to(&'a self, parent: &'a mut Node<'a>) {\n",
    "        parent.children.push(self);\n",
    "    }\n",
    "}\n",
    "\n",
    "{\n",
    "    let mut parent: Node = Node::new(\"parent\"); \n",
    "    let mut shared_node: Node = Node::new(\"first\"); \n",
    "    shared_node.append_to(&mut parent);\n",
    "    println!(\"{}\", shared_node.tag);\n",
    "};"
   ]
  },
  {
   "cell_type": "markdown",
   "id": "2f45fcf1-e5d4-4a1a-84c1-78c03e2fe1af",
   "metadata": {},
   "source": [
    "### Type-Associated Functions\n",
    "\n",
    "An impl block for a given type can also define functions that don’t take self as an argument at all. These are still associated functions, since they’re in an impl block, but they’re not methods, since they don’t take a self argument. To distinguish them from methods, we call them type-associated functions.\n",
    "```Rust\n",
    "impl Queue {\n",
    "    pub fn new() -> Queue {\n",
    "        Queue { older: Vec::new(), younger: Vec::new() }\n",
    "    }\n",
    "}\n",
    "```"
   ]
  },
  {
   "cell_type": "markdown",
   "id": "6f71a569-762a-4de6-947e-2d5a2014d33d",
   "metadata": {},
   "source": [
    "It’s conventional in Rust for constructor functions to be named `new`; we’ve already seen `Vec::new`, `Box::new`, `HashMap::new`, and others. But there’s nothing special about the name new. It’s not a keyword, and types often have other associated functions that serve as constructors, like `Vec::with_capacity`."
   ]
  },
  {
   "cell_type": "markdown",
   "id": "862e4d69-7649-4a27-a9c7-96d71505f9a9",
   "metadata": {},
   "source": [
    "## Associated Consts\n",
    "Another feature of languages like C# and Java that Rust adopts in its type system is the idea of values associated with a type, rather than a specific instance of that type. In Rust, these are known as `associated consts`.\n",
    "\n",
    "As the name implies, associated consts are constant values. They’re often used to specify commonly used values of a type. For instance, you could define a two-dimensional vector for use in linear algebra with an associated unit vector:\n"
   ]
  },
  {
   "cell_type": "code",
   "execution_count": 53,
   "id": "3fc83d7e-fda2-4b75-9958-0c1860bd6c1c",
   "metadata": {},
   "outputs": [],
   "source": [
    "pub struct Vector2 { \n",
    "    x: f32,\n",
    "    y: f32, \n",
    "}\n",
    "\n",
    "impl Vector2 {\n",
    "    const ZERO: Vector2 = Vector2 { x: 0.0, y: 0.0 }; \n",
    "    const UNIT: Vector2 = Vector2 { x: 1.0, y: 0.0 };\n",
    "    fn scaled_by (mut self, scale: f32) -> Vector2{\n",
    "        self.x *= scale;\n",
    "        self.y *= scale;\n",
    "        self\n",
    "    }\n",
    "}"
   ]
  },
  {
   "cell_type": "code",
   "execution_count": 56,
   "id": "4d3ae9f9-f1f9-40cd-8bea-0e36f8f096bf",
   "metadata": {},
   "outputs": [
    {
     "name": "stdout",
     "output_type": "stream",
     "text": [
      "x: 2, y: 0\n"
     ]
    }
   ],
   "source": [
    "let scaled = Vector2::UNIT.scaled_by(2.0);\n",
    "println!(\"x: {}, y: {}\", scaled.x, scaled.y);"
   ]
  },
  {
   "cell_type": "markdown",
   "id": "be60034b-b19f-45e3-a19e-f8bf0ad7cf90",
   "metadata": {},
   "source": [
    "Nor does an associated const have to be of the same type as the type it’s associated with; we could use this feature to add IDs or names to types. For example, if there were several types similar to `Vector2` that needed to be written to a file and then loaded into memory later, an associated const could be used to add names or numeric IDs that could be written next to the data to identify its type:"
   ]
  },
  {
   "cell_type": "code",
   "execution_count": 57,
   "id": "c242af9f-7492-44ba-9e98-64cba8716b6b",
   "metadata": {},
   "outputs": [],
   "source": [
    "impl Vector2 {\n",
    "    const NAME: &'static str = \"Vector2\"; \n",
    "    const ID: u32 = 18;\n",
    "}"
   ]
  },
  {
   "cell_type": "markdown",
   "id": "a54918a6-ab79-40ee-90e0-f4d3a8cafdbf",
   "metadata": {},
   "source": [
    "## Generic Structs\n",
    "Fortunately, Rust structs can be generic, meaning that their definition is a template into which you can plug whatever types you like. For example, here’s a definition for Queue that can hold values of any type:"
   ]
  },
  {
   "cell_type": "code",
   "execution_count": 4,
   "id": "1cebd9a1-9249-4162-884d-3c7cf048e0b3",
   "metadata": {},
   "outputs": [],
   "source": [
    "pub struct Queue<T> { \n",
    "    older: Vec<T>,\n",
    "    younger: Vec<T>\n",
    "}\n",
    "\n",
    "impl<T> Queue<T> {\n",
    "    pub fn new() -> Queue<T> {\n",
    "        // equivalent due to the auto reference of rust\n",
    "        // Queue { older: Vec::new(), younger: Vec::new() }\n",
    "        Queue { older: Vec::<T>::new(), younger: Vec::<T>::new() }\n",
    "    }\n",
    "    pub fn push(&mut self, t: T) { \n",
    "        self.younger.push(t);\n",
    "    }\n",
    "    pub fn is_empty(&self) -> bool { \n",
    "        self.older.is_empty() && self.younger.is_empty()\n",
    "    }\n",
    "}\n",
    "let mut q = Queue::<char>::new();"
   ]
  },
  {
   "cell_type": "code",
   "execution_count": 5,
   "id": "9408e154-e4e2-481c-85cd-bbd4ef1769e7",
   "metadata": {},
   "outputs": [],
   "source": [
    "let mut s = Queue::new(); \n",
    "let mut r = Queue::new();\n",
    "\n",
    "s.push(\"CAD\"); // apparently a Queue<&'static str> \n",
    "r.push(0.74); // apparently a Queue<f64>\n",
    "\n",
    "s.push(\"BTC\"); // Bitcoins per USD, 2019-6\n",
    "r.push(13764.0); // Rust fails to detect irrational exuberance"
   ]
  },
  {
   "cell_type": "markdown",
   "id": "f2bb2e4c-367c-469a-94ad-323186ca197c",
   "metadata": {},
   "source": [
    "## Structs with Lifetime Parameters\n",
    "If a struct type contains references, you must name those references’ lifetimes. For example, here’s a structure that might hold references to the greatest and least elements of some slice:"
   ]
  },
  {
   "cell_type": "code",
   "execution_count": 9,
   "id": "c932e9b5-62eb-46fe-a503-edf9e84a3bcf",
   "metadata": {},
   "outputs": [],
   "source": [
    "struct Extrema<'elt> { \n",
    "    greatest: &'elt i32, \n",
    "    least: &'elt i32\n",
    "}\n",
    "\n",
    "fn find_extrema<'s>(slice: &'s [i32]) -> Extrema<'s> { \n",
    "    let mut greatest = &slice[0];\n",
    "    let mut least = &slice[0];\n",
    "    for i in 1..slice.len() {\n",
    "        if slice[i] < *least { least = &slice[i]; } \n",
    "        if slice[i] > *greatest { greatest = &slice[i]; }\n",
    "    }\n",
    "    Extrema { greatest, least }\n",
    "}\n",
    "\n",
    "{\n",
    "    let a = [0,-3,0,15,48]; \n",
    "    let e = find_extrema(&a); \n",
    "    assert_eq!(*e.least, -3); \n",
    "    assert_eq!(*e.greatest, 48);\n",
    "};"
   ]
  },
  {
   "cell_type": "markdown",
   "id": "c0613d9a-6486-4e3f-a5f7-c7dd1ea2eba8",
   "metadata": {},
   "source": [
    "Because it’s so common for the return type to use the same lifetime as an argument, Rust lets us omit the lifetimes when there’s one obvious candidate. We could also have written find_extrema’s signature like this, with no change in meaning:\n",
    "```Rust\n",
    "fn find_extrema(slice: &[i32]) -> Extrema { \n",
    "    ...\n",
    "}\n",
    "```\n",
    "Granted, we might have meant `Extrema<'static>`, but that’s pretty unusual. Rust provides a shorthand for the common case."
   ]
  },
  {
   "cell_type": "markdown",
   "id": "08e93110-cee3-45ed-b728-d9df73e37544",
   "metadata": {},
   "source": [
    "## Deriving Common Traits for Struct Types\n",
    "Structs can be very easy to write:\n",
    "```Rust\n",
    "struct Point { \n",
    "    x: f64,\n",
    "    y: f64 \n",
    "}\n",
    "```\n",
    "However, if you were to start using this Point type, you would quickly notice that it’s a bit of a pain. As written, Point is not copyable or cloneable. You can’t print it with println!`(\"{:?}\", point);` and it does not support the `==` and `!=` operators.\n",
    "\n",
    "Each of these features has a name in Rust—`Copy`, `Clone`, `Debug`, and `PartialEq`. They are called traits. In the case of these standard traits, and several others, you don’t need to implement them by hand unless you want some kind of custom behavior. Rust can automatically implement them for you, with mechanical accuracy. Just add a `#[derive]` attribute to the struct:\n",
    "```Rust\n",
    "#[derive(Copy, Clone, Debug, PartialEq)]\n",
    "struct Point { \n",
    "    x: f64,\n",
    "    y: f64 \n",
    "}\n",
    "```\n",
    "Each of these traits can be implemented automatically for a struct, provided that each of its fields implements the trait. We can ask Rust to derive `PartialEq` for `Point` because its two fields are both of type `f64`, which already implements `PartialEq`.\n",
    "\n",
    "Rust can also derive PartialOrd, which would add support for the comparison operators `<`, `>`, `<=`, and `>=`. We haven’t done so here, because comparing two points to see if one is “less than” the other is actually a pretty weird thing to do. There’s no one conventional order on points. So we choose not to support those operators for Point values. Cases like this are one reason that Rust makes us write the `#[derive]` attribute rather than automatically deriving every trait it can. Another reason is that implementing a trait is automatically a public feature, so copyability, cloneability, and so forth are all part of your struct’s public API and should be chosen deliberately."
   ]
  },
  {
   "cell_type": "markdown",
   "id": "d2d2af88-2b15-42aa-906e-a3c6eb957405",
   "metadata": {},
   "source": [
    "## Interior Mutability\n",
    "What we need is a little bit of mutable data inside an otherwise immutable value. This is called _interior mutability_. Rust offers several flavors of it; in this section, we’ll discuss the two most straightforward types: `Cell<T>` and `RefCell<T>`, both in the `std::cell` module."
   ]
  },
  {
   "cell_type": "code",
   "execution_count": 20,
   "id": "f922cfa7-78c4-4991-b426-ddc0ce22e45d",
   "metadata": {},
   "outputs": [],
   "source": [
    "use std::cell::{RefCell, Ref, RefMut};\n",
    "let ref_cell: RefCell<String> = RefCell::new(\"hello\".to_string());\n",
    "{\n",
    "    let r: Ref<String> = ref_cell.borrow(); // ok, returns a Ref<String> \n",
    "    let count: usize = r.len(); // ok, returns \"hello\".len() assert_eq!(count, 5);\n",
    "    // let mut w: RefMut<String> = ref_cell.borrow_mut(); // panic: already borrowed w.push_str(\" world\");\n",
    "};\n",
    "{\n",
    "    let mut w: RefMut<String> = ref_cell.borrow_mut(); // panic: already borrowed w.push_str(\" world\");\n",
    "};"
   ]
  },
  {
   "cell_type": "markdown",
   "id": "aa91f810-f58e-4a9e-a85a-8ba397ac00ea",
   "metadata": {},
   "source": [
    "Cells are easy to use. Having to call `.get()` and `.set()` or `.borrow()` and `.borrow_mut()` is slightly awkward, but that’s just the price we pay for bending the rules. The other drawback is less obvious and more serious: cells—and any types that contain them—are not thread-safe. Rust therefore will not allow multiple threads to access them at once."
   ]
  },
  {
   "cell_type": "code",
   "execution_count": null,
   "id": "18fa8c32-2ecb-4eca-8fb0-5fea5657d94b",
   "metadata": {},
   "outputs": [],
   "source": []
  }
 ],
 "metadata": {
  "kernelspec": {
   "display_name": "Rust",
   "language": "rust",
   "name": "rust"
  },
  "language_info": {
   "codemirror_mode": "rust",
   "file_extension": ".rs",
   "mimetype": "text/rust",
   "name": "Rust",
   "pygment_lexer": "rust",
   "version": ""
  }
 },
 "nbformat": 4,
 "nbformat_minor": 5
}
