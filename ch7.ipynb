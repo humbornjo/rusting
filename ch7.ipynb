{
 "cells": [
  {
   "cell_type": "markdown",
   "id": "07832bf8-8519-4069-97d9-1d88daa9d283",
   "metadata": {},
   "source": [
    "# Error Handling\n",
    "> I knew if I stayed around long enough, something like this would happen.\n",
    ">         —George Bernard Shaw on dying\n",
    "\n",
    "Ordinary errors are handled using the Result type. Results typically represent prob‐ lems caused by things outside the program, like erroneous input, a network outage, or a permissions problem. That such situations occur is not up to us; even a bug-free program will encounter them from time to time. Most of this chapter is dedicated to that kind of error. We’ll cover panic first, though, because it’s the simpler of the two.\n",
    "\n",
    "\n",
    "Panic is for the other kind of error, the kind that should never happen."
   ]
  },
  {
   "cell_type": "markdown",
   "id": "87969eb6-4b98-443c-b2e1-9a67c92b0c2a",
   "metadata": {},
   "source": [
    "## Panic\n",
    "A program panics when it encounters something so messed up that there must be a bug in the program itself. Something like:\n",
    "* Out-of-bounds array access\n",
    "* Integer division by zero\n",
    "* Calling `.expect()` on a Result that happens to be `Err`\n",
    "* Assertion failure\n",
    "\n",
    "(There’s also the macro `panic!()`, for cases where your own code discovers that it has gone wrong, and you therefore need to trigger a panic directly. `panic!()` accepts optional `println!()`-style arguments, for building an error message.)\n",
    "\n",
    "But we all make mistakes. When these errors that shouldn’t happen do happen—what then? Remarkably, Rust gives you a choice. Rust can either unwind the stack when a panic happens or abort the process. Unwinding is the default."
   ]
  },
  {
   "cell_type": "markdown",
   "id": "f8e68ea0-9fcd-4793-964d-07c0811ee983",
   "metadata": {},
   "source": [
    "### Unwinding\n"
   ]
  },
  {
   "cell_type": "markdown",
   "id": "7df9c9c6-4c06-412c-96ca-bcc0ca813afc",
   "metadata": {},
   "source": [
    "In Rust, it triggers a panic, which typically proceeds as follows:\n",
    "* An error message is printed to the terminal\n",
    "* The stack is unwound. This is a lot like C++ exception handling.\n",
    "Any temporary values, local variables, or arguments that the current function was using are dropped, in the reverse of the order they were created. Dropping a value simply means cleaning up after it: any Strings or Vecs the program was using are freed, any open Files are closed, and so on. User-defined drop methods are called too. Once the current function call is cleaned up, we move on to its caller, dropping its variables and arguments the same way. Then we move to that function’s caller, and so on up the stack.\n",
    "* Finally, the thread exits. If the panicking thread was the main thread, then the whole process exits (with a nonzero exit code).\n",
    "\n",
    "Perhaps panic is a misleading name for this orderly process. A panic is not a crash. It’s not undefined behavior. It’s more like a `RuntimeException` in Java or a `std::logic_error` in C++. The behavior is well-defined; it just shouldn’t be happening.\n",
    "\n",
    "Panic is safe. It doesn’t violate any of Rust’s safety rules; even if you manage to panic in the middle of a standard library method, it will never leave a dangling pointer or a half-initialized value in memory. The idea is that Rust catches the invalid array access, or whatever it is, before anything bad happens. It would be unsafe to proceed, so Rust unwinds the stack. But the rest of the process can continue running.\n",
    "\n",
    "Panic is per thread. One thread can be panicking while other threads are going on about their normal business.\n",
    "\n",
    "There is also a way to catch stack unwinding, allowing the thread to survive and continue running. The standard library function `std::panic::catch_unwind()` does this. "
   ]
  },
  {
   "cell_type": "markdown",
   "id": "565e4c69-18b3-47bd-9226-20ac73c94e5e",
   "metadata": {},
   "source": [
    "### Aborting\n",
    "Stack unwinding is the default panic behavior, but there are two circumstances in which Rust does not try to unwind the stack.\n",
    "If a `.drop()` method triggers a second panic while Rust is still trying to clean up after the first, this is considered fatal. Rust stops unwinding and aborts the whole process.\n",
    "Also, Rust’s panic behavior is customizable. If you compile with `-C panic=abort`, the first panic in your program immediately aborts the process. (With this option, Rust does not need to know how to unwind the stack, so this can reduce the size of your compiled code.)"
   ]
  },
  {
   "cell_type": "markdown",
   "id": "46a2cd63-2466-42f4-ab92-1f508dbd5a99",
   "metadata": {},
   "source": [
    "## Result\n",
    "Rust doesn’t have exceptions. Instead, functions that can fail have a return type that says so:\n",
    "```Rust\n",
    "fn get_weather(location: LatLng) -> Result<WeatherReport, io::Error>\n",
    "```\n",
    "The Result type indicates possible failure. When we call the `get_weather()` function, it will return either a success result `Ok(weather)`, where weather is a new `WeatherReport` value, or an error result `Err(error_value)`, where `error_value` is an `io::Error` explaining what went wrong.\n",
    "Rust requires us to write some kind of error handling whenever we call this function. We can’t get at the `WeatherReport` without doing something to the Result, and you’ll get a compiler warning if a Result value isn’t used."
   ]
  },
  {
   "cell_type": "markdown",
   "id": "0e14450f-01dc-4ca8-89cf-6ab4a33bd8e5",
   "metadata": {},
   "source": [
    "### Catching Errors\n",
    "The most thorough way of dealing with a `Result`:\n",
    "```Rust\n",
    "match get_weather(hometown) { \n",
    "    Ok(report) => {\n",
    "        display_weather(hometown, &report);\n",
    "    }\n",
    "    Err(err) => {\n",
    "        println!(\"error querying the weather: {}\", err);\n",
    "        schedule_weather_retry();\n",
    "    } \n",
    "}\n",
    "```\n",
    "This is Rust’s equivalent of `try/catch` in other languages. It’s what you use when you want to handle errors head-on, not pass them on to your caller.\n",
    "\n",
    "match is a bit verbose, so `Result<T, E>` offers a variety of methods that are useful in particular common cases. Each of these methods has a match expression in its implementation."
   ]
  },
  {
   "cell_type": "markdown",
   "id": "863e4ea8-6f68-4d15-97be-e3b465fd74c0",
   "metadata": {},
   "source": [
    "### Result Type Aliases\n",
    "Sometimes you’ll see Rust documentation that seems to omit the error type of a Result:\n",
    "```Rust\n",
    "fn remove_file(path: &Path) -> Result<()>\n",
    "```\n",
    "This means that a Result type alias is being used.\n",
    "\n",
    "A type alias is a kind of shorthand for type names. Modules often define a Result type alias to avoid having to repeat an error type that’s used consistently by almost every function in the module. For example, the standard library’s `std::io` module includes this line of code:\n",
    "```Rust\n",
    "pub type Result<T> = result::Result<T, Error>;\n",
    "```\n",
    "This defines a public type `std::io::Result<T>`. It’s an alias for `Result<T, E>`, but hardcodes `std::io::Error` as the error type. In practical terms, this means that if you write use `std::io`;, then Rust will understand `io::Result<String>` as shorthand for `Result<String, io::Error>`.\n",
    "When something like `Result<()>` appears in the online documentation, you can click on the identifier `Result` to see which type alias is being used and learn the error type. In practice, it’s usually obvious from context."
   ]
  },
  {
   "cell_type": "markdown",
   "id": "121d8866-dca7-4580-87b1-9624a9876a54",
   "metadata": {},
   "source": [
    "### Printing Errors\n",
    "Sometimes the only way to handle an error is by dumping it to the terminal and moving on. We already showed one way to do this:\n",
    "```Rust\n",
    "println!(\"error querying the weather: {}\", err);\n",
    "```\n",
    "The standard library defines several error types with boring names: `std::io::Error`, `std::fmt::Error`, `std::str::Utf8Error`, and so on. All of them implement a common interface, the `std::error::Error` trait.\n",
    "\n",
    "Printing an error value does not also print out its source. If you want to be sure to print all the available information, use this function:\n",
    "```Rust\n",
    "use std::error::Error;\n",
    "use std::io::{Write, stderr};\n",
    "/// Dump an error message to `stderr`.\n",
    "///\n",
    "/// If another error happens while building the error message or \n",
    "/// writing to `stderr`, it is ignored.\n",
    "fn print_error(mut err: &dyn Error) {\n",
    "    let _ = writeln!(stderr(), \"error: {}\", err); \n",
    "    while let Some(source) = err.source() {\n",
    "        let _ = writeln!(stderr(), \"caused by: {}\", source);\n",
    "        err = source;\n",
    "    }\n",
    "}\n",
    "```\n",
    "\n",
    "The `writeln!` macro works like `println!`, except that it writes the data to a stream of your choice. Here, we write the error messages to the standard error stream, `std::io::stderr`. We could use the `eprintln!` macro to do the same thing, but `eprintln!` panics if an error occurs. In `print_error`, we want to ignore errors that arise while writing the message."
   ]
  },
  {
   "cell_type": "markdown",
   "id": "65b792fc-51f3-450f-ba86-b83486eb9b78",
   "metadata": {},
   "source": [
    "### Propagating Errors\n",
    "In most places where we try something that could fail, we don’t want to catch and handle the error immediately. It is simply too much code to use a 10-line match statement every place where something could go wrong.\n",
    "\n",
    "Instead, if an error occurs, we usually want to let our caller deal with it. We want errors to _propagate_ up the call stack.\n",
    "\n",
    "Rust has a `?` operator that does this. You can add a `?` to any expression that produces a `Result`, such as the result of a function call:\n",
    "```Rust\n",
    "let weather = get_weather(hometown)?;\n",
    "```\n",
    "The behavior of `?` depends on whether this function returns a success result or an\n",
    "error result:\n",
    "* On success, it unwraps the Result to get the success value inside. The type of weather here is not `Result<WeatherReport, io::Error>` but simply WeatherReport.\n",
    "* On error, it immediately returns from the enclosing function, passing the error result up the call chain. To ensure that this works, `?` can only be used on a Result in functions that have a `Result` return type.\n",
    "\n",
    "`?` also works similarly with the `Option` type. In a function that returns Option, you can use `?` to unwrap a value and return early in the case of None:\n"
   ]
  },
  {
   "cell_type": "markdown",
   "id": "a15c4009-6277-49b6-9c14-1b28ca95190c",
   "metadata": {},
   "source": [
    "### Working with Multiple Error Types"
   ]
  },
  {
   "cell_type": "code",
   "execution_count": 3,
   "id": "cc5a66b3-d2ea-4246-80d8-366d0f370e6d",
   "metadata": {},
   "outputs": [
    {
     "ename": "Error",
     "evalue": "`?` couldn't convert the error to `std::io::Error`",
     "output_type": "error",
     "traceback": [
      "\u001b[31m[E0277] Error:\u001b[0m `?` couldn't convert the error to `std::io::Error`",
      "   \u001b[38;5;246m╭\u001b[0m\u001b[38;5;246m─\u001b[0m\u001b[38;5;246m[\u001b[0mcommand_3:1:1\u001b[38;5;246m]\u001b[0m",
      "   \u001b[38;5;246m│\u001b[0m",
      " \u001b[38;5;246m4 │\u001b[0m \u001b[38;5;249mf\u001b[0m\u001b[38;5;249mn\u001b[0m\u001b[38;5;249m \u001b[0m\u001b[38;5;249mr\u001b[0m\u001b[38;5;249me\u001b[0m\u001b[38;5;249ma\u001b[0m\u001b[38;5;249md\u001b[0m\u001b[38;5;249m_\u001b[0m\u001b[38;5;249mn\u001b[0m\u001b[38;5;249mu\u001b[0m\u001b[38;5;249mm\u001b[0m\u001b[38;5;249mb\u001b[0m\u001b[38;5;249me\u001b[0m\u001b[38;5;249mr\u001b[0m\u001b[38;5;249ms\u001b[0m\u001b[38;5;249m(\u001b[0m\u001b[38;5;249mf\u001b[0m\u001b[38;5;249mi\u001b[0m\u001b[38;5;249ml\u001b[0m\u001b[38;5;249me\u001b[0m\u001b[38;5;249m:\u001b[0m\u001b[38;5;249m \u001b[0m\u001b[38;5;249m&\u001b[0m\u001b[38;5;249mm\u001b[0m\u001b[38;5;249mu\u001b[0m\u001b[38;5;249mt\u001b[0m\u001b[38;5;249m \u001b[0m\u001b[38;5;249md\u001b[0m\u001b[38;5;249my\u001b[0m\u001b[38;5;249mn\u001b[0m\u001b[38;5;249m \u001b[0m\u001b[38;5;249mB\u001b[0m\u001b[38;5;249mu\u001b[0m\u001b[38;5;249mf\u001b[0m\u001b[38;5;249mR\u001b[0m\u001b[38;5;249me\u001b[0m\u001b[38;5;249ma\u001b[0m\u001b[38;5;249md\u001b[0m\u001b[38;5;249m)\u001b[0m\u001b[38;5;249m \u001b[0m\u001b[38;5;249m-\u001b[0m\u001b[38;5;249m>\u001b[0m\u001b[38;5;249m \u001b[0m\u001b[38;5;54mR\u001b[0m\u001b[38;5;54me\u001b[0m\u001b[38;5;54ms\u001b[0m\u001b[38;5;54mu\u001b[0m\u001b[38;5;54ml\u001b[0m\u001b[38;5;54mt\u001b[0m\u001b[38;5;54m<\u001b[0m\u001b[38;5;54mV\u001b[0m\u001b[38;5;54me\u001b[0m\u001b[38;5;54mc\u001b[0m\u001b[38;5;54m<\u001b[0m\u001b[38;5;54mi\u001b[0m\u001b[38;5;54m6\u001b[0m\u001b[38;5;54m4\u001b[0m\u001b[38;5;54m>\u001b[0m\u001b[38;5;54m,\u001b[0m\u001b[38;5;54m \u001b[0m\u001b[38;5;54mi\u001b[0m\u001b[38;5;54mo\u001b[0m\u001b[38;5;54m:\u001b[0m\u001b[38;5;54m:\u001b[0m\u001b[38;5;54mE\u001b[0m\u001b[38;5;54mr\u001b[0m\u001b[38;5;54mr\u001b[0m\u001b[38;5;54mo\u001b[0m\u001b[38;5;54mr\u001b[0m\u001b[38;5;54m>\u001b[0m\u001b[38;5;249m \u001b[0m\u001b[38;5;249m{\u001b[0m",
      " \u001b[38;5;240m  │\u001b[0m                                            \u001b[38;5;54m─\u001b[0m\u001b[38;5;54m─\u001b[0m\u001b[38;5;54m─\u001b[0m\u001b[38;5;54m─\u001b[0m\u001b[38;5;54m─\u001b[0m\u001b[38;5;54m─\u001b[0m\u001b[38;5;54m─\u001b[0m\u001b[38;5;54m─\u001b[0m\u001b[38;5;54m─\u001b[0m\u001b[38;5;54m─\u001b[0m\u001b[38;5;54m─\u001b[0m\u001b[38;5;54m─\u001b[0m\u001b[38;5;54m─\u001b[0m\u001b[38;5;54m┬\u001b[0m\u001b[38;5;54m─\u001b[0m\u001b[38;5;54m─\u001b[0m\u001b[38;5;54m─\u001b[0m\u001b[38;5;54m─\u001b[0m\u001b[38;5;54m─\u001b[0m\u001b[38;5;54m─\u001b[0m\u001b[38;5;54m─\u001b[0m\u001b[38;5;54m─\u001b[0m\u001b[38;5;54m─\u001b[0m\u001b[38;5;54m─\u001b[0m\u001b[38;5;54m─\u001b[0m\u001b[38;5;54m─\u001b[0m\u001b[38;5;54m─\u001b[0m  ",
      " \u001b[38;5;240m  │\u001b[0m                                                         \u001b[38;5;54m╰\u001b[0m\u001b[38;5;54m─\u001b[0m\u001b[38;5;54m─\u001b[0m\u001b[38;5;54m─\u001b[0m\u001b[38;5;54m─\u001b[0m\u001b[38;5;54m─\u001b[0m\u001b[38;5;54m─\u001b[0m\u001b[38;5;54m─\u001b[0m\u001b[38;5;54m─\u001b[0m\u001b[38;5;54m─\u001b[0m\u001b[38;5;54m─\u001b[0m\u001b[38;5;54m─\u001b[0m\u001b[38;5;54m─\u001b[0m\u001b[38;5;54m─\u001b[0m\u001b[38;5;54m─\u001b[0m\u001b[38;5;54m─\u001b[0m expected `std::io::Error` because of this",
      " \u001b[38;5;240m  │\u001b[0m ",
      " \u001b[38;5;246m8 │\u001b[0m \u001b[38;5;249m \u001b[0m\u001b[38;5;249m \u001b[0m\u001b[38;5;249m \u001b[0m\u001b[38;5;249m \u001b[0m\u001b[38;5;249m \u001b[0m\u001b[38;5;249m \u001b[0m\u001b[38;5;249m \u001b[0m\u001b[38;5;249m \u001b[0m\u001b[38;5;249mn\u001b[0m\u001b[38;5;249mu\u001b[0m\u001b[38;5;249mm\u001b[0m\u001b[38;5;249mb\u001b[0m\u001b[38;5;249me\u001b[0m\u001b[38;5;249mr\u001b[0m\u001b[38;5;249ms\u001b[0m\u001b[38;5;249m.\u001b[0m\u001b[38;5;249mp\u001b[0m\u001b[38;5;249mu\u001b[0m\u001b[38;5;249ms\u001b[0m\u001b[38;5;249mh\u001b[0m\u001b[38;5;249m(\u001b[0m\u001b[38;5;249ml\u001b[0m\u001b[38;5;249mi\u001b[0m\u001b[38;5;249mn\u001b[0m\u001b[38;5;249me\u001b[0m\u001b[38;5;249m.\u001b[0m\u001b[38;5;249mp\u001b[0m\u001b[38;5;249ma\u001b[0m\u001b[38;5;249mr\u001b[0m\u001b[38;5;249ms\u001b[0m\u001b[38;5;249me\u001b[0m\u001b[38;5;249m(\u001b[0m\u001b[38;5;249m)\u001b[0m\u001b[38;5;100m?\u001b[0m\u001b[38;5;249m)\u001b[0m\u001b[38;5;249m;\u001b[0m",
      " \u001b[38;5;240m  │\u001b[0m                                  \u001b[38;5;100m┬\u001b[0m  ",
      " \u001b[38;5;240m  │\u001b[0m                                  \u001b[38;5;100m╰\u001b[0m\u001b[38;5;100m─\u001b[0m\u001b[38;5;100m─\u001b[0m the trait `From<ParseIntError>` is not implemented for `std::io::Error`",
      "\u001b[38;5;246m───╯\u001b[0m"
     ]
    }
   ],
   "source": [
    "use std::io::{self, BufRead};\n",
    "/// Read integers from a text file.\n",
    "/// The file should have one number on each line.\n",
    "fn read_numbers(file: &mut dyn BufRead) -> Result<Vec<i64>, io::Error> {\n",
    "    let mut numbers = vec![];\n",
    "    for line_result in file.lines() {\n",
    "        let line = line_result?; \n",
    "        numbers.push(line.parse()?);\n",
    "    }\n",
    "    Ok(numbers)\n",
    "}"
   ]
  },
  {
   "cell_type": "markdown",
   "id": "7850d8c7-afac-4559-b9a3-14b47d294a17",
   "metadata": {},
   "source": [
    "The problem here is that reading a line from a file and parsing an integer produce two different potential error types. The type of `line_result` is `Result<String, std::io::Error>`. The type of `line.parse()` is `Result<i64, std::num::Parse IntError>`. The return type of our `read_numbers()` function only accommodates `io::Errors`. Rust tries to cope with the ParseIntError by converting it to a `io::Error`, but there’s no such conversion, so we get a type error.\n",
    "\n",
    "There are several ways of dealing with this:\n",
    "* The `thiserror crate`, which is designed to help you define good error types with just a few lines of code.\n",
    "* A simpler approach is to use what’s built into Rust. All of the standard library error types can be converted to the type `Box<dyn std::error::Error + Send + Sync + 'static>`. This is a bit of a mouthful, but `dyn std::error::Error` represents “any error,” and `Send + Sync + 'static` makes it safe to pass between threads, which you’ll often want. For convenience, you can define type aliases:"
   ]
  },
  {
   "cell_type": "code",
   "execution_count": 4,
   "id": "2d702232-f745-4099-bd48-1e1718b32a0f",
   "metadata": {},
   "outputs": [],
   "source": [
    "use std::io::{self, BufRead};\n",
    "\n",
    "type GenericError = Box<dyn std::error::Error + Send + Sync + 'static>; \n",
    "type GenericResult<T> = Result<T, GenericError>;\n",
    "/// Read integers from a text file.\n",
    "/// The file should have one number on each line.\n",
    "fn read_numbers(file: &mut dyn BufRead) -> GenericResult<Vec<i64>> {\n",
    "    let mut numbers = vec![];\n",
    "    for line_result in file.lines() {\n",
    "        let line = line_result?; \n",
    "        numbers.push(line.parse()?);\n",
    "    }\n",
    "    Ok(numbers)\n",
    "}"
   ]
  },
  {
   "cell_type": "markdown",
   "id": "68447fa2-23b4-4ef1-b0ff-c73f322b7e2d",
   "metadata": {},
   "source": [
    "Incidentally, the `?` operator does this automatic conversion using a standard method that you can use yourself. To convert any error to the `GenericError` type, call `GenericError::from()`:\n",
    "```Rust\n",
    "let io_error = io::Error::new( // make our own io::Error io::ErrorKind::Other, \"timed out\");\n",
    "return Err(GenericError::from(io_error)); // manually convert to GenericError\n",
    "```\n",
    "The downside of the `GenericError` approach is that the return type no longer communicates precisely what kinds of errors the caller can expect. The caller must be ready for anything.\n",
    "\n",
    "If you’re calling a function that returns a GenericResult and you want to handle one particular kind of error but let all others propagate out, use the generic method `error.downcast_ref::<ErrorType>()`. It borrows a reference to the error, if it happens to be the particular type of error you’re looking for:\n",
    "```Rust\n",
    "loop {\n",
    "    match compile_project() {\n",
    "        Ok(()) => return Ok(()), \n",
    "        Err(err) => {\n",
    "            if let Some(mse) = err.downcast_ref::<MissingSemicolonError>() { \n",
    "                insert_semicolon_in_source_code(mse.file(), mse.line())?; continue; // try again!\n",
    "            }\n",
    "            return Err(err); \n",
    "        }\n",
    "    } \n",
    "}\n",
    "```\n",
    "Many languages have built-in syntax to do this, but it turns out to be rarely needed. Rust has a method for it instead."
   ]
  },
  {
   "cell_type": "markdown",
   "id": "29d991f3-c70d-4e13-b8b6-5862c93cd7c3",
   "metadata": {},
   "source": [
    "### Dealing with Errors That “Can’t Happen”\n",
    "Sometimes we just know that an error can’t happen. For example, suppose we’re writing code to parse a configuration file, and at one point we find that the next thing in the file is a string of digits:\n",
    "```Rust\n",
    "if next_char.is_digit(10) {\n",
    "    let start = current_index;\n",
    "    current_index = skip_digits(&line, current_index); \n",
    "    let digits = &line[start..current_index];\n",
    "    ...\n",
    "```\n",
    "We want to convert this string of digits to an actual number. There’s a standard method that does this:\n",
    "```Rust\n",
    "let num = digits.parse::<u64>();\n",
    "```\n",
    "Now the problem: the `str.parse::<u64>()` method doesn’t return a `u64`. It returns a\n",
    "Result. It can fail, because some strings aren’t numeric: \n",
    "```Rust\n",
    "\"bleen\".parse::<u64>() // ParseIntError: invalid digit\n",
    "```\n",
    "But we happen to know that in this case, digits consists entirely of digits. What should we do?\n",
    "\n",
    "If the code we’re writing already returns a GenericResult, we can tack on a `?` and forget about it. Otherwise, we face the irritating prospect of having to write errorhandling code for an error that can’t happen. The best choice then would be to use `.unwrap()`, a `Result` method that panics if the result is an `Err`, but simply returns the success value of an `Ok`:\n",
    "```Rust\n",
    "let num = digits.parse::<u64>().unwrap();\n",
    "```\n",
    "This is just like `?` except that if we’re wrong about this error, if it can happen, then in\n",
    "that case we would panic."
   ]
  },
  {
   "cell_type": "code",
   "execution_count": 10,
   "id": "b9b8a575-626c-41ef-853d-69592929e934",
   "metadata": {},
   "outputs": [
    {
     "name": "stderr",
     "output_type": "stream",
     "text": [
      "thread '<unnamed>' panicked at 'called `Result::unwrap()` on an `Err` value: ParseIntError { kind: PosOverflow }', src/lib.rs:20:39\n",
      "stack backtrace:\n",
      "   0: _rust_begin_unwind\n",
      "   1: core::panicking::panic_fmt\n",
      "   2: core::result::unwrap_failed\n",
      "   3: <unknown>\n",
      "   4: evcxr::runtime::Runtime::run_loop\n",
      "   5: evcxr::runtime::runtime_hook\n",
      "   6: evcxr_jupyter::main\n",
      "note: Some details are omitted, run with `RUST_BACKTRACE=full` for a verbose backtrace.\n"
     ]
    }
   ],
   "source": [
    "\"99999999999999999999\".parse::<u64>().unwrap(); // overflow error"
   ]
  },
  {
   "cell_type": "code",
   "execution_count": 15,
   "id": "02239d48-af45-4203-9cfc-5ad3c174ef07",
   "metadata": {},
   "outputs": [
    {
     "data": {
      "text/plain": [
       "Err(ParseIntError { kind: PosOverflow })"
      ]
     },
     "execution_count": 15,
     "metadata": {},
     "output_type": "execute_result"
    }
   ],
   "source": [
    "\"99999999999999999999\".parse::<u64>()"
   ]
  },
  {
   "cell_type": "code",
   "execution_count": 17,
   "id": "50c34c8a-9017-4065-96e1-469d79f7ee02",
   "metadata": {},
   "outputs": [
    {
     "data": {
      "text/plain": [
       "Ok(999999999)"
      ]
     },
     "execution_count": 17,
     "metadata": {},
     "output_type": "execute_result"
    }
   ],
   "source": [
    "\"999999999\".parse::<u64>() // overflow error"
   ]
  },
  {
   "cell_type": "markdown",
   "id": "6077be95-0339-4f1f-a013-cb87e01fee9e",
   "metadata": {},
   "source": [
    "Using `.unwrap()` in this particular case would therefore be a bug. Bogus input shouldn’t cause a panic."
   ]
  },
  {
   "cell_type": "markdown",
   "id": "9c0afdaa-0ba5-4a8d-8e56-a2b459e1ae15",
   "metadata": {},
   "source": [
    "### Ignoring Errors\n",
    "Occasionally we just want to ignore an error altogether. For example, in our `print_error()` function, we had to handle the unlikely situation where printing the error triggers another error. This could happen, for example, if `stderr` is piped to another process, and that process is killed. The original error we were trying to report is probably more important to propagate, so we just want to ignore the troubles with `stderr`, but the Rust compiler warns about unused Result values:\n",
    "```Rust\n",
    "writeln!(stderr(), \"error: {}\", err); // warning: unused result\n",
    "```\n",
    "The idiom let _ = ... is used to silence this warning:\n",
    "```Rust\n",
    "let _ = writeln!(stderr(), \"error: {}\", err); // ok, ignore result\n",
    "```"
   ]
  },
  {
   "cell_type": "markdown",
   "id": "6f0fa19c-5315-4ba5-b8ab-543936d0ce21",
   "metadata": {},
   "source": [
    "### Handling Errors in main()\n",
    "In most places where a Result is produced, letting the error bubble up to the caller is the right behavior. This is why `?` is a single character in Rust. As we’ve seen, in some programs it’s used on many lines of code in a row.\n",
    "\n",
    "But if you propagate an error long enough, eventually it reaches `main()`, and something has to be done with it. Normally, `main()` can’t use `?` because its return type is not `Result`:\n",
    "```Rust\n",
    "fn main() {\n",
    "    calculate_tides()?; // error: can't pass the buck any further\n",
    "}\n",
    "```\n",
    "The simplest way to handle errors in main() is to use `.expect()`:\n",
    "```Rust\n",
    "fn main() {\n",
    "    calculate_tides().expect(\"error\"); // the buck stops here\n",
    "}\n",
    "```\n",
    "If `calculate_tides()` returns an error result, the `.expect()` method panics. Panicking in the main thread prints an error message and then exits with a nonzero exit code, which is roughly the desired behavior. We use this all the time for tiny programs. It’s a start.\n",
    "\n",
    "The error message is a little intimidating, though:\n",
    "```bash\n",
    "$ tidecalc --planet mercury\n",
    "thread 'main' panicked at 'error: \"moon not found\"', src/main.rs:2:23\n",
    "note: run with `RUST_BACKTRACE=1` environment variable to display a backtrace\n",
    "```\n",
    "The error message is lost in the noise. Also, `RUST_BACKTRACE=1` is bad advice in this particular case.\n",
    "However, you can also change the type signature of `main()` to return a `Result` type, so you can use `?`:\n",
    "```Rust\n",
    "fn main() -> Result<(), TideCalcError> { \n",
    "    let tides = calculate_tides()?; \n",
    "    print_tides(tides);\n",
    "    Ok(())\n",
    "}\n",
    "```\n",
    "This works for any error type that can be printed with the `{:?}` formatter, which all standard error types, like `std::io::Error`, can be. This technique is easy to use and gives a somewhat nicer error message, but it’s not ideal:\n",
    "```bash\n",
    "$ tidecalc --planet mercury\n",
    "Error: TideCalcError { error_type: NoMoon, message: \"moon not found\" }\n",
    "```\n",
    "If you have more complex error types or want to include more details in your message, it pays to print the error message yourself:\n",
    "```Rust\n",
    "fn main() {\n",
    "    if let Err(err) = calculate_tides() {\n",
    "        print_error(&err);\n",
    "        std::process::exit(1);\n",
    "    }\n",
    "}\n",
    "```"
   ]
  },
  {
   "cell_type": "markdown",
   "id": "256b0251-252a-47dc-a8de-8ca7300f92a8",
   "metadata": {},
   "source": [
    "### Declaring a Custom Error Type\n",
    "Suppose you are writing a new JSON parser, and you want it to have its own error type.\n",
    "Approximately the minimum code you would write is:\n",
    "```Rust\n",
    "// json/src/error.rs\n",
    "#[derive(Debug, Clone)]\n",
    "pub struct JsonError { \n",
    "    pub message: String, \n",
    "    pub line: usize, \n",
    "    pub column: usize,\n",
    "}\n",
    "```\n",
    "This struct will be called `json::error::JsonError`, and when you want to raise an error of this type, you can write:\n",
    "```Rust\n",
    "return Err(JsonError {\n",
    "    message: \"expected ']' at end of array\".to_string(), \n",
    "    line: current_line,\n",
    "    column: current_column\n",
    "});\n",
    "```\n",
    "This will work fine. However, if you want your error type to work like the standard error types, as your library’s users will expect, then you have a bit more work to do:\n",
    "```Rust\n",
    "use std::fmt;\n",
    "// Errors should be printable.\n",
    "impl fmt::Display for JsonError {\n",
    "    fn fmt(&self, f: &mut fmt::Formatter) -> Result<(), fmt::Error> {\n",
    "        write!(f, \"{} ({}:{})\", self.message, self.line, self.column)\n",
    "    }\n",
    "}\n",
    "// Errors should implement the std::error::Error trait,\n",
    "// but the default definitions for the Error methods are fine. \n",
    "impl std::error::Error for JsonError { }\n",
    "```\n",
    "As with many aspects of the Rust language, crates exist to make error handling much easier and more concise. There is quite a variety, but one of the most used is `thiserror`, which does all of the previous work for you, allowing you to write errors like this:\n",
    "```Rust\n",
    "use thiserror::Error;\n",
    "\n",
    "#[derive(Error, Debug)] \n",
    "#[error(\"{message:} ({line:}, {column})\")]\n",
    "pub struct JsonError { \n",
    "    message: String,\n",
    "    line: usize,\n",
    "    column: usize, \n",
    "}\n",
    "```\n",
    "The `#[derive(Error)]` directive tells `thiserror` to generate the code shown earlier, which can save a lot of time and effort."
   ]
  },
  {
   "cell_type": "code",
   "execution_count": null,
   "id": "f7b6b311-f2b6-4f64-bd55-6ec7be65db6d",
   "metadata": {},
   "outputs": [],
   "source": []
  }
 ],
 "metadata": {
  "kernelspec": {
   "display_name": "Rust",
   "language": "rust",
   "name": "rust"
  },
  "language_info": {
   "codemirror_mode": "rust",
   "file_extension": ".rs",
   "mimetype": "text/rust",
   "name": "Rust",
   "pygment_lexer": "rust",
   "version": ""
  }
 },
 "nbformat": 4,
 "nbformat_minor": 5
}
