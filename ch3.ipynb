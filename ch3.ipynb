{
 "cells": [
  {
   "cell_type": "markdown",
   "id": "e41b0e2f-e07a-4494-b4bc-4e74c5e4a699",
   "metadata": {},
   "source": [
    "# Fixed width Number"
   ]
  },
  {
   "cell_type": "markdown",
   "id": "bcd6512d-1314-4df9-a4e8-6ccf6532cbb9",
   "metadata": {},
   "source": [
    "Although numeric types and the char type are distinct, Rust does provide byte literals, character-like literals for u8 values: `b'X'` represents the ASCII code for the character `X`, as a u8 value. For example, since the ASCII code for `A` is 65, the literals `b'A'` and 65u8 are exactly equivalent."
   ]
  },
  {
   "cell_type": "code",
   "execution_count": 8,
   "id": "49f3e2f9-49ba-4aad-8d08-1af3f92e1af2",
   "metadata": {},
   "outputs": [],
   "source": [
    "assert_eq!(b'A', 65u8);"
   ]
  },
  {
   "cell_type": "markdown",
   "id": "5ad61e94-41ff-464d-9d34-58705494f0fc",
   "metadata": {},
   "source": [
    "Conversions that are out of range for the destination produce values that are equivalent to the original modulo 2^N, where N is the width of the destination in bits. This is sometimes called \"truncation.\""
   ]
  },
  {
   "cell_type": "code",
   "execution_count": 11,
   "id": "43a7e00c-10c6-41ea-b70e-300b3535a5d5",
   "metadata": {},
   "outputs": [],
   "source": [
    "assert_eq!(1000_i16 as u8, 232_u8);\n",
    "assert_eq!(65535_u32 as i16, -1_i16);\n",
    "\n",
    "assert_eq!( -1_i8 as u8, 255_u8); \n",
    "assert_eq!( 255_u8 as i8, -1_i8);"
   ]
  },
  {
   "cell_type": "markdown",
   "id": "c4e412b7-6881-4eb5-bde7-0226e7339e7f",
   "metadata": {},
   "source": [
    "The standard library provides some operations as methods on integers. For example:"
   ]
  },
  {
   "cell_type": "code",
   "execution_count": 12,
   "id": "6ebf9b1b-ef51-4f4a-b9a9-064254941030",
   "metadata": {},
   "outputs": [],
   "source": [
    "assert_eq!(2_u16.pow(4), 16); // exponentiation \n",
    "assert_eq!((-4_i32).abs(), 4); // absolute value \n",
    "assert_eq!(0b101101_u8.count_ones(), 4); // population count"
   ]
  },
  {
   "cell_type": "markdown",
   "id": "708dd195-233b-4185-be82-1ca05590398e",
   "metadata": {},
   "source": [
    "In real code, you usually won’t need to write out the type suffixes as we’ve done here, because the context will determine the type. When it doesn’t, however, the error mes‐ sages can be surprising. For example, the following doesn’t compile:"
   ]
  },
  {
   "cell_type": "code",
   "execution_count": 13,
   "id": "731e0386-4703-455e-b994-8ec281a6e322",
   "metadata": {},
   "outputs": [
    {
     "ename": "Error",
     "evalue": "can't call method `abs` on ambiguous numeric type `{integer}`",
     "output_type": "error",
     "traceback": [
      "\u001b[31m[E0689] Error:\u001b[0m can't call method `abs` on ambiguous numeric type `{integer}`",
      "   \u001b[38;5;246m╭\u001b[0m\u001b[38;5;246m─\u001b[0m\u001b[38;5;246m[\u001b[0mcommand_13:1:1\u001b[38;5;246m]\u001b[0m",
      "   \u001b[38;5;246m│\u001b[0m",
      " \u001b[38;5;246m1 │\u001b[0m \u001b[38;5;249mp\u001b[0m\u001b[38;5;249mr\u001b[0m\u001b[38;5;249mi\u001b[0m\u001b[38;5;249mn\u001b[0m\u001b[38;5;249mt\u001b[0m\u001b[38;5;249ml\u001b[0m\u001b[38;5;249mn\u001b[0m\u001b[38;5;249m!\u001b[0m\u001b[38;5;249m(\u001b[0m\u001b[38;5;249m\"\u001b[0m\u001b[38;5;249m{\u001b[0m\u001b[38;5;249m}\u001b[0m\u001b[38;5;249m\"\u001b[0m\u001b[38;5;249m,\u001b[0m\u001b[38;5;249m \u001b[0m\u001b[38;5;249m(\u001b[0m\u001b[38;5;249m-\u001b[0m\u001b[38;5;249m4\u001b[0m\u001b[38;5;249m)\u001b[0m\u001b[38;5;249m.\u001b[0m\u001b[38;5;54ma\u001b[0m\u001b[38;5;54mb\u001b[0m\u001b[38;5;54ms\u001b[0m\u001b[38;5;249m(\u001b[0m\u001b[38;5;249m)\u001b[0m\u001b[38;5;249m)\u001b[0m\u001b[38;5;249m;\u001b[0m",
      " \u001b[38;5;240m  │\u001b[0m                     \u001b[38;5;54m─\u001b[0m\u001b[38;5;54m┬\u001b[0m\u001b[38;5;54m─\u001b[0m  ",
      " \u001b[38;5;240m  │\u001b[0m                      \u001b[38;5;54m╰\u001b[0m\u001b[38;5;54m─\u001b[0m\u001b[38;5;54m─\u001b[0m\u001b[38;5;54m─\u001b[0m error: can't call method `abs` on ambiguous numeric type `{integer}`",
      "\u001b[38;5;246m───╯\u001b[0m"
     ]
    }
   ],
   "source": [
    "println!(\"{}\", (-4).abs());"
   ]
  },
  {
   "cell_type": "markdown",
   "id": "e1a1a675-6486-4057-ba8b-5f9ed3126eb3",
   "metadata": {},
   "source": [
    "Rust wants to know exactly which integer type a value has before it will call the type’s own methods. The default of `i32` applies only if the type is still ambiguous after all method calls have been resolved, so that’s too late to help here. The solution is to spell out which type you intend, either with a suffix or by using a specific type’s function:"
   ]
  },
  {
   "cell_type": "code",
   "execution_count": 16,
   "id": "6b06d218-9e23-4f67-8a57-a8bb1a02f8ac",
   "metadata": {},
   "outputs": [
    {
     "name": "stdout",
     "output_type": "stream",
     "text": [
      "4\n",
      "-4\n",
      "-4\n",
      "4\n"
     ]
    }
   ],
   "source": [
    "println!(\"{}\", (-4_i32).abs());\n",
    "println!(\"{}\", -4_i32.abs());\n",
    "println!(\"{}\", -(4_i32.abs()));\n",
    "println!(\"{}\", i32::abs(-4));"
   ]
  },
  {
   "cell_type": "code",
   "execution_count": 18,
   "id": "bc4356fa-3f14-498e-9fc7-37be7b33ae2e",
   "metadata": {},
   "outputs": [
    {
     "name": "stderr",
     "output_type": "stream",
     "text": [
      "thread '<unnamed>' panicked at 'attempt to multiply with overflow', src/lib.rs:113:5\n",
      "stack backtrace:\n",
      "   0: _rust_begin_unwind\n",
      "   1: core::panicking::panic_fmt\n",
      "   2: core::panicking::panic\n",
      "   3: <core::panic::unwind_safe::AssertUnwindSafe<F> as core::ops::function::FnOnce<()>>::call_once\n",
      "   4: _run_user_code_10\n",
      "   5: evcxr::runtime::Runtime::run_loop\n",
      "   6: evcxr::runtime::runtime_hook\n",
      "   7: evcxr_jupyter::main\n",
      "note: Some details are omitted, run with `RUST_BACKTRACE=full` for a verbose backtrace.\n"
     ]
    }
   ],
   "source": [
    "let mut i = 1; loop {\n",
    "    i *= 10; // panic: attempt to multiply with overflow // (but only in debug builds!)\n",
    "}"
   ]
  },
  {
   "cell_type": "code",
   "execution_count": 19,
   "id": "e0488d17-7562-4b35-98b5-650a7521edf4",
   "metadata": {},
   "outputs": [
    {
     "name": "stderr",
     "output_type": "stream",
     "text": [
      "thread '<unnamed>' panicked at 'multiplication overflowed', src/lib.rs:114:27\n",
      "stack backtrace:\n",
      "   0: _rust_begin_unwind\n",
      "   1: core::panicking::panic_fmt\n",
      "   2: core::option::expect_failed\n",
      "   3: <unknown>\n",
      "   4: <unknown>\n",
      "   5: evcxr::runtime::Runtime::run_loop\n",
      "   6: evcxr::runtime::runtime_hook\n",
      "   7: evcxr_jupyter::main\n",
      "note: Some details are omitted, run with `RUST_BACKTRACE=full` for a verbose backtrace.\n"
     ]
    }
   ],
   "source": [
    "let mut i:i32 = 1; \n",
    "loop {\n",
    "    // panic: multiplication overflowed (in any build)\n",
    "    i = i.checked_mul(10).expect(\"multiplication overflowed\");\n",
    "}"
   ]
  },
  {
   "cell_type": "code",
   "execution_count": 22,
   "id": "05a07dda-7936-472a-a9a5-faf74fe31112",
   "metadata": {},
   "outputs": [
    {
     "ename": "Error",
     "evalue": "this arithmetic operation will overflow",
     "output_type": "error",
     "traceback": [
      "\u001b[31m[arithmetic_overflow] Error:\u001b[0m this arithmetic operation will overflow",
      "   \u001b[38;5;246m╭\u001b[0m\u001b[38;5;246m─\u001b[0m\u001b[38;5;246m[\u001b[0mcommand_22:1:1\u001b[38;5;246m]\u001b[0m",
      "   \u001b[38;5;246m│\u001b[0m",
      " \u001b[38;5;246m1 │\u001b[0m \u001b[38;5;249ma\u001b[0m\u001b[38;5;249ms\u001b[0m\u001b[38;5;249ms\u001b[0m\u001b[38;5;249me\u001b[0m\u001b[38;5;249mr\u001b[0m\u001b[38;5;249mt\u001b[0m\u001b[38;5;249m_\u001b[0m\u001b[38;5;249me\u001b[0m\u001b[38;5;249mq\u001b[0m\u001b[38;5;249m!\u001b[0m\u001b[38;5;249m(\u001b[0m\u001b[38;5;54m1\u001b[0m\u001b[38;5;54m2\u001b[0m\u001b[38;5;54m7\u001b[0m\u001b[38;5;54m_\u001b[0m\u001b[38;5;54mi\u001b[0m\u001b[38;5;54m8\u001b[0m\u001b[38;5;54m+\u001b[0m\u001b[38;5;54m1\u001b[0m\u001b[38;5;249m,\u001b[0m\u001b[38;5;249m \u001b[0m\u001b[38;5;249m-\u001b[0m\u001b[38;5;249m1\u001b[0m\u001b[38;5;249m2\u001b[0m\u001b[38;5;249m8\u001b[0m\u001b[38;5;249m)\u001b[0m\u001b[38;5;249m;\u001b[0m",
      " \u001b[38;5;240m  │\u001b[0m            \u001b[38;5;54m─\u001b[0m\u001b[38;5;54m─\u001b[0m\u001b[38;5;54m─\u001b[0m\u001b[38;5;54m─\u001b[0m\u001b[38;5;54m┬\u001b[0m\u001b[38;5;54m─\u001b[0m\u001b[38;5;54m─\u001b[0m\u001b[38;5;54m─\u001b[0m  ",
      " \u001b[38;5;240m  │\u001b[0m                \u001b[38;5;54m╰\u001b[0m\u001b[38;5;54m─\u001b[0m\u001b[38;5;54m─\u001b[0m\u001b[38;5;54m─\u001b[0m\u001b[38;5;54m─\u001b[0m\u001b[38;5;54m─\u001b[0m attempt to compute `i8::MAX + 1_i8`, which would overflow",
      "\u001b[38;5;246m───╯\u001b[0m"
     ]
    }
   ],
   "source": [
    "assert_eq!(127_i8+1, -128);"
   ]
  },
  {
   "cell_type": "markdown",
   "id": "97a78194-8c73-4370-99d6-c4de43772df5",
   "metadata": {},
   "source": [
    "Wrapping operations return the value equivalent to the mathematically correct result modulo the range of the value:"
   ]
  },
  {
   "cell_type": "code",
   "execution_count": 77,
   "id": "01b13010-828d-41cf-8b57-ddcb300882c5",
   "metadata": {},
   "outputs": [],
   "source": [
    "// The first product can be represented as a u16; \n",
    "// the second cannot, so we get 250000 modulo 216. \n",
    "assert_eq!(100_u16.wrapping_mul(200), 20000); \n",
    "assert_eq!(500_u16.wrapping_mul(500), 53392);\n",
    "// Operations on signed types may wrap to negative values.\n",
    "assert_eq!(500_i16.wrapping_mul(500), -12144);\n",
    "// In bitwise shift operations, the shift distance\n",
    "// is wrapped to fall within the size of the value.\n",
    "// So a shift of 17 bits in a 16-bit type is a shift\n",
    "// of 1.\n",
    "assert_eq!(5_i16.wrapping_shl(17), 10);"
   ]
  },
  {
   "cell_type": "markdown",
   "id": "3d138a8f-e992-43c5-b6a4-3584e7b33134",
   "metadata": {},
   "source": [
    "Saturating operations return the representable value that is closest to the mathematically correct result. In other words, the result is “clamped” to the maximum and minimum values the type can represent:"
   ]
  },
  {
   "cell_type": "code",
   "execution_count": 78,
   "id": "cee6cfb6-69af-425e-b471-95ae86c4eeef",
   "metadata": {},
   "outputs": [],
   "source": [
    "assert_eq!(32760_i16.saturating_add(10), 32767); \n",
    "assert_eq!((-32760_i16).saturating_sub(10), -32768);"
   ]
  },
  {
   "cell_type": "markdown",
   "id": "d0373d93-608c-405f-aff5-3bc495baf72f",
   "metadata": {},
   "source": [
    "Overflowing operations return a tuple `(result, overflowed)`, where result is what the wrapping version of the function would return, and overflowed is a bool indicating whether an overflow occurred:"
   ]
  },
  {
   "cell_type": "code",
   "execution_count": 79,
   "id": "120eafc0-2fa4-40eb-8f5e-794302d7fc8a",
   "metadata": {},
   "outputs": [],
   "source": [
    "assert_eq!(255_u8.overflowing_sub(2), (253, false)); \n",
    "assert_eq!(255_u8.overflowing_add(2), (1, true));"
   ]
  },
  {
   "cell_type": "markdown",
   "id": "dce578ba-a42b-4262-9286-fa4a72f81e49",
   "metadata": {},
   "source": [
    "`overflowing_shl` and `overflowing_shr` deviate from the pattern a bit: they return true for overflowed only if the shift distance was as large or larger than the bit width of the type itself. The actual shift applied is the requested shift mod‐ ulo the bit width of the type:"
   ]
  },
  {
   "cell_type": "code",
   "execution_count": 27,
   "id": "2266f087-4b06-4518-8880-7ec935c2783e",
   "metadata": {},
   "outputs": [],
   "source": [
    "// A shift of 17 bits is too large for `u16`, and 17 modulo 16 is 1.\n",
    "assert_eq!(5_u16.overflowing_shl(17), (10, true));"
   ]
  },
  {
   "cell_type": "markdown",
   "id": "8a2696c7-f60a-43d9-b502-f9d3503c7654",
   "metadata": {},
   "source": [
    "## float\n",
    "max and inf"
   ]
  },
  {
   "cell_type": "code",
   "execution_count": 34,
   "id": "74556476-2ace-4b6e-90e5-f6bf387b0af8",
   "metadata": {},
   "outputs": [
    {
     "name": "stdout",
     "output_type": "stream",
     "text": [
      "2147483647\n",
      "9223372036854775807\n",
      "340282350000000000000000000000000000000\n",
      "inf\n",
      "-inf\n"
     ]
    }
   ],
   "source": [
    "println!(\"{}\", i32::MAX);\n",
    "println!(\"{}\", i64::MAX);\n",
    "println!(\"{}\", f32::MAX);\n",
    "println!(\"{}\", f32::INFINITY);\n",
    "println!(\"{}\", f32::NEG_INFINITY);"
   ]
  },
  {
   "cell_type": "code",
   "execution_count": 35,
   "id": "35545f16-bf17-4939-a89b-99cc4ca4ab6a",
   "metadata": {},
   "outputs": [],
   "source": [
    "assert_eq!(5f32.sqrt() * 5f32.sqrt(), 5.); // exactly 5.0, per IEEE \n",
    "assert_eq!((-1.01f64).floor(), -2.0);"
   ]
  },
  {
   "cell_type": "markdown",
   "id": "78f24cc4-f3d9-44c2-9e33-5ceac64395a6",
   "metadata": {},
   "source": [
    "Again, method calls have a higher precedence than prefix operators, so be sure to correctly parenthesize method calls on negated values.\n",
    "\n",
    "The `std::f32::consts` and `std::f64::consts` modules provide various commonly used mathematical constants like `E`, `PI`, and the square root of two.\n",
    "\n",
    "When searching the documentation, remember that there pages for both the types themselves, named “f32 (primitive type)” and “f64 (primitive type), and the modules for each type, `std::f32` and `std::f64`."
   ]
  },
  {
   "cell_type": "markdown",
   "id": "605a96c3-7aa2-4a1a-a6cf-07c8954f6d78",
   "metadata": {},
   "source": [
    "As with integers, you usually won’t need to write out type suffixes on floating-point literals in real code, but when you do, putting a type on either the literal or the func‐ tion will suffice:"
   ]
  },
  {
   "cell_type": "code",
   "execution_count": 36,
   "id": "476e894f-3cf7-4a00-a139-ba8dfa21903c",
   "metadata": {},
   "outputs": [
    {
     "name": "stdout",
     "output_type": "stream",
     "text": [
      "1.4142135623730951\n",
      "1.4142135623730951\n"
     ]
    }
   ],
   "source": [
    "println!(\"{}\", (2.0_f64).sqrt()); \n",
    "println!(\"{}\", f64::sqrt(2.0));"
   ]
  },
  {
   "cell_type": "markdown",
   "id": "46e06509-98d3-4315-9fc4-fb427d8a01cb",
   "metadata": {},
   "source": [
    "Unlike C and C++, Rust performs almost no numeric conversions implicitly. If a function expects an `f64` argument, it’s an error to pass an `i32` value as the argument. In fact, Rust won’t even implicitly convert an `i16` value to an `i32` value, even though every `i16` value is also an `i32` value. But you can always write out explicit conversions using the as operator: `i as f64`, or `x as i32`."
   ]
  },
  {
   "cell_type": "code",
   "execution_count": 38,
   "id": "97c18c3f-89d2-42f3-96e3-9677aa3f70eb",
   "metadata": {},
   "outputs": [],
   "source": [
    "// bool in rust\n",
    "assert_eq!(false as i32, 0);\n",
    "assert_eq!(true as i32, 1);"
   ]
  },
  {
   "cell_type": "markdown",
   "id": "2d550803-45b3-4892-91d7-824f31872d3b",
   "metadata": {},
   "source": [
    "## char\n",
    "you can write out a character’s Unicode code point in hexadecimal"
   ]
  },
  {
   "cell_type": "code",
   "execution_count": 47,
   "id": "b902029b-c65d-47c8-94a4-dd3abbfbc063",
   "metadata": {},
   "outputs": [
    {
     "name": "stdout",
     "output_type": "stream",
     "text": [
      "*\n",
      "*\n",
      "􏿿\n"
     ]
    }
   ],
   "source": [
    "println!(\"{}\", '\\x2A');\n",
    "println!(\"{}\", '\\u{2A}');\n",
    "println!(\"{}\", '\\u{10ffff}');"
   ]
  },
  {
   "cell_type": "markdown",
   "id": "0af2dcb7-320c-44e8-abf0-3fd87d9d7a05",
   "metadata": {},
   "source": [
    "Going in the other direction, `u8` is the only type the as operator will convert to char: Rust intends the as operator to perform only cheap, infallible conversions, but every integer type other than `u8` includes values that are not permitted Unicode code points, so those conversions would require run-time checks. Instead, the standard library function `std::char::from_u32` takes any `u32` value and returns an `Option<char>`: if the `u32` is not a permitted Unicode code point, then `from_u32` returns None; otherwise, it returns `Some(c)`, where `c` is the char result.\n",
    "\n",
    "The standard library provides some useful methods on characters, which you can look up in the online documentation under “char (primitive type),” and the module “std::char.” For example:"
   ]
  },
  {
   "cell_type": "code",
   "execution_count": 51,
   "id": "0721b319-eaf7-460b-a61a-42acecd89609",
   "metadata": {},
   "outputs": [],
   "source": [
    "assert_eq!('*'.is_alphabetic(), false); \n",
    "assert_eq!('β'.is_alphabetic(), true); \n",
    "assert_eq!('8'.to_digit(10), Some(8)); \n",
    "assert_eq!('ಠ'.len_utf8(), 3); \n",
    "assert_eq!(std::char::from_digit(2, 10), Some('2'));\n",
    "assert_eq!(std::char::from_digit(15, 16), Some('f'));"
   ]
  },
  {
   "cell_type": "markdown",
   "id": "e03d12c2-5273-4515-88ff-c6c31c750727",
   "metadata": {},
   "source": [
    "## tuples\n",
    "A tuple is a pair, or triple, quadruple, quintuple, etc. `(hence, n-tuple, or tuple)`, of val‐ ues of assorted types. You can write a tuple as a sequence of elements, separated by commas and surrounded by parentheses. For example, `(\"Brazil\", 1985)` is a tuple whose first element is a statically allocated string, and whose second is an integer; its type is `(&str, i32)`. Given a tuple value t, you can access its elements as `t.0`, `t.1`, and so on."
   ]
  },
  {
   "cell_type": "code",
   "execution_count": 55,
   "id": "0ef232c2-4bf9-47ce-befb-dd74054921e5",
   "metadata": {},
   "outputs": [],
   "source": [
    "// fn split_at(&self, mid: usize) -> (&str, &str);\n",
    "let text = \"I see the eigenvalue in thine eye\"; \n",
    "let (head, tail): (&str, &str) = text.split_at(21); \n",
    "assert_eq!(head, \"I see the eigenvalue \"); \n",
    "assert_eq!(tail, \"in thine eye\");"
   ]
  },
  {
   "cell_type": "code",
   "execution_count": 61,
   "id": "ebbddbbb-192d-4854-be3c-9a4ef1c9f7c8",
   "metadata": {},
   "outputs": [],
   "source": [
    "// &'static str live through the program\n",
    "let text = \"I see the eigenvalue in thine eye\"; \n",
    "let temp: (&'static str, &'static str) = text.split_at(21);\n",
    "let head: &'static str = temp.0;\n",
    "let tail: &'static str  = temp.1;\n",
    "assert_eq!(head, \"I see the eigenvalue \");\n",
    "assert_eq!(tail, \"in thine eye\");"
   ]
  },
  {
   "cell_type": "markdown",
   "id": "aaf6dea0-4464-4a70-9f94-691d28abd115",
   "metadata": {},
   "source": [
    "You’ll also see tuples used as a sort of minimal-drama struct type. For example, in the Mandelbrot program in Chapter 2, we needed to pass the width and height of the image to the functions that plot it and write it to disk. We could declare a struct with width and height members, but that’s pretty heavy notation for something so obvi‐ ous, so we just used a tuple:"
   ]
  },
  {
   "cell_type": "code",
   "execution_count": 62,
   "id": "31b8463a-ffdf-4f6e-b7f8-302366c9a2a4",
   "metadata": {},
   "outputs": [],
   "source": [
    "/// Write the buffer `pixels`, whose dimensions are given by `bounds`, to the /// file named `filename`.\n",
    "fn write_image(filename: &str, pixels: &[u8], bounds: (usize, usize))\n",
    "-> Result<(), std::io::Error> {Ok(())}"
   ]
  },
  {
   "cell_type": "markdown",
   "id": "39ee4e65-e80f-43f4-aadb-9fc8bcac41f5",
   "metadata": {},
   "source": [
    "The type of the bounds parameter is `(usize, usize)`, a tuple of two `usize` values. Admittedly, we could just as well write out separate width and height parameters, and the machine code would be about the same either way. It’s a matter of clarity. We think of the size as one value, not two, and using a tuple lets us write what we mean."
   ]
  },
  {
   "cell_type": "markdown",
   "id": "e3b9867a-43ab-46a3-beff-71a5ef7b9416",
   "metadata": {},
   "source": [
    "The other commonly used tuple type is the zero-tuple `()`. This is traditionally called the unit type because it has only one value, also written `()`. Rust uses the unit type where there’s no meaningful value to carry, but context requires some sort of type nonetheless."
   ]
  },
  {
   "cell_type": "code",
   "execution_count": 64,
   "id": "8f7c6bac-36fd-4394-a709-83f0aca201b2",
   "metadata": {},
   "outputs": [],
   "source": [
    "// fn swap<T>(x: &mut T, y: &mut T);\n",
    "// fn swap<T>(x: &mut T, y: &mut T) -> ();"
   ]
  },
  {
   "cell_type": "markdown",
   "id": "65d2c1b4-414c-46a7-b75a-8362c4f188f3",
   "metadata": {},
   "source": [
    "For consistency’s sake, there are even tuples that contain a single value. The literal `(\"lonely hearts\",)` is a tuple containing a single string; its type is `(&str,)`. Here, the comma after the value is necessary to distinguish the singleton tuple from a sim‐ ple parenthetic expression."
   ]
  },
  {
   "cell_type": "markdown",
   "id": "da82de3d-845e-43a0-a5f0-2031b937c7fc",
   "metadata": {},
   "source": [
    "# Pointer Types\n",
    "This is a big difference between Rust and most languages with garbage collection. In Java, if class Rectangle contains a field Vector2D upperLeft;, then upperLeft is a reference to another separately created Vector2D object. Objects never physically contain other objects in Java.\n",
    "\n",
    "**Rust is different. The language is designed to help keep allocations to a minimum. Values nest by default. The value `((0, 0), (1440, 900))` is stored as four adjacent integers. If you store it in a local variable, you’ve got a local variable four integers wide. Nothing is allocated in the heap.**\n",
    "\n",
    "This is great for memory efficiency, but as a consequence, when a Rust program needs values to point to other values, it must use pointer types explicitly. The good news is that the pointer types used in safe Rust are constrained to eliminate undefined behavior, so pointers are much easier to use correctly in Rust than in C++."
   ]
  },
  {
   "cell_type": "markdown",
   "id": "4c751ebc-dde5-4388-ab5e-09fdf105a206",
   "metadata": {},
   "source": [
    "## References\n",
    "At run time, a reference to an `i32` is a single machine word holding the address of the `i32`, which may be on the stack or in the heap. The expression `&x` produces a reference to `x`; in Rust terminology, we say that it borrows a reference to `x`. Given a reference `r`, the expression `*r` refers to the value `r` points to. These are very much like the `&` and `*` operators in C and C++. And like a C pointer, a reference does not automatically free any resources when it goes out of scope.\n",
    "\n",
    "Unlike C pointers, however, Rust references are never null: there is simply no way to produce a null reference in safe Rust. And unlike C, Rust tracks the ownership and lifetimes of values, so mistakes like dangling pointers, double frees, and pointer inva‐ lidation are ruled out at compile time.\n",
    "\n",
    "Rust references come in two flavors: \n",
    "\n",
    "`&T`: \n",
    "An immutable, shared reference. You can have many shared references to a given value at a time, but they are read-only: modifying the value they point to is for‐ bidden, as with `const T*` in C.\n",
    "\n",
    "`&mut T`: \n",
    "A mutable, exclusive reference. You can read and modify the value it points to, as with a T* in C. But for as long as the reference exists, you may not have any other references of any kind to that value. In fact, the only way you may access the value at all is through the mutable reference.\n",
    "\n",
    "**Rust uses this dichotomy between shared and mutable references to enforce a “single writer or multiple readers” rule: either you can read and write the value, or it can be shared by any number of readers, but never both at the same time. This separation, enforced by compile-time checks, is central to Rust’s safety guarantees. Chapter 5 explains Rust’s rules for safe reference use.**"
   ]
  },
  {
   "cell_type": "markdown",
   "id": "48ee0320-a9db-4cd7-9bc1-a2b32c587cea",
   "metadata": {},
   "source": [
    "## Boxes\n",
    "The simplest way to allocate a value in the heap is to use `Box::new:`"
   ]
  },
  {
   "cell_type": "code",
   "execution_count": 67,
   "id": "451ead4a-e849-46d8-bbd8-4d9680e23521",
   "metadata": {},
   "outputs": [],
   "source": [
    "let t = (12, \"eggs\");\n",
    "let b: Box<(i32, &str)> = Box::new(t); // allocate a tuple in the heap"
   ]
  },
  {
   "cell_type": "markdown",
   "id": "340a6bc5-a11f-4116-af12-9e8a2cafd711",
   "metadata": {},
   "source": [
    "## Raw Pointers\n",
    "Rust also has the raw pointer types *mut T and *const T. Raw pointers really are just like pointers in C++. Using a raw pointer is unsafe, because Rust makes no effort to track what it points to. For example, raw pointers may be null, or they may point to memory that has been freed or that now contains a value of a different type. All the classic pointer mistakes of C++ are offered for your enjoyment.\n",
    "\n",
    "However, you may only dereference raw pointers within an unsafe block. An unsafe block is Rust’s opt-in mechanism for advanced language features whose safety is up to you. If your code has no unsafe blocks (or if those it does are written correctly), then the safety guarantees we emphasize throughout this book still hold. For details, see Chapter 22."
   ]
  },
  {
   "cell_type": "markdown",
   "id": "dcae0657-b6c7-4746-8280-6d2a9ecd1e5b",
   "metadata": {},
   "source": [
    "## Arrays, Vectors, and Slices\n",
    "Rust has three types for representing a sequence of values in memory:\n",
    "* The type `[T; N]` represents an array of `N` values, each of type `T`. An array’s size is a constant determined at compile time and is part of the type; you can’t append new elements or shrink an array.\n",
    "* The type `Vec<T>`, called a vector of Ts, is a dynamically allocated, growable sequence of values of type `T`. A vector’s elements live on the heap, so you can resize vectors at will: push new elements onto them, append other vectors to them, delete elements, and so on.\n",
    "* The types `&[T]` and `&mut [T]`, called a shared slice of Ts and mutable slice of Ts, are references to a series of elements that are a part of some other value, like an array or vector. You can think of a slice as a pointer to its first element, together with a count of the number of elements you can access starting at that point. A mutable slice `&mut [T]` lets you read and modify elements, but can’t be shared; a shared slice `&[T]` lets you share access among several readers, but doesn’t let you modify elements.\n",
    "\n",
    "Given a value `v` of any of these three types, the expression `v.len()` gives the number of elements in `v`, and `v[i]` refers to the ith element of `v`. The first element is `v[0]`, and the last element is `v[v.len() - 1]`. Rust checks that `i` always falls within this range; if it doesn’t, the expression panics. The length of `v` may be zero, in which case any attempt to index it will panic. `i` must be a usize value; you can’t use any other integer type as an index."
   ]
  },
  {
   "cell_type": "markdown",
   "id": "81e570de-6771-4884-95a7-514122461a06",
   "metadata": {},
   "source": [
    "### Array\n",
    "There are several ways to write array values. The simplest is to write a series of values within square brackets:"
   ]
  },
  {
   "cell_type": "code",
   "execution_count": 68,
   "id": "5b176d15-9404-4e78-984e-5e5b28858e63",
   "metadata": {},
   "outputs": [],
   "source": [
    "let lazy_caterer: [u32; 6] = [1, 2, 4, 7, 11, 16]; \n",
    "let taxonomy = [\"Animalia\", \"Arthropoda\", \"Insecta\"];\n",
    "assert_eq!(lazy_caterer[3], 7); \n",
    "assert_eq!(taxonomy.len(), 3);"
   ]
  },
  {
   "cell_type": "markdown",
   "id": "2fd4b5b6-e412-463f-bad2-f1a28662eb61",
   "metadata": {},
   "source": [
    "For the common case of a long array filled with some value, you can write [V; N], where V is the value each element should have, and N is the length."
   ]
  },
  {
   "cell_type": "markdown",
   "id": "b41b199c-7889-4d77-84ca-5ffb9dfa4acd",
   "metadata": {},
   "source": [
    "let mut sieve = [true; 10000]; \n",
    "for i in 2..100 {\n",
    "    if sieve[i] { \n",
    "        let mut j=i*i; \n",
    "        while j < 10000 {\n",
    "            sieve[j] = false;\n",
    "            j+=i; \n",
    "        }\n",
    "    } \n",
    "}\n",
    "assert!(sieve[211]); \n",
    "assert!(!sieve[9876]);"
   ]
  },
  {
   "cell_type": "markdown",
   "id": "fbe4194d-05ae-40f2-a8d6-c7bc8affdf3a",
   "metadata": {},
   "source": [
    "You’ll see this syntax used for fixed-size buffers: `[0u8; 1024]` can be a one-kilobyte buffer, filled with zeros. Rust has no notation for an uninitialized array. (In general, Rust ensures that code can never access any sort of uninitialized value.)\n",
    "\n",
    "An array’s length is part of its type and fixed at compile time. If n is a variable, you can’t write `[true; n]` to get an array of n elements. When you need an array whose length varies at run time (and you usually do), use a vector instead.\n",
    "\n",
    "The useful methods you’d like to see on arrays—iterating over elements, searching, sorting, filling, filtering, and so on—are all provided as methods on slices, not arrays. But Rust implicitly converts a reference to an array to a slice when searching for methods, so you can call any slice method on an array directly:"
   ]
  },
  {
   "cell_type": "code",
   "execution_count": 71,
   "id": "6b0adb71-0da9-4308-a501-26acd4d23489",
   "metadata": {},
   "outputs": [],
   "source": [
    "let mut chaos = [3,5,4,1,2]; \n",
    "chaos.sort();\n",
    "assert_eq!(chaos, [1, 2, 3, 4, 5]);"
   ]
  },
  {
   "cell_type": "markdown",
   "id": "73ebcdc5-f05c-4297-a0df-711ce4ffef30",
   "metadata": {},
   "source": [
    "Here, the sort method is actually defined on slices, but since it takes its operand by reference, \n",
    "Rust implicitly produces a `&mut [i32]` slice referring to the entire array and passes that to sort to operate on. \n",
    "In fact, the `len` method we mentioned earlier is a slice method as well."
   ]
  },
  {
   "cell_type": "markdown",
   "id": "7b6625b1-49d3-484a-ba5d-c25a175c7066",
   "metadata": {},
   "source": [
    "### Vectors\n",
    "A vector `Vec<T>` is a resizable array of elements of type `T`, **allocated on the heap**.\n",
    "\n",
    "There are several ways to create vectors. The simplest is to use the vec! macro, which\n",
    "gives us a syntax for vectors that looks very much like an array literal:"
   ]
  },
  {
   "cell_type": "code",
   "execution_count": 80,
   "id": "9126729d-4e98-4303-a965-3e4dab6131cc",
   "metadata": {},
   "outputs": [],
   "source": [
    "let mut primes: Vec<i32> = vec![2, 3, 5, 7]; \n",
    "assert_eq!(primes.iter().product::<i32>(), 210);"
   ]
  },
  {
   "cell_type": "markdown",
   "id": "41fac400-7613-4bad-8ea1-fb7d6e5c92cd",
   "metadata": {},
   "source": [
    "But of course, this is a vector, not an array, so we can add elements to it dynamically:"
   ]
  },
  {
   "cell_type": "code",
   "execution_count": 81,
   "id": "892633ac-cf19-4834-af92-26a2c9ec895a",
   "metadata": {},
   "outputs": [],
   "source": [
    "primes.push(11);\n",
    "primes.push(13); \n",
    "assert_eq!(primes.iter().product::<i32>(), 30030);"
   ]
  },
  {
   "cell_type": "markdown",
   "id": "240d5232-e807-4319-81ec-cbb731aa2088",
   "metadata": {},
   "source": [
    "You can also build a vector by repeating a given value a certain number of times, again using a syntax that imitates array literals:"
   ]
  },
  {
   "cell_type": "code",
   "execution_count": 82,
   "id": "14ede743-a83e-4c00-b1a4-e51c7d2a4b86",
   "metadata": {},
   "outputs": [],
   "source": [
    "fn new_pixel_buffer(rows: usize, cols: usize) -> Vec<u8> { \n",
    "    vec![0; rows * cols]\n",
    "}"
   ]
  },
  {
   "cell_type": "markdown",
   "id": "93d28d54-bb15-426e-9bc1-5d4e503c723a",
   "metadata": {},
   "source": [
    "The `vec!` macro is equivalent to calling `Vec::new` to create a new, empty vector and then pushing the elements onto it, which is another idiom:\n"
   ]
  },
  {
   "cell_type": "code",
   "execution_count": 86,
   "id": "eff5545a-e12d-4fb8-b8d9-74f1fe9c8e24",
   "metadata": {},
   "outputs": [],
   "source": [
    "let mut pal: Vec<&str> = Vec::new();\n",
    "pal.push(\"step\");\n",
    "pal.push(\"on\");\n",
    "pal.push(\"no\");\n",
    "pal.push(\"pets\");\n",
    "assert_eq!(pal, vec![\"step\", \"on\", \"no\", \"pets\"]);"
   ]
  },
  {
   "cell_type": "markdown",
   "id": "6dc54e42-57aa-470d-b46b-4dfff93f8630",
   "metadata": {},
   "source": [
    "Another possibility is to build a vector from the values produced by an iterator:"
   ]
  },
  {
   "cell_type": "code",
   "execution_count": 87,
   "id": "49ce7486-4728-4b1d-94bd-1a7acb3e7afc",
   "metadata": {},
   "outputs": [],
   "source": [
    "let v: Vec<i32> = (0..5).collect(); \n",
    "assert_eq!(v, [0, 1, 2, 3, 4]);"
   ]
  },
  {
   "cell_type": "markdown",
   "id": "c829a202-84c0-482b-9037-03ea9fd973b1",
   "metadata": {},
   "source": [
    "As with arrays, you can use slice methods on vectors:"
   ]
  },
  {
   "cell_type": "code",
   "execution_count": 89,
   "id": "68c9b93c-dbd4-4fae-bef6-aaddad897c8e",
   "metadata": {},
   "outputs": [],
   "source": [
    "// A palindrome!\n",
    "let mut palindrome: Vec<&str> = vec![\"a man\", \"a plan\", \"a canal\", \"panama\"]; palindrome.reverse();\n",
    "// Reasonable yet disappointing:\n",
    "assert_eq!(palindrome, vec![\"panama\", \"a canal\", \"a plan\", \"a man\"]);"
   ]
  },
  {
   "cell_type": "markdown",
   "id": "8bae09f0-7d93-4d3a-aaa7-8441a71a0b89",
   "metadata": {},
   "source": [
    "Here, the `reverse` method is actually defined on slices, but the call implicitly borrows a `&mut [&str]` slice from the vector and invokes reverse on that."
   ]
  },
  {
   "cell_type": "markdown",
   "id": "7a8d9820-24a0-4f94-aad5-0873c21a708f",
   "metadata": {},
   "source": [
    "A `Vec<T>` consists of three values: a pointer to the heap-allocated buffer for the ele‐ ments, which is created and owned by the `Vec<T>`; the number of elements that buffer has the capacity to store; and the number it actually contains now (in other words, its length).\n",
    "\n",
    "If you know the number of elements a vector will need in advance, instead of `Vec::new` you can call `Vec::with_capacity` to create a vector with a buffer large enough to hold them all, right from the start; then, you can add the elements to the vector one at a time without causing any reallocation. The `vec!` macro uses a trick like this, since it knows how many elements the final vector will have. Note that this only establishes the vector’s initial size; if you exceed your estimate, the vector simply enlarges its storage as usual.\n",
    "\n",
    "Many library functions look for the opportunity to use `Vec::with_capacity` instead of `Vec::new`. For example, in the collect example, the iterator `0..5` knows in advance that it will yield five values, and the collect function takes advantage of this to pre-allocate the vector it returns with the correct capacity. \n",
    "\n",
    "Just as a vector’s len method returns the number of elements it contains now, its capacity method returns the number of elements it could hold without reallocation:"
   ]
  },
  {
   "cell_type": "code",
   "execution_count": 92,
   "id": "9599d7aa-5acf-4de5-ae18-0b5ada5a5659",
   "metadata": {},
   "outputs": [
    {
     "name": "stdout",
     "output_type": "stream",
     "text": [
      "capacity is now 4\n"
     ]
    }
   ],
   "source": [
    "let mut v: Vec<i32> = Vec::with_capacity(2); \n",
    "assert_eq!(v.len(), 0); \n",
    "assert_eq!(v.capacity(), 2);\n",
    "v.push(1);\n",
    "v.push(2);\n",
    "assert_eq!(v.len(), 2);\n",
    "assert_eq!(v.capacity(), 2);\n",
    "v.push(3);\n",
    "assert_eq!(v.len(), 3);\n",
    "// Typically prints \"capacity is now 4\": \n",
    "println!(\"capacity is now {}\", v.capacity());"
   ]
  },
  {
   "cell_type": "markdown",
   "id": "4f1e50e4-7f23-4468-afe7-df7b4b44badc",
   "metadata": {},
   "source": [
    "You can insert and remove elements wherever you like in a vector, although these operations shift all the elements after the affected position forward or backward, so they may be slow if the vector is long:"
   ]
  },
  {
   "cell_type": "code",
   "execution_count": 94,
   "id": "3ad1424e-153e-4aeb-acbb-9fa2d54f022c",
   "metadata": {},
   "outputs": [],
   "source": [
    "let mut v: Vec<i32> = vec![10, 20, 30, 40, 50];\n",
    "// Make the element at index 3 be 35.\n",
    "v.insert(3, 35);\n",
    "assert_eq!(v, [10, 20, 30, 35, 40, 50]);\n",
    "// Remove the element at index 1.\n",
    "v.remove(1);\n",
    "assert_eq!(v, [10, 30, 35, 40, 50]);"
   ]
  },
  {
   "cell_type": "markdown",
   "id": "8094113c-190a-4c8f-955e-41d085d8500a",
   "metadata": {},
   "source": [
    "You can use the `pop` method to remove the last element and return it. More precisely, popping a value from a `Vec<T>` returns an `Option<T>`: None if the vector was already empty, or `Some(v)` if its last element had been `v`:"
   ]
  },
  {
   "cell_type": "code",
   "execution_count": 96,
   "id": "fdc16490-2757-4aa3-bbad-1e0e8a67e15e",
   "metadata": {},
   "outputs": [],
   "source": [
    "let mut v: Vec<&str> = vec![\"Snow Puff\", \"Glass Gem\"]; \n",
    "assert_eq!(v.pop(), Some(\"Glass Gem\")); \n",
    "assert_eq!(v.pop(), Some(\"Snow Puff\")); \n",
    "assert_eq!(v.pop(), None);"
   ]
  },
  {
   "cell_type": "markdown",
   "id": "70dfcfbf-603a-4855-8654-0eb7620ff09f",
   "metadata": {},
   "source": [
    "You can use a `for` loop to iterate over a vector:"
   ]
  },
  {
   "cell_type": "code",
   "execution_count": 97,
   "id": "fda8797f-5451-4a76-b53c-893a5ed61b26",
   "metadata": {},
   "outputs": [
    {
     "data": {
      "text/plain": [
       "()"
      ]
     },
     "execution_count": 97,
     "metadata": {},
     "output_type": "execute_result"
    }
   ],
   "source": [
    "  // Get our command-line arguments as a vector of Strings.\n",
    "let languages: Vec<String> = std::env::args().skip(1).collect(); \n",
    "for l in languages {\n",
    "    println!(\"{}: {}\", l, \n",
    "            if l.len()%2==0 {\n",
    "                \"functional\"\n",
    "            } else { \n",
    "                \"imperative\"\n",
    "            }\n",
    "    );\n",
    "}"
   ]
  },
  {
   "cell_type": "markdown",
   "id": "33c3896a-3eaa-4055-a124-2e9f07dec194",
   "metadata": {},
   "source": [
    "### Slices\n",
    "A slice, written `[T]` without specifying the length, is a region of an array or vector. Since a slice can be any length, slices can’t be stored directly in variables or passed as function arguments. **Slices are always passed by reference**.\n",
    "\n",
    "A reference to a slice is a fat pointer: a two-word value comprising a pointer to the slice’s first element, and the number of elements in the slice.\n",
    "\n",
    "Suppose you run the following code:"
   ]
  },
  {
   "cell_type": "code",
   "execution_count": 15,
   "id": "28919e75-7d29-413a-8ed3-11782382a08c",
   "metadata": {},
   "outputs": [
    {
     "name": "stdout",
     "output_type": "stream",
     "text": [
      "0.707, -0.707\n",
      "0\n",
      "-0.707\n",
      "-1\n",
      "-0.707\n",
      "0\n",
      "0.707\n",
      "1\n",
      "0.707\n"
     ]
    }
   ],
   "source": [
    "let v: Vec<f64> = vec![0.0, 0.707, 1.0, 0.707]; \n",
    "let w: [f64; 4] = [0.0, -0.707, -1.0, -0.707];\n",
    "{\n",
    "    // v 是一个 Vec<f64>，它是动态分配的，具有动态生命周期，当 v 被创建时，\n",
    "    // 它的生命周期开始，当它超出作用域时，它的生命周期结束。\n",
    "    // w 是一个 [f64; 4]，它是一个栈上分配的数组，具有静态生命周期 'static，\n",
    "    // 因为它的生命周期在整个程序运行期间都是有效的。\n",
    "\n",
    "    // 因此，当你创建 sv 和 sw 时，它们的生命周期也会继承它们所引用的数据的生命周期。\n",
    "    // sv 的生命周期会与 v 的生命周期一致，而 sw 的生命周期会与 w 的生命周期一致。\n",
    "\n",
    "    // 由于生命周期不同，Rust 不允许你在同一作用域中将具有不同生命周期的引用传递给函数或宏。\n",
    "    // 这是为了确保引用的安全性。要解决这个问题，你可以将 sv 和 sw 放在不同的作用域中，\n",
    "    // 或者使用它们的值而不是引用，以便它们的生命周期不会重叠。\n",
    "    let sv: &[f64] = &v;\n",
    "    let sw: &[f64] = &w;\n",
    "    println!(\"{}, {}\", sv[3], sw[3]);\n",
    "}; // sv 和 sw 的生命周期结束\n",
    "// let sv: &[f64] = &v; \n",
    "// let sw: &[f64] = &w;\n",
    "// println!(\"{}, {}\", sv[3], sw[3]);\n",
    "\n",
    "fn print(n: &[f64]) { \n",
    "    for elt in n{\n",
    "        println!(\"{}\", elt);\n",
    "    }\n",
    "}\n",
    "print(&w); // works on arrays\n",
    "print(&v); // works on vectors"
   ]
  },
  {
   "cell_type": "markdown",
   "id": "04d1b30d-a129-4a3a-91f1-2cb31fe4d843",
   "metadata": {},
   "source": [
    "# String Types"
   ]
  },
  {
   "cell_type": "markdown",
   "id": "3168fd1b-a753-48cf-8db4-5f3eae159b5a",
   "metadata": {},
   "source": [
    "### String literal"
   ]
  },
  {
   "cell_type": "code",
   "execution_count": 20,
   "id": "d459b43b-79d9-477b-bbbc-05f2654f0e8d",
   "metadata": {},
   "outputs": [
    {
     "name": "stdout",
     "output_type": "stream",
     "text": [
      "In the room the women come and go,\n",
      "        Singing of Mount Abora\n"
     ]
    }
   ],
   "source": [
    "println!(\"In the room the women come and go,\n",
    "        Singing of Mount Abora\");"
   ]
  },
  {
   "cell_type": "code",
   "execution_count": 21,
   "id": "99412d10-4f77-4456-824e-811a4831663a",
   "metadata": {},
   "outputs": [
    {
     "name": "stdout",
     "output_type": "stream",
     "text": [
      "In the room the women come and go,\n",
      "Singing of Mount Abora\n"
     ]
    }
   ],
   "source": [
    "println!(\"In the room the women come and go,\n",
    "Singing of Mount Abora\");"
   ]
  },
  {
   "cell_type": "code",
   "execution_count": 22,
   "id": "b8d21c15-4c36-4a09-8be3-d6ed43abe256",
   "metadata": {},
   "outputs": [
    {
     "name": "stdout",
     "output_type": "stream",
     "text": [
      "It was a bright, cold day in April, and there were four of us—more or less.\n"
     ]
    }
   ],
   "source": [
    "println!(\"It was a bright, cold day in April, and \\\n",
    "        there were four of us—\\\n",
    "        more or less.\");\n"
   ]
  },
  {
   "cell_type": "code",
   "execution_count": 23,
   "id": "9cb479b5-3aef-49f4-9bb1-a6f1e0804ec5",
   "metadata": {},
   "outputs": [
    {
     "name": "stdout",
     "output_type": "stream",
     "text": [
      "It was a bright, cold day in April, and there were four of us—more or less.\n"
     ]
    }
   ],
   "source": [
    "println!(\"It was a bright, cold day in April, and \\\n",
    "                there were four of us—\\\n",
    "                more or less.\");"
   ]
  },
  {
   "cell_type": "code",
   "execution_count": 29,
   "id": "6a818168-f32a-4a40-a19f-93b91301b771",
   "metadata": {},
   "outputs": [
    {
     "name": "stdout",
     "output_type": "stream",
     "text": [
      "C:\\Program Files\\Gorillas\n",
      "\\d+(\\.\\d+)*\n"
     ]
    }
   ],
   "source": [
    "println!(r\"C:\\Program Files\\Gorillas\"); \n",
    "// let pattern = Regex::new(r\"\\d+(\\.\\d+)*\");\n",
    "println!(r\"\\d+(\\.\\d+)*\"); "
   ]
  },
  {
   "cell_type": "code",
   "execution_count": 30,
   "id": "56357681-5ea5-4fed-b302-dd3d084d942f",
   "metadata": {},
   "outputs": [
    {
     "name": "stdout",
     "output_type": "stream",
     "text": [
      "\n",
      "        This raw string started with 'r###\"'.\n",
      "        Therefore it does not end until we reach a quote mark ('\"')\n",
      "        followed immediately by three pound signs ('###'):\n",
      "\n"
     ]
    }
   ],
   "source": [
    "println!(r###\"\n",
    "        This raw string started with 'r###\"'.\n",
    "        Therefore it does not end until we reach a quote mark ('\"')\n",
    "        followed immediately by three pound signs ('###'):\n",
    "\"###);"
   ]
  },
  {
   "cell_type": "code",
   "execution_count": 31,
   "id": "5faedb5d-bbfd-4bb3-8606-5a0578174670",
   "metadata": {},
   "outputs": [
    {
     "name": "stdout",
     "output_type": "stream",
     "text": [
      "\n",
      "This raw string started with 'r###\"'.\n",
      "        Therefore it does not end until we reach a quote mark ('\"')\n",
      "        followed immediately by three pound signs ('###'):\n",
      "\n"
     ]
    }
   ],
   "source": [
    "println!(r###\"\n",
    "This raw string started with 'r###\"'.\n",
    "        Therefore it does not end until we reach a quote mark ('\"')\n",
    "        followed immediately by three pound signs ('###'):\n",
    "\"###);"
   ]
  },
  {
   "cell_type": "markdown",
   "id": "cb9ee86f-d8a0-46ba-8c75-6c01623af96c",
   "metadata": {},
   "source": [
    "### Byte Strings\n",
    "A string literal with the b prefix is a byte string. Such a string is a slice of `u8` values that is, bytes—rather than Unicode text:"
   ]
  },
  {
   "cell_type": "code",
   "execution_count": 32,
   "id": "6be8f963-52d1-4866-82db-caea16767f7b",
   "metadata": {},
   "outputs": [],
   "source": [
    "let method = b\"GET\";\n",
    "assert_eq!(method, &[b'G', b'E', b'T']);"
   ]
  },
  {
   "cell_type": "markdown",
   "id": "fa08f2dc-0fdd-405a-8fed-9e001e784cd4",
   "metadata": {},
   "source": [
    "The type of method is `&[u8; 3]`: it’s a reference to an array of three bytes. It doesn’t have any of the string methods we’ll discuss in a minute. The most string-like thing about it is the syntax we used to write it."
   ]
  },
  {
   "cell_type": "markdown",
   "id": "6df996e3-62f4-4273-9e9c-1ce27f2b8685",
   "metadata": {},
   "source": [
    "### String in Memory\n",
    "A `String` or `&str`’s `.len()` method returns its length. The length is measured in bytes, not characters:"
   ]
  },
  {
   "cell_type": "code",
   "execution_count": 33,
   "id": "aa9e1e6b-62cc-42e2-b757-5acc36fee4db",
   "metadata": {},
   "outputs": [],
   "source": [
    "assert_eq!(\"ಠ_ಠ\".len(), 7); \n",
    "assert_eq!(\"ಠ_ಠ\".chars().count(), 3);"
   ]
  },
  {
   "cell_type": "markdown",
   "id": "1200df7f-9a9c-4d79-8113-959fe8507b8b",
   "metadata": {},
   "source": [
    "The type `&mut str` does exist, but it is not very useful, since almost any operation on UTF-8 can change its overall byte length, and a slice cannot reallocate its referent. In fact, the only operations available on `&mut str` are `make_ascii_uppercase` and `make_ascii_lowercase`, which modify the text in place and affect only single-byte characters, by definition."
   ]
  },
  {
   "cell_type": "markdown",
   "id": "6d0f1f57-dea3-4806-b7ca-9f62474e51ed",
   "metadata": {},
   "source": [
    "### String\n",
    "`&str` is very much like `&[T]`: a fat pointer to some data. `String` is analogous to `Vec<T>`.\n",
    "\n",
    "Like a `Vec`, each `String` has its own heap-allocated buffer that isn’t shared with any other `String`. When a `String` variable goes out of scope, the buffer is automatically freed, unless the `String` was moved."
   ]
  },
  {
   "cell_type": "code",
   "execution_count": 35,
   "id": "bdeff5c9-c2a3-4d77-9082-4daa7accfdfd",
   "metadata": {},
   "outputs": [
    {
     "name": "stdout",
     "output_type": "stream",
     "text": [
      "too many pets\n"
     ]
    }
   ],
   "source": [
    "let error_message: String = \"too many pets\".to_string();\n",
    "println!(\"{}\", error_message);"
   ]
  },
  {
   "cell_type": "code",
   "execution_count": 36,
   "id": "de95c6d9-3a40-4a3a-85b4-15881184473c",
   "metadata": {},
   "outputs": [
    {
     "name": "stdout",
     "output_type": "stream",
     "text": [
      "24°05′23′′N\n"
     ]
    }
   ],
   "source": [
    "let findmyway: String = format!(\"{}°{:02}′{:02}′′N\", 24, 5, 23);\n",
    "println!(\"{}\", findmyway);"
   ]
  },
  {
   "cell_type": "code",
   "execution_count": 38,
   "id": "53a156f2-cf4d-456c-a9f6-223afd6fd13b",
   "metadata": {},
   "outputs": [],
   "source": [
    "let bits: Vec<&str> = vec![\"veni\", \"vidi\", \"vici\"]; \n",
    "assert_eq!(bits.concat(), \"venividivici\"); \n",
    "assert_eq!(bits.join(\", \"), \"veni, vidi, vici\");"
   ]
  },
  {
   "cell_type": "markdown",
   "id": "f4ef9ffd-1051-4d26-8272-812d572e87db",
   "metadata": {},
   "source": [
    "### Using Strings\n",
    "Strings support the `==` and `!=` operators. Two strings are equal if they contain the same characters in the same order (regardless of whether they point to the same loca‐ tion in memory):"
   ]
  },
  {
   "cell_type": "code",
   "execution_count": 39,
   "id": "941a70ca-b762-4a65-bc7b-76a27c1114ea",
   "metadata": {},
   "outputs": [],
   "source": [
    " assert!(\"ONE\".to_lowercase() == \"one\");"
   ]
  },
  {
   "cell_type": "markdown",
   "id": "17876fc9-1b8a-47d1-a038-41138c59936c",
   "metadata": {},
   "source": [
    "Strings also support the comparison operators `<`, `<=`, `>`, and `>=`, as well as many useful methods and functions that you can find in the online documentation under “str (primitive type)” or the “std::str” module"
   ]
  },
  {
   "cell_type": "code",
   "execution_count": 41,
   "id": "bd243e65-0057-4013-bb0c-d432ee953c2a",
   "metadata": {},
   "outputs": [],
   "source": [
    "assert!(\"peanut\".contains(\"nut\")); \n",
    "assert_eq!(\"ಠ_ಠ\".replace(\"ಠ\", \"■\"), \"■_■\"); \n",
    "assert_eq!(\" clean\\n\".trim(), \"clean\");\n",
    "for word in \"veni, vidi, vici\".split(\", \") { \n",
    "    assert!(word.starts_with(\"v\"));\n",
    "};"
   ]
  },
  {
   "cell_type": "markdown",
   "id": "729c404a-150b-4bdf-b322-09baed27af26",
   "metadata": {},
   "source": [
    "Keep in mind that, given the nature of Unicode, simple char-by-char comparison does not always give the expected answers. For example, the Rust strings \"th\\u{e9}\" and \"the\\u{301}\" are both valid Unicode representations for thé, the French word for tea. Unicode says they should both be displayed and processed in the same way, but Rust treats them as two completely distinct strings. Similarly, Rust’s ordering operators like `<` use a simple lexicographical order based on character code point values. This ordering only sometimes resembles the ordering used for text in the user’s language and culture. "
   ]
  },
  {
   "cell_type": "markdown",
   "id": "252217a6-a8c4-4def-83a7-80646118b223",
   "metadata": {},
   "source": [
    "### Other String-Like Types\n",
    "Rust guarantees that strings are valid UTF-8. Sometimes a program really needs to be able to deal with strings that are not valid Unicode. This usually happens when a Rust program has to interoperate with some other system that doesn’t enforce any such rules. For example, in most operating systems it’s easy to create a file with a filename that isn’t valid Unicode. What should happen when a Rust program comes across this sort of filename?\n",
    "Rust’s solution is to offer a few string-like types for these situations:\n",
    "* Stick to String and &str for Unicode text.\n",
    "* When working with filenames, use `std::path::PathBuf` and `&Path` instead.\n",
    "* When working with binary data that isn’t UTF-8 encoded at all, use `Vec<u8>` and `&[u8]`.\n",
    "* When working with environment variable names and command-line arguments in the native form presented by the operating system, use `OsString` and `&OsStr`.\n",
    "* When interoperating with C libraries that use null-terminated strings, use `std::ffi::CString` and `&CStr`."
   ]
  },
  {
   "cell_type": "markdown",
   "id": "fd094355-cc66-4e22-bd25-134e237284d7",
   "metadata": {},
   "source": [
    "## Type Aliases\n",
    "The type keyword can be used like typedef in C++ to declare a new name for an existing type:"
   ]
  },
  {
   "cell_type": "code",
   "execution_count": 42,
   "id": "cd28b257-c1ca-4ba6-860e-247e5238187d",
   "metadata": {},
   "outputs": [],
   "source": [
    "type Bytes = Vec<u8>;"
   ]
  },
  {
   "cell_type": "markdown",
   "id": "4c0ecf54-fb1f-4ef0-820c-06dc4cb9680d",
   "metadata": {},
   "source": [
    "The type Bytes that we’re declaring here is shorthand for this particular kind of Vec:"
   ]
  },
  {
   "cell_type": "code",
   "execution_count": 44,
   "id": "c8abfea6-441d-419e-92e7-c54f979f080a",
   "metadata": {},
   "outputs": [],
   "source": [
    "fn decode(data: &Bytes) { \n",
    "    //...\n",
    "}"
   ]
  },
  {
   "cell_type": "code",
   "execution_count": null,
   "id": "acd129fd-bdee-4750-ac9a-5ab9976c663b",
   "metadata": {},
   "outputs": [],
   "source": []
  }
 ],
 "metadata": {
  "kernelspec": {
   "display_name": "Rust",
   "language": "rust",
   "name": "rust"
  },
  "language_info": {
   "codemirror_mode": "rust",
   "file_extension": ".rs",
   "mimetype": "text/rust",
   "name": "Rust",
   "pygment_lexer": "rust",
   "version": ""
  }
 },
 "nbformat": 4,
 "nbformat_minor": 5
}
